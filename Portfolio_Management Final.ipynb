{
  "nbformat": 4,
  "nbformat_minor": 0,
  "metadata": {
    "colab": {
      "name": "Portfolio Management.ipynb",
      "provenance": []
    },
    "kernelspec": {
      "name": "python3",
      "display_name": "Python 3"
    },
    "language_info": {
      "name": "python"
    }
  },
  "cells": [
    {
      "cell_type": "markdown",
      "metadata": {
        "id": "42euhLvVRXVu"
      },
      "source": [
        "**Project Overview-** The goal of this project is to analyze market data of 18 different ETFs in order to create a well balanced porfolio that meets the needs of a 59-year-old investor. This investor is nearing retirement, but does not have enough invested into a retirement fund to support their lifestyle when they eventually retire. Due to this, they are hoping to develop a portfolio that is aggressive enough to help them catch up, while still being stable enough to hedge the risk of losing all their current savings. Our investor is risk-moderate and wants to invest in funds rather than individual equities."
      ]
    },
    {
      "cell_type": "markdown",
      "metadata": {
        "id": "86BhuTLJSF15"
      },
      "source": [
        "**Goal Return-** The investor of this portfolio is hoping to realize a return about in line with the market, possibly a bit more if possible. They would be satisfied with a return of 10.5%.\n",
        "\n",
        "**Goal Beta (risk)-** The investor of this portfolio is willing to invest with a beta of 0.85. Given the volitility of the market in the past year, they want to be careful in taking on too much risk. However, they are willing to take on more than a traditional late stage retirement fund in order to open up the opportunty for greater return. \n",
        "\n",
        "**Goal Allocation-** The investor, in hopes to atain their desired returns would like an investment mix with 65% invested in equities and 35% invested in stable funds."
      ]
    },
    {
      "cell_type": "markdown",
      "metadata": {
        "id": "OigETXk0xtlB"
      },
      "source": [
        "**Questions to Answer**\n",
        "\n",
        "1. How wide is the range of returns found in the data set?\n",
        "2. Which fund types provide the highest return? Which fund types provide the best dividends?\n",
        "3. What was the overall performance of all these funds over the past five years? What about the individual fund types? \n",
        "4. How much return can I expect to realize should I invest in these funds? (What is the average APR of return for each fund?)\n",
        "5. How risky is each individual fund? (Standard Deviation)\n",
        "6. How does the riskiness of these funds compare to the overall market? (Beta)\n",
        "7. How do the returns on these funds compare to the overall market? \n",
        "8. What are the expected returns of these individual funds, calculated using their betas? (CAPM)\n",
        "9. How do the funds' returns relate to their relative risk? (Sharpe Ratio)\n",
        "10. How do the expected returns of these individual funds compare to their actual returns? (Alpha)\n",
        "11. Which funds appear do be undervalued? (Security Market Line)\n",
        "12. What is the ideal mix/allocation of funds to match the goals of this portfolio?"
      ]
    },
    {
      "cell_type": "markdown",
      "metadata": {
        "id": "vav0w6_xDH4K"
      },
      "source": [
        "# **Step 1: Import Pandas / Numpy / Plotly Libraries**"
      ]
    },
    {
      "cell_type": "code",
      "metadata": {
        "colab": {
          "base_uri": "https://localhost:8080/"
        },
        "id": "S92gBBwwojFi",
        "outputId": "9963f250-6202-4606-cecb-2693b430e7e8"
      },
      "source": [
        "if 'google.colab' in str(get_ipython()):\n",
        "  !pip install plotly==4.14.3"
      ],
      "execution_count": 1,
      "outputs": [
        {
          "output_type": "stream",
          "text": [
            "Requirement already satisfied: plotly==4.14.3 in /usr/local/lib/python3.7/dist-packages (4.14.3)\n",
            "Requirement already satisfied: retrying>=1.3.3 in /usr/local/lib/python3.7/dist-packages (from plotly==4.14.3) (1.3.3)\n",
            "Requirement already satisfied: six in /usr/local/lib/python3.7/dist-packages (from plotly==4.14.3) (1.15.0)\n"
          ],
          "name": "stdout"
        }
      ]
    },
    {
      "cell_type": "code",
      "metadata": {
        "id": "DYqdYebgDGhw"
      },
      "source": [
        "import pandas as pd\n",
        "import numpy as np\n",
        "import plotly.express as px\n",
        "import plotly.graph_objects as go\n",
        "import plotly.io as pio\n",
        "from scipy.stats import linregress"
      ],
      "execution_count": 2,
      "outputs": []
    },
    {
      "cell_type": "markdown",
      "metadata": {
        "id": "4XebbdP8D5FU"
      },
      "source": [
        "#**Step 2: Load Data from GitHub and Explore**"
      ]
    },
    {
      "cell_type": "code",
      "metadata": {
        "id": "t16IsftOFK_U",
        "colab": {
          "base_uri": "https://localhost:8080/",
          "height": 0
        },
        "outputId": "9edd4362-f1b8-44d9-da04-da2938b65abc"
      },
      "source": [
        "df = pd.read_csv('https://github.com/zachcep/Portfolio-Analysis/raw/main/PortfolioAnalysisData.csv',encoding='iso-8859-1')\n",
        "df"
      ],
      "execution_count": 3,
      "outputs": [
        {
          "output_type": "execute_result",
          "data": {
            "text/html": [
              "<div>\n",
              "<style scoped>\n",
              "    .dataframe tbody tr th:only-of-type {\n",
              "        vertical-align: middle;\n",
              "    }\n",
              "\n",
              "    .dataframe tbody tr th {\n",
              "        vertical-align: top;\n",
              "    }\n",
              "\n",
              "    .dataframe thead th {\n",
              "        text-align: right;\n",
              "    }\n",
              "</style>\n",
              "<table border=\"1\" class=\"dataframe\">\n",
              "  <thead>\n",
              "    <tr style=\"text-align: right;\">\n",
              "      <th></th>\n",
              "      <th>Date</th>\n",
              "      <th>Fund</th>\n",
              "      <th>Type</th>\n",
              "      <th>Open</th>\n",
              "      <th>Close</th>\n",
              "      <th>Dividend</th>\n",
              "    </tr>\n",
              "  </thead>\n",
              "  <tbody>\n",
              "    <tr>\n",
              "      <th>0</th>\n",
              "      <td>6/1/2016</td>\n",
              "      <td>Vanguard Dividend Appreciation Index Fund (VIG)</td>\n",
              "      <td>Income</td>\n",
              "      <td>81.500000</td>\n",
              "      <td>83.239998</td>\n",
              "      <td>NaN</td>\n",
              "    </tr>\n",
              "    <tr>\n",
              "      <th>1</th>\n",
              "      <td>7/1/2016</td>\n",
              "      <td>Vanguard Dividend Appreciation Index Fund (VIG)</td>\n",
              "      <td>Income</td>\n",
              "      <td>83.279999</td>\n",
              "      <td>85.150002</td>\n",
              "      <td>0.446</td>\n",
              "    </tr>\n",
              "    <tr>\n",
              "      <th>2</th>\n",
              "      <td>8/1/2016</td>\n",
              "      <td>Vanguard Dividend Appreciation Index Fund (VIG)</td>\n",
              "      <td>Income</td>\n",
              "      <td>85.120003</td>\n",
              "      <td>85.160004</td>\n",
              "      <td>NaN</td>\n",
              "    </tr>\n",
              "    <tr>\n",
              "      <th>3</th>\n",
              "      <td>9/1/2016</td>\n",
              "      <td>Vanguard Dividend Appreciation Index Fund (VIG)</td>\n",
              "      <td>Income</td>\n",
              "      <td>85.099998</td>\n",
              "      <td>83.930000</td>\n",
              "      <td>0.393</td>\n",
              "    </tr>\n",
              "    <tr>\n",
              "      <th>4</th>\n",
              "      <td>10/1/2016</td>\n",
              "      <td>Vanguard Dividend Appreciation Index Fund (VIG)</td>\n",
              "      <td>Income</td>\n",
              "      <td>83.739998</td>\n",
              "      <td>82.309998</td>\n",
              "      <td>NaN</td>\n",
              "    </tr>\n",
              "    <tr>\n",
              "      <th>...</th>\n",
              "      <td>...</td>\n",
              "      <td>...</td>\n",
              "      <td>...</td>\n",
              "      <td>...</td>\n",
              "      <td>...</td>\n",
              "      <td>...</td>\n",
              "    </tr>\n",
              "    <tr>\n",
              "      <th>1135</th>\n",
              "      <td>1/1/2021</td>\n",
              "      <td>S&amp;P 500 (GCSPC)</td>\n",
              "      <td>Market</td>\n",
              "      <td>3764.610000</td>\n",
              "      <td>3714.240000</td>\n",
              "      <td>NaN</td>\n",
              "    </tr>\n",
              "    <tr>\n",
              "      <th>1136</th>\n",
              "      <td>2/1/2021</td>\n",
              "      <td>S&amp;P 500 (GCSPC)</td>\n",
              "      <td>Market</td>\n",
              "      <td>3731.170000</td>\n",
              "      <td>3811.150000</td>\n",
              "      <td>NaN</td>\n",
              "    </tr>\n",
              "    <tr>\n",
              "      <th>1137</th>\n",
              "      <td>3/1/2021</td>\n",
              "      <td>S&amp;P 500 (GCSPC)</td>\n",
              "      <td>Market</td>\n",
              "      <td>3842.510000</td>\n",
              "      <td>3972.890000</td>\n",
              "      <td>NaN</td>\n",
              "    </tr>\n",
              "    <tr>\n",
              "      <th>1138</th>\n",
              "      <td>4/1/2021</td>\n",
              "      <td>S&amp;P 500 (GCSPC)</td>\n",
              "      <td>Market</td>\n",
              "      <td>3992.780000</td>\n",
              "      <td>4181.170000</td>\n",
              "      <td>NaN</td>\n",
              "    </tr>\n",
              "    <tr>\n",
              "      <th>1139</th>\n",
              "      <td>5/1/2021</td>\n",
              "      <td>S&amp;P 500 (GCSPC)</td>\n",
              "      <td>Market</td>\n",
              "      <td>4191.980000</td>\n",
              "      <td>4232.600000</td>\n",
              "      <td>NaN</td>\n",
              "    </tr>\n",
              "  </tbody>\n",
              "</table>\n",
              "<p>1140 rows × 6 columns</p>\n",
              "</div>"
            ],
            "text/plain": [
              "           Date  ... Dividend\n",
              "0      6/1/2016  ...      NaN\n",
              "1      7/1/2016  ...    0.446\n",
              "2      8/1/2016  ...      NaN\n",
              "3      9/1/2016  ...    0.393\n",
              "4     10/1/2016  ...      NaN\n",
              "...         ...  ...      ...\n",
              "1135   1/1/2021  ...      NaN\n",
              "1136   2/1/2021  ...      NaN\n",
              "1137   3/1/2021  ...      NaN\n",
              "1138   4/1/2021  ...      NaN\n",
              "1139   5/1/2021  ...      NaN\n",
              "\n",
              "[1140 rows x 6 columns]"
            ]
          },
          "metadata": {
            "tags": []
          },
          "execution_count": 3
        }
      ]
    },
    {
      "cell_type": "code",
      "metadata": {
        "id": "f_pF68Ssr385"
      },
      "source": [
        "df['Fund'] = df['Fund'].str.replace('\\\\xa0', ' ')"
      ],
      "execution_count": 4,
      "outputs": []
    },
    {
      "cell_type": "code",
      "metadata": {
        "colab": {
          "base_uri": "https://localhost:8080/"
        },
        "id": "GxZsRqVCyamr",
        "outputId": "e8405b50-d0bc-41cb-da67-2f291296d8df"
      },
      "source": [
        "df.shape"
      ],
      "execution_count": 5,
      "outputs": [
        {
          "output_type": "execute_result",
          "data": {
            "text/plain": [
              "(1140, 6)"
            ]
          },
          "metadata": {
            "tags": []
          },
          "execution_count": 5
        }
      ]
    },
    {
      "cell_type": "code",
      "metadata": {
        "id": "veIJ86Muyewe",
        "colab": {
          "base_uri": "https://localhost:8080/"
        },
        "outputId": "0a437022-194c-48a4-9c72-492f534cec28"
      },
      "source": [
        "df.info"
      ],
      "execution_count": 6,
      "outputs": [
        {
          "output_type": "execute_result",
          "data": {
            "text/plain": [
              "<bound method DataFrame.info of            Date  ... Dividend\n",
              "0      6/1/2016  ...      NaN\n",
              "1      7/1/2016  ...    0.446\n",
              "2      8/1/2016  ...      NaN\n",
              "3      9/1/2016  ...    0.393\n",
              "4     10/1/2016  ...      NaN\n",
              "...         ...  ...      ...\n",
              "1135   1/1/2021  ...      NaN\n",
              "1136   2/1/2021  ...      NaN\n",
              "1137   3/1/2021  ...      NaN\n",
              "1138   4/1/2021  ...      NaN\n",
              "1139   5/1/2021  ...      NaN\n",
              "\n",
              "[1140 rows x 6 columns]>"
            ]
          },
          "metadata": {
            "tags": []
          },
          "execution_count": 6
        }
      ]
    },
    {
      "cell_type": "code",
      "metadata": {
        "id": "xSlQHtEEygIn",
        "colab": {
          "base_uri": "https://localhost:8080/",
          "height": 0
        },
        "outputId": "7d58a166-9e1e-4754-cea0-90d45a446c14"
      },
      "source": [
        "df.head(100)"
      ],
      "execution_count": 7,
      "outputs": [
        {
          "output_type": "execute_result",
          "data": {
            "text/html": [
              "<div>\n",
              "<style scoped>\n",
              "    .dataframe tbody tr th:only-of-type {\n",
              "        vertical-align: middle;\n",
              "    }\n",
              "\n",
              "    .dataframe tbody tr th {\n",
              "        vertical-align: top;\n",
              "    }\n",
              "\n",
              "    .dataframe thead th {\n",
              "        text-align: right;\n",
              "    }\n",
              "</style>\n",
              "<table border=\"1\" class=\"dataframe\">\n",
              "  <thead>\n",
              "    <tr style=\"text-align: right;\">\n",
              "      <th></th>\n",
              "      <th>Date</th>\n",
              "      <th>Fund</th>\n",
              "      <th>Type</th>\n",
              "      <th>Open</th>\n",
              "      <th>Close</th>\n",
              "      <th>Dividend</th>\n",
              "    </tr>\n",
              "  </thead>\n",
              "  <tbody>\n",
              "    <tr>\n",
              "      <th>0</th>\n",
              "      <td>6/1/2016</td>\n",
              "      <td>Vanguard Dividend Appreciation Index Fund (VIG)</td>\n",
              "      <td>Income</td>\n",
              "      <td>81.500000</td>\n",
              "      <td>83.239998</td>\n",
              "      <td>NaN</td>\n",
              "    </tr>\n",
              "    <tr>\n",
              "      <th>1</th>\n",
              "      <td>7/1/2016</td>\n",
              "      <td>Vanguard Dividend Appreciation Index Fund (VIG)</td>\n",
              "      <td>Income</td>\n",
              "      <td>83.279999</td>\n",
              "      <td>85.150002</td>\n",
              "      <td>0.446</td>\n",
              "    </tr>\n",
              "    <tr>\n",
              "      <th>2</th>\n",
              "      <td>8/1/2016</td>\n",
              "      <td>Vanguard Dividend Appreciation Index Fund (VIG)</td>\n",
              "      <td>Income</td>\n",
              "      <td>85.120003</td>\n",
              "      <td>85.160004</td>\n",
              "      <td>NaN</td>\n",
              "    </tr>\n",
              "    <tr>\n",
              "      <th>3</th>\n",
              "      <td>9/1/2016</td>\n",
              "      <td>Vanguard Dividend Appreciation Index Fund (VIG)</td>\n",
              "      <td>Income</td>\n",
              "      <td>85.099998</td>\n",
              "      <td>83.930000</td>\n",
              "      <td>0.393</td>\n",
              "    </tr>\n",
              "    <tr>\n",
              "      <th>4</th>\n",
              "      <td>10/1/2016</td>\n",
              "      <td>Vanguard Dividend Appreciation Index Fund (VIG)</td>\n",
              "      <td>Income</td>\n",
              "      <td>83.739998</td>\n",
              "      <td>82.309998</td>\n",
              "      <td>NaN</td>\n",
              "    </tr>\n",
              "    <tr>\n",
              "      <th>...</th>\n",
              "      <td>...</td>\n",
              "      <td>...</td>\n",
              "      <td>...</td>\n",
              "      <td>...</td>\n",
              "      <td>...</td>\n",
              "      <td>...</td>\n",
              "    </tr>\n",
              "    <tr>\n",
              "      <th>95</th>\n",
              "      <td>5/1/2019</td>\n",
              "      <td>Schuab U.S. Divided Equity (SCHD)</td>\n",
              "      <td>Income</td>\n",
              "      <td>54.070000</td>\n",
              "      <td>49.860001</td>\n",
              "      <td>NaN</td>\n",
              "    </tr>\n",
              "    <tr>\n",
              "      <th>96</th>\n",
              "      <td>6/1/2019</td>\n",
              "      <td>Schuab U.S. Divided Equity (SCHD)</td>\n",
              "      <td>Income</td>\n",
              "      <td>49.959999</td>\n",
              "      <td>53.070000</td>\n",
              "      <td>NaN</td>\n",
              "    </tr>\n",
              "    <tr>\n",
              "      <th>97</th>\n",
              "      <td>7/1/2019</td>\n",
              "      <td>Schuab U.S. Divided Equity (SCHD)</td>\n",
              "      <td>Income</td>\n",
              "      <td>53.730000</td>\n",
              "      <td>53.950001</td>\n",
              "      <td>0.421</td>\n",
              "    </tr>\n",
              "    <tr>\n",
              "      <th>98</th>\n",
              "      <td>8/1/2019</td>\n",
              "      <td>Schuab U.S. Divided Equity (SCHD)</td>\n",
              "      <td>Income</td>\n",
              "      <td>53.910000</td>\n",
              "      <td>53.250000</td>\n",
              "      <td>NaN</td>\n",
              "    </tr>\n",
              "    <tr>\n",
              "      <th>99</th>\n",
              "      <td>9/1/2019</td>\n",
              "      <td>Schuab U.S. Divided Equity (SCHD)</td>\n",
              "      <td>Income</td>\n",
              "      <td>52.990002</td>\n",
              "      <td>54.779999</td>\n",
              "      <td>NaN</td>\n",
              "    </tr>\n",
              "  </tbody>\n",
              "</table>\n",
              "<p>100 rows × 6 columns</p>\n",
              "</div>"
            ],
            "text/plain": [
              "         Date  ... Dividend\n",
              "0    6/1/2016  ...      NaN\n",
              "1    7/1/2016  ...    0.446\n",
              "2    8/1/2016  ...      NaN\n",
              "3    9/1/2016  ...    0.393\n",
              "4   10/1/2016  ...      NaN\n",
              "..        ...  ...      ...\n",
              "95   5/1/2019  ...      NaN\n",
              "96   6/1/2019  ...      NaN\n",
              "97   7/1/2019  ...    0.421\n",
              "98   8/1/2019  ...      NaN\n",
              "99   9/1/2019  ...      NaN\n",
              "\n",
              "[100 rows x 6 columns]"
            ]
          },
          "metadata": {
            "tags": []
          },
          "execution_count": 7
        }
      ]
    },
    {
      "cell_type": "code",
      "metadata": {
        "id": "YyOqOtnhyi3X",
        "colab": {
          "base_uri": "https://localhost:8080/",
          "height": 0
        },
        "outputId": "ca44ad1c-6d4b-4123-d81f-326a3d4baaa2"
      },
      "source": [
        "df.tail(100)"
      ],
      "execution_count": 8,
      "outputs": [
        {
          "output_type": "execute_result",
          "data": {
            "text/html": [
              "<div>\n",
              "<style scoped>\n",
              "    .dataframe tbody tr th:only-of-type {\n",
              "        vertical-align: middle;\n",
              "    }\n",
              "\n",
              "    .dataframe tbody tr th {\n",
              "        vertical-align: top;\n",
              "    }\n",
              "\n",
              "    .dataframe thead th {\n",
              "        text-align: right;\n",
              "    }\n",
              "</style>\n",
              "<table border=\"1\" class=\"dataframe\">\n",
              "  <thead>\n",
              "    <tr style=\"text-align: right;\">\n",
              "      <th></th>\n",
              "      <th>Date</th>\n",
              "      <th>Fund</th>\n",
              "      <th>Type</th>\n",
              "      <th>Open</th>\n",
              "      <th>Close</th>\n",
              "      <th>Dividend</th>\n",
              "    </tr>\n",
              "  </thead>\n",
              "  <tbody>\n",
              "    <tr>\n",
              "      <th>1040</th>\n",
              "      <td>2/1/2018</td>\n",
              "      <td>Vanguard FTSE All-World ex-US Small-Cap Index ...</td>\n",
              "      <td>Small Cap</td>\n",
              "      <td>124.699997</td>\n",
              "      <td>119.000000</td>\n",
              "      <td>NaN</td>\n",
              "    </tr>\n",
              "    <tr>\n",
              "      <th>1041</th>\n",
              "      <td>3/1/2018</td>\n",
              "      <td>Vanguard FTSE All-World ex-US Small-Cap Index ...</td>\n",
              "      <td>Small Cap</td>\n",
              "      <td>118.820000</td>\n",
              "      <td>119.239998</td>\n",
              "      <td>NaN</td>\n",
              "    </tr>\n",
              "    <tr>\n",
              "      <th>1042</th>\n",
              "      <td>4/1/2018</td>\n",
              "      <td>Vanguard FTSE All-World ex-US Small-Cap Index ...</td>\n",
              "      <td>Small Cap</td>\n",
              "      <td>119.000000</td>\n",
              "      <td>119.610001</td>\n",
              "      <td>0.04</td>\n",
              "    </tr>\n",
              "    <tr>\n",
              "      <th>1043</th>\n",
              "      <td>5/1/2018</td>\n",
              "      <td>Vanguard FTSE All-World ex-US Small-Cap Index ...</td>\n",
              "      <td>Small Cap</td>\n",
              "      <td>119.360001</td>\n",
              "      <td>119.449997</td>\n",
              "      <td>NaN</td>\n",
              "    </tr>\n",
              "    <tr>\n",
              "      <th>1044</th>\n",
              "      <td>6/1/2018</td>\n",
              "      <td>Vanguard FTSE All-World ex-US Small-Cap Index ...</td>\n",
              "      <td>Small Cap</td>\n",
              "      <td>120.080002</td>\n",
              "      <td>115.410004</td>\n",
              "      <td>NaN</td>\n",
              "    </tr>\n",
              "    <tr>\n",
              "      <th>...</th>\n",
              "      <td>...</td>\n",
              "      <td>...</td>\n",
              "      <td>...</td>\n",
              "      <td>...</td>\n",
              "      <td>...</td>\n",
              "      <td>...</td>\n",
              "    </tr>\n",
              "    <tr>\n",
              "      <th>1135</th>\n",
              "      <td>1/1/2021</td>\n",
              "      <td>S&amp;P 500 (GCSPC)</td>\n",
              "      <td>Market</td>\n",
              "      <td>3764.610000</td>\n",
              "      <td>3714.240000</td>\n",
              "      <td>NaN</td>\n",
              "    </tr>\n",
              "    <tr>\n",
              "      <th>1136</th>\n",
              "      <td>2/1/2021</td>\n",
              "      <td>S&amp;P 500 (GCSPC)</td>\n",
              "      <td>Market</td>\n",
              "      <td>3731.170000</td>\n",
              "      <td>3811.150000</td>\n",
              "      <td>NaN</td>\n",
              "    </tr>\n",
              "    <tr>\n",
              "      <th>1137</th>\n",
              "      <td>3/1/2021</td>\n",
              "      <td>S&amp;P 500 (GCSPC)</td>\n",
              "      <td>Market</td>\n",
              "      <td>3842.510000</td>\n",
              "      <td>3972.890000</td>\n",
              "      <td>NaN</td>\n",
              "    </tr>\n",
              "    <tr>\n",
              "      <th>1138</th>\n",
              "      <td>4/1/2021</td>\n",
              "      <td>S&amp;P 500 (GCSPC)</td>\n",
              "      <td>Market</td>\n",
              "      <td>3992.780000</td>\n",
              "      <td>4181.170000</td>\n",
              "      <td>NaN</td>\n",
              "    </tr>\n",
              "    <tr>\n",
              "      <th>1139</th>\n",
              "      <td>5/1/2021</td>\n",
              "      <td>S&amp;P 500 (GCSPC)</td>\n",
              "      <td>Market</td>\n",
              "      <td>4191.980000</td>\n",
              "      <td>4232.600000</td>\n",
              "      <td>NaN</td>\n",
              "    </tr>\n",
              "  </tbody>\n",
              "</table>\n",
              "<p>100 rows × 6 columns</p>\n",
              "</div>"
            ],
            "text/plain": [
              "          Date  ... Dividend\n",
              "1040  2/1/2018  ...      NaN\n",
              "1041  3/1/2018  ...      NaN\n",
              "1042  4/1/2018  ...     0.04\n",
              "1043  5/1/2018  ...      NaN\n",
              "1044  6/1/2018  ...      NaN\n",
              "...        ...  ...      ...\n",
              "1135  1/1/2021  ...      NaN\n",
              "1136  2/1/2021  ...      NaN\n",
              "1137  3/1/2021  ...      NaN\n",
              "1138  4/1/2021  ...      NaN\n",
              "1139  5/1/2021  ...      NaN\n",
              "\n",
              "[100 rows x 6 columns]"
            ]
          },
          "metadata": {
            "tags": []
          },
          "execution_count": 8
        }
      ]
    },
    {
      "cell_type": "code",
      "metadata": {
        "id": "CqdQ-bC-yk9n",
        "colab": {
          "base_uri": "https://localhost:8080/",
          "height": 0
        },
        "outputId": "5b6826e2-bd81-4247-a85e-0e243e0d179c"
      },
      "source": [
        "df.sample(100)"
      ],
      "execution_count": 9,
      "outputs": [
        {
          "output_type": "execute_result",
          "data": {
            "text/html": [
              "<div>\n",
              "<style scoped>\n",
              "    .dataframe tbody tr th:only-of-type {\n",
              "        vertical-align: middle;\n",
              "    }\n",
              "\n",
              "    .dataframe tbody tr th {\n",
              "        vertical-align: top;\n",
              "    }\n",
              "\n",
              "    .dataframe thead th {\n",
              "        text-align: right;\n",
              "    }\n",
              "</style>\n",
              "<table border=\"1\" class=\"dataframe\">\n",
              "  <thead>\n",
              "    <tr style=\"text-align: right;\">\n",
              "      <th></th>\n",
              "      <th>Date</th>\n",
              "      <th>Fund</th>\n",
              "      <th>Type</th>\n",
              "      <th>Open</th>\n",
              "      <th>Close</th>\n",
              "      <th>Dividend</th>\n",
              "    </tr>\n",
              "  </thead>\n",
              "  <tbody>\n",
              "    <tr>\n",
              "      <th>510</th>\n",
              "      <td>12/1/2018</td>\n",
              "      <td>iShares Core S&amp;P Mid-Cap (IJH)</td>\n",
              "      <td>Growth</td>\n",
              "      <td>190.350006</td>\n",
              "      <td>166.059998</td>\n",
              "      <td>NaN</td>\n",
              "    </tr>\n",
              "    <tr>\n",
              "      <th>185</th>\n",
              "      <td>11/1/2016</td>\n",
              "      <td>Vanguard Short-Term Corporate Bond Index Fund ...</td>\n",
              "      <td>Bonds</td>\n",
              "      <td>80.180000</td>\n",
              "      <td>79.419998</td>\n",
              "      <td>0.137</td>\n",
              "    </tr>\n",
              "    <tr>\n",
              "      <th>627</th>\n",
              "      <td>9/1/2018</td>\n",
              "      <td>Vanguard S&amp;P 500 (VOO)</td>\n",
              "      <td>Large Cap</td>\n",
              "      <td>266.350006</td>\n",
              "      <td>267.049988</td>\n",
              "      <td>NaN</td>\n",
              "    </tr>\n",
              "    <tr>\n",
              "      <th>342</th>\n",
              "      <td>12/1/2019</td>\n",
              "      <td>Invesco National AMT-Free Municipal Bond (PZA)</td>\n",
              "      <td>Bonds</td>\n",
              "      <td>26.430000</td>\n",
              "      <td>26.459999</td>\n",
              "      <td>0.060</td>\n",
              "    </tr>\n",
              "    <tr>\n",
              "      <th>643</th>\n",
              "      <td>1/1/2020</td>\n",
              "      <td>Vanguard S&amp;P 500 (VOO)</td>\n",
              "      <td>Large Cap</td>\n",
              "      <td>297.290009</td>\n",
              "      <td>295.690002</td>\n",
              "      <td>1.429</td>\n",
              "    </tr>\n",
              "    <tr>\n",
              "      <th>...</th>\n",
              "      <td>...</td>\n",
              "      <td>...</td>\n",
              "      <td>...</td>\n",
              "      <td>...</td>\n",
              "      <td>...</td>\n",
              "      <td>...</td>\n",
              "    </tr>\n",
              "    <tr>\n",
              "      <th>726</th>\n",
              "      <td>12/1/2016</td>\n",
              "      <td>Vanguard Mid-Cap Index Fund (VO)</td>\n",
              "      <td>Mid Cap</td>\n",
              "      <td>131.850006</td>\n",
              "      <td>131.630005</td>\n",
              "      <td>NaN</td>\n",
              "    </tr>\n",
              "    <tr>\n",
              "      <th>229</th>\n",
              "      <td>7/1/2020</td>\n",
              "      <td>Vanguard Short-Term Corporate Bond Index Fund ...</td>\n",
              "      <td>Bonds</td>\n",
              "      <td>82.510002</td>\n",
              "      <td>83.099998</td>\n",
              "      <td>0.152</td>\n",
              "    </tr>\n",
              "    <tr>\n",
              "      <th>133</th>\n",
              "      <td>7/1/2017</td>\n",
              "      <td>iShares International Select Dividend (IDV)</td>\n",
              "      <td>Income</td>\n",
              "      <td>32.700001</td>\n",
              "      <td>33.509998</td>\n",
              "      <td>0.568</td>\n",
              "    </tr>\n",
              "    <tr>\n",
              "      <th>222</th>\n",
              "      <td>12/1/2019</td>\n",
              "      <td>Vanguard Short-Term Corporate Bond Index Fund ...</td>\n",
              "      <td>Bonds</td>\n",
              "      <td>80.889999</td>\n",
              "      <td>81.029999</td>\n",
              "      <td>0.183</td>\n",
              "    </tr>\n",
              "    <tr>\n",
              "      <th>905</th>\n",
              "      <td>11/1/2016</td>\n",
              "      <td>Vanguard Small-Cap Value Index Fund (VBR)</td>\n",
              "      <td>Small Cap</td>\n",
              "      <td>107.610001</td>\n",
              "      <td>118.400002</td>\n",
              "      <td>NaN</td>\n",
              "    </tr>\n",
              "  </tbody>\n",
              "</table>\n",
              "<p>100 rows × 6 columns</p>\n",
              "</div>"
            ],
            "text/plain": [
              "          Date  ... Dividend\n",
              "510  12/1/2018  ...      NaN\n",
              "185  11/1/2016  ...    0.137\n",
              "627   9/1/2018  ...      NaN\n",
              "342  12/1/2019  ...    0.060\n",
              "643   1/1/2020  ...    1.429\n",
              "..         ...  ...      ...\n",
              "726  12/1/2016  ...      NaN\n",
              "229   7/1/2020  ...    0.152\n",
              "133   7/1/2017  ...    0.568\n",
              "222  12/1/2019  ...    0.183\n",
              "905  11/1/2016  ...      NaN\n",
              "\n",
              "[100 rows x 6 columns]"
            ]
          },
          "metadata": {
            "tags": []
          },
          "execution_count": 9
        }
      ]
    },
    {
      "cell_type": "markdown",
      "metadata": {
        "id": "r16Fc3TNqXGQ"
      },
      "source": [
        "#**Step 3: Adjusting Datetime Columns**"
      ]
    },
    {
      "cell_type": "markdown",
      "metadata": {
        "id": "tzUJyQgmpGrJ"
      },
      "source": [
        "Since the dates columns in the data set are not formatted to be read as DateTime, we have to convert them in order to organize data by dates. I also want to split the \"Date\" column into two separate \"Month\" and \"Year\" columns to make grouping the data simpler."
      ]
    },
    {
      "cell_type": "code",
      "metadata": {
        "colab": {
          "base_uri": "https://localhost:8080/",
          "height": 0
        },
        "id": "agDyBSzhqVt4",
        "outputId": "ca56c60f-28fc-4b3d-c531-fbbc148adc4d"
      },
      "source": [
        "df['Date'] = pd.to_datetime(df['Date'],format='%m/%d/%Y')\n",
        "df['Year'] = df['Date'].dt.year\n",
        "df['Month'] = df['Date'].dt.month\n",
        "df2 = df[['Month','Year','Fund','Type','Open','Close','Dividend']]\n",
        "df2['Dividend'] = df2['Dividend'].fillna(0)\n",
        "df2"
      ],
      "execution_count": 10,
      "outputs": [
        {
          "output_type": "stream",
          "text": [
            "/usr/local/lib/python3.7/dist-packages/ipykernel_launcher.py:5: SettingWithCopyWarning: \n",
            "A value is trying to be set on a copy of a slice from a DataFrame.\n",
            "Try using .loc[row_indexer,col_indexer] = value instead\n",
            "\n",
            "See the caveats in the documentation: https://pandas.pydata.org/pandas-docs/stable/user_guide/indexing.html#returning-a-view-versus-a-copy\n",
            "  \"\"\"\n"
          ],
          "name": "stderr"
        },
        {
          "output_type": "execute_result",
          "data": {
            "text/html": [
              "<div>\n",
              "<style scoped>\n",
              "    .dataframe tbody tr th:only-of-type {\n",
              "        vertical-align: middle;\n",
              "    }\n",
              "\n",
              "    .dataframe tbody tr th {\n",
              "        vertical-align: top;\n",
              "    }\n",
              "\n",
              "    .dataframe thead th {\n",
              "        text-align: right;\n",
              "    }\n",
              "</style>\n",
              "<table border=\"1\" class=\"dataframe\">\n",
              "  <thead>\n",
              "    <tr style=\"text-align: right;\">\n",
              "      <th></th>\n",
              "      <th>Month</th>\n",
              "      <th>Year</th>\n",
              "      <th>Fund</th>\n",
              "      <th>Type</th>\n",
              "      <th>Open</th>\n",
              "      <th>Close</th>\n",
              "      <th>Dividend</th>\n",
              "    </tr>\n",
              "  </thead>\n",
              "  <tbody>\n",
              "    <tr>\n",
              "      <th>0</th>\n",
              "      <td>6</td>\n",
              "      <td>2016</td>\n",
              "      <td>Vanguard Dividend Appreciation Index Fund (VIG)</td>\n",
              "      <td>Income</td>\n",
              "      <td>81.500000</td>\n",
              "      <td>83.239998</td>\n",
              "      <td>0.000</td>\n",
              "    </tr>\n",
              "    <tr>\n",
              "      <th>1</th>\n",
              "      <td>7</td>\n",
              "      <td>2016</td>\n",
              "      <td>Vanguard Dividend Appreciation Index Fund (VIG)</td>\n",
              "      <td>Income</td>\n",
              "      <td>83.279999</td>\n",
              "      <td>85.150002</td>\n",
              "      <td>0.446</td>\n",
              "    </tr>\n",
              "    <tr>\n",
              "      <th>2</th>\n",
              "      <td>8</td>\n",
              "      <td>2016</td>\n",
              "      <td>Vanguard Dividend Appreciation Index Fund (VIG)</td>\n",
              "      <td>Income</td>\n",
              "      <td>85.120003</td>\n",
              "      <td>85.160004</td>\n",
              "      <td>0.000</td>\n",
              "    </tr>\n",
              "    <tr>\n",
              "      <th>3</th>\n",
              "      <td>9</td>\n",
              "      <td>2016</td>\n",
              "      <td>Vanguard Dividend Appreciation Index Fund (VIG)</td>\n",
              "      <td>Income</td>\n",
              "      <td>85.099998</td>\n",
              "      <td>83.930000</td>\n",
              "      <td>0.393</td>\n",
              "    </tr>\n",
              "    <tr>\n",
              "      <th>4</th>\n",
              "      <td>10</td>\n",
              "      <td>2016</td>\n",
              "      <td>Vanguard Dividend Appreciation Index Fund (VIG)</td>\n",
              "      <td>Income</td>\n",
              "      <td>83.739998</td>\n",
              "      <td>82.309998</td>\n",
              "      <td>0.000</td>\n",
              "    </tr>\n",
              "    <tr>\n",
              "      <th>...</th>\n",
              "      <td>...</td>\n",
              "      <td>...</td>\n",
              "      <td>...</td>\n",
              "      <td>...</td>\n",
              "      <td>...</td>\n",
              "      <td>...</td>\n",
              "      <td>...</td>\n",
              "    </tr>\n",
              "    <tr>\n",
              "      <th>1135</th>\n",
              "      <td>1</td>\n",
              "      <td>2021</td>\n",
              "      <td>S&amp;P 500 (GCSPC)</td>\n",
              "      <td>Market</td>\n",
              "      <td>3764.610000</td>\n",
              "      <td>3714.240000</td>\n",
              "      <td>0.000</td>\n",
              "    </tr>\n",
              "    <tr>\n",
              "      <th>1136</th>\n",
              "      <td>2</td>\n",
              "      <td>2021</td>\n",
              "      <td>S&amp;P 500 (GCSPC)</td>\n",
              "      <td>Market</td>\n",
              "      <td>3731.170000</td>\n",
              "      <td>3811.150000</td>\n",
              "      <td>0.000</td>\n",
              "    </tr>\n",
              "    <tr>\n",
              "      <th>1137</th>\n",
              "      <td>3</td>\n",
              "      <td>2021</td>\n",
              "      <td>S&amp;P 500 (GCSPC)</td>\n",
              "      <td>Market</td>\n",
              "      <td>3842.510000</td>\n",
              "      <td>3972.890000</td>\n",
              "      <td>0.000</td>\n",
              "    </tr>\n",
              "    <tr>\n",
              "      <th>1138</th>\n",
              "      <td>4</td>\n",
              "      <td>2021</td>\n",
              "      <td>S&amp;P 500 (GCSPC)</td>\n",
              "      <td>Market</td>\n",
              "      <td>3992.780000</td>\n",
              "      <td>4181.170000</td>\n",
              "      <td>0.000</td>\n",
              "    </tr>\n",
              "    <tr>\n",
              "      <th>1139</th>\n",
              "      <td>5</td>\n",
              "      <td>2021</td>\n",
              "      <td>S&amp;P 500 (GCSPC)</td>\n",
              "      <td>Market</td>\n",
              "      <td>4191.980000</td>\n",
              "      <td>4232.600000</td>\n",
              "      <td>0.000</td>\n",
              "    </tr>\n",
              "  </tbody>\n",
              "</table>\n",
              "<p>1140 rows × 7 columns</p>\n",
              "</div>"
            ],
            "text/plain": [
              "      Month  Year  ...        Close Dividend\n",
              "0         6  2016  ...    83.239998    0.000\n",
              "1         7  2016  ...    85.150002    0.446\n",
              "2         8  2016  ...    85.160004    0.000\n",
              "3         9  2016  ...    83.930000    0.393\n",
              "4        10  2016  ...    82.309998    0.000\n",
              "...     ...   ...  ...          ...      ...\n",
              "1135      1  2021  ...  3714.240000    0.000\n",
              "1136      2  2021  ...  3811.150000    0.000\n",
              "1137      3  2021  ...  3972.890000    0.000\n",
              "1138      4  2021  ...  4181.170000    0.000\n",
              "1139      5  2021  ...  4232.600000    0.000\n",
              "\n",
              "[1140 rows x 7 columns]"
            ]
          },
          "metadata": {
            "tags": []
          },
          "execution_count": 10
        }
      ]
    },
    {
      "cell_type": "markdown",
      "metadata": {
        "id": "jlEKmRXGt6Ns"
      },
      "source": [
        "#**Step 4: Aggregate Monthly Returns**"
      ]
    },
    {
      "cell_type": "markdown",
      "metadata": {
        "id": "VbKS5cmJpmfm"
      },
      "source": [
        "The first aggregation of data we will need in order to continue analyzing the data is \"Monthly Returns.\" This is found by subtracting the \"Open\" price from the \"Close\" price, adding the \"Dividend\" and dividing by the \"Open\" price. This will give us the percentage change in the fund price, while considering the dividend distribution to get the returns for that specific month."
      ]
    },
    {
      "cell_type": "code",
      "metadata": {
        "colab": {
          "base_uri": "https://localhost:8080/",
          "height": 0
        },
        "id": "XuFF1GXnrtHM",
        "outputId": "53286576-d826-4c9a-d8a7-d4eb3638eb2e"
      },
      "source": [
        "df2['Monthly Returns'] = ((df2['Close'] - df2['Open'] + df2['Dividend'])/df2['Open'])\n",
        "df2"
      ],
      "execution_count": 11,
      "outputs": [
        {
          "output_type": "execute_result",
          "data": {
            "text/html": [
              "<div>\n",
              "<style scoped>\n",
              "    .dataframe tbody tr th:only-of-type {\n",
              "        vertical-align: middle;\n",
              "    }\n",
              "\n",
              "    .dataframe tbody tr th {\n",
              "        vertical-align: top;\n",
              "    }\n",
              "\n",
              "    .dataframe thead th {\n",
              "        text-align: right;\n",
              "    }\n",
              "</style>\n",
              "<table border=\"1\" class=\"dataframe\">\n",
              "  <thead>\n",
              "    <tr style=\"text-align: right;\">\n",
              "      <th></th>\n",
              "      <th>Month</th>\n",
              "      <th>Year</th>\n",
              "      <th>Fund</th>\n",
              "      <th>Type</th>\n",
              "      <th>Open</th>\n",
              "      <th>Close</th>\n",
              "      <th>Dividend</th>\n",
              "      <th>Monthly Returns</th>\n",
              "    </tr>\n",
              "  </thead>\n",
              "  <tbody>\n",
              "    <tr>\n",
              "      <th>0</th>\n",
              "      <td>6</td>\n",
              "      <td>2016</td>\n",
              "      <td>Vanguard Dividend Appreciation Index Fund (VIG)</td>\n",
              "      <td>Income</td>\n",
              "      <td>81.500000</td>\n",
              "      <td>83.239998</td>\n",
              "      <td>0.000</td>\n",
              "      <td>0.021350</td>\n",
              "    </tr>\n",
              "    <tr>\n",
              "      <th>1</th>\n",
              "      <td>7</td>\n",
              "      <td>2016</td>\n",
              "      <td>Vanguard Dividend Appreciation Index Fund (VIG)</td>\n",
              "      <td>Income</td>\n",
              "      <td>83.279999</td>\n",
              "      <td>85.150002</td>\n",
              "      <td>0.446</td>\n",
              "      <td>0.027810</td>\n",
              "    </tr>\n",
              "    <tr>\n",
              "      <th>2</th>\n",
              "      <td>8</td>\n",
              "      <td>2016</td>\n",
              "      <td>Vanguard Dividend Appreciation Index Fund (VIG)</td>\n",
              "      <td>Income</td>\n",
              "      <td>85.120003</td>\n",
              "      <td>85.160004</td>\n",
              "      <td>0.000</td>\n",
              "      <td>0.000470</td>\n",
              "    </tr>\n",
              "    <tr>\n",
              "      <th>3</th>\n",
              "      <td>9</td>\n",
              "      <td>2016</td>\n",
              "      <td>Vanguard Dividend Appreciation Index Fund (VIG)</td>\n",
              "      <td>Income</td>\n",
              "      <td>85.099998</td>\n",
              "      <td>83.930000</td>\n",
              "      <td>0.393</td>\n",
              "      <td>-0.009130</td>\n",
              "    </tr>\n",
              "    <tr>\n",
              "      <th>4</th>\n",
              "      <td>10</td>\n",
              "      <td>2016</td>\n",
              "      <td>Vanguard Dividend Appreciation Index Fund (VIG)</td>\n",
              "      <td>Income</td>\n",
              "      <td>83.739998</td>\n",
              "      <td>82.309998</td>\n",
              "      <td>0.000</td>\n",
              "      <td>-0.017077</td>\n",
              "    </tr>\n",
              "    <tr>\n",
              "      <th>...</th>\n",
              "      <td>...</td>\n",
              "      <td>...</td>\n",
              "      <td>...</td>\n",
              "      <td>...</td>\n",
              "      <td>...</td>\n",
              "      <td>...</td>\n",
              "      <td>...</td>\n",
              "      <td>...</td>\n",
              "    </tr>\n",
              "    <tr>\n",
              "      <th>1135</th>\n",
              "      <td>1</td>\n",
              "      <td>2021</td>\n",
              "      <td>S&amp;P 500 (GCSPC)</td>\n",
              "      <td>Market</td>\n",
              "      <td>3764.610000</td>\n",
              "      <td>3714.240000</td>\n",
              "      <td>0.000</td>\n",
              "      <td>-0.013380</td>\n",
              "    </tr>\n",
              "    <tr>\n",
              "      <th>1136</th>\n",
              "      <td>2</td>\n",
              "      <td>2021</td>\n",
              "      <td>S&amp;P 500 (GCSPC)</td>\n",
              "      <td>Market</td>\n",
              "      <td>3731.170000</td>\n",
              "      <td>3811.150000</td>\n",
              "      <td>0.000</td>\n",
              "      <td>0.021436</td>\n",
              "    </tr>\n",
              "    <tr>\n",
              "      <th>1137</th>\n",
              "      <td>3</td>\n",
              "      <td>2021</td>\n",
              "      <td>S&amp;P 500 (GCSPC)</td>\n",
              "      <td>Market</td>\n",
              "      <td>3842.510000</td>\n",
              "      <td>3972.890000</td>\n",
              "      <td>0.000</td>\n",
              "      <td>0.033931</td>\n",
              "    </tr>\n",
              "    <tr>\n",
              "      <th>1138</th>\n",
              "      <td>4</td>\n",
              "      <td>2021</td>\n",
              "      <td>S&amp;P 500 (GCSPC)</td>\n",
              "      <td>Market</td>\n",
              "      <td>3992.780000</td>\n",
              "      <td>4181.170000</td>\n",
              "      <td>0.000</td>\n",
              "      <td>0.047183</td>\n",
              "    </tr>\n",
              "    <tr>\n",
              "      <th>1139</th>\n",
              "      <td>5</td>\n",
              "      <td>2021</td>\n",
              "      <td>S&amp;P 500 (GCSPC)</td>\n",
              "      <td>Market</td>\n",
              "      <td>4191.980000</td>\n",
              "      <td>4232.600000</td>\n",
              "      <td>0.000</td>\n",
              "      <td>0.009690</td>\n",
              "    </tr>\n",
              "  </tbody>\n",
              "</table>\n",
              "<p>1140 rows × 8 columns</p>\n",
              "</div>"
            ],
            "text/plain": [
              "      Month  Year  ... Dividend Monthly Returns\n",
              "0         6  2016  ...    0.000        0.021350\n",
              "1         7  2016  ...    0.446        0.027810\n",
              "2         8  2016  ...    0.000        0.000470\n",
              "3         9  2016  ...    0.393       -0.009130\n",
              "4        10  2016  ...    0.000       -0.017077\n",
              "...     ...   ...  ...      ...             ...\n",
              "1135      1  2021  ...    0.000       -0.013380\n",
              "1136      2  2021  ...    0.000        0.021436\n",
              "1137      3  2021  ...    0.000        0.033931\n",
              "1138      4  2021  ...    0.000        0.047183\n",
              "1139      5  2021  ...    0.000        0.009690\n",
              "\n",
              "[1140 rows x 8 columns]"
            ]
          },
          "metadata": {
            "tags": []
          },
          "execution_count": 11
        }
      ]
    },
    {
      "cell_type": "markdown",
      "metadata": {
        "id": "ZXX6tnEVqfAS"
      },
      "source": [
        "We will visualize the spread of these monthly returns in our graphs below. This will help us develop an understanding of the density of specific returns amongst the 1000+ monthly returns in the dataset."
      ]
    },
    {
      "cell_type": "code",
      "metadata": {
        "colab": {
          "base_uri": "https://localhost:8080/",
          "height": 0
        },
        "id": "zMyg4WIOHFTk",
        "outputId": "6ea8eabe-72ce-4461-a259-a65ced03a486"
      },
      "source": [
        "returns_fig = px.box(data_frame=df2,x='Monthly Returns',orientation='h',title='Monthly Returns',template='plotly_dark')\n",
        "returns_fig.show()"
      ],
      "execution_count": 12,
      "outputs": [
        {
          "output_type": "display_data",
          "data": {
            "text/html": [
              "<html>\n",
              "<head><meta charset=\"utf-8\" /></head>\n",
              "<body>\n",
              "    <div>            <script src=\"https://cdnjs.cloudflare.com/ajax/libs/mathjax/2.7.5/MathJax.js?config=TeX-AMS-MML_SVG\"></script><script type=\"text/javascript\">if (window.MathJax) {MathJax.Hub.Config({SVG: {font: \"STIX-Web\"}});}</script>                <script type=\"text/javascript\">window.PlotlyConfig = {MathJaxConfig: 'local'};</script>\n",
              "        <script src=\"https://cdn.plot.ly/plotly-latest.min.js\"></script>                <div id=\"ab7d6c95-567c-4772-9a4c-6c66628d1dcc\" class=\"plotly-graph-div\" style=\"height:525px; width:100%;\"></div>            <script type=\"text/javascript\">                                    window.PLOTLYENV=window.PLOTLYENV || {};                                    if (document.getElementById(\"ab7d6c95-567c-4772-9a4c-6c66628d1dcc\")) {                    Plotly.newPlot(                        \"ab7d6c95-567c-4772-9a4c-6c66628d1dcc\",                        [{\"alignmentgroup\": \"True\", \"hovertemplate\": \"Monthly Returns=%{x}<extra></extra>\", \"legendgroup\": \"\", \"marker\": {\"color\": \"#636efa\"}, \"name\": \"\", \"notched\": false, \"offsetgroup\": \"\", \"orientation\": \"h\", \"showlegend\": false, \"type\": \"box\", \"x\": [0.02134966871165644, 0.027809834627879823, 0.0004699365435878066, -0.00913041149542674, -0.017076666278401473, 0.02776768488216708, 0.00329797400947065, 0.01995320795020899, 0.045796217812001765, -0.011974041656311527, 0.021277755555555555, 0.014298154956401932, -0.0050461778510434655, 0.009441875673553616, -0.006197179450675468, 0.015099636381440457, 0.02444936267730386, 0.04279676144377889, 0.010498147860769134, 0.05212974743913889, -0.03626986981077412, -0.01769223239937101, -0.001329203478408919, 0.021250951859443656, -0.007617177585602036, 0.053267297029703, 0.03024021610475331, 0.015037585091465005, -0.06324307827604865, 0.03927981016810021, -0.1046618353809537, 0.08423127074900343, 0.04480051889486798, 0.0007302026420264264, 0.030725994186060004, -0.04667725832142657, 0.061089146421165974, 0.015576974100669879, 0.005007179750365998, 0.015110347662724623, 0.002854289767985343, 0.019297953590933736, 0.016471012854460294, 0.0066246124870113976, -0.0872914839191186, -0.10554544010884814, 0.14681810448559263, 0.05024097894415467, -0.002723404255319091, 0.05371242099927414, 0.05775147462944649, -0.014779018754238805, -0.025026981435763873, 0.08568737310597346, 0.010667275735043863, -0.02751216702554791, 0.006579927550688592, 0.04504758259742858, 0.040975041794820796, 0.004812727783972654, 0.023968321621736476, 0.036624844839442054, -0.00351867221396507, -0.003297997566596066, -0.008425988165680458, 0.03190974088291738, 0.011374140604728846, -0.0009360274186306649, 0.033894420887581836, -0.01043278602514507, 0.009327377099882402, 0.016089407821229126, -0.00879125274725276, 0.021477527570836777, -0.001959503592423172, 0.019607776923408392, 0.042793079530511306, 0.038856908693604225, 0.013869565804050531, 0.048383935973832934, -0.050939829869552, -0.02930110985155849, -0.004249254254356469, 0.021950651854407616, -0.007050725363632507, 0.06013465767974438, 0.025885519153648832, 0.007030191772179521, -0.05498496990218203, 0.03120617998775026, -0.0901670635682734, 0.07488133362106163, 0.03826129960982772, 0.0021085107191301197, 0.0327438486404258, -0.07786201220639904, 0.06224982110187801, 0.011930039084310506, -0.012242626599888642, 0.0337799005933231, 0.019032041831005254, 0.022568474921423127, 0.020555829759759364, -0.02216870634419498, -0.09714683883866901, -0.13333336673089152, 0.17696387929048618, 0.052294129432979494, -0.010894495412844043, 0.05577557285749723, 0.046974959732680684, -0.03456703970962005, 0.008510183213019596, 0.1168, 0.016517506932289365, -0.012890169481133295, 0.052130544716716215, 0.06795546379548115, 0.026724096148765787, 0.01574594300117566, -0.012077329192546667, 0.05029623386907506, 0.01052985697928467, 0.005028494803888775, -0.01804536357571711, -0.015389842681258491, 0.023191416517529064, 0.03208057154632791, 0.001304664057403789, 0.020765704088254365, 0.024649170132360555, 0.03817274837837135, -0.018007172869147565, 0.042140579751052475, -0.010985718527315913, 0.008061988171872665, 0.002108135391924119, -0.002081474811731355, 0.008957867485346811, 0.04913110311837704, -0.054375586112274645, -0.011380683180014473, 0.04412650504788456, -0.026772578595317634, -0.0331825922665103, 0.07069403562479382, -0.015691008318980217, 0.013354036852359094, -0.05033642047900854, -0.00417740989147152, -0.08274760647755931, 0.10165434706089399, 0.025283598055105237, -0.028337500000000033, 0.02970105979745876, -0.054122150594016795, 0.02161619554373121, -0.00862960540951508, -0.01962088460259394, 0.05310034076394845, 0.04990209040150426, 0.011875031250000001, 0.03707139441060842, -0.012319025838642583, -0.09022326765912086, -0.24641547182394122, 0.1381391588272298, 0.05245198070567244, 0.008835381526104557, 0.024192905540055744, 0.031372509803921554, -0.05100875523410734, -0.017920000000000002, 0.1514285306122449, 0.03935574367492101, -0.0205638142620231, 0.029401904443701905, 0.012870012870012939, 0.04286167512690346, 0.007666359777173879, 0.013313288621453756, 0.002894656254065222, 3.711812089342195e-05, 0.0014894253444211324, 0.0012443877396168311, -0.007770042404589851, 0.005005713500117389, 0.006967057668797521, 0.006031239134506289, 0.0040221217702897235, 0.00514679863686665, 0.00597597093460295, 0.003127332921507768, 0.005365170152140743, 0.0052559926405990375, 0.001009975100123842, 0.0024000125000000466, -0.0004635805562514427, -0.00021389203203851158, -0.0008451873664130442, -0.004016713229009411, 0.002705449174254221, 0.001188549520766782, 0.005743602564102612, 0.002998423846765399, 0.004295499533158095, 0.007823534592490312, 0.0013294260004055513, 0.0013333333333334207, 0.0016722665724792905, 0.007974219354838798, 0.0159738384404967, 0.005575362092338383, 0.013362132861135845, 0.005597522012578571, 0.00969326113033357, 0.010834829199006383, 0.0028801116245767925, 0.013015874862857373, 0.0022946583344353243, 0.007781702145695802, 0.002837742029448212, 0.003993077067537119, 0.01151278366840099, 0.00951918582627025, -0.03397934062232764, 0.03425379993657218, 0.017804949269982755, 0.011033858171609835, 0.008992800654640625, 0.0035925136923151803, 0.0002892250176060989, 0.0029148403483308756, 0.007254249876124365, 0.004445223359951249, -0.00010809609609613318, -0.0019867669360590355, -0.0008587324625061298, 0.005168709176624876, 0.002021864455735233, 0.016142735768904102, 0.0028333333333333158, 0.0003338898163606366, -0.0005847953216375219, -0.0072925398155909, -0.025042301184433187, 0.002787456445993013, 0.0013913043478261057, 0.008362369337979118, 0.004525674499564784, 0.004761904761904706, 0.00899653979238755, -0.0004299226139295903, 0.006390328151986244, 0.0063464837049743315, -0.0030795551753634493, -0.0005159071367154889, -0.002239448751076566, 0.0020707506471095774, -0.008996539792387612, -0.004745166959578213, 0.0037985865724381247, -0.008377425044091643, 0.007582515611061437, 0.002313167259786477, 0.002226179875333927, 0.007678571428571473, -0.003914590747330986, -0.005739910313901333, 0.006057866184448385, 0.01681654676258994, 0.009477413640389731, 0.0014991181657848516, 0.021750663129973372, 0.00418118466898951, 0.017999999999999974, 0.009137489325362791, 0.0031382527565735003, 0.019107744107744046, -0.006865177832919722, 0.0004995836802664804, 0.0005008347245409373, 0.000419111483654688, 0.0173221757322177, 0.01788953009068421, -0.00048780487804887286, 0.015879478827361557, 0.004337349397590453, 0.006730769230769128, 0.014673046251993633, -0.008818897637795198, -0.0034126984126984523, -0.01354581673306783, 0.00977382875605813, 0.0015261044176706827, -0.006350482315112512, -0.017017828200972373, -0.01238645747316256, 0.0048333333333332625, 0.0008298755186721815, 0.01841911045353465, -0.00271903323262842, 0.002509505798840525, -0.005978636709824881, -0.008752361180512832, -0.042291262135922277, 0.018489755102040796, 0.01057916288901184, 0.006509504532368005, 0.0017166467751157388, 0.0009569776714514307, 0.021916248379890254, -0.0016828963476670732, 0.006904668497450098, 0.008056276886976908, -0.0036575874063195617, 0.0017613307930071734, -0.0006265465690467415, 0.015221616320125511, -0.0134368932038835, -0.009234372533543792, 0.006185195777541767, -0.004493081510934424, 0.012700321021647478, 0.0006357171235598061, 0.0030616302186879355, 0.0022682850086863933, -0.010155316202496378, -0.00939512134657746, 0.009714285714285785, 0.015281718686663911, 0.006928354302296947, 0.005019920318725049, 0.022456279809220984, 0.007605343510348812, 0.014573721495105515, 0.0019892885229260506, 0.008078062477868877, 0.02053239621796193, -0.008833358181140446, 0.0031012858131131502, 0.0004536483760434739, 0.0034051835035944045, 0.016993995468278005, 0.017914338919925443, -0.05351394582723282, -0.008678694292415896, 0.04169291338582677, 0.009901289457462359, 0.01690519641962346, -0.007675194945316759, -0.0007119520152885844, -0.00409770676691726, 0.022777147181233477, 0.00790352475311597, 0.005682693726937228, -0.02147577092511002, 0.008007518796992486, 0.01135599551737019, 0.004182087342709057, -0.002847120414594922, 0.04853920606382547, -0.0032044953962790143, 0.0055872902036121904, -0.024351119219060517, 0.009851336582632517, 0.005955630752571767, 0.03386842370134137, 0.039071924459687254, 0.0025546436350167992, 0.025041047551888237, 0.025082113750443745, -0.009666339333226841, 0.02271556669576048, 0.008570631006997434, 0.004844440202524779, 0.030082676691729208, 0.02049746941417963, 0.0075936530580601735, 0.06677760257232103, -0.025325714346503627, -0.02828566633400674, 0.00976286017699115, 0.04459447906864296, 0.00328148256783837, 0.034733233146535196, 0.04349527593136164, 0.002989505518055462, -0.09305466336719756, 0.00279161172436899, -0.10655140246552434, 0.11604122155890448, 0.03829613494791, 0.020884982241972418, 0.0408315575627418, -0.06764726838659989, 0.06616638825448606, 0.010329251334521282, -0.0068727005692619985, 0.007025218235986593, 0.02478422500082055, 0.03476430197428486, 0.026078659358739594, 0.02619157714582418, -0.06893443159930976, -0.11843143022303844, 0.1965702721086557, 0.09222066760961813, 0.046989906807793795, 0.07741662252605448, 0.09144396359217272, -0.05579522571803898, -0.04036789379326438, 0.09475242973535414, 0.031220735386662854, -0.012689628669231273, -0.003389166502462986, 0.0011295384615384527, 0.05924176563087456, -0.03056311129233626, -0.011782735655737675, 0.05855740064778157, -0.004635393753519692, 0.0835369361766946, -0.10324174260431071, 0.0024926222578576787, 0.020875764810374998, 0.0798220744940854, 0.031905399375278885, 0.028502704326923096, 0.04396511638469037, 0.11263736263736268, 0.01650284410112359, 0.015843621399176947, 0.1445523969158566, -0.0023858307356949683, 0.031068496837064242, 0.04026854252061213, -0.004563704697986568, 0.11751478307445098, 0.005406758550178296, -0.04707317073170731, 0.009295120061967636, 0.11401488890635125, 0.026003649635036347, -0.005136221642166559, 0.11310187623283868, -0.04228201497066551, -0.11933808146176136, 0.029411787864752213, -0.1915217608695652, 0.21913424317617855, 0.0825390180208798, -0.0025613234818068187, -0.0021132502113270675, -0.14252631578947375, 0.1780014731156396, -0.006152563829063318, -0.08543126466015809, -0.02411836122597595, 0.025266597711325885, 0.13071753949406006, -0.005365679650238485, 0.026678515534725895, 0.010131886634833054, -0.17833798652358518, 0.30433768525873106, 0.16722408026755853, 0.12547343551967413, 0.12452780013253395, 0.17242656923936975, -0.04613786561341206, -0.02784021873691207, 0.22181147959322084, 0.09201752631578947, 0.10508636424428484, -0.06872406968778588, -0.10844356146205528, -0.017810686546931354, -0.07969636234383595, 0.005383962726535129, 0.047735927187552915, 0.003981313914629573, -0.011627113087760162, -0.019260894651539684, 0.0765765531529154, 0.012368288717988979, 0.011954225238340844, 0.019388774834648896, -0.017106751155684576, 0.009116332584708807, -0.008024471723678081, 0.008756639889159847, 0.008141106178978738, -0.019239495219741626, 0.03255222880503943, 0.025607575711065828, 0.03107682854587446, -0.0007897330886543676, 0.026527704252996633, -0.04276393192334045, 0.006060957883920272, 0.00315389949175559, 0.043447979353948715, -0.006325910492278107, 0.02735869953086606, 0.0323835704518181, -0.014250754371950431, -0.09562376196654822, 0.02696047234517936, -0.127607077669333, 0.12056019089124734, 0.04055302768563933, -0.016103927272727313, 0.03548365869203634, -0.08227786801403729, 0.07101107974939129, 0.0023235815348031227, -0.0428789813973862, 0.034587952356632166, 0.012166554998880915, 0.0233055256807343, 0.021033857316858227, -0.026445509117105023, -0.09950373697270473, -0.21172602191780815, 0.20309915397436162, 0.0960916272880345, 0.004405863255993366, 0.04790221767084156, 0.02863094813088696, -0.036148950279542014, 0.021706249911581887, 0.1299447325421338, 0.04868588157171229, 0.011240335577712438, 0.05780982450399411, 0.02508760938777354, 0.04075106812534122, -0.007879199977427647, 0.000899280575539709, 0.03494623655913984, 0.0026019080659151032, 0.0, -0.014236111111111106, 0.044365572315882874, 0.01619778346121053, 0.016971713810316223, 0.03868312757201637, -0.012500000000000011, 0.011885895404120472, 0.012509773260359668, -0.0015325670498085324, 0.01837672281776418, 0.0007501875468867057, 0.010479041916167707, 0.026642066420664173, 0.02890173410404627, 0.0049261083743841316, 0.055555555555555504, -0.036447978793903296, -0.012543554006968622, 0.02669552669552677, 0.021739130434782643, -0.0047522063815343026, 0.03399048266485384, 0.0335747202106649, -0.002551020408163211, -0.061695347355003136, 0.009510869565217309, -0.1097804391217564, 0.08879761015683336, 0.031120331950207417, 0.01245006657789612, 0.028608582574772397, -0.0566878980891719, 0.07379823967501692, 0.006883604505632004, -0.006900878293600968, 0.026272264631043214, 0.034177215189873364, 0.026060606060606045, 0.03936866948370045, -0.009179575444635693, -0.08908045977011489, -0.1628468033775632, 0.1801055011303693, 0.07747866053841101, 0.016393504334760473, 0.051129607609988074, 0.06400909960747346, -0.04546883184913558, -0.03202650292509637, 0.09577470422535213, 0.005032994407727314, 0.0046535677352636945, 0.011651418439716283, 0.019569421743178852, 0.04077766714082506, -0.005906451612903389, 0.0016676672486014628, 0.042391603777221266, 0.0009532032212591493, -0.0040601403508772295, -0.010934443821480934, 0.03518816417372819, 0.01297614510969522, 0.01735053281136893, 0.03554055995469319, -0.011649100364982125, 0.014262671799516579, 0.011452792271348825, -0.00036013775258912276, 0.02044019490681255, 0.0, 0.013171760036260976, 0.02729872294372287, 0.026663321211084234, 0.00838640493319634, 0.05697337534771578, -0.03465102283534325, -0.029856117620551202, 0.011667133698187043, 0.02614970541740194, -0.0028773568777100884, 0.04846096339037773, 0.03124027811396455, 0.0026280532541079695, -0.06877374141013061, 0.015422789419885712, -0.10805354802375809, 0.10221506196615722, 0.031251295004238885, 0.006710410819676552, 0.038265965518219654, -0.06579724567969826, 0.06454926975003537, 0.007362534193139626, -0.01712526718795847, 0.021624327403651188, 0.023445677125177877, 0.030708824740246044, 0.023423136087683243, -0.0005752194652461563, -0.08542005057586259, -0.13139413503649644, 0.17190245851090266, 0.06717778283487164, 0.015623269755391698, 0.060354507514057486, 0.0642134771598902, -0.04400113137566352, -0.02911721976892945, 0.0964829102495782, 0.023130473622600182, -0.010019697728295925, 0.017344210090152058, 0.027499648371162828, 0.05088201635558646, -0.008792366992387068, -0.013464301310043668, 0.039042320441989, 0.008170479573712235, 0.010175473684210533, -0.020187956839540614, -0.018413633144475944, -0.0010826055966295816, 0.056901545650611146, 0.004159410745233844, 0.023646367374914403, 0.02279584311096223, 0.03035251404544761, 0.002523659226383048, 0.029282084382871495, -0.007598783732596734, 0.020426890866673618, 0.02127668628338887, 0.0020426028596440115, -0.005255474452554736, 0.06786549509165228, -0.05079991437552864, 0.002676978068916549, 0.017862429294432772, -0.01638855817316687, -0.02334518321513013, 0.03990174709013215, -0.01831066100677315, 0.02101093179049918, -0.08764114676173491, -0.0019398318784351017, -0.06800637958532696, 0.08574487316898897, 0.023684243421052745, 0.0, 0.018337022394467932, -0.05362669272329137, 0.048007803788118794, -0.021382320271521038, -0.01844197079675763, 0.038123165913223594, 0.03398363643852628, 0.006047777441790228, 0.033193116848654176, -0.03485967709658357, -0.0763125199213991, -0.14380384360503645, 0.1006415356599223, 0.07270033652449326, 0.021283934819222, 0.03397299548912464, 0.03933676853055904, -0.017829184167318844, -0.039290210370412165, 0.12952688417618277, 0.03749991370738869, -0.027218289209673965, 0.010485567853997246, 0.014563025104475442, 0.02297340963753403, 0.002817648493400318, 0.0042809500687870025, 0.047904643400227584, 0.0013152649903287624, -0.0012345987082748662, -0.02403161567970855, 0.04561015789883373, -0.0016685702691587008, 0.0249755201365967, 0.0264607932423198, -0.010657950452680458, 0.01385223158617924, 0.006656659963199163, -0.00014023432707746213, 0.01577803874854058, -0.00907023987542242, 0.016105633733402052, 0.017807107391998242, 0.02628596321493083, 0.005718031412009095, 0.0430566723355864, -0.03729256036604239, -0.0038756605371184655, 0.004651596951654528, 0.021577660557144652, -6.339993898130773e-05, 0.03517368040730009, 0.026713760424290627, -0.007735535095573026, -0.08270653837979786, 0.020680122644665084, -0.11525163789705126, 0.12567899628777712, 0.040332057532541654, 0.003307945304531634, 0.03391026105767248, -0.062492536364091286, 0.06702412697499995, 0.005152339453078885, -0.025907991552206282, 0.025013828665336354, 0.011284954980905896, 0.026827072726959486, 0.017648049977681258, -0.0022830970318359354, -0.09230858202143181, -0.18896037956160955, 0.18101149461320848, 0.09191824516318385, 0.01523695909390459, 0.06585837739648087, 0.02548897261472806, -0.021484538347733947, -0.0030843359542937865, 0.11984742997978155, 0.02391800511124095, -0.00602463229204033, 0.04286334831537396, 0.0060908909090908415, 0.044353173733518145, -0.014728562379932843, 0.008272317071223239, 0.046291234016503556, -0.0038825625214112722, -0.0013748167134466627, -0.025874390839263493, 0.050404775758548154, 0.002409953591210244, 0.021907728898164176, 0.02316482971897039, -0.014790314968360127, 0.009203370340337937, 0.006025667191169341, 0.006232977163209859, 0.010709143686502325, -0.011592675282742671, 0.020392235582330605, 0.01958440913158826, 0.028192743336476887, 0.004003859064083822, 0.037230224434129364, -0.037692879016678275, -0.0019821319030356842, 0.004332889771853958, 0.02524812269406746, 0.0005187945102107496, 0.030627707187559326, 0.03181504739884399, -0.01090024710537826, -0.08136710314023922, 0.021897810650972776, -0.11196025983951101, 0.12544148954526896, 0.04093909505356814, -0.0016654329817648117, 0.03302669854744055, -0.06313538434100238, 0.06257126045754048, 0.0058885942685869995, -0.02823359902006701, 0.02191782648401827, 0.011043819220588225, 0.030601424013341035, 0.016712142167669614, -0.00828326639473503, -0.09093965066600608, -0.20570377941872234, 0.19130646472878177, 0.09365315471683182, 0.012849584763778708, 0.06040232930531443, 0.029612721219554855, -0.02282016309911172, 0.0028892907074271803, 0.12401642360616531, 0.03129234193933603, -0.003501918047079248, 0.045039838738312535, 0.009421108941046214, 0.046091835161050705, -0.01252551156762555, -0.009363295529464587, 0.0437640479427479, -0.002523431867339464, 0.009084302325581396, -0.024672216715232603, 0.061292719167904845, 0.002445057717256726, 0.02664359861591695, 0.010620710608055525, -0.010406504065040659, 0.0071264037068503785, 0.004874878128046868, 0.008090614886731393, 0.015283563450290335, -0.01008824117554352, 0.025738799673937034, 0.016682144475815296, 0.026141917852822175, 0.00441702015362273, 0.046407707569643145, -0.03621634338703029, -0.008672997976293716, -0.00496924890293018, 0.022300409489412677, -0.007633209694297722, 0.02703400020079952, 0.02370998737573154, -0.0054496183801193985, -0.09532859858772408, 0.02393060125635648, -0.12175415464512392, 0.12673992251948302, 0.04222414385298411, -0.0031205957446809648, 0.03561328333484207, -0.0686461473344087, 0.06538243230487066, 0.006280427890644927, -0.029443544030254006, 0.031950672645739926, 0.007311156241538061, 0.030715839495615457, 0.012147867980043017, -0.009961804826521108, -0.09630200555475105, -0.1981371718882303, 0.18484622986822838, 0.0963779842519685, 0.007169486870360966, 0.06002837897646659, 0.027829837512171104, -0.021331946444639614, 0.004759386567953456, 0.11950013017443384, 0.03094915247476286, -0.0014137618732053638, 0.04141883766069277, 0.019717745952677466, 0.044138510713474695, -0.006932409012131705, 0.002379592659044216, 0.050370613473003104, 0.006985366769880281, -0.0036016028021177565, -0.019992755281596167, 0.10026950004395971, 0.017234157643568532, 0.0018470088113190417, 0.01412126333978837, -0.022126695496073715, 0.005905767764512881, -0.026679626054173754, 0.017382716950297507, 0.009317054200761515, -0.018372922162812305, 0.0430134192706518, 0.012247905076631012, 0.02560745972730245, -0.00112836837356933, 0.02161707807291055, -0.044396717230902986, 0.004657591735730837, 0.010421167221394462, 0.0467051868978806, -0.005929816723434304, 0.03430577487658396, 0.0249532651366786, -0.020935753012104725, -0.08683233318538365, 0.020531725443713237, -0.1307727699224755, 0.13327711604399856, 0.03794384820864246, -0.030647642379947868, 0.037772190140542665, -0.08353225561556901, 0.06052479683239231, 0.0026609050819222566, -0.05479555320268205, 0.04391157741229847, 0.017381921945690527, 0.0191928301141723, 0.01782140815061133, -0.030888788622648936, -0.1061608141475216, -0.2548658947027474, 0.1759746785634152, 0.0705858624898292, 0.012787704840390258, 0.03695082154746257, 0.04024127583289021, -0.04075266555531668, 0.03239736233628434, 0.16191135481591118, 0.04620035550211514, 0.020667007066119097, 0.07731679091864027, 0.028378093632927755, 0.038479121539623296, 0.002992828776978418, -0.0010210687890083508, 0.05454236320321072, 0.006798349200335095, 0.0016082019942103467, -0.023424878079971626, 0.10106030483764072, 0.021875907158402954, -0.003567227378190048, 0.012478235997627271, -0.016713881493311187, 0.00810504805913181, -0.02373468619574839, 0.014598540145985401, 0.007769495190094739, -0.021584720862957027, 0.05098490730011568, 0.011304108078301548, 0.030969844309431033, -0.0015805321807304486, 0.02024153321081639, -0.042293745659217986, 0.010583555526923086, 0.014539634209468022, 0.05030606867181251, 0.005036540041212298, 0.02489294595346299, 0.02812034957769231, -0.022094092749617805, -0.09271210791665697, 0.008622985485772304, -0.12909093203976454, 0.1278172623592859, 0.04073258388558863, -0.02869061032863848, 0.03293333333333324, -0.08619354838709686, 0.06288776263078869, 0.006586197675513035, -0.04581151712535295, 0.04453653972135314, 0.017713859088863294, 0.02203208802321989, 0.023519037974683646, -0.04766611273568236, -0.1029943674241422, -0.25852674859635266, 0.20595623987034037, 0.07628585006164487, 0.013742345358186395, 0.04389165617128448, 0.04695960123541215, -0.048647176243686, 0.022891535455074233, 0.17702230882245912, 0.058810495424195, 0.030788757807078397, 0.08589230275683805, 0.020342355676037958, 0.020714005492350005, 0.006669245426829335, -0.01895507896410903, 0.046930214359150964, -0.0017459792005963149, 0.025315287863378323, -0.03099923756019269, -0.025474433018506906, -0.005394563090812745, 0.05897491263369688, 0.011003472865000538, 0.020580631923232545, 0.027889774507940793, 0.015754698113207476, -0.0007393161018294597, 0.0463007412729396, 0.0070353637275326385, 0.010640159948644482, 0.020772280153658704, 0.0037542833725499746, 0.018537545165514212, 0.054300016666666666, -0.04570968032982388, 0.003534741625988948, 0.005462193277310899, 0.0007539879293399076, -0.03889072220368556, 0.029906844139870065, -0.018680377515348116, -0.006114257972782584, -0.1029166905252654, -0.0020553881189270093, -0.08486370660026771, 0.09936146338188023, 0.020233818293562918, -0.0028727664464234777, 0.016414357958815105, -0.052226909475350906, 0.043211099242594656, -0.02188942303644004, -0.025160325914895625, 0.02421133188455556, 0.043527813789039624, 0.012236474251439686, 0.03224009195131722, -0.023459849570200628, -0.07678626203964549, -0.20315679846711193, 0.15574958316792387, 0.08539726835040348, 0.031053292402660262, 0.051488791858056326, 0.05096165185980663, -0.02382718316496208, -0.030269889688529162, 0.12261318450350267, 0.03614253035606872, -0.004233144373132964, 0.027587374165541294, 0.006823490196078343, 0.03567007754294045, -0.00415674729693612, 0.0023496375254305627, 0.035373021997389544, -0.0010123553367233154, -0.0014092744999608285, -0.017640563130391317, 0.03294529943439132, 0.017571369485085177, 0.012124872866488594, 0.034148731837293535, -0.007314726506535487, 0.009253536747462123, 0.00975507640778739, 0.0032123859002751902, 0.016003191589995976, -0.0022001534051914813, 0.01816183186362867, 0.021442170395050135, 0.024918609017462727, 0.010778420475596469, 0.05219601077604674, -0.03643593885920215, -0.027382679856512517, 0.005544058174637971, 0.023575839210582053, -0.00012138154264903346, 0.04116157415109342, 0.028481091178482652, 0.005875124268198381, -0.07331809219181974, 0.015672031734116437, -0.10164845009854868, 0.09170111749886953, 0.03040720566032136, 0.012929648133456373, 0.03412166550236423, -0.06783455778994896, 0.06913608065330926, 0.0030187688673055067, -0.018071884898266, 0.023282835053849784, 0.018054824730451183, 0.029586458278701495, 0.027650810312196922, -0.005901986950907208, -0.08698070872712216, -0.13101994432265962, 0.16586738615256513, 0.06107162898340582, 0.02024167593573729, 0.053188749227282034, 0.06448699312098183, -0.04118103231986864, -0.034233446647390434, 0.0987288392694619, 0.030225981727269563, -0.013379872018615565, 0.021435635470911273, 0.03393094617840933, 0.047182664709801155, 0.009689931726773697], \"x0\": \" \", \"xaxis\": \"x\", \"y0\": \" \", \"yaxis\": \"y\"}],                        {\"boxmode\": \"group\", \"legend\": {\"tracegroupgap\": 0}, \"template\": {\"data\": {\"bar\": [{\"error_x\": {\"color\": \"#f2f5fa\"}, \"error_y\": {\"color\": \"#f2f5fa\"}, \"marker\": {\"line\": {\"color\": \"rgb(17,17,17)\", \"width\": 0.5}}, \"type\": \"bar\"}], \"barpolar\": [{\"marker\": {\"line\": {\"color\": \"rgb(17,17,17)\", \"width\": 0.5}}, \"type\": \"barpolar\"}], \"carpet\": [{\"aaxis\": {\"endlinecolor\": \"#A2B1C6\", \"gridcolor\": \"#506784\", \"linecolor\": \"#506784\", \"minorgridcolor\": \"#506784\", \"startlinecolor\": \"#A2B1C6\"}, \"baxis\": {\"endlinecolor\": \"#A2B1C6\", \"gridcolor\": \"#506784\", \"linecolor\": \"#506784\", \"minorgridcolor\": \"#506784\", \"startlinecolor\": \"#A2B1C6\"}, \"type\": \"carpet\"}], \"choropleth\": [{\"colorbar\": {\"outlinewidth\": 0, \"ticks\": \"\"}, \"type\": \"choropleth\"}], \"contour\": [{\"colorbar\": {\"outlinewidth\": 0, \"ticks\": \"\"}, \"colorscale\": [[0.0, \"#0d0887\"], [0.1111111111111111, \"#46039f\"], [0.2222222222222222, \"#7201a8\"], [0.3333333333333333, \"#9c179e\"], [0.4444444444444444, \"#bd3786\"], [0.5555555555555556, \"#d8576b\"], [0.6666666666666666, \"#ed7953\"], [0.7777777777777778, \"#fb9f3a\"], [0.8888888888888888, \"#fdca26\"], [1.0, \"#f0f921\"]], \"type\": \"contour\"}], \"contourcarpet\": [{\"colorbar\": {\"outlinewidth\": 0, \"ticks\": \"\"}, \"type\": \"contourcarpet\"}], \"heatmap\": [{\"colorbar\": {\"outlinewidth\": 0, \"ticks\": \"\"}, \"colorscale\": [[0.0, \"#0d0887\"], [0.1111111111111111, \"#46039f\"], [0.2222222222222222, \"#7201a8\"], [0.3333333333333333, \"#9c179e\"], [0.4444444444444444, \"#bd3786\"], [0.5555555555555556, \"#d8576b\"], [0.6666666666666666, \"#ed7953\"], [0.7777777777777778, \"#fb9f3a\"], [0.8888888888888888, \"#fdca26\"], [1.0, \"#f0f921\"]], \"type\": \"heatmap\"}], \"heatmapgl\": [{\"colorbar\": {\"outlinewidth\": 0, \"ticks\": \"\"}, \"colorscale\": [[0.0, \"#0d0887\"], [0.1111111111111111, \"#46039f\"], [0.2222222222222222, \"#7201a8\"], [0.3333333333333333, \"#9c179e\"], [0.4444444444444444, \"#bd3786\"], [0.5555555555555556, \"#d8576b\"], [0.6666666666666666, \"#ed7953\"], [0.7777777777777778, \"#fb9f3a\"], [0.8888888888888888, \"#fdca26\"], [1.0, \"#f0f921\"]], \"type\": \"heatmapgl\"}], \"histogram\": [{\"marker\": {\"colorbar\": {\"outlinewidth\": 0, \"ticks\": \"\"}}, \"type\": \"histogram\"}], \"histogram2d\": [{\"colorbar\": {\"outlinewidth\": 0, \"ticks\": \"\"}, \"colorscale\": [[0.0, \"#0d0887\"], [0.1111111111111111, \"#46039f\"], [0.2222222222222222, \"#7201a8\"], [0.3333333333333333, \"#9c179e\"], [0.4444444444444444, \"#bd3786\"], [0.5555555555555556, \"#d8576b\"], [0.6666666666666666, \"#ed7953\"], [0.7777777777777778, \"#fb9f3a\"], [0.8888888888888888, \"#fdca26\"], [1.0, \"#f0f921\"]], \"type\": \"histogram2d\"}], \"histogram2dcontour\": [{\"colorbar\": {\"outlinewidth\": 0, \"ticks\": \"\"}, \"colorscale\": [[0.0, \"#0d0887\"], [0.1111111111111111, \"#46039f\"], [0.2222222222222222, \"#7201a8\"], [0.3333333333333333, \"#9c179e\"], [0.4444444444444444, \"#bd3786\"], [0.5555555555555556, \"#d8576b\"], [0.6666666666666666, \"#ed7953\"], [0.7777777777777778, \"#fb9f3a\"], [0.8888888888888888, \"#fdca26\"], [1.0, \"#f0f921\"]], \"type\": \"histogram2dcontour\"}], \"mesh3d\": [{\"colorbar\": {\"outlinewidth\": 0, \"ticks\": \"\"}, \"type\": \"mesh3d\"}], \"parcoords\": [{\"line\": {\"colorbar\": {\"outlinewidth\": 0, \"ticks\": \"\"}}, \"type\": \"parcoords\"}], \"pie\": [{\"automargin\": true, \"type\": \"pie\"}], \"scatter\": [{\"marker\": {\"line\": {\"color\": \"#283442\"}}, \"type\": \"scatter\"}], \"scatter3d\": [{\"line\": {\"colorbar\": {\"outlinewidth\": 0, \"ticks\": \"\"}}, \"marker\": {\"colorbar\": {\"outlinewidth\": 0, \"ticks\": \"\"}}, \"type\": \"scatter3d\"}], \"scattercarpet\": [{\"marker\": {\"colorbar\": {\"outlinewidth\": 0, \"ticks\": \"\"}}, \"type\": \"scattercarpet\"}], \"scattergeo\": [{\"marker\": {\"colorbar\": {\"outlinewidth\": 0, \"ticks\": \"\"}}, \"type\": \"scattergeo\"}], \"scattergl\": [{\"marker\": {\"line\": {\"color\": \"#283442\"}}, \"type\": \"scattergl\"}], \"scattermapbox\": [{\"marker\": {\"colorbar\": {\"outlinewidth\": 0, \"ticks\": \"\"}}, \"type\": \"scattermapbox\"}], \"scatterpolar\": [{\"marker\": {\"colorbar\": {\"outlinewidth\": 0, \"ticks\": \"\"}}, \"type\": \"scatterpolar\"}], \"scatterpolargl\": [{\"marker\": {\"colorbar\": {\"outlinewidth\": 0, \"ticks\": \"\"}}, \"type\": \"scatterpolargl\"}], \"scatterternary\": [{\"marker\": {\"colorbar\": {\"outlinewidth\": 0, \"ticks\": \"\"}}, \"type\": \"scatterternary\"}], \"surface\": [{\"colorbar\": {\"outlinewidth\": 0, \"ticks\": \"\"}, \"colorscale\": [[0.0, \"#0d0887\"], [0.1111111111111111, \"#46039f\"], [0.2222222222222222, \"#7201a8\"], [0.3333333333333333, \"#9c179e\"], [0.4444444444444444, \"#bd3786\"], [0.5555555555555556, \"#d8576b\"], [0.6666666666666666, \"#ed7953\"], [0.7777777777777778, \"#fb9f3a\"], [0.8888888888888888, \"#fdca26\"], [1.0, \"#f0f921\"]], \"type\": \"surface\"}], \"table\": [{\"cells\": {\"fill\": {\"color\": \"#506784\"}, \"line\": {\"color\": \"rgb(17,17,17)\"}}, \"header\": {\"fill\": {\"color\": \"#2a3f5f\"}, \"line\": {\"color\": \"rgb(17,17,17)\"}}, \"type\": \"table\"}]}, \"layout\": {\"annotationdefaults\": {\"arrowcolor\": \"#f2f5fa\", \"arrowhead\": 0, \"arrowwidth\": 1}, \"autotypenumbers\": \"strict\", \"coloraxis\": {\"colorbar\": {\"outlinewidth\": 0, \"ticks\": \"\"}}, \"colorscale\": {\"diverging\": [[0, \"#8e0152\"], [0.1, \"#c51b7d\"], [0.2, \"#de77ae\"], [0.3, \"#f1b6da\"], [0.4, \"#fde0ef\"], [0.5, \"#f7f7f7\"], [0.6, \"#e6f5d0\"], [0.7, \"#b8e186\"], [0.8, \"#7fbc41\"], [0.9, \"#4d9221\"], [1, \"#276419\"]], \"sequential\": [[0.0, \"#0d0887\"], [0.1111111111111111, \"#46039f\"], [0.2222222222222222, \"#7201a8\"], [0.3333333333333333, \"#9c179e\"], [0.4444444444444444, \"#bd3786\"], [0.5555555555555556, \"#d8576b\"], [0.6666666666666666, \"#ed7953\"], [0.7777777777777778, \"#fb9f3a\"], [0.8888888888888888, \"#fdca26\"], [1.0, \"#f0f921\"]], \"sequentialminus\": [[0.0, \"#0d0887\"], [0.1111111111111111, \"#46039f\"], [0.2222222222222222, \"#7201a8\"], [0.3333333333333333, \"#9c179e\"], [0.4444444444444444, \"#bd3786\"], [0.5555555555555556, \"#d8576b\"], [0.6666666666666666, \"#ed7953\"], [0.7777777777777778, \"#fb9f3a\"], [0.8888888888888888, \"#fdca26\"], [1.0, \"#f0f921\"]]}, \"colorway\": [\"#636efa\", \"#EF553B\", \"#00cc96\", \"#ab63fa\", \"#FFA15A\", \"#19d3f3\", \"#FF6692\", \"#B6E880\", \"#FF97FF\", \"#FECB52\"], \"font\": {\"color\": \"#f2f5fa\"}, \"geo\": {\"bgcolor\": \"rgb(17,17,17)\", \"lakecolor\": \"rgb(17,17,17)\", \"landcolor\": \"rgb(17,17,17)\", \"showlakes\": true, \"showland\": true, \"subunitcolor\": \"#506784\"}, \"hoverlabel\": {\"align\": \"left\"}, \"hovermode\": \"closest\", \"mapbox\": {\"style\": \"dark\"}, \"paper_bgcolor\": \"rgb(17,17,17)\", \"plot_bgcolor\": \"rgb(17,17,17)\", \"polar\": {\"angularaxis\": {\"gridcolor\": \"#506784\", \"linecolor\": \"#506784\", \"ticks\": \"\"}, \"bgcolor\": \"rgb(17,17,17)\", \"radialaxis\": {\"gridcolor\": \"#506784\", \"linecolor\": \"#506784\", \"ticks\": \"\"}}, \"scene\": {\"xaxis\": {\"backgroundcolor\": \"rgb(17,17,17)\", \"gridcolor\": \"#506784\", \"gridwidth\": 2, \"linecolor\": \"#506784\", \"showbackground\": true, \"ticks\": \"\", \"zerolinecolor\": \"#C8D4E3\"}, \"yaxis\": {\"backgroundcolor\": \"rgb(17,17,17)\", \"gridcolor\": \"#506784\", \"gridwidth\": 2, \"linecolor\": \"#506784\", \"showbackground\": true, \"ticks\": \"\", \"zerolinecolor\": \"#C8D4E3\"}, \"zaxis\": {\"backgroundcolor\": \"rgb(17,17,17)\", \"gridcolor\": \"#506784\", \"gridwidth\": 2, \"linecolor\": \"#506784\", \"showbackground\": true, \"ticks\": \"\", \"zerolinecolor\": \"#C8D4E3\"}}, \"shapedefaults\": {\"line\": {\"color\": \"#f2f5fa\"}}, \"sliderdefaults\": {\"bgcolor\": \"#C8D4E3\", \"bordercolor\": \"rgb(17,17,17)\", \"borderwidth\": 1, \"tickwidth\": 0}, \"ternary\": {\"aaxis\": {\"gridcolor\": \"#506784\", \"linecolor\": \"#506784\", \"ticks\": \"\"}, \"baxis\": {\"gridcolor\": \"#506784\", \"linecolor\": \"#506784\", \"ticks\": \"\"}, \"bgcolor\": \"rgb(17,17,17)\", \"caxis\": {\"gridcolor\": \"#506784\", \"linecolor\": \"#506784\", \"ticks\": \"\"}}, \"title\": {\"x\": 0.05}, \"updatemenudefaults\": {\"bgcolor\": \"#506784\", \"borderwidth\": 0}, \"xaxis\": {\"automargin\": true, \"gridcolor\": \"#283442\", \"linecolor\": \"#506784\", \"ticks\": \"\", \"title\": {\"standoff\": 15}, \"zerolinecolor\": \"#283442\", \"zerolinewidth\": 2}, \"yaxis\": {\"automargin\": true, \"gridcolor\": \"#283442\", \"linecolor\": \"#506784\", \"ticks\": \"\", \"title\": {\"standoff\": 15}, \"zerolinecolor\": \"#283442\", \"zerolinewidth\": 2}}}, \"title\": {\"text\": \"Monthly Returns\"}, \"xaxis\": {\"anchor\": \"y\", \"domain\": [0.0, 1.0], \"title\": {\"text\": \"Monthly Returns\"}}, \"yaxis\": {\"anchor\": \"x\", \"domain\": [0.0, 1.0]}},                        {\"responsive\": true}                    ).then(function(){\n",
              "                            \n",
              "var gd = document.getElementById('ab7d6c95-567c-4772-9a4c-6c66628d1dcc');\n",
              "var x = new MutationObserver(function (mutations, observer) {{\n",
              "        var display = window.getComputedStyle(gd).display;\n",
              "        if (!display || display === 'none') {{\n",
              "            console.log([gd, 'removed!']);\n",
              "            Plotly.purge(gd);\n",
              "            observer.disconnect();\n",
              "        }}\n",
              "}});\n",
              "\n",
              "// Listen for the removal of the full notebook cells\n",
              "var notebookContainer = gd.closest('#notebook-container');\n",
              "if (notebookContainer) {{\n",
              "    x.observe(notebookContainer, {childList: true});\n",
              "}}\n",
              "\n",
              "// Listen for the clearing of the current output cell\n",
              "var outputEl = gd.closest('.output');\n",
              "if (outputEl) {{\n",
              "    x.observe(outputEl, {childList: true});\n",
              "}}\n",
              "\n",
              "                        })                };                            </script>        </div>\n",
              "</body>\n",
              "</html>"
            ]
          },
          "metadata": {
            "tags": []
          }
        }
      ]
    },
    {
      "cell_type": "code",
      "metadata": {
        "colab": {
          "base_uri": "https://localhost:8080/",
          "height": 0
        },
        "id": "MW2WzVT5HtlW",
        "outputId": "15c920f6-9e0f-4715-d23d-1063f9a59c85"
      },
      "source": [
        "returns_fig2 = px.histogram(data_frame=df2,x='Monthly Returns',nbins=6,title='Monthly Returns Spread',template='plotly_dark')\n",
        "returns_fig2.show()"
      ],
      "execution_count": 13,
      "outputs": [
        {
          "output_type": "display_data",
          "data": {
            "text/html": [
              "<html>\n",
              "<head><meta charset=\"utf-8\" /></head>\n",
              "<body>\n",
              "    <div>            <script src=\"https://cdnjs.cloudflare.com/ajax/libs/mathjax/2.7.5/MathJax.js?config=TeX-AMS-MML_SVG\"></script><script type=\"text/javascript\">if (window.MathJax) {MathJax.Hub.Config({SVG: {font: \"STIX-Web\"}});}</script>                <script type=\"text/javascript\">window.PlotlyConfig = {MathJaxConfig: 'local'};</script>\n",
              "        <script src=\"https://cdn.plot.ly/plotly-latest.min.js\"></script>                <div id=\"59fc1a2d-944f-4fe2-a310-4ab3afd8df0c\" class=\"plotly-graph-div\" style=\"height:525px; width:100%;\"></div>            <script type=\"text/javascript\">                                    window.PLOTLYENV=window.PLOTLYENV || {};                                    if (document.getElementById(\"59fc1a2d-944f-4fe2-a310-4ab3afd8df0c\")) {                    Plotly.newPlot(                        \"59fc1a2d-944f-4fe2-a310-4ab3afd8df0c\",                        [{\"alignmentgroup\": \"True\", \"bingroup\": \"x\", \"hovertemplate\": \"Monthly Returns=%{x}<br>count=%{y}<extra></extra>\", \"legendgroup\": \"\", \"marker\": {\"color\": \"#636efa\"}, \"name\": \"\", \"nbinsx\": 6, \"offsetgroup\": \"\", \"orientation\": \"v\", \"showlegend\": false, \"type\": \"histogram\", \"x\": [0.02134966871165644, 0.027809834627879823, 0.0004699365435878066, -0.00913041149542674, -0.017076666278401473, 0.02776768488216708, 0.00329797400947065, 0.01995320795020899, 0.045796217812001765, -0.011974041656311527, 0.021277755555555555, 0.014298154956401932, -0.0050461778510434655, 0.009441875673553616, -0.006197179450675468, 0.015099636381440457, 0.02444936267730386, 0.04279676144377889, 0.010498147860769134, 0.05212974743913889, -0.03626986981077412, -0.01769223239937101, -0.001329203478408919, 0.021250951859443656, -0.007617177585602036, 0.053267297029703, 0.03024021610475331, 0.015037585091465005, -0.06324307827604865, 0.03927981016810021, -0.1046618353809537, 0.08423127074900343, 0.04480051889486798, 0.0007302026420264264, 0.030725994186060004, -0.04667725832142657, 0.061089146421165974, 0.015576974100669879, 0.005007179750365998, 0.015110347662724623, 0.002854289767985343, 0.019297953590933736, 0.016471012854460294, 0.0066246124870113976, -0.0872914839191186, -0.10554544010884814, 0.14681810448559263, 0.05024097894415467, -0.002723404255319091, 0.05371242099927414, 0.05775147462944649, -0.014779018754238805, -0.025026981435763873, 0.08568737310597346, 0.010667275735043863, -0.02751216702554791, 0.006579927550688592, 0.04504758259742858, 0.040975041794820796, 0.004812727783972654, 0.023968321621736476, 0.036624844839442054, -0.00351867221396507, -0.003297997566596066, -0.008425988165680458, 0.03190974088291738, 0.011374140604728846, -0.0009360274186306649, 0.033894420887581836, -0.01043278602514507, 0.009327377099882402, 0.016089407821229126, -0.00879125274725276, 0.021477527570836777, -0.001959503592423172, 0.019607776923408392, 0.042793079530511306, 0.038856908693604225, 0.013869565804050531, 0.048383935973832934, -0.050939829869552, -0.02930110985155849, -0.004249254254356469, 0.021950651854407616, -0.007050725363632507, 0.06013465767974438, 0.025885519153648832, 0.007030191772179521, -0.05498496990218203, 0.03120617998775026, -0.0901670635682734, 0.07488133362106163, 0.03826129960982772, 0.0021085107191301197, 0.0327438486404258, -0.07786201220639904, 0.06224982110187801, 0.011930039084310506, -0.012242626599888642, 0.0337799005933231, 0.019032041831005254, 0.022568474921423127, 0.020555829759759364, -0.02216870634419498, -0.09714683883866901, -0.13333336673089152, 0.17696387929048618, 0.052294129432979494, -0.010894495412844043, 0.05577557285749723, 0.046974959732680684, -0.03456703970962005, 0.008510183213019596, 0.1168, 0.016517506932289365, -0.012890169481133295, 0.052130544716716215, 0.06795546379548115, 0.026724096148765787, 0.01574594300117566, -0.012077329192546667, 0.05029623386907506, 0.01052985697928467, 0.005028494803888775, -0.01804536357571711, -0.015389842681258491, 0.023191416517529064, 0.03208057154632791, 0.001304664057403789, 0.020765704088254365, 0.024649170132360555, 0.03817274837837135, -0.018007172869147565, 0.042140579751052475, -0.010985718527315913, 0.008061988171872665, 0.002108135391924119, -0.002081474811731355, 0.008957867485346811, 0.04913110311837704, -0.054375586112274645, -0.011380683180014473, 0.04412650504788456, -0.026772578595317634, -0.0331825922665103, 0.07069403562479382, -0.015691008318980217, 0.013354036852359094, -0.05033642047900854, -0.00417740989147152, -0.08274760647755931, 0.10165434706089399, 0.025283598055105237, -0.028337500000000033, 0.02970105979745876, -0.054122150594016795, 0.02161619554373121, -0.00862960540951508, -0.01962088460259394, 0.05310034076394845, 0.04990209040150426, 0.011875031250000001, 0.03707139441060842, -0.012319025838642583, -0.09022326765912086, -0.24641547182394122, 0.1381391588272298, 0.05245198070567244, 0.008835381526104557, 0.024192905540055744, 0.031372509803921554, -0.05100875523410734, -0.017920000000000002, 0.1514285306122449, 0.03935574367492101, -0.0205638142620231, 0.029401904443701905, 0.012870012870012939, 0.04286167512690346, 0.007666359777173879, 0.013313288621453756, 0.002894656254065222, 3.711812089342195e-05, 0.0014894253444211324, 0.0012443877396168311, -0.007770042404589851, 0.005005713500117389, 0.006967057668797521, 0.006031239134506289, 0.0040221217702897235, 0.00514679863686665, 0.00597597093460295, 0.003127332921507768, 0.005365170152140743, 0.0052559926405990375, 0.001009975100123842, 0.0024000125000000466, -0.0004635805562514427, -0.00021389203203851158, -0.0008451873664130442, -0.004016713229009411, 0.002705449174254221, 0.001188549520766782, 0.005743602564102612, 0.002998423846765399, 0.004295499533158095, 0.007823534592490312, 0.0013294260004055513, 0.0013333333333334207, 0.0016722665724792905, 0.007974219354838798, 0.0159738384404967, 0.005575362092338383, 0.013362132861135845, 0.005597522012578571, 0.00969326113033357, 0.010834829199006383, 0.0028801116245767925, 0.013015874862857373, 0.0022946583344353243, 0.007781702145695802, 0.002837742029448212, 0.003993077067537119, 0.01151278366840099, 0.00951918582627025, -0.03397934062232764, 0.03425379993657218, 0.017804949269982755, 0.011033858171609835, 0.008992800654640625, 0.0035925136923151803, 0.0002892250176060989, 0.0029148403483308756, 0.007254249876124365, 0.004445223359951249, -0.00010809609609613318, -0.0019867669360590355, -0.0008587324625061298, 0.005168709176624876, 0.002021864455735233, 0.016142735768904102, 0.0028333333333333158, 0.0003338898163606366, -0.0005847953216375219, -0.0072925398155909, -0.025042301184433187, 0.002787456445993013, 0.0013913043478261057, 0.008362369337979118, 0.004525674499564784, 0.004761904761904706, 0.00899653979238755, -0.0004299226139295903, 0.006390328151986244, 0.0063464837049743315, -0.0030795551753634493, -0.0005159071367154889, -0.002239448751076566, 0.0020707506471095774, -0.008996539792387612, -0.004745166959578213, 0.0037985865724381247, -0.008377425044091643, 0.007582515611061437, 0.002313167259786477, 0.002226179875333927, 0.007678571428571473, -0.003914590747330986, -0.005739910313901333, 0.006057866184448385, 0.01681654676258994, 0.009477413640389731, 0.0014991181657848516, 0.021750663129973372, 0.00418118466898951, 0.017999999999999974, 0.009137489325362791, 0.0031382527565735003, 0.019107744107744046, -0.006865177832919722, 0.0004995836802664804, 0.0005008347245409373, 0.000419111483654688, 0.0173221757322177, 0.01788953009068421, -0.00048780487804887286, 0.015879478827361557, 0.004337349397590453, 0.006730769230769128, 0.014673046251993633, -0.008818897637795198, -0.0034126984126984523, -0.01354581673306783, 0.00977382875605813, 0.0015261044176706827, -0.006350482315112512, -0.017017828200972373, -0.01238645747316256, 0.0048333333333332625, 0.0008298755186721815, 0.01841911045353465, -0.00271903323262842, 0.002509505798840525, -0.005978636709824881, -0.008752361180512832, -0.042291262135922277, 0.018489755102040796, 0.01057916288901184, 0.006509504532368005, 0.0017166467751157388, 0.0009569776714514307, 0.021916248379890254, -0.0016828963476670732, 0.006904668497450098, 0.008056276886976908, -0.0036575874063195617, 0.0017613307930071734, -0.0006265465690467415, 0.015221616320125511, -0.0134368932038835, -0.009234372533543792, 0.006185195777541767, -0.004493081510934424, 0.012700321021647478, 0.0006357171235598061, 0.0030616302186879355, 0.0022682850086863933, -0.010155316202496378, -0.00939512134657746, 0.009714285714285785, 0.015281718686663911, 0.006928354302296947, 0.005019920318725049, 0.022456279809220984, 0.007605343510348812, 0.014573721495105515, 0.0019892885229260506, 0.008078062477868877, 0.02053239621796193, -0.008833358181140446, 0.0031012858131131502, 0.0004536483760434739, 0.0034051835035944045, 0.016993995468278005, 0.017914338919925443, -0.05351394582723282, -0.008678694292415896, 0.04169291338582677, 0.009901289457462359, 0.01690519641962346, -0.007675194945316759, -0.0007119520152885844, -0.00409770676691726, 0.022777147181233477, 0.00790352475311597, 0.005682693726937228, -0.02147577092511002, 0.008007518796992486, 0.01135599551737019, 0.004182087342709057, -0.002847120414594922, 0.04853920606382547, -0.0032044953962790143, 0.0055872902036121904, -0.024351119219060517, 0.009851336582632517, 0.005955630752571767, 0.03386842370134137, 0.039071924459687254, 0.0025546436350167992, 0.025041047551888237, 0.025082113750443745, -0.009666339333226841, 0.02271556669576048, 0.008570631006997434, 0.004844440202524779, 0.030082676691729208, 0.02049746941417963, 0.0075936530580601735, 0.06677760257232103, -0.025325714346503627, -0.02828566633400674, 0.00976286017699115, 0.04459447906864296, 0.00328148256783837, 0.034733233146535196, 0.04349527593136164, 0.002989505518055462, -0.09305466336719756, 0.00279161172436899, -0.10655140246552434, 0.11604122155890448, 0.03829613494791, 0.020884982241972418, 0.0408315575627418, -0.06764726838659989, 0.06616638825448606, 0.010329251334521282, -0.0068727005692619985, 0.007025218235986593, 0.02478422500082055, 0.03476430197428486, 0.026078659358739594, 0.02619157714582418, -0.06893443159930976, -0.11843143022303844, 0.1965702721086557, 0.09222066760961813, 0.046989906807793795, 0.07741662252605448, 0.09144396359217272, -0.05579522571803898, -0.04036789379326438, 0.09475242973535414, 0.031220735386662854, -0.012689628669231273, -0.003389166502462986, 0.0011295384615384527, 0.05924176563087456, -0.03056311129233626, -0.011782735655737675, 0.05855740064778157, -0.004635393753519692, 0.0835369361766946, -0.10324174260431071, 0.0024926222578576787, 0.020875764810374998, 0.0798220744940854, 0.031905399375278885, 0.028502704326923096, 0.04396511638469037, 0.11263736263736268, 0.01650284410112359, 0.015843621399176947, 0.1445523969158566, -0.0023858307356949683, 0.031068496837064242, 0.04026854252061213, -0.004563704697986568, 0.11751478307445098, 0.005406758550178296, -0.04707317073170731, 0.009295120061967636, 0.11401488890635125, 0.026003649635036347, -0.005136221642166559, 0.11310187623283868, -0.04228201497066551, -0.11933808146176136, 0.029411787864752213, -0.1915217608695652, 0.21913424317617855, 0.0825390180208798, -0.0025613234818068187, -0.0021132502113270675, -0.14252631578947375, 0.1780014731156396, -0.006152563829063318, -0.08543126466015809, -0.02411836122597595, 0.025266597711325885, 0.13071753949406006, -0.005365679650238485, 0.026678515534725895, 0.010131886634833054, -0.17833798652358518, 0.30433768525873106, 0.16722408026755853, 0.12547343551967413, 0.12452780013253395, 0.17242656923936975, -0.04613786561341206, -0.02784021873691207, 0.22181147959322084, 0.09201752631578947, 0.10508636424428484, -0.06872406968778588, -0.10844356146205528, -0.017810686546931354, -0.07969636234383595, 0.005383962726535129, 0.047735927187552915, 0.003981313914629573, -0.011627113087760162, -0.019260894651539684, 0.0765765531529154, 0.012368288717988979, 0.011954225238340844, 0.019388774834648896, -0.017106751155684576, 0.009116332584708807, -0.008024471723678081, 0.008756639889159847, 0.008141106178978738, -0.019239495219741626, 0.03255222880503943, 0.025607575711065828, 0.03107682854587446, -0.0007897330886543676, 0.026527704252996633, -0.04276393192334045, 0.006060957883920272, 0.00315389949175559, 0.043447979353948715, -0.006325910492278107, 0.02735869953086606, 0.0323835704518181, -0.014250754371950431, -0.09562376196654822, 0.02696047234517936, -0.127607077669333, 0.12056019089124734, 0.04055302768563933, -0.016103927272727313, 0.03548365869203634, -0.08227786801403729, 0.07101107974939129, 0.0023235815348031227, -0.0428789813973862, 0.034587952356632166, 0.012166554998880915, 0.0233055256807343, 0.021033857316858227, -0.026445509117105023, -0.09950373697270473, -0.21172602191780815, 0.20309915397436162, 0.0960916272880345, 0.004405863255993366, 0.04790221767084156, 0.02863094813088696, -0.036148950279542014, 0.021706249911581887, 0.1299447325421338, 0.04868588157171229, 0.011240335577712438, 0.05780982450399411, 0.02508760938777354, 0.04075106812534122, -0.007879199977427647, 0.000899280575539709, 0.03494623655913984, 0.0026019080659151032, 0.0, -0.014236111111111106, 0.044365572315882874, 0.01619778346121053, 0.016971713810316223, 0.03868312757201637, -0.012500000000000011, 0.011885895404120472, 0.012509773260359668, -0.0015325670498085324, 0.01837672281776418, 0.0007501875468867057, 0.010479041916167707, 0.026642066420664173, 0.02890173410404627, 0.0049261083743841316, 0.055555555555555504, -0.036447978793903296, -0.012543554006968622, 0.02669552669552677, 0.021739130434782643, -0.0047522063815343026, 0.03399048266485384, 0.0335747202106649, -0.002551020408163211, -0.061695347355003136, 0.009510869565217309, -0.1097804391217564, 0.08879761015683336, 0.031120331950207417, 0.01245006657789612, 0.028608582574772397, -0.0566878980891719, 0.07379823967501692, 0.006883604505632004, -0.006900878293600968, 0.026272264631043214, 0.034177215189873364, 0.026060606060606045, 0.03936866948370045, -0.009179575444635693, -0.08908045977011489, -0.1628468033775632, 0.1801055011303693, 0.07747866053841101, 0.016393504334760473, 0.051129607609988074, 0.06400909960747346, -0.04546883184913558, -0.03202650292509637, 0.09577470422535213, 0.005032994407727314, 0.0046535677352636945, 0.011651418439716283, 0.019569421743178852, 0.04077766714082506, -0.005906451612903389, 0.0016676672486014628, 0.042391603777221266, 0.0009532032212591493, -0.0040601403508772295, -0.010934443821480934, 0.03518816417372819, 0.01297614510969522, 0.01735053281136893, 0.03554055995469319, -0.011649100364982125, 0.014262671799516579, 0.011452792271348825, -0.00036013775258912276, 0.02044019490681255, 0.0, 0.013171760036260976, 0.02729872294372287, 0.026663321211084234, 0.00838640493319634, 0.05697337534771578, -0.03465102283534325, -0.029856117620551202, 0.011667133698187043, 0.02614970541740194, -0.0028773568777100884, 0.04846096339037773, 0.03124027811396455, 0.0026280532541079695, -0.06877374141013061, 0.015422789419885712, -0.10805354802375809, 0.10221506196615722, 0.031251295004238885, 0.006710410819676552, 0.038265965518219654, -0.06579724567969826, 0.06454926975003537, 0.007362534193139626, -0.01712526718795847, 0.021624327403651188, 0.023445677125177877, 0.030708824740246044, 0.023423136087683243, -0.0005752194652461563, -0.08542005057586259, -0.13139413503649644, 0.17190245851090266, 0.06717778283487164, 0.015623269755391698, 0.060354507514057486, 0.0642134771598902, -0.04400113137566352, -0.02911721976892945, 0.0964829102495782, 0.023130473622600182, -0.010019697728295925, 0.017344210090152058, 0.027499648371162828, 0.05088201635558646, -0.008792366992387068, -0.013464301310043668, 0.039042320441989, 0.008170479573712235, 0.010175473684210533, -0.020187956839540614, -0.018413633144475944, -0.0010826055966295816, 0.056901545650611146, 0.004159410745233844, 0.023646367374914403, 0.02279584311096223, 0.03035251404544761, 0.002523659226383048, 0.029282084382871495, -0.007598783732596734, 0.020426890866673618, 0.02127668628338887, 0.0020426028596440115, -0.005255474452554736, 0.06786549509165228, -0.05079991437552864, 0.002676978068916549, 0.017862429294432772, -0.01638855817316687, -0.02334518321513013, 0.03990174709013215, -0.01831066100677315, 0.02101093179049918, -0.08764114676173491, -0.0019398318784351017, -0.06800637958532696, 0.08574487316898897, 0.023684243421052745, 0.0, 0.018337022394467932, -0.05362669272329137, 0.048007803788118794, -0.021382320271521038, -0.01844197079675763, 0.038123165913223594, 0.03398363643852628, 0.006047777441790228, 0.033193116848654176, -0.03485967709658357, -0.0763125199213991, -0.14380384360503645, 0.1006415356599223, 0.07270033652449326, 0.021283934819222, 0.03397299548912464, 0.03933676853055904, -0.017829184167318844, -0.039290210370412165, 0.12952688417618277, 0.03749991370738869, -0.027218289209673965, 0.010485567853997246, 0.014563025104475442, 0.02297340963753403, 0.002817648493400318, 0.0042809500687870025, 0.047904643400227584, 0.0013152649903287624, -0.0012345987082748662, -0.02403161567970855, 0.04561015789883373, -0.0016685702691587008, 0.0249755201365967, 0.0264607932423198, -0.010657950452680458, 0.01385223158617924, 0.006656659963199163, -0.00014023432707746213, 0.01577803874854058, -0.00907023987542242, 0.016105633733402052, 0.017807107391998242, 0.02628596321493083, 0.005718031412009095, 0.0430566723355864, -0.03729256036604239, -0.0038756605371184655, 0.004651596951654528, 0.021577660557144652, -6.339993898130773e-05, 0.03517368040730009, 0.026713760424290627, -0.007735535095573026, -0.08270653837979786, 0.020680122644665084, -0.11525163789705126, 0.12567899628777712, 0.040332057532541654, 0.003307945304531634, 0.03391026105767248, -0.062492536364091286, 0.06702412697499995, 0.005152339453078885, -0.025907991552206282, 0.025013828665336354, 0.011284954980905896, 0.026827072726959486, 0.017648049977681258, -0.0022830970318359354, -0.09230858202143181, -0.18896037956160955, 0.18101149461320848, 0.09191824516318385, 0.01523695909390459, 0.06585837739648087, 0.02548897261472806, -0.021484538347733947, -0.0030843359542937865, 0.11984742997978155, 0.02391800511124095, -0.00602463229204033, 0.04286334831537396, 0.0060908909090908415, 0.044353173733518145, -0.014728562379932843, 0.008272317071223239, 0.046291234016503556, -0.0038825625214112722, -0.0013748167134466627, -0.025874390839263493, 0.050404775758548154, 0.002409953591210244, 0.021907728898164176, 0.02316482971897039, -0.014790314968360127, 0.009203370340337937, 0.006025667191169341, 0.006232977163209859, 0.010709143686502325, -0.011592675282742671, 0.020392235582330605, 0.01958440913158826, 0.028192743336476887, 0.004003859064083822, 0.037230224434129364, -0.037692879016678275, -0.0019821319030356842, 0.004332889771853958, 0.02524812269406746, 0.0005187945102107496, 0.030627707187559326, 0.03181504739884399, -0.01090024710537826, -0.08136710314023922, 0.021897810650972776, -0.11196025983951101, 0.12544148954526896, 0.04093909505356814, -0.0016654329817648117, 0.03302669854744055, -0.06313538434100238, 0.06257126045754048, 0.0058885942685869995, -0.02823359902006701, 0.02191782648401827, 0.011043819220588225, 0.030601424013341035, 0.016712142167669614, -0.00828326639473503, -0.09093965066600608, -0.20570377941872234, 0.19130646472878177, 0.09365315471683182, 0.012849584763778708, 0.06040232930531443, 0.029612721219554855, -0.02282016309911172, 0.0028892907074271803, 0.12401642360616531, 0.03129234193933603, -0.003501918047079248, 0.045039838738312535, 0.009421108941046214, 0.046091835161050705, -0.01252551156762555, -0.009363295529464587, 0.0437640479427479, -0.002523431867339464, 0.009084302325581396, -0.024672216715232603, 0.061292719167904845, 0.002445057717256726, 0.02664359861591695, 0.010620710608055525, -0.010406504065040659, 0.0071264037068503785, 0.004874878128046868, 0.008090614886731393, 0.015283563450290335, -0.01008824117554352, 0.025738799673937034, 0.016682144475815296, 0.026141917852822175, 0.00441702015362273, 0.046407707569643145, -0.03621634338703029, -0.008672997976293716, -0.00496924890293018, 0.022300409489412677, -0.007633209694297722, 0.02703400020079952, 0.02370998737573154, -0.0054496183801193985, -0.09532859858772408, 0.02393060125635648, -0.12175415464512392, 0.12673992251948302, 0.04222414385298411, -0.0031205957446809648, 0.03561328333484207, -0.0686461473344087, 0.06538243230487066, 0.006280427890644927, -0.029443544030254006, 0.031950672645739926, 0.007311156241538061, 0.030715839495615457, 0.012147867980043017, -0.009961804826521108, -0.09630200555475105, -0.1981371718882303, 0.18484622986822838, 0.0963779842519685, 0.007169486870360966, 0.06002837897646659, 0.027829837512171104, -0.021331946444639614, 0.004759386567953456, 0.11950013017443384, 0.03094915247476286, -0.0014137618732053638, 0.04141883766069277, 0.019717745952677466, 0.044138510713474695, -0.006932409012131705, 0.002379592659044216, 0.050370613473003104, 0.006985366769880281, -0.0036016028021177565, -0.019992755281596167, 0.10026950004395971, 0.017234157643568532, 0.0018470088113190417, 0.01412126333978837, -0.022126695496073715, 0.005905767764512881, -0.026679626054173754, 0.017382716950297507, 0.009317054200761515, -0.018372922162812305, 0.0430134192706518, 0.012247905076631012, 0.02560745972730245, -0.00112836837356933, 0.02161707807291055, -0.044396717230902986, 0.004657591735730837, 0.010421167221394462, 0.0467051868978806, -0.005929816723434304, 0.03430577487658396, 0.0249532651366786, -0.020935753012104725, -0.08683233318538365, 0.020531725443713237, -0.1307727699224755, 0.13327711604399856, 0.03794384820864246, -0.030647642379947868, 0.037772190140542665, -0.08353225561556901, 0.06052479683239231, 0.0026609050819222566, -0.05479555320268205, 0.04391157741229847, 0.017381921945690527, 0.0191928301141723, 0.01782140815061133, -0.030888788622648936, -0.1061608141475216, -0.2548658947027474, 0.1759746785634152, 0.0705858624898292, 0.012787704840390258, 0.03695082154746257, 0.04024127583289021, -0.04075266555531668, 0.03239736233628434, 0.16191135481591118, 0.04620035550211514, 0.020667007066119097, 0.07731679091864027, 0.028378093632927755, 0.038479121539623296, 0.002992828776978418, -0.0010210687890083508, 0.05454236320321072, 0.006798349200335095, 0.0016082019942103467, -0.023424878079971626, 0.10106030483764072, 0.021875907158402954, -0.003567227378190048, 0.012478235997627271, -0.016713881493311187, 0.00810504805913181, -0.02373468619574839, 0.014598540145985401, 0.007769495190094739, -0.021584720862957027, 0.05098490730011568, 0.011304108078301548, 0.030969844309431033, -0.0015805321807304486, 0.02024153321081639, -0.042293745659217986, 0.010583555526923086, 0.014539634209468022, 0.05030606867181251, 0.005036540041212298, 0.02489294595346299, 0.02812034957769231, -0.022094092749617805, -0.09271210791665697, 0.008622985485772304, -0.12909093203976454, 0.1278172623592859, 0.04073258388558863, -0.02869061032863848, 0.03293333333333324, -0.08619354838709686, 0.06288776263078869, 0.006586197675513035, -0.04581151712535295, 0.04453653972135314, 0.017713859088863294, 0.02203208802321989, 0.023519037974683646, -0.04766611273568236, -0.1029943674241422, -0.25852674859635266, 0.20595623987034037, 0.07628585006164487, 0.013742345358186395, 0.04389165617128448, 0.04695960123541215, -0.048647176243686, 0.022891535455074233, 0.17702230882245912, 0.058810495424195, 0.030788757807078397, 0.08589230275683805, 0.020342355676037958, 0.020714005492350005, 0.006669245426829335, -0.01895507896410903, 0.046930214359150964, -0.0017459792005963149, 0.025315287863378323, -0.03099923756019269, -0.025474433018506906, -0.005394563090812745, 0.05897491263369688, 0.011003472865000538, 0.020580631923232545, 0.027889774507940793, 0.015754698113207476, -0.0007393161018294597, 0.0463007412729396, 0.0070353637275326385, 0.010640159948644482, 0.020772280153658704, 0.0037542833725499746, 0.018537545165514212, 0.054300016666666666, -0.04570968032982388, 0.003534741625988948, 0.005462193277310899, 0.0007539879293399076, -0.03889072220368556, 0.029906844139870065, -0.018680377515348116, -0.006114257972782584, -0.1029166905252654, -0.0020553881189270093, -0.08486370660026771, 0.09936146338188023, 0.020233818293562918, -0.0028727664464234777, 0.016414357958815105, -0.052226909475350906, 0.043211099242594656, -0.02188942303644004, -0.025160325914895625, 0.02421133188455556, 0.043527813789039624, 0.012236474251439686, 0.03224009195131722, -0.023459849570200628, -0.07678626203964549, -0.20315679846711193, 0.15574958316792387, 0.08539726835040348, 0.031053292402660262, 0.051488791858056326, 0.05096165185980663, -0.02382718316496208, -0.030269889688529162, 0.12261318450350267, 0.03614253035606872, -0.004233144373132964, 0.027587374165541294, 0.006823490196078343, 0.03567007754294045, -0.00415674729693612, 0.0023496375254305627, 0.035373021997389544, -0.0010123553367233154, -0.0014092744999608285, -0.017640563130391317, 0.03294529943439132, 0.017571369485085177, 0.012124872866488594, 0.034148731837293535, -0.007314726506535487, 0.009253536747462123, 0.00975507640778739, 0.0032123859002751902, 0.016003191589995976, -0.0022001534051914813, 0.01816183186362867, 0.021442170395050135, 0.024918609017462727, 0.010778420475596469, 0.05219601077604674, -0.03643593885920215, -0.027382679856512517, 0.005544058174637971, 0.023575839210582053, -0.00012138154264903346, 0.04116157415109342, 0.028481091178482652, 0.005875124268198381, -0.07331809219181974, 0.015672031734116437, -0.10164845009854868, 0.09170111749886953, 0.03040720566032136, 0.012929648133456373, 0.03412166550236423, -0.06783455778994896, 0.06913608065330926, 0.0030187688673055067, -0.018071884898266, 0.023282835053849784, 0.018054824730451183, 0.029586458278701495, 0.027650810312196922, -0.005901986950907208, -0.08698070872712216, -0.13101994432265962, 0.16586738615256513, 0.06107162898340582, 0.02024167593573729, 0.053188749227282034, 0.06448699312098183, -0.04118103231986864, -0.034233446647390434, 0.0987288392694619, 0.030225981727269563, -0.013379872018615565, 0.021435635470911273, 0.03393094617840933, 0.047182664709801155, 0.009689931726773697], \"xaxis\": \"x\", \"yaxis\": \"y\"}],                        {\"barmode\": \"relative\", \"legend\": {\"tracegroupgap\": 0}, \"template\": {\"data\": {\"bar\": [{\"error_x\": {\"color\": \"#f2f5fa\"}, \"error_y\": {\"color\": \"#f2f5fa\"}, \"marker\": {\"line\": {\"color\": \"rgb(17,17,17)\", \"width\": 0.5}}, \"type\": \"bar\"}], \"barpolar\": [{\"marker\": {\"line\": {\"color\": \"rgb(17,17,17)\", \"width\": 0.5}}, \"type\": \"barpolar\"}], \"carpet\": [{\"aaxis\": {\"endlinecolor\": \"#A2B1C6\", \"gridcolor\": \"#506784\", \"linecolor\": \"#506784\", \"minorgridcolor\": \"#506784\", \"startlinecolor\": \"#A2B1C6\"}, \"baxis\": {\"endlinecolor\": \"#A2B1C6\", \"gridcolor\": \"#506784\", \"linecolor\": \"#506784\", \"minorgridcolor\": \"#506784\", \"startlinecolor\": \"#A2B1C6\"}, \"type\": \"carpet\"}], \"choropleth\": [{\"colorbar\": {\"outlinewidth\": 0, \"ticks\": \"\"}, \"type\": \"choropleth\"}], \"contour\": [{\"colorbar\": {\"outlinewidth\": 0, \"ticks\": \"\"}, \"colorscale\": [[0.0, \"#0d0887\"], [0.1111111111111111, \"#46039f\"], [0.2222222222222222, \"#7201a8\"], [0.3333333333333333, \"#9c179e\"], [0.4444444444444444, \"#bd3786\"], [0.5555555555555556, \"#d8576b\"], [0.6666666666666666, \"#ed7953\"], [0.7777777777777778, \"#fb9f3a\"], [0.8888888888888888, \"#fdca26\"], [1.0, \"#f0f921\"]], \"type\": \"contour\"}], \"contourcarpet\": [{\"colorbar\": {\"outlinewidth\": 0, \"ticks\": \"\"}, \"type\": \"contourcarpet\"}], \"heatmap\": [{\"colorbar\": {\"outlinewidth\": 0, \"ticks\": \"\"}, \"colorscale\": [[0.0, \"#0d0887\"], [0.1111111111111111, \"#46039f\"], [0.2222222222222222, \"#7201a8\"], [0.3333333333333333, \"#9c179e\"], [0.4444444444444444, \"#bd3786\"], [0.5555555555555556, \"#d8576b\"], [0.6666666666666666, \"#ed7953\"], [0.7777777777777778, \"#fb9f3a\"], [0.8888888888888888, \"#fdca26\"], [1.0, \"#f0f921\"]], \"type\": \"heatmap\"}], \"heatmapgl\": [{\"colorbar\": {\"outlinewidth\": 0, \"ticks\": \"\"}, \"colorscale\": [[0.0, \"#0d0887\"], [0.1111111111111111, \"#46039f\"], [0.2222222222222222, \"#7201a8\"], [0.3333333333333333, \"#9c179e\"], [0.4444444444444444, \"#bd3786\"], [0.5555555555555556, \"#d8576b\"], [0.6666666666666666, \"#ed7953\"], [0.7777777777777778, \"#fb9f3a\"], [0.8888888888888888, \"#fdca26\"], [1.0, \"#f0f921\"]], \"type\": \"heatmapgl\"}], \"histogram\": [{\"marker\": {\"colorbar\": {\"outlinewidth\": 0, \"ticks\": \"\"}}, \"type\": \"histogram\"}], \"histogram2d\": [{\"colorbar\": {\"outlinewidth\": 0, \"ticks\": \"\"}, \"colorscale\": [[0.0, \"#0d0887\"], [0.1111111111111111, \"#46039f\"], [0.2222222222222222, \"#7201a8\"], [0.3333333333333333, \"#9c179e\"], [0.4444444444444444, \"#bd3786\"], [0.5555555555555556, \"#d8576b\"], [0.6666666666666666, \"#ed7953\"], [0.7777777777777778, \"#fb9f3a\"], [0.8888888888888888, \"#fdca26\"], [1.0, \"#f0f921\"]], \"type\": \"histogram2d\"}], \"histogram2dcontour\": [{\"colorbar\": {\"outlinewidth\": 0, \"ticks\": \"\"}, \"colorscale\": [[0.0, \"#0d0887\"], [0.1111111111111111, \"#46039f\"], [0.2222222222222222, \"#7201a8\"], [0.3333333333333333, \"#9c179e\"], [0.4444444444444444, \"#bd3786\"], [0.5555555555555556, \"#d8576b\"], [0.6666666666666666, \"#ed7953\"], [0.7777777777777778, \"#fb9f3a\"], [0.8888888888888888, \"#fdca26\"], [1.0, \"#f0f921\"]], \"type\": \"histogram2dcontour\"}], \"mesh3d\": [{\"colorbar\": {\"outlinewidth\": 0, \"ticks\": \"\"}, \"type\": \"mesh3d\"}], \"parcoords\": [{\"line\": {\"colorbar\": {\"outlinewidth\": 0, \"ticks\": \"\"}}, \"type\": \"parcoords\"}], \"pie\": [{\"automargin\": true, \"type\": \"pie\"}], \"scatter\": [{\"marker\": {\"line\": {\"color\": \"#283442\"}}, \"type\": \"scatter\"}], \"scatter3d\": [{\"line\": {\"colorbar\": {\"outlinewidth\": 0, \"ticks\": \"\"}}, \"marker\": {\"colorbar\": {\"outlinewidth\": 0, \"ticks\": \"\"}}, \"type\": \"scatter3d\"}], \"scattercarpet\": [{\"marker\": {\"colorbar\": {\"outlinewidth\": 0, \"ticks\": \"\"}}, \"type\": \"scattercarpet\"}], \"scattergeo\": [{\"marker\": {\"colorbar\": {\"outlinewidth\": 0, \"ticks\": \"\"}}, \"type\": \"scattergeo\"}], \"scattergl\": [{\"marker\": {\"line\": {\"color\": \"#283442\"}}, \"type\": \"scattergl\"}], \"scattermapbox\": [{\"marker\": {\"colorbar\": {\"outlinewidth\": 0, \"ticks\": \"\"}}, \"type\": \"scattermapbox\"}], \"scatterpolar\": [{\"marker\": {\"colorbar\": {\"outlinewidth\": 0, \"ticks\": \"\"}}, \"type\": \"scatterpolar\"}], \"scatterpolargl\": [{\"marker\": {\"colorbar\": {\"outlinewidth\": 0, \"ticks\": \"\"}}, \"type\": \"scatterpolargl\"}], \"scatterternary\": [{\"marker\": {\"colorbar\": {\"outlinewidth\": 0, \"ticks\": \"\"}}, \"type\": \"scatterternary\"}], \"surface\": [{\"colorbar\": {\"outlinewidth\": 0, \"ticks\": \"\"}, \"colorscale\": [[0.0, \"#0d0887\"], [0.1111111111111111, \"#46039f\"], [0.2222222222222222, \"#7201a8\"], [0.3333333333333333, \"#9c179e\"], [0.4444444444444444, \"#bd3786\"], [0.5555555555555556, \"#d8576b\"], [0.6666666666666666, \"#ed7953\"], [0.7777777777777778, \"#fb9f3a\"], [0.8888888888888888, \"#fdca26\"], [1.0, \"#f0f921\"]], \"type\": \"surface\"}], \"table\": [{\"cells\": {\"fill\": {\"color\": \"#506784\"}, \"line\": {\"color\": \"rgb(17,17,17)\"}}, \"header\": {\"fill\": {\"color\": \"#2a3f5f\"}, \"line\": {\"color\": \"rgb(17,17,17)\"}}, \"type\": \"table\"}]}, \"layout\": {\"annotationdefaults\": {\"arrowcolor\": \"#f2f5fa\", \"arrowhead\": 0, \"arrowwidth\": 1}, \"autotypenumbers\": \"strict\", \"coloraxis\": {\"colorbar\": {\"outlinewidth\": 0, \"ticks\": \"\"}}, \"colorscale\": {\"diverging\": [[0, \"#8e0152\"], [0.1, \"#c51b7d\"], [0.2, \"#de77ae\"], [0.3, \"#f1b6da\"], [0.4, \"#fde0ef\"], [0.5, \"#f7f7f7\"], [0.6, \"#e6f5d0\"], [0.7, \"#b8e186\"], [0.8, \"#7fbc41\"], [0.9, \"#4d9221\"], [1, \"#276419\"]], \"sequential\": [[0.0, \"#0d0887\"], [0.1111111111111111, \"#46039f\"], [0.2222222222222222, \"#7201a8\"], [0.3333333333333333, \"#9c179e\"], [0.4444444444444444, \"#bd3786\"], [0.5555555555555556, \"#d8576b\"], [0.6666666666666666, \"#ed7953\"], [0.7777777777777778, \"#fb9f3a\"], [0.8888888888888888, \"#fdca26\"], [1.0, \"#f0f921\"]], \"sequentialminus\": [[0.0, \"#0d0887\"], [0.1111111111111111, \"#46039f\"], [0.2222222222222222, \"#7201a8\"], [0.3333333333333333, \"#9c179e\"], [0.4444444444444444, \"#bd3786\"], [0.5555555555555556, \"#d8576b\"], [0.6666666666666666, \"#ed7953\"], [0.7777777777777778, \"#fb9f3a\"], [0.8888888888888888, \"#fdca26\"], [1.0, \"#f0f921\"]]}, \"colorway\": [\"#636efa\", \"#EF553B\", \"#00cc96\", \"#ab63fa\", \"#FFA15A\", \"#19d3f3\", \"#FF6692\", \"#B6E880\", \"#FF97FF\", \"#FECB52\"], \"font\": {\"color\": \"#f2f5fa\"}, \"geo\": {\"bgcolor\": \"rgb(17,17,17)\", \"lakecolor\": \"rgb(17,17,17)\", \"landcolor\": \"rgb(17,17,17)\", \"showlakes\": true, \"showland\": true, \"subunitcolor\": \"#506784\"}, \"hoverlabel\": {\"align\": \"left\"}, \"hovermode\": \"closest\", \"mapbox\": {\"style\": \"dark\"}, \"paper_bgcolor\": \"rgb(17,17,17)\", \"plot_bgcolor\": \"rgb(17,17,17)\", \"polar\": {\"angularaxis\": {\"gridcolor\": \"#506784\", \"linecolor\": \"#506784\", \"ticks\": \"\"}, \"bgcolor\": \"rgb(17,17,17)\", \"radialaxis\": {\"gridcolor\": \"#506784\", \"linecolor\": \"#506784\", \"ticks\": \"\"}}, \"scene\": {\"xaxis\": {\"backgroundcolor\": \"rgb(17,17,17)\", \"gridcolor\": \"#506784\", \"gridwidth\": 2, \"linecolor\": \"#506784\", \"showbackground\": true, \"ticks\": \"\", \"zerolinecolor\": \"#C8D4E3\"}, \"yaxis\": {\"backgroundcolor\": \"rgb(17,17,17)\", \"gridcolor\": \"#506784\", \"gridwidth\": 2, \"linecolor\": \"#506784\", \"showbackground\": true, \"ticks\": \"\", \"zerolinecolor\": \"#C8D4E3\"}, \"zaxis\": {\"backgroundcolor\": \"rgb(17,17,17)\", \"gridcolor\": \"#506784\", \"gridwidth\": 2, \"linecolor\": \"#506784\", \"showbackground\": true, \"ticks\": \"\", \"zerolinecolor\": \"#C8D4E3\"}}, \"shapedefaults\": {\"line\": {\"color\": \"#f2f5fa\"}}, \"sliderdefaults\": {\"bgcolor\": \"#C8D4E3\", \"bordercolor\": \"rgb(17,17,17)\", \"borderwidth\": 1, \"tickwidth\": 0}, \"ternary\": {\"aaxis\": {\"gridcolor\": \"#506784\", \"linecolor\": \"#506784\", \"ticks\": \"\"}, \"baxis\": {\"gridcolor\": \"#506784\", \"linecolor\": \"#506784\", \"ticks\": \"\"}, \"bgcolor\": \"rgb(17,17,17)\", \"caxis\": {\"gridcolor\": \"#506784\", \"linecolor\": \"#506784\", \"ticks\": \"\"}}, \"title\": {\"x\": 0.05}, \"updatemenudefaults\": {\"bgcolor\": \"#506784\", \"borderwidth\": 0}, \"xaxis\": {\"automargin\": true, \"gridcolor\": \"#283442\", \"linecolor\": \"#506784\", \"ticks\": \"\", \"title\": {\"standoff\": 15}, \"zerolinecolor\": \"#283442\", \"zerolinewidth\": 2}, \"yaxis\": {\"automargin\": true, \"gridcolor\": \"#283442\", \"linecolor\": \"#506784\", \"ticks\": \"\", \"title\": {\"standoff\": 15}, \"zerolinecolor\": \"#283442\", \"zerolinewidth\": 2}}}, \"title\": {\"text\": \"Monthly Returns Spread\"}, \"xaxis\": {\"anchor\": \"y\", \"domain\": [0.0, 1.0], \"title\": {\"text\": \"Monthly Returns\"}}, \"yaxis\": {\"anchor\": \"x\", \"domain\": [0.0, 1.0], \"title\": {\"text\": \"count\"}}},                        {\"responsive\": true}                    ).then(function(){\n",
              "                            \n",
              "var gd = document.getElementById('59fc1a2d-944f-4fe2-a310-4ab3afd8df0c');\n",
              "var x = new MutationObserver(function (mutations, observer) {{\n",
              "        var display = window.getComputedStyle(gd).display;\n",
              "        if (!display || display === 'none') {{\n",
              "            console.log([gd, 'removed!']);\n",
              "            Plotly.purge(gd);\n",
              "            observer.disconnect();\n",
              "        }}\n",
              "}});\n",
              "\n",
              "// Listen for the removal of the full notebook cells\n",
              "var notebookContainer = gd.closest('#notebook-container');\n",
              "if (notebookContainer) {{\n",
              "    x.observe(notebookContainer, {childList: true});\n",
              "}}\n",
              "\n",
              "// Listen for the clearing of the current output cell\n",
              "var outputEl = gd.closest('.output');\n",
              "if (outputEl) {{\n",
              "    x.observe(outputEl, {childList: true});\n",
              "}}\n",
              "\n",
              "                        })                };                            </script>        </div>\n",
              "</body>\n",
              "</html>"
            ]
          },
          "metadata": {
            "tags": []
          }
        }
      ]
    },
    {
      "cell_type": "markdown",
      "metadata": {
        "id": "Ni4WSpbTy0_U"
      },
      "source": [
        "#**Step 5: Analyze Data by Fund Type**"
      ]
    },
    {
      "cell_type": "markdown",
      "metadata": {
        "id": "H9eoLcEbr8SK"
      },
      "source": [
        "Next, using the monthly returns aggregated in the new general dataframe, we want to group the data by \"Fund Type\" and aggregate \"Avg Monthly Returns\" and \"Avg Monthly Dividend.\" We can then use the information found to compare investments in the different fund types."
      ]
    },
    {
      "cell_type": "code",
      "metadata": {
        "colab": {
          "base_uri": "https://localhost:8080/",
          "height": 0
        },
        "id": "QvfdE-jNzzky",
        "outputId": "0b082afa-bd13-43a5-c33c-e0ad15dc9261"
      },
      "source": [
        "df_type = df2.groupby(by='Type',as_index=False).agg({'Monthly Returns':'mean','Dividend':'mean'})\n",
        "df_type.rename(columns={'Monthly Returns':'Avg Monthly Returns','Dividend':'Avg Monthly Dividend'},inplace=True)\n",
        "df_type.sort_values(by='Avg Monthly Returns',ascending=False,inplace=True)\n",
        "df_type"
      ],
      "execution_count": 14,
      "outputs": [
        {
          "output_type": "execute_result",
          "data": {
            "text/html": [
              "<div>\n",
              "<style scoped>\n",
              "    .dataframe tbody tr th:only-of-type {\n",
              "        vertical-align: middle;\n",
              "    }\n",
              "\n",
              "    .dataframe tbody tr th {\n",
              "        vertical-align: top;\n",
              "    }\n",
              "\n",
              "    .dataframe thead th {\n",
              "        text-align: right;\n",
              "    }\n",
              "</style>\n",
              "<table border=\"1\" class=\"dataframe\">\n",
              "  <thead>\n",
              "    <tr style=\"text-align: right;\">\n",
              "      <th></th>\n",
              "      <th>Type</th>\n",
              "      <th>Avg Monthly Returns</th>\n",
              "      <th>Avg Monthly Dividend</th>\n",
              "    </tr>\n",
              "  </thead>\n",
              "  <tbody>\n",
              "    <tr>\n",
              "      <th>1</th>\n",
              "      <td>Growth</td>\n",
              "      <td>0.018530</td>\n",
              "      <td>0.147133</td>\n",
              "    </tr>\n",
              "    <tr>\n",
              "      <th>4</th>\n",
              "      <td>Market</td>\n",
              "      <td>0.011657</td>\n",
              "      <td>0.000000</td>\n",
              "    </tr>\n",
              "    <tr>\n",
              "      <th>5</th>\n",
              "      <td>Mid Cap</td>\n",
              "      <td>0.010887</td>\n",
              "      <td>0.103500</td>\n",
              "    </tr>\n",
              "    <tr>\n",
              "      <th>2</th>\n",
              "      <td>Income</td>\n",
              "      <td>0.010518</td>\n",
              "      <td>0.141272</td>\n",
              "    </tr>\n",
              "    <tr>\n",
              "      <th>3</th>\n",
              "      <td>Large Cap</td>\n",
              "      <td>0.010495</td>\n",
              "      <td>0.165056</td>\n",
              "    </tr>\n",
              "    <tr>\n",
              "      <th>6</th>\n",
              "      <td>Small Cap</td>\n",
              "      <td>0.009619</td>\n",
              "      <td>0.165989</td>\n",
              "    </tr>\n",
              "    <tr>\n",
              "      <th>0</th>\n",
              "      <td>Bonds</td>\n",
              "      <td>0.003471</td>\n",
              "      <td>0.081572</td>\n",
              "    </tr>\n",
              "  </tbody>\n",
              "</table>\n",
              "</div>"
            ],
            "text/plain": [
              "        Type  Avg Monthly Returns  Avg Monthly Dividend\n",
              "1     Growth             0.018530              0.147133\n",
              "4     Market             0.011657              0.000000\n",
              "5    Mid Cap             0.010887              0.103500\n",
              "2     Income             0.010518              0.141272\n",
              "3  Large Cap             0.010495              0.165056\n",
              "6  Small Cap             0.009619              0.165989\n",
              "0      Bonds             0.003471              0.081572"
            ]
          },
          "metadata": {
            "tags": []
          },
          "execution_count": 14
        }
      ]
    },
    {
      "cell_type": "markdown",
      "metadata": {
        "id": "g4AXKJitsg_z"
      },
      "source": [
        "We can update the previous dataframe and find the \"Avg Yearly Returns\" and \"Avg Yearly Dividend\" by multiplying the \"Avg Monthly Returns\" and \"Avg Monthly Dividend\" columns by 12. This will give us a better idea of what returns to expect from these different fund types each year. A yearly view of returns will provide more insight in regards to retirement planning."
      ]
    },
    {
      "cell_type": "code",
      "metadata": {
        "colab": {
          "base_uri": "https://localhost:8080/",
          "height": 0
        },
        "id": "ifoAVBr32nxk",
        "outputId": "714518cf-be3b-41ca-f293-6350cc138f80"
      },
      "source": [
        "df_type['Avg Yearly Returns'] = df_type['Avg Monthly Returns']*12\n",
        "df_type['Avg Yearly Dividend'] = df_type['Avg Monthly Dividend']*12\n",
        "df_type_yearly = df_type.drop(columns=['Avg Monthly Returns','Avg Monthly Dividend'])\n",
        "df_type_yearly"
      ],
      "execution_count": 15,
      "outputs": [
        {
          "output_type": "execute_result",
          "data": {
            "text/html": [
              "<div>\n",
              "<style scoped>\n",
              "    .dataframe tbody tr th:only-of-type {\n",
              "        vertical-align: middle;\n",
              "    }\n",
              "\n",
              "    .dataframe tbody tr th {\n",
              "        vertical-align: top;\n",
              "    }\n",
              "\n",
              "    .dataframe thead th {\n",
              "        text-align: right;\n",
              "    }\n",
              "</style>\n",
              "<table border=\"1\" class=\"dataframe\">\n",
              "  <thead>\n",
              "    <tr style=\"text-align: right;\">\n",
              "      <th></th>\n",
              "      <th>Type</th>\n",
              "      <th>Avg Yearly Returns</th>\n",
              "      <th>Avg Yearly Dividend</th>\n",
              "    </tr>\n",
              "  </thead>\n",
              "  <tbody>\n",
              "    <tr>\n",
              "      <th>1</th>\n",
              "      <td>Growth</td>\n",
              "      <td>0.222363</td>\n",
              "      <td>1.765600</td>\n",
              "    </tr>\n",
              "    <tr>\n",
              "      <th>4</th>\n",
              "      <td>Market</td>\n",
              "      <td>0.139879</td>\n",
              "      <td>0.000000</td>\n",
              "    </tr>\n",
              "    <tr>\n",
              "      <th>5</th>\n",
              "      <td>Mid Cap</td>\n",
              "      <td>0.130643</td>\n",
              "      <td>1.242000</td>\n",
              "    </tr>\n",
              "    <tr>\n",
              "      <th>2</th>\n",
              "      <td>Income</td>\n",
              "      <td>0.126215</td>\n",
              "      <td>1.695267</td>\n",
              "    </tr>\n",
              "    <tr>\n",
              "      <th>3</th>\n",
              "      <td>Large Cap</td>\n",
              "      <td>0.125934</td>\n",
              "      <td>1.980667</td>\n",
              "    </tr>\n",
              "    <tr>\n",
              "      <th>6</th>\n",
              "      <td>Small Cap</td>\n",
              "      <td>0.115429</td>\n",
              "      <td>1.991867</td>\n",
              "    </tr>\n",
              "    <tr>\n",
              "      <th>0</th>\n",
              "      <td>Bonds</td>\n",
              "      <td>0.041651</td>\n",
              "      <td>0.978867</td>\n",
              "    </tr>\n",
              "  </tbody>\n",
              "</table>\n",
              "</div>"
            ],
            "text/plain": [
              "        Type  Avg Yearly Returns  Avg Yearly Dividend\n",
              "1     Growth            0.222363             1.765600\n",
              "4     Market            0.139879             0.000000\n",
              "5    Mid Cap            0.130643             1.242000\n",
              "2     Income            0.126215             1.695267\n",
              "3  Large Cap            0.125934             1.980667\n",
              "6  Small Cap            0.115429             1.991867\n",
              "0      Bonds            0.041651             0.978867"
            ]
          },
          "metadata": {
            "tags": []
          },
          "execution_count": 15
        }
      ]
    },
    {
      "cell_type": "markdown",
      "metadata": {
        "id": "YtGFO_VFtWXg"
      },
      "source": [
        "We will visualize the yearly returns and yearly dividends for each fund type in our graphs below. This will help us develop an understanding of the different fund types when compared to one another."
      ]
    },
    {
      "cell_type": "code",
      "metadata": {
        "colab": {
          "base_uri": "https://localhost:8080/",
          "height": 0
        },
        "id": "TLufhqkHCFv3",
        "outputId": "5c48b5f7-fe52-406a-9d50-772e8e0654b9"
      },
      "source": [
        "type_fig = px.bar(data_frame=df_type_yearly,x='Type',y='Avg Yearly Returns',title='Returns by Fund Type',template='plotly_dark')\n",
        "type_fig.show()"
      ],
      "execution_count": 16,
      "outputs": [
        {
          "output_type": "display_data",
          "data": {
            "text/html": [
              "<html>\n",
              "<head><meta charset=\"utf-8\" /></head>\n",
              "<body>\n",
              "    <div>            <script src=\"https://cdnjs.cloudflare.com/ajax/libs/mathjax/2.7.5/MathJax.js?config=TeX-AMS-MML_SVG\"></script><script type=\"text/javascript\">if (window.MathJax) {MathJax.Hub.Config({SVG: {font: \"STIX-Web\"}});}</script>                <script type=\"text/javascript\">window.PlotlyConfig = {MathJaxConfig: 'local'};</script>\n",
              "        <script src=\"https://cdn.plot.ly/plotly-latest.min.js\"></script>                <div id=\"9ec72b19-d789-4467-82e3-29d9a69cc98b\" class=\"plotly-graph-div\" style=\"height:525px; width:100%;\"></div>            <script type=\"text/javascript\">                                    window.PLOTLYENV=window.PLOTLYENV || {};                                    if (document.getElementById(\"9ec72b19-d789-4467-82e3-29d9a69cc98b\")) {                    Plotly.newPlot(                        \"9ec72b19-d789-4467-82e3-29d9a69cc98b\",                        [{\"alignmentgroup\": \"True\", \"hovertemplate\": \"Type=%{x}<br>Avg Yearly Returns=%{y}<extra></extra>\", \"legendgroup\": \"\", \"marker\": {\"color\": \"#636efa\"}, \"name\": \"\", \"offsetgroup\": \"\", \"orientation\": \"v\", \"showlegend\": false, \"textposition\": \"auto\", \"type\": \"bar\", \"x\": [\"Growth\", \"Market\", \"Mid Cap\", \"Income\", \"Large Cap\", \"Small Cap\", \"Bonds\"], \"xaxis\": \"x\", \"y\": [0.22236321548334792, 0.13987933662552132, 0.13064317894245583, 0.12621465809833968, 0.125934232497511, 0.11542926231195395, 0.04165137106127111], \"yaxis\": \"y\"}],                        {\"barmode\": \"relative\", \"legend\": {\"tracegroupgap\": 0}, \"template\": {\"data\": {\"bar\": [{\"error_x\": {\"color\": \"#f2f5fa\"}, \"error_y\": {\"color\": \"#f2f5fa\"}, \"marker\": {\"line\": {\"color\": \"rgb(17,17,17)\", \"width\": 0.5}}, \"type\": \"bar\"}], \"barpolar\": [{\"marker\": {\"line\": {\"color\": \"rgb(17,17,17)\", \"width\": 0.5}}, \"type\": \"barpolar\"}], \"carpet\": [{\"aaxis\": {\"endlinecolor\": \"#A2B1C6\", \"gridcolor\": \"#506784\", \"linecolor\": \"#506784\", \"minorgridcolor\": \"#506784\", \"startlinecolor\": \"#A2B1C6\"}, \"baxis\": {\"endlinecolor\": \"#A2B1C6\", \"gridcolor\": \"#506784\", \"linecolor\": \"#506784\", \"minorgridcolor\": \"#506784\", \"startlinecolor\": \"#A2B1C6\"}, \"type\": \"carpet\"}], \"choropleth\": [{\"colorbar\": {\"outlinewidth\": 0, \"ticks\": \"\"}, \"type\": \"choropleth\"}], \"contour\": [{\"colorbar\": {\"outlinewidth\": 0, \"ticks\": \"\"}, \"colorscale\": [[0.0, \"#0d0887\"], [0.1111111111111111, \"#46039f\"], [0.2222222222222222, \"#7201a8\"], [0.3333333333333333, \"#9c179e\"], [0.4444444444444444, \"#bd3786\"], [0.5555555555555556, \"#d8576b\"], [0.6666666666666666, \"#ed7953\"], [0.7777777777777778, \"#fb9f3a\"], [0.8888888888888888, \"#fdca26\"], [1.0, \"#f0f921\"]], \"type\": \"contour\"}], \"contourcarpet\": [{\"colorbar\": {\"outlinewidth\": 0, \"ticks\": \"\"}, \"type\": \"contourcarpet\"}], \"heatmap\": [{\"colorbar\": {\"outlinewidth\": 0, \"ticks\": \"\"}, \"colorscale\": [[0.0, \"#0d0887\"], [0.1111111111111111, \"#46039f\"], [0.2222222222222222, \"#7201a8\"], [0.3333333333333333, \"#9c179e\"], [0.4444444444444444, \"#bd3786\"], [0.5555555555555556, \"#d8576b\"], [0.6666666666666666, \"#ed7953\"], [0.7777777777777778, \"#fb9f3a\"], [0.8888888888888888, \"#fdca26\"], [1.0, \"#f0f921\"]], \"type\": \"heatmap\"}], \"heatmapgl\": [{\"colorbar\": {\"outlinewidth\": 0, \"ticks\": \"\"}, \"colorscale\": [[0.0, \"#0d0887\"], [0.1111111111111111, \"#46039f\"], [0.2222222222222222, \"#7201a8\"], [0.3333333333333333, \"#9c179e\"], [0.4444444444444444, \"#bd3786\"], [0.5555555555555556, \"#d8576b\"], [0.6666666666666666, \"#ed7953\"], [0.7777777777777778, \"#fb9f3a\"], [0.8888888888888888, \"#fdca26\"], [1.0, \"#f0f921\"]], \"type\": \"heatmapgl\"}], \"histogram\": [{\"marker\": {\"colorbar\": {\"outlinewidth\": 0, \"ticks\": \"\"}}, \"type\": \"histogram\"}], \"histogram2d\": [{\"colorbar\": {\"outlinewidth\": 0, \"ticks\": \"\"}, \"colorscale\": [[0.0, \"#0d0887\"], [0.1111111111111111, \"#46039f\"], [0.2222222222222222, \"#7201a8\"], [0.3333333333333333, \"#9c179e\"], [0.4444444444444444, \"#bd3786\"], [0.5555555555555556, \"#d8576b\"], [0.6666666666666666, \"#ed7953\"], [0.7777777777777778, \"#fb9f3a\"], [0.8888888888888888, \"#fdca26\"], [1.0, \"#f0f921\"]], \"type\": \"histogram2d\"}], \"histogram2dcontour\": [{\"colorbar\": {\"outlinewidth\": 0, \"ticks\": \"\"}, \"colorscale\": [[0.0, \"#0d0887\"], [0.1111111111111111, \"#46039f\"], [0.2222222222222222, \"#7201a8\"], [0.3333333333333333, \"#9c179e\"], [0.4444444444444444, \"#bd3786\"], [0.5555555555555556, \"#d8576b\"], [0.6666666666666666, \"#ed7953\"], [0.7777777777777778, \"#fb9f3a\"], [0.8888888888888888, \"#fdca26\"], [1.0, \"#f0f921\"]], \"type\": \"histogram2dcontour\"}], \"mesh3d\": [{\"colorbar\": {\"outlinewidth\": 0, \"ticks\": \"\"}, \"type\": \"mesh3d\"}], \"parcoords\": [{\"line\": {\"colorbar\": {\"outlinewidth\": 0, \"ticks\": \"\"}}, \"type\": \"parcoords\"}], \"pie\": [{\"automargin\": true, \"type\": \"pie\"}], \"scatter\": [{\"marker\": {\"line\": {\"color\": \"#283442\"}}, \"type\": \"scatter\"}], \"scatter3d\": [{\"line\": {\"colorbar\": {\"outlinewidth\": 0, \"ticks\": \"\"}}, \"marker\": {\"colorbar\": {\"outlinewidth\": 0, \"ticks\": \"\"}}, \"type\": \"scatter3d\"}], \"scattercarpet\": [{\"marker\": {\"colorbar\": {\"outlinewidth\": 0, \"ticks\": \"\"}}, \"type\": \"scattercarpet\"}], \"scattergeo\": [{\"marker\": {\"colorbar\": {\"outlinewidth\": 0, \"ticks\": \"\"}}, \"type\": \"scattergeo\"}], \"scattergl\": [{\"marker\": {\"line\": {\"color\": \"#283442\"}}, \"type\": \"scattergl\"}], \"scattermapbox\": [{\"marker\": {\"colorbar\": {\"outlinewidth\": 0, \"ticks\": \"\"}}, \"type\": \"scattermapbox\"}], \"scatterpolar\": [{\"marker\": {\"colorbar\": {\"outlinewidth\": 0, \"ticks\": \"\"}}, \"type\": \"scatterpolar\"}], \"scatterpolargl\": [{\"marker\": {\"colorbar\": {\"outlinewidth\": 0, \"ticks\": \"\"}}, \"type\": \"scatterpolargl\"}], \"scatterternary\": [{\"marker\": {\"colorbar\": {\"outlinewidth\": 0, \"ticks\": \"\"}}, \"type\": \"scatterternary\"}], \"surface\": [{\"colorbar\": {\"outlinewidth\": 0, \"ticks\": \"\"}, \"colorscale\": [[0.0, \"#0d0887\"], [0.1111111111111111, \"#46039f\"], [0.2222222222222222, \"#7201a8\"], [0.3333333333333333, \"#9c179e\"], [0.4444444444444444, \"#bd3786\"], [0.5555555555555556, \"#d8576b\"], [0.6666666666666666, \"#ed7953\"], [0.7777777777777778, \"#fb9f3a\"], [0.8888888888888888, \"#fdca26\"], [1.0, \"#f0f921\"]], \"type\": \"surface\"}], \"table\": [{\"cells\": {\"fill\": {\"color\": \"#506784\"}, \"line\": {\"color\": \"rgb(17,17,17)\"}}, \"header\": {\"fill\": {\"color\": \"#2a3f5f\"}, \"line\": {\"color\": \"rgb(17,17,17)\"}}, \"type\": \"table\"}]}, \"layout\": {\"annotationdefaults\": {\"arrowcolor\": \"#f2f5fa\", \"arrowhead\": 0, \"arrowwidth\": 1}, \"autotypenumbers\": \"strict\", \"coloraxis\": {\"colorbar\": {\"outlinewidth\": 0, \"ticks\": \"\"}}, \"colorscale\": {\"diverging\": [[0, \"#8e0152\"], [0.1, \"#c51b7d\"], [0.2, \"#de77ae\"], [0.3, \"#f1b6da\"], [0.4, \"#fde0ef\"], [0.5, \"#f7f7f7\"], [0.6, \"#e6f5d0\"], [0.7, \"#b8e186\"], [0.8, \"#7fbc41\"], [0.9, \"#4d9221\"], [1, \"#276419\"]], \"sequential\": [[0.0, \"#0d0887\"], [0.1111111111111111, \"#46039f\"], [0.2222222222222222, \"#7201a8\"], [0.3333333333333333, \"#9c179e\"], [0.4444444444444444, \"#bd3786\"], [0.5555555555555556, \"#d8576b\"], [0.6666666666666666, \"#ed7953\"], [0.7777777777777778, \"#fb9f3a\"], [0.8888888888888888, \"#fdca26\"], [1.0, \"#f0f921\"]], \"sequentialminus\": [[0.0, \"#0d0887\"], [0.1111111111111111, \"#46039f\"], [0.2222222222222222, \"#7201a8\"], [0.3333333333333333, \"#9c179e\"], [0.4444444444444444, \"#bd3786\"], [0.5555555555555556, \"#d8576b\"], [0.6666666666666666, \"#ed7953\"], [0.7777777777777778, \"#fb9f3a\"], [0.8888888888888888, \"#fdca26\"], [1.0, \"#f0f921\"]]}, \"colorway\": [\"#636efa\", \"#EF553B\", \"#00cc96\", \"#ab63fa\", \"#FFA15A\", \"#19d3f3\", \"#FF6692\", \"#B6E880\", \"#FF97FF\", \"#FECB52\"], \"font\": {\"color\": \"#f2f5fa\"}, \"geo\": {\"bgcolor\": \"rgb(17,17,17)\", \"lakecolor\": \"rgb(17,17,17)\", \"landcolor\": \"rgb(17,17,17)\", \"showlakes\": true, \"showland\": true, \"subunitcolor\": \"#506784\"}, \"hoverlabel\": {\"align\": \"left\"}, \"hovermode\": \"closest\", \"mapbox\": {\"style\": \"dark\"}, \"paper_bgcolor\": \"rgb(17,17,17)\", \"plot_bgcolor\": \"rgb(17,17,17)\", \"polar\": {\"angularaxis\": {\"gridcolor\": \"#506784\", \"linecolor\": \"#506784\", \"ticks\": \"\"}, \"bgcolor\": \"rgb(17,17,17)\", \"radialaxis\": {\"gridcolor\": \"#506784\", \"linecolor\": \"#506784\", \"ticks\": \"\"}}, \"scene\": {\"xaxis\": {\"backgroundcolor\": \"rgb(17,17,17)\", \"gridcolor\": \"#506784\", \"gridwidth\": 2, \"linecolor\": \"#506784\", \"showbackground\": true, \"ticks\": \"\", \"zerolinecolor\": \"#C8D4E3\"}, \"yaxis\": {\"backgroundcolor\": \"rgb(17,17,17)\", \"gridcolor\": \"#506784\", \"gridwidth\": 2, \"linecolor\": \"#506784\", \"showbackground\": true, \"ticks\": \"\", \"zerolinecolor\": \"#C8D4E3\"}, \"zaxis\": {\"backgroundcolor\": \"rgb(17,17,17)\", \"gridcolor\": \"#506784\", \"gridwidth\": 2, \"linecolor\": \"#506784\", \"showbackground\": true, \"ticks\": \"\", \"zerolinecolor\": \"#C8D4E3\"}}, \"shapedefaults\": {\"line\": {\"color\": \"#f2f5fa\"}}, \"sliderdefaults\": {\"bgcolor\": \"#C8D4E3\", \"bordercolor\": \"rgb(17,17,17)\", \"borderwidth\": 1, \"tickwidth\": 0}, \"ternary\": {\"aaxis\": {\"gridcolor\": \"#506784\", \"linecolor\": \"#506784\", \"ticks\": \"\"}, \"baxis\": {\"gridcolor\": \"#506784\", \"linecolor\": \"#506784\", \"ticks\": \"\"}, \"bgcolor\": \"rgb(17,17,17)\", \"caxis\": {\"gridcolor\": \"#506784\", \"linecolor\": \"#506784\", \"ticks\": \"\"}}, \"title\": {\"x\": 0.05}, \"updatemenudefaults\": {\"bgcolor\": \"#506784\", \"borderwidth\": 0}, \"xaxis\": {\"automargin\": true, \"gridcolor\": \"#283442\", \"linecolor\": \"#506784\", \"ticks\": \"\", \"title\": {\"standoff\": 15}, \"zerolinecolor\": \"#283442\", \"zerolinewidth\": 2}, \"yaxis\": {\"automargin\": true, \"gridcolor\": \"#283442\", \"linecolor\": \"#506784\", \"ticks\": \"\", \"title\": {\"standoff\": 15}, \"zerolinecolor\": \"#283442\", \"zerolinewidth\": 2}}}, \"title\": {\"text\": \"Returns by Fund Type\"}, \"xaxis\": {\"anchor\": \"y\", \"domain\": [0.0, 1.0], \"title\": {\"text\": \"Type\"}}, \"yaxis\": {\"anchor\": \"x\", \"domain\": [0.0, 1.0], \"title\": {\"text\": \"Avg Yearly Returns\"}}},                        {\"responsive\": true}                    ).then(function(){\n",
              "                            \n",
              "var gd = document.getElementById('9ec72b19-d789-4467-82e3-29d9a69cc98b');\n",
              "var x = new MutationObserver(function (mutations, observer) {{\n",
              "        var display = window.getComputedStyle(gd).display;\n",
              "        if (!display || display === 'none') {{\n",
              "            console.log([gd, 'removed!']);\n",
              "            Plotly.purge(gd);\n",
              "            observer.disconnect();\n",
              "        }}\n",
              "}});\n",
              "\n",
              "// Listen for the removal of the full notebook cells\n",
              "var notebookContainer = gd.closest('#notebook-container');\n",
              "if (notebookContainer) {{\n",
              "    x.observe(notebookContainer, {childList: true});\n",
              "}}\n",
              "\n",
              "// Listen for the clearing of the current output cell\n",
              "var outputEl = gd.closest('.output');\n",
              "if (outputEl) {{\n",
              "    x.observe(outputEl, {childList: true});\n",
              "}}\n",
              "\n",
              "                        })                };                            </script>        </div>\n",
              "</body>\n",
              "</html>"
            ]
          },
          "metadata": {
            "tags": []
          }
        }
      ]
    },
    {
      "cell_type": "code",
      "metadata": {
        "colab": {
          "base_uri": "https://localhost:8080/",
          "height": 0
        },
        "id": "ejcZgoBnCqa_",
        "outputId": "db974db6-1845-493b-9ac5-0cf6cc58371d"
      },
      "source": [
        "type_fig2 = px.bar(data_frame=df_type_yearly,x='Type',y='Avg Yearly Dividend',title='Dividend by Fund Type',template='plotly_dark')\n",
        "type_fig2.show()"
      ],
      "execution_count": 17,
      "outputs": [
        {
          "output_type": "display_data",
          "data": {
            "text/html": [
              "<html>\n",
              "<head><meta charset=\"utf-8\" /></head>\n",
              "<body>\n",
              "    <div>            <script src=\"https://cdnjs.cloudflare.com/ajax/libs/mathjax/2.7.5/MathJax.js?config=TeX-AMS-MML_SVG\"></script><script type=\"text/javascript\">if (window.MathJax) {MathJax.Hub.Config({SVG: {font: \"STIX-Web\"}});}</script>                <script type=\"text/javascript\">window.PlotlyConfig = {MathJaxConfig: 'local'};</script>\n",
              "        <script src=\"https://cdn.plot.ly/plotly-latest.min.js\"></script>                <div id=\"f0ac01f1-ac04-4560-8112-bf5de3ee3103\" class=\"plotly-graph-div\" style=\"height:525px; width:100%;\"></div>            <script type=\"text/javascript\">                                    window.PLOTLYENV=window.PLOTLYENV || {};                                    if (document.getElementById(\"f0ac01f1-ac04-4560-8112-bf5de3ee3103\")) {                    Plotly.newPlot(                        \"f0ac01f1-ac04-4560-8112-bf5de3ee3103\",                        [{\"alignmentgroup\": \"True\", \"hovertemplate\": \"Type=%{x}<br>Avg Yearly Dividend=%{y}<extra></extra>\", \"legendgroup\": \"\", \"marker\": {\"color\": \"#636efa\"}, \"name\": \"\", \"offsetgroup\": \"\", \"orientation\": \"v\", \"showlegend\": false, \"textposition\": \"auto\", \"type\": \"bar\", \"x\": [\"Growth\", \"Market\", \"Mid Cap\", \"Income\", \"Large Cap\", \"Small Cap\", \"Bonds\"], \"xaxis\": \"x\", \"y\": [1.7655999999999996, 0.0, 1.2419999999999998, 1.6952666666666665, 1.9806666666666668, 1.9918666666666667, 0.9788666666666659], \"yaxis\": \"y\"}],                        {\"barmode\": \"relative\", \"legend\": {\"tracegroupgap\": 0}, \"template\": {\"data\": {\"bar\": [{\"error_x\": {\"color\": \"#f2f5fa\"}, \"error_y\": {\"color\": \"#f2f5fa\"}, \"marker\": {\"line\": {\"color\": \"rgb(17,17,17)\", \"width\": 0.5}}, \"type\": \"bar\"}], \"barpolar\": [{\"marker\": {\"line\": {\"color\": \"rgb(17,17,17)\", \"width\": 0.5}}, \"type\": \"barpolar\"}], \"carpet\": [{\"aaxis\": {\"endlinecolor\": \"#A2B1C6\", \"gridcolor\": \"#506784\", \"linecolor\": \"#506784\", \"minorgridcolor\": \"#506784\", \"startlinecolor\": \"#A2B1C6\"}, \"baxis\": {\"endlinecolor\": \"#A2B1C6\", \"gridcolor\": \"#506784\", \"linecolor\": \"#506784\", \"minorgridcolor\": \"#506784\", \"startlinecolor\": \"#A2B1C6\"}, \"type\": \"carpet\"}], \"choropleth\": [{\"colorbar\": {\"outlinewidth\": 0, \"ticks\": \"\"}, \"type\": \"choropleth\"}], \"contour\": [{\"colorbar\": {\"outlinewidth\": 0, \"ticks\": \"\"}, \"colorscale\": [[0.0, \"#0d0887\"], [0.1111111111111111, \"#46039f\"], [0.2222222222222222, \"#7201a8\"], [0.3333333333333333, \"#9c179e\"], [0.4444444444444444, \"#bd3786\"], [0.5555555555555556, \"#d8576b\"], [0.6666666666666666, \"#ed7953\"], [0.7777777777777778, \"#fb9f3a\"], [0.8888888888888888, \"#fdca26\"], [1.0, \"#f0f921\"]], \"type\": \"contour\"}], \"contourcarpet\": [{\"colorbar\": {\"outlinewidth\": 0, \"ticks\": \"\"}, \"type\": \"contourcarpet\"}], \"heatmap\": [{\"colorbar\": {\"outlinewidth\": 0, \"ticks\": \"\"}, \"colorscale\": [[0.0, \"#0d0887\"], [0.1111111111111111, \"#46039f\"], [0.2222222222222222, \"#7201a8\"], [0.3333333333333333, \"#9c179e\"], [0.4444444444444444, \"#bd3786\"], [0.5555555555555556, \"#d8576b\"], [0.6666666666666666, \"#ed7953\"], [0.7777777777777778, \"#fb9f3a\"], [0.8888888888888888, \"#fdca26\"], [1.0, \"#f0f921\"]], \"type\": \"heatmap\"}], \"heatmapgl\": [{\"colorbar\": {\"outlinewidth\": 0, \"ticks\": \"\"}, \"colorscale\": [[0.0, \"#0d0887\"], [0.1111111111111111, \"#46039f\"], [0.2222222222222222, \"#7201a8\"], [0.3333333333333333, \"#9c179e\"], [0.4444444444444444, \"#bd3786\"], [0.5555555555555556, \"#d8576b\"], [0.6666666666666666, \"#ed7953\"], [0.7777777777777778, \"#fb9f3a\"], [0.8888888888888888, \"#fdca26\"], [1.0, \"#f0f921\"]], \"type\": \"heatmapgl\"}], \"histogram\": [{\"marker\": {\"colorbar\": {\"outlinewidth\": 0, \"ticks\": \"\"}}, \"type\": \"histogram\"}], \"histogram2d\": [{\"colorbar\": {\"outlinewidth\": 0, \"ticks\": \"\"}, \"colorscale\": [[0.0, \"#0d0887\"], [0.1111111111111111, \"#46039f\"], [0.2222222222222222, \"#7201a8\"], [0.3333333333333333, \"#9c179e\"], [0.4444444444444444, \"#bd3786\"], [0.5555555555555556, \"#d8576b\"], [0.6666666666666666, \"#ed7953\"], [0.7777777777777778, \"#fb9f3a\"], [0.8888888888888888, \"#fdca26\"], [1.0, \"#f0f921\"]], \"type\": \"histogram2d\"}], \"histogram2dcontour\": [{\"colorbar\": {\"outlinewidth\": 0, \"ticks\": \"\"}, \"colorscale\": [[0.0, \"#0d0887\"], [0.1111111111111111, \"#46039f\"], [0.2222222222222222, \"#7201a8\"], [0.3333333333333333, \"#9c179e\"], [0.4444444444444444, \"#bd3786\"], [0.5555555555555556, \"#d8576b\"], [0.6666666666666666, \"#ed7953\"], [0.7777777777777778, \"#fb9f3a\"], [0.8888888888888888, \"#fdca26\"], [1.0, \"#f0f921\"]], \"type\": \"histogram2dcontour\"}], \"mesh3d\": [{\"colorbar\": {\"outlinewidth\": 0, \"ticks\": \"\"}, \"type\": \"mesh3d\"}], \"parcoords\": [{\"line\": {\"colorbar\": {\"outlinewidth\": 0, \"ticks\": \"\"}}, \"type\": \"parcoords\"}], \"pie\": [{\"automargin\": true, \"type\": \"pie\"}], \"scatter\": [{\"marker\": {\"line\": {\"color\": \"#283442\"}}, \"type\": \"scatter\"}], \"scatter3d\": [{\"line\": {\"colorbar\": {\"outlinewidth\": 0, \"ticks\": \"\"}}, \"marker\": {\"colorbar\": {\"outlinewidth\": 0, \"ticks\": \"\"}}, \"type\": \"scatter3d\"}], \"scattercarpet\": [{\"marker\": {\"colorbar\": {\"outlinewidth\": 0, \"ticks\": \"\"}}, \"type\": \"scattercarpet\"}], \"scattergeo\": [{\"marker\": {\"colorbar\": {\"outlinewidth\": 0, \"ticks\": \"\"}}, \"type\": \"scattergeo\"}], \"scattergl\": [{\"marker\": {\"line\": {\"color\": \"#283442\"}}, \"type\": \"scattergl\"}], \"scattermapbox\": [{\"marker\": {\"colorbar\": {\"outlinewidth\": 0, \"ticks\": \"\"}}, \"type\": \"scattermapbox\"}], \"scatterpolar\": [{\"marker\": {\"colorbar\": {\"outlinewidth\": 0, \"ticks\": \"\"}}, \"type\": \"scatterpolar\"}], \"scatterpolargl\": [{\"marker\": {\"colorbar\": {\"outlinewidth\": 0, \"ticks\": \"\"}}, \"type\": \"scatterpolargl\"}], \"scatterternary\": [{\"marker\": {\"colorbar\": {\"outlinewidth\": 0, \"ticks\": \"\"}}, \"type\": \"scatterternary\"}], \"surface\": [{\"colorbar\": {\"outlinewidth\": 0, \"ticks\": \"\"}, \"colorscale\": [[0.0, \"#0d0887\"], [0.1111111111111111, \"#46039f\"], [0.2222222222222222, \"#7201a8\"], [0.3333333333333333, \"#9c179e\"], [0.4444444444444444, \"#bd3786\"], [0.5555555555555556, \"#d8576b\"], [0.6666666666666666, \"#ed7953\"], [0.7777777777777778, \"#fb9f3a\"], [0.8888888888888888, \"#fdca26\"], [1.0, \"#f0f921\"]], \"type\": \"surface\"}], \"table\": [{\"cells\": {\"fill\": {\"color\": \"#506784\"}, \"line\": {\"color\": \"rgb(17,17,17)\"}}, \"header\": {\"fill\": {\"color\": \"#2a3f5f\"}, \"line\": {\"color\": \"rgb(17,17,17)\"}}, \"type\": \"table\"}]}, \"layout\": {\"annotationdefaults\": {\"arrowcolor\": \"#f2f5fa\", \"arrowhead\": 0, \"arrowwidth\": 1}, \"autotypenumbers\": \"strict\", \"coloraxis\": {\"colorbar\": {\"outlinewidth\": 0, \"ticks\": \"\"}}, \"colorscale\": {\"diverging\": [[0, \"#8e0152\"], [0.1, \"#c51b7d\"], [0.2, \"#de77ae\"], [0.3, \"#f1b6da\"], [0.4, \"#fde0ef\"], [0.5, \"#f7f7f7\"], [0.6, \"#e6f5d0\"], [0.7, \"#b8e186\"], [0.8, \"#7fbc41\"], [0.9, \"#4d9221\"], [1, \"#276419\"]], \"sequential\": [[0.0, \"#0d0887\"], [0.1111111111111111, \"#46039f\"], [0.2222222222222222, \"#7201a8\"], [0.3333333333333333, \"#9c179e\"], [0.4444444444444444, \"#bd3786\"], [0.5555555555555556, \"#d8576b\"], [0.6666666666666666, \"#ed7953\"], [0.7777777777777778, \"#fb9f3a\"], [0.8888888888888888, \"#fdca26\"], [1.0, \"#f0f921\"]], \"sequentialminus\": [[0.0, \"#0d0887\"], [0.1111111111111111, \"#46039f\"], [0.2222222222222222, \"#7201a8\"], [0.3333333333333333, \"#9c179e\"], [0.4444444444444444, \"#bd3786\"], [0.5555555555555556, \"#d8576b\"], [0.6666666666666666, \"#ed7953\"], [0.7777777777777778, \"#fb9f3a\"], [0.8888888888888888, \"#fdca26\"], [1.0, \"#f0f921\"]]}, \"colorway\": [\"#636efa\", \"#EF553B\", \"#00cc96\", \"#ab63fa\", \"#FFA15A\", \"#19d3f3\", \"#FF6692\", \"#B6E880\", \"#FF97FF\", \"#FECB52\"], \"font\": {\"color\": \"#f2f5fa\"}, \"geo\": {\"bgcolor\": \"rgb(17,17,17)\", \"lakecolor\": \"rgb(17,17,17)\", \"landcolor\": \"rgb(17,17,17)\", \"showlakes\": true, \"showland\": true, \"subunitcolor\": \"#506784\"}, \"hoverlabel\": {\"align\": \"left\"}, \"hovermode\": \"closest\", \"mapbox\": {\"style\": \"dark\"}, \"paper_bgcolor\": \"rgb(17,17,17)\", \"plot_bgcolor\": \"rgb(17,17,17)\", \"polar\": {\"angularaxis\": {\"gridcolor\": \"#506784\", \"linecolor\": \"#506784\", \"ticks\": \"\"}, \"bgcolor\": \"rgb(17,17,17)\", \"radialaxis\": {\"gridcolor\": \"#506784\", \"linecolor\": \"#506784\", \"ticks\": \"\"}}, \"scene\": {\"xaxis\": {\"backgroundcolor\": \"rgb(17,17,17)\", \"gridcolor\": \"#506784\", \"gridwidth\": 2, \"linecolor\": \"#506784\", \"showbackground\": true, \"ticks\": \"\", \"zerolinecolor\": \"#C8D4E3\"}, \"yaxis\": {\"backgroundcolor\": \"rgb(17,17,17)\", \"gridcolor\": \"#506784\", \"gridwidth\": 2, \"linecolor\": \"#506784\", \"showbackground\": true, \"ticks\": \"\", \"zerolinecolor\": \"#C8D4E3\"}, \"zaxis\": {\"backgroundcolor\": \"rgb(17,17,17)\", \"gridcolor\": \"#506784\", \"gridwidth\": 2, \"linecolor\": \"#506784\", \"showbackground\": true, \"ticks\": \"\", \"zerolinecolor\": \"#C8D4E3\"}}, \"shapedefaults\": {\"line\": {\"color\": \"#f2f5fa\"}}, \"sliderdefaults\": {\"bgcolor\": \"#C8D4E3\", \"bordercolor\": \"rgb(17,17,17)\", \"borderwidth\": 1, \"tickwidth\": 0}, \"ternary\": {\"aaxis\": {\"gridcolor\": \"#506784\", \"linecolor\": \"#506784\", \"ticks\": \"\"}, \"baxis\": {\"gridcolor\": \"#506784\", \"linecolor\": \"#506784\", \"ticks\": \"\"}, \"bgcolor\": \"rgb(17,17,17)\", \"caxis\": {\"gridcolor\": \"#506784\", \"linecolor\": \"#506784\", \"ticks\": \"\"}}, \"title\": {\"x\": 0.05}, \"updatemenudefaults\": {\"bgcolor\": \"#506784\", \"borderwidth\": 0}, \"xaxis\": {\"automargin\": true, \"gridcolor\": \"#283442\", \"linecolor\": \"#506784\", \"ticks\": \"\", \"title\": {\"standoff\": 15}, \"zerolinecolor\": \"#283442\", \"zerolinewidth\": 2}, \"yaxis\": {\"automargin\": true, \"gridcolor\": \"#283442\", \"linecolor\": \"#506784\", \"ticks\": \"\", \"title\": {\"standoff\": 15}, \"zerolinecolor\": \"#283442\", \"zerolinewidth\": 2}}}, \"title\": {\"text\": \"Dividend by Fund Type\"}, \"xaxis\": {\"anchor\": \"y\", \"domain\": [0.0, 1.0], \"title\": {\"text\": \"Type\"}}, \"yaxis\": {\"anchor\": \"x\", \"domain\": [0.0, 1.0], \"title\": {\"text\": \"Avg Yearly Dividend\"}}},                        {\"responsive\": true}                    ).then(function(){\n",
              "                            \n",
              "var gd = document.getElementById('f0ac01f1-ac04-4560-8112-bf5de3ee3103');\n",
              "var x = new MutationObserver(function (mutations, observer) {{\n",
              "        var display = window.getComputedStyle(gd).display;\n",
              "        if (!display || display === 'none') {{\n",
              "            console.log([gd, 'removed!']);\n",
              "            Plotly.purge(gd);\n",
              "            observer.disconnect();\n",
              "        }}\n",
              "}});\n",
              "\n",
              "// Listen for the removal of the full notebook cells\n",
              "var notebookContainer = gd.closest('#notebook-container');\n",
              "if (notebookContainer) {{\n",
              "    x.observe(notebookContainer, {childList: true});\n",
              "}}\n",
              "\n",
              "// Listen for the clearing of the current output cell\n",
              "var outputEl = gd.closest('.output');\n",
              "if (outputEl) {{\n",
              "    x.observe(outputEl, {childList: true});\n",
              "}}\n",
              "\n",
              "                        })                };                            </script>        </div>\n",
              "</body>\n",
              "</html>"
            ]
          },
          "metadata": {
            "tags": []
          }
        }
      ]
    },
    {
      "cell_type": "markdown",
      "metadata": {
        "id": "pk7S0h_rB8rZ"
      },
      "source": [
        "#**Step 6: Analyze Data by Year**"
      ]
    },
    {
      "cell_type": "markdown",
      "metadata": {
        "id": "q7NAMoC-uC0X"
      },
      "source": [
        "Next, using the monthly returns aggregated in Step 4, we want to group the data by \"Year\" and aggregate \"Avg Monthly Returns\" and \"Avg Monthly Dividend.\" We can then use the information found to observe trends and market performance over the past five years."
      ]
    },
    {
      "cell_type": "code",
      "metadata": {
        "colab": {
          "base_uri": "https://localhost:8080/",
          "height": 0
        },
        "id": "_KpKJNsS9phW",
        "outputId": "dd942500-bd72-48e8-fff5-e7d0de5742ca"
      },
      "source": [
        "df_by_year = df2.groupby(by='Year',as_index=False).agg({'Monthly Returns':'mean','Dividend':'mean'})\n",
        "df_by_year.rename(columns={'Monthly Returns':'Avg Monthly Returns','Dividend':'Avg Monthly Dividend'},inplace=True)\n",
        "df_by_year.sort_values(by='Year',ascending=False,inplace=True)\n",
        "df_by_year"
      ],
      "execution_count": 18,
      "outputs": [
        {
          "output_type": "execute_result",
          "data": {
            "text/html": [
              "<div>\n",
              "<style scoped>\n",
              "    .dataframe tbody tr th:only-of-type {\n",
              "        vertical-align: middle;\n",
              "    }\n",
              "\n",
              "    .dataframe tbody tr th {\n",
              "        vertical-align: top;\n",
              "    }\n",
              "\n",
              "    .dataframe thead th {\n",
              "        text-align: right;\n",
              "    }\n",
              "</style>\n",
              "<table border=\"1\" class=\"dataframe\">\n",
              "  <thead>\n",
              "    <tr style=\"text-align: right;\">\n",
              "      <th></th>\n",
              "      <th>Year</th>\n",
              "      <th>Avg Monthly Returns</th>\n",
              "      <th>Avg Monthly Dividend</th>\n",
              "    </tr>\n",
              "  </thead>\n",
              "  <tbody>\n",
              "    <tr>\n",
              "      <th>5</th>\n",
              "      <td>2021</td>\n",
              "      <td>0.012241</td>\n",
              "      <td>0.165232</td>\n",
              "    </tr>\n",
              "    <tr>\n",
              "      <th>4</th>\n",
              "      <td>2020</td>\n",
              "      <td>0.017435</td>\n",
              "      <td>0.134509</td>\n",
              "    </tr>\n",
              "    <tr>\n",
              "      <th>3</th>\n",
              "      <td>2019</td>\n",
              "      <td>0.018692</td>\n",
              "      <td>0.135610</td>\n",
              "    </tr>\n",
              "    <tr>\n",
              "      <th>2</th>\n",
              "      <td>2018</td>\n",
              "      <td>-0.005832</td>\n",
              "      <td>0.131947</td>\n",
              "    </tr>\n",
              "    <tr>\n",
              "      <th>1</th>\n",
              "      <td>2017</td>\n",
              "      <td>0.012816</td>\n",
              "      <td>0.113592</td>\n",
              "    </tr>\n",
              "    <tr>\n",
              "      <th>0</th>\n",
              "      <td>2016</td>\n",
              "      <td>0.008577</td>\n",
              "      <td>0.086820</td>\n",
              "    </tr>\n",
              "  </tbody>\n",
              "</table>\n",
              "</div>"
            ],
            "text/plain": [
              "   Year  Avg Monthly Returns  Avg Monthly Dividend\n",
              "5  2021             0.012241              0.165232\n",
              "4  2020             0.017435              0.134509\n",
              "3  2019             0.018692              0.135610\n",
              "2  2018            -0.005832              0.131947\n",
              "1  2017             0.012816              0.113592\n",
              "0  2016             0.008577              0.086820"
            ]
          },
          "metadata": {
            "tags": []
          },
          "execution_count": 18
        }
      ]
    },
    {
      "cell_type": "markdown",
      "metadata": {
        "id": "zUhDEpzRue-W"
      },
      "source": [
        "We can update the previous dataframe and find the \"Avg Yearly Returns\" and \"Avg Yearly Dividend\" by multiplying the \"Avg Monthly Returns\" and \"Avg Monthly Dividend\" columns by 12. This will give us a better idea of what the yearly returns looked like over each of the past five years. A yearly view of returns will provide more insight in regards to retirement planning."
      ]
    },
    {
      "cell_type": "code",
      "metadata": {
        "colab": {
          "base_uri": "https://localhost:8080/",
          "height": 0
        },
        "id": "xxOukTnh_z9s",
        "outputId": "12df22b0-5389-4b32-b84e-c7fcffe1355b"
      },
      "source": [
        "df_by_year['Avg Yearly Returns'] = df_by_year['Avg Monthly Returns']*12\n",
        "df_by_year['Avg Yearly Dividend'] = df_by_year['Avg Monthly Dividend']*12\n",
        "df_by_year_yearly = df_by_year.drop(columns=['Avg Monthly Returns','Avg Monthly Dividend'])\n",
        "df_by_year_yearly"
      ],
      "execution_count": 19,
      "outputs": [
        {
          "output_type": "execute_result",
          "data": {
            "text/html": [
              "<div>\n",
              "<style scoped>\n",
              "    .dataframe tbody tr th:only-of-type {\n",
              "        vertical-align: middle;\n",
              "    }\n",
              "\n",
              "    .dataframe tbody tr th {\n",
              "        vertical-align: top;\n",
              "    }\n",
              "\n",
              "    .dataframe thead th {\n",
              "        text-align: right;\n",
              "    }\n",
              "</style>\n",
              "<table border=\"1\" class=\"dataframe\">\n",
              "  <thead>\n",
              "    <tr style=\"text-align: right;\">\n",
              "      <th></th>\n",
              "      <th>Year</th>\n",
              "      <th>Avg Yearly Returns</th>\n",
              "      <th>Avg Yearly Dividend</th>\n",
              "    </tr>\n",
              "  </thead>\n",
              "  <tbody>\n",
              "    <tr>\n",
              "      <th>5</th>\n",
              "      <td>2021</td>\n",
              "      <td>0.146897</td>\n",
              "      <td>1.982779</td>\n",
              "    </tr>\n",
              "    <tr>\n",
              "      <th>4</th>\n",
              "      <td>2020</td>\n",
              "      <td>0.209217</td>\n",
              "      <td>1.614105</td>\n",
              "    </tr>\n",
              "    <tr>\n",
              "      <th>3</th>\n",
              "      <td>2019</td>\n",
              "      <td>0.224300</td>\n",
              "      <td>1.627316</td>\n",
              "    </tr>\n",
              "    <tr>\n",
              "      <th>2</th>\n",
              "      <td>2018</td>\n",
              "      <td>-0.069986</td>\n",
              "      <td>1.583368</td>\n",
              "    </tr>\n",
              "    <tr>\n",
              "      <th>1</th>\n",
              "      <td>2017</td>\n",
              "      <td>0.153795</td>\n",
              "      <td>1.363105</td>\n",
              "    </tr>\n",
              "    <tr>\n",
              "      <th>0</th>\n",
              "      <td>2016</td>\n",
              "      <td>0.102929</td>\n",
              "      <td>1.041835</td>\n",
              "    </tr>\n",
              "  </tbody>\n",
              "</table>\n",
              "</div>"
            ],
            "text/plain": [
              "   Year  Avg Yearly Returns  Avg Yearly Dividend\n",
              "5  2021            0.146897             1.982779\n",
              "4  2020            0.209217             1.614105\n",
              "3  2019            0.224300             1.627316\n",
              "2  2018           -0.069986             1.583368\n",
              "1  2017            0.153795             1.363105\n",
              "0  2016            0.102929             1.041835"
            ]
          },
          "metadata": {
            "tags": []
          },
          "execution_count": 19
        }
      ]
    },
    {
      "cell_type": "markdown",
      "metadata": {
        "id": "QhoLMaSpuzps"
      },
      "source": [
        "We will visualize the yearly returns and yearly dividends over the past five years in our graphs below. Again, this will help us develop an understanding of the trends and market performance over the past five years."
      ]
    },
    {
      "cell_type": "code",
      "metadata": {
        "colab": {
          "base_uri": "https://localhost:8080/",
          "height": 0
        },
        "id": "0D-ZJZ0x_1QN",
        "outputId": "4b87ba4b-65ab-4b07-b094-52a2fcec0a67"
      },
      "source": [
        "by_year_fig = px.line(data_frame=df_by_year_yearly,x='Year',y='Avg Yearly Returns',title='Returns Over Past 5-Years',template='plotly_dark')\n",
        "by_year_fig.show()"
      ],
      "execution_count": 20,
      "outputs": [
        {
          "output_type": "display_data",
          "data": {
            "text/html": [
              "<html>\n",
              "<head><meta charset=\"utf-8\" /></head>\n",
              "<body>\n",
              "    <div>            <script src=\"https://cdnjs.cloudflare.com/ajax/libs/mathjax/2.7.5/MathJax.js?config=TeX-AMS-MML_SVG\"></script><script type=\"text/javascript\">if (window.MathJax) {MathJax.Hub.Config({SVG: {font: \"STIX-Web\"}});}</script>                <script type=\"text/javascript\">window.PlotlyConfig = {MathJaxConfig: 'local'};</script>\n",
              "        <script src=\"https://cdn.plot.ly/plotly-latest.min.js\"></script>                <div id=\"dfb85e4f-3740-4ddf-83d3-ce931f61e85a\" class=\"plotly-graph-div\" style=\"height:525px; width:100%;\"></div>            <script type=\"text/javascript\">                                    window.PLOTLYENV=window.PLOTLYENV || {};                                    if (document.getElementById(\"dfb85e4f-3740-4ddf-83d3-ce931f61e85a\")) {                    Plotly.newPlot(                        \"dfb85e4f-3740-4ddf-83d3-ce931f61e85a\",                        [{\"hovertemplate\": \"Year=%{x}<br>Avg Yearly Returns=%{y}<extra></extra>\", \"legendgroup\": \"\", \"line\": {\"color\": \"#636efa\", \"dash\": \"solid\"}, \"mode\": \"lines\", \"name\": \"\", \"orientation\": \"v\", \"showlegend\": false, \"type\": \"scatter\", \"x\": [2021, 2020, 2019, 2018, 2017, 2016], \"xaxis\": \"x\", \"y\": [0.1468969196864076, 0.20921741900689073, 0.22429952048131818, -0.06998605588456017, 0.1537954659778849, 0.10292940175797932], \"yaxis\": \"y\"}],                        {\"legend\": {\"tracegroupgap\": 0}, \"template\": {\"data\": {\"bar\": [{\"error_x\": {\"color\": \"#f2f5fa\"}, \"error_y\": {\"color\": \"#f2f5fa\"}, \"marker\": {\"line\": {\"color\": \"rgb(17,17,17)\", \"width\": 0.5}}, \"type\": \"bar\"}], \"barpolar\": [{\"marker\": {\"line\": {\"color\": \"rgb(17,17,17)\", \"width\": 0.5}}, \"type\": \"barpolar\"}], \"carpet\": [{\"aaxis\": {\"endlinecolor\": \"#A2B1C6\", \"gridcolor\": \"#506784\", \"linecolor\": \"#506784\", \"minorgridcolor\": \"#506784\", \"startlinecolor\": \"#A2B1C6\"}, \"baxis\": {\"endlinecolor\": \"#A2B1C6\", \"gridcolor\": \"#506784\", \"linecolor\": \"#506784\", \"minorgridcolor\": \"#506784\", \"startlinecolor\": \"#A2B1C6\"}, \"type\": \"carpet\"}], \"choropleth\": [{\"colorbar\": {\"outlinewidth\": 0, \"ticks\": \"\"}, \"type\": \"choropleth\"}], \"contour\": [{\"colorbar\": {\"outlinewidth\": 0, \"ticks\": \"\"}, \"colorscale\": [[0.0, \"#0d0887\"], [0.1111111111111111, \"#46039f\"], [0.2222222222222222, \"#7201a8\"], [0.3333333333333333, \"#9c179e\"], [0.4444444444444444, \"#bd3786\"], [0.5555555555555556, \"#d8576b\"], [0.6666666666666666, \"#ed7953\"], [0.7777777777777778, \"#fb9f3a\"], [0.8888888888888888, \"#fdca26\"], [1.0, \"#f0f921\"]], \"type\": \"contour\"}], \"contourcarpet\": [{\"colorbar\": {\"outlinewidth\": 0, \"ticks\": \"\"}, \"type\": \"contourcarpet\"}], \"heatmap\": [{\"colorbar\": {\"outlinewidth\": 0, \"ticks\": \"\"}, \"colorscale\": [[0.0, \"#0d0887\"], [0.1111111111111111, \"#46039f\"], [0.2222222222222222, \"#7201a8\"], [0.3333333333333333, \"#9c179e\"], [0.4444444444444444, \"#bd3786\"], [0.5555555555555556, \"#d8576b\"], [0.6666666666666666, \"#ed7953\"], [0.7777777777777778, \"#fb9f3a\"], [0.8888888888888888, \"#fdca26\"], [1.0, \"#f0f921\"]], \"type\": \"heatmap\"}], \"heatmapgl\": [{\"colorbar\": {\"outlinewidth\": 0, \"ticks\": \"\"}, \"colorscale\": [[0.0, \"#0d0887\"], [0.1111111111111111, \"#46039f\"], [0.2222222222222222, \"#7201a8\"], [0.3333333333333333, \"#9c179e\"], [0.4444444444444444, \"#bd3786\"], [0.5555555555555556, \"#d8576b\"], [0.6666666666666666, \"#ed7953\"], [0.7777777777777778, \"#fb9f3a\"], [0.8888888888888888, \"#fdca26\"], [1.0, \"#f0f921\"]], \"type\": \"heatmapgl\"}], \"histogram\": [{\"marker\": {\"colorbar\": {\"outlinewidth\": 0, \"ticks\": \"\"}}, \"type\": \"histogram\"}], \"histogram2d\": [{\"colorbar\": {\"outlinewidth\": 0, \"ticks\": \"\"}, \"colorscale\": [[0.0, \"#0d0887\"], [0.1111111111111111, \"#46039f\"], [0.2222222222222222, \"#7201a8\"], [0.3333333333333333, \"#9c179e\"], [0.4444444444444444, \"#bd3786\"], [0.5555555555555556, \"#d8576b\"], [0.6666666666666666, \"#ed7953\"], [0.7777777777777778, \"#fb9f3a\"], [0.8888888888888888, \"#fdca26\"], [1.0, \"#f0f921\"]], \"type\": \"histogram2d\"}], \"histogram2dcontour\": [{\"colorbar\": {\"outlinewidth\": 0, \"ticks\": \"\"}, \"colorscale\": [[0.0, \"#0d0887\"], [0.1111111111111111, \"#46039f\"], [0.2222222222222222, \"#7201a8\"], [0.3333333333333333, \"#9c179e\"], [0.4444444444444444, \"#bd3786\"], [0.5555555555555556, \"#d8576b\"], [0.6666666666666666, \"#ed7953\"], [0.7777777777777778, \"#fb9f3a\"], [0.8888888888888888, \"#fdca26\"], [1.0, \"#f0f921\"]], \"type\": \"histogram2dcontour\"}], \"mesh3d\": [{\"colorbar\": {\"outlinewidth\": 0, \"ticks\": \"\"}, \"type\": \"mesh3d\"}], \"parcoords\": [{\"line\": {\"colorbar\": {\"outlinewidth\": 0, \"ticks\": \"\"}}, \"type\": \"parcoords\"}], \"pie\": [{\"automargin\": true, \"type\": \"pie\"}], \"scatter\": [{\"marker\": {\"line\": {\"color\": \"#283442\"}}, \"type\": \"scatter\"}], \"scatter3d\": [{\"line\": {\"colorbar\": {\"outlinewidth\": 0, \"ticks\": \"\"}}, \"marker\": {\"colorbar\": {\"outlinewidth\": 0, \"ticks\": \"\"}}, \"type\": \"scatter3d\"}], \"scattercarpet\": [{\"marker\": {\"colorbar\": {\"outlinewidth\": 0, \"ticks\": \"\"}}, \"type\": \"scattercarpet\"}], \"scattergeo\": [{\"marker\": {\"colorbar\": {\"outlinewidth\": 0, \"ticks\": \"\"}}, \"type\": \"scattergeo\"}], \"scattergl\": [{\"marker\": {\"line\": {\"color\": \"#283442\"}}, \"type\": \"scattergl\"}], \"scattermapbox\": [{\"marker\": {\"colorbar\": {\"outlinewidth\": 0, \"ticks\": \"\"}}, \"type\": \"scattermapbox\"}], \"scatterpolar\": [{\"marker\": {\"colorbar\": {\"outlinewidth\": 0, \"ticks\": \"\"}}, \"type\": \"scatterpolar\"}], \"scatterpolargl\": [{\"marker\": {\"colorbar\": {\"outlinewidth\": 0, \"ticks\": \"\"}}, \"type\": \"scatterpolargl\"}], \"scatterternary\": [{\"marker\": {\"colorbar\": {\"outlinewidth\": 0, \"ticks\": \"\"}}, \"type\": \"scatterternary\"}], \"surface\": [{\"colorbar\": {\"outlinewidth\": 0, \"ticks\": \"\"}, \"colorscale\": [[0.0, \"#0d0887\"], [0.1111111111111111, \"#46039f\"], [0.2222222222222222, \"#7201a8\"], [0.3333333333333333, \"#9c179e\"], [0.4444444444444444, \"#bd3786\"], [0.5555555555555556, \"#d8576b\"], [0.6666666666666666, \"#ed7953\"], [0.7777777777777778, \"#fb9f3a\"], [0.8888888888888888, \"#fdca26\"], [1.0, \"#f0f921\"]], \"type\": \"surface\"}], \"table\": [{\"cells\": {\"fill\": {\"color\": \"#506784\"}, \"line\": {\"color\": \"rgb(17,17,17)\"}}, \"header\": {\"fill\": {\"color\": \"#2a3f5f\"}, \"line\": {\"color\": \"rgb(17,17,17)\"}}, \"type\": \"table\"}]}, \"layout\": {\"annotationdefaults\": {\"arrowcolor\": \"#f2f5fa\", \"arrowhead\": 0, \"arrowwidth\": 1}, \"autotypenumbers\": \"strict\", \"coloraxis\": {\"colorbar\": {\"outlinewidth\": 0, \"ticks\": \"\"}}, \"colorscale\": {\"diverging\": [[0, \"#8e0152\"], [0.1, \"#c51b7d\"], [0.2, \"#de77ae\"], [0.3, \"#f1b6da\"], [0.4, \"#fde0ef\"], [0.5, \"#f7f7f7\"], [0.6, \"#e6f5d0\"], [0.7, \"#b8e186\"], [0.8, \"#7fbc41\"], [0.9, \"#4d9221\"], [1, \"#276419\"]], \"sequential\": [[0.0, \"#0d0887\"], [0.1111111111111111, \"#46039f\"], [0.2222222222222222, \"#7201a8\"], [0.3333333333333333, \"#9c179e\"], [0.4444444444444444, \"#bd3786\"], [0.5555555555555556, \"#d8576b\"], [0.6666666666666666, \"#ed7953\"], [0.7777777777777778, \"#fb9f3a\"], [0.8888888888888888, \"#fdca26\"], [1.0, \"#f0f921\"]], \"sequentialminus\": [[0.0, \"#0d0887\"], [0.1111111111111111, \"#46039f\"], [0.2222222222222222, \"#7201a8\"], [0.3333333333333333, \"#9c179e\"], [0.4444444444444444, \"#bd3786\"], [0.5555555555555556, \"#d8576b\"], [0.6666666666666666, \"#ed7953\"], [0.7777777777777778, \"#fb9f3a\"], [0.8888888888888888, \"#fdca26\"], [1.0, \"#f0f921\"]]}, \"colorway\": [\"#636efa\", \"#EF553B\", \"#00cc96\", \"#ab63fa\", \"#FFA15A\", \"#19d3f3\", \"#FF6692\", \"#B6E880\", \"#FF97FF\", \"#FECB52\"], \"font\": {\"color\": \"#f2f5fa\"}, \"geo\": {\"bgcolor\": \"rgb(17,17,17)\", \"lakecolor\": \"rgb(17,17,17)\", \"landcolor\": \"rgb(17,17,17)\", \"showlakes\": true, \"showland\": true, \"subunitcolor\": \"#506784\"}, \"hoverlabel\": {\"align\": \"left\"}, \"hovermode\": \"closest\", \"mapbox\": {\"style\": \"dark\"}, \"paper_bgcolor\": \"rgb(17,17,17)\", \"plot_bgcolor\": \"rgb(17,17,17)\", \"polar\": {\"angularaxis\": {\"gridcolor\": \"#506784\", \"linecolor\": \"#506784\", \"ticks\": \"\"}, \"bgcolor\": \"rgb(17,17,17)\", \"radialaxis\": {\"gridcolor\": \"#506784\", \"linecolor\": \"#506784\", \"ticks\": \"\"}}, \"scene\": {\"xaxis\": {\"backgroundcolor\": \"rgb(17,17,17)\", \"gridcolor\": \"#506784\", \"gridwidth\": 2, \"linecolor\": \"#506784\", \"showbackground\": true, \"ticks\": \"\", \"zerolinecolor\": \"#C8D4E3\"}, \"yaxis\": {\"backgroundcolor\": \"rgb(17,17,17)\", \"gridcolor\": \"#506784\", \"gridwidth\": 2, \"linecolor\": \"#506784\", \"showbackground\": true, \"ticks\": \"\", \"zerolinecolor\": \"#C8D4E3\"}, \"zaxis\": {\"backgroundcolor\": \"rgb(17,17,17)\", \"gridcolor\": \"#506784\", \"gridwidth\": 2, \"linecolor\": \"#506784\", \"showbackground\": true, \"ticks\": \"\", \"zerolinecolor\": \"#C8D4E3\"}}, \"shapedefaults\": {\"line\": {\"color\": \"#f2f5fa\"}}, \"sliderdefaults\": {\"bgcolor\": \"#C8D4E3\", \"bordercolor\": \"rgb(17,17,17)\", \"borderwidth\": 1, \"tickwidth\": 0}, \"ternary\": {\"aaxis\": {\"gridcolor\": \"#506784\", \"linecolor\": \"#506784\", \"ticks\": \"\"}, \"baxis\": {\"gridcolor\": \"#506784\", \"linecolor\": \"#506784\", \"ticks\": \"\"}, \"bgcolor\": \"rgb(17,17,17)\", \"caxis\": {\"gridcolor\": \"#506784\", \"linecolor\": \"#506784\", \"ticks\": \"\"}}, \"title\": {\"x\": 0.05}, \"updatemenudefaults\": {\"bgcolor\": \"#506784\", \"borderwidth\": 0}, \"xaxis\": {\"automargin\": true, \"gridcolor\": \"#283442\", \"linecolor\": \"#506784\", \"ticks\": \"\", \"title\": {\"standoff\": 15}, \"zerolinecolor\": \"#283442\", \"zerolinewidth\": 2}, \"yaxis\": {\"automargin\": true, \"gridcolor\": \"#283442\", \"linecolor\": \"#506784\", \"ticks\": \"\", \"title\": {\"standoff\": 15}, \"zerolinecolor\": \"#283442\", \"zerolinewidth\": 2}}}, \"title\": {\"text\": \"Returns Over Past 5-Years\"}, \"xaxis\": {\"anchor\": \"y\", \"domain\": [0.0, 1.0], \"title\": {\"text\": \"Year\"}}, \"yaxis\": {\"anchor\": \"x\", \"domain\": [0.0, 1.0], \"title\": {\"text\": \"Avg Yearly Returns\"}}},                        {\"responsive\": true}                    ).then(function(){\n",
              "                            \n",
              "var gd = document.getElementById('dfb85e4f-3740-4ddf-83d3-ce931f61e85a');\n",
              "var x = new MutationObserver(function (mutations, observer) {{\n",
              "        var display = window.getComputedStyle(gd).display;\n",
              "        if (!display || display === 'none') {{\n",
              "            console.log([gd, 'removed!']);\n",
              "            Plotly.purge(gd);\n",
              "            observer.disconnect();\n",
              "        }}\n",
              "}});\n",
              "\n",
              "// Listen for the removal of the full notebook cells\n",
              "var notebookContainer = gd.closest('#notebook-container');\n",
              "if (notebookContainer) {{\n",
              "    x.observe(notebookContainer, {childList: true});\n",
              "}}\n",
              "\n",
              "// Listen for the clearing of the current output cell\n",
              "var outputEl = gd.closest('.output');\n",
              "if (outputEl) {{\n",
              "    x.observe(outputEl, {childList: true});\n",
              "}}\n",
              "\n",
              "                        })                };                            </script>        </div>\n",
              "</body>\n",
              "</html>"
            ]
          },
          "metadata": {
            "tags": []
          }
        }
      ]
    },
    {
      "cell_type": "code",
      "metadata": {
        "colab": {
          "base_uri": "https://localhost:8080/",
          "height": 0
        },
        "id": "LsEnWV8UBQAl",
        "outputId": "4559892f-963e-47d5-b828-8d5568fd1922"
      },
      "source": [
        "by_year_fig2 = px.line(data_frame=df_by_year_yearly,x='Year',y='Avg Yearly Dividend',title='Dividend Over Past 5-Years',template='plotly_dark')\n",
        "by_year_fig2.show()"
      ],
      "execution_count": 21,
      "outputs": [
        {
          "output_type": "display_data",
          "data": {
            "text/html": [
              "<html>\n",
              "<head><meta charset=\"utf-8\" /></head>\n",
              "<body>\n",
              "    <div>            <script src=\"https://cdnjs.cloudflare.com/ajax/libs/mathjax/2.7.5/MathJax.js?config=TeX-AMS-MML_SVG\"></script><script type=\"text/javascript\">if (window.MathJax) {MathJax.Hub.Config({SVG: {font: \"STIX-Web\"}});}</script>                <script type=\"text/javascript\">window.PlotlyConfig = {MathJaxConfig: 'local'};</script>\n",
              "        <script src=\"https://cdn.plot.ly/plotly-latest.min.js\"></script>                <div id=\"7622681c-0ad0-4d8f-b9e8-e7b99a2dade7\" class=\"plotly-graph-div\" style=\"height:525px; width:100%;\"></div>            <script type=\"text/javascript\">                                    window.PLOTLYENV=window.PLOTLYENV || {};                                    if (document.getElementById(\"7622681c-0ad0-4d8f-b9e8-e7b99a2dade7\")) {                    Plotly.newPlot(                        \"7622681c-0ad0-4d8f-b9e8-e7b99a2dade7\",                        [{\"hovertemplate\": \"Year=%{x}<br>Avg Yearly Dividend=%{y}<extra></extra>\", \"legendgroup\": \"\", \"line\": {\"color\": \"#636efa\", \"dash\": \"solid\"}, \"mode\": \"lines\", \"name\": \"\", \"orientation\": \"v\", \"showlegend\": false, \"type\": \"scatter\", \"x\": [2021, 2020, 2019, 2018, 2017, 2016], \"xaxis\": \"x\", \"y\": [1.9827789473684208, 1.6141052631578943, 1.6273157894736845, 1.5833684210526315, 1.3631052631578944, 1.0418345864661651], \"yaxis\": \"y\"}],                        {\"legend\": {\"tracegroupgap\": 0}, \"template\": {\"data\": {\"bar\": [{\"error_x\": {\"color\": \"#f2f5fa\"}, \"error_y\": {\"color\": \"#f2f5fa\"}, \"marker\": {\"line\": {\"color\": \"rgb(17,17,17)\", \"width\": 0.5}}, \"type\": \"bar\"}], \"barpolar\": [{\"marker\": {\"line\": {\"color\": \"rgb(17,17,17)\", \"width\": 0.5}}, \"type\": \"barpolar\"}], \"carpet\": [{\"aaxis\": {\"endlinecolor\": \"#A2B1C6\", \"gridcolor\": \"#506784\", \"linecolor\": \"#506784\", \"minorgridcolor\": \"#506784\", \"startlinecolor\": \"#A2B1C6\"}, \"baxis\": {\"endlinecolor\": \"#A2B1C6\", \"gridcolor\": \"#506784\", \"linecolor\": \"#506784\", \"minorgridcolor\": \"#506784\", \"startlinecolor\": \"#A2B1C6\"}, \"type\": \"carpet\"}], \"choropleth\": [{\"colorbar\": {\"outlinewidth\": 0, \"ticks\": \"\"}, \"type\": \"choropleth\"}], \"contour\": [{\"colorbar\": {\"outlinewidth\": 0, \"ticks\": \"\"}, \"colorscale\": [[0.0, \"#0d0887\"], [0.1111111111111111, \"#46039f\"], [0.2222222222222222, \"#7201a8\"], [0.3333333333333333, \"#9c179e\"], [0.4444444444444444, \"#bd3786\"], [0.5555555555555556, \"#d8576b\"], [0.6666666666666666, \"#ed7953\"], [0.7777777777777778, \"#fb9f3a\"], [0.8888888888888888, \"#fdca26\"], [1.0, \"#f0f921\"]], \"type\": \"contour\"}], \"contourcarpet\": [{\"colorbar\": {\"outlinewidth\": 0, \"ticks\": \"\"}, \"type\": \"contourcarpet\"}], \"heatmap\": [{\"colorbar\": {\"outlinewidth\": 0, \"ticks\": \"\"}, \"colorscale\": [[0.0, \"#0d0887\"], [0.1111111111111111, \"#46039f\"], [0.2222222222222222, \"#7201a8\"], [0.3333333333333333, \"#9c179e\"], [0.4444444444444444, \"#bd3786\"], [0.5555555555555556, \"#d8576b\"], [0.6666666666666666, \"#ed7953\"], [0.7777777777777778, \"#fb9f3a\"], [0.8888888888888888, \"#fdca26\"], [1.0, \"#f0f921\"]], \"type\": \"heatmap\"}], \"heatmapgl\": [{\"colorbar\": {\"outlinewidth\": 0, \"ticks\": \"\"}, \"colorscale\": [[0.0, \"#0d0887\"], [0.1111111111111111, \"#46039f\"], [0.2222222222222222, \"#7201a8\"], [0.3333333333333333, \"#9c179e\"], [0.4444444444444444, \"#bd3786\"], [0.5555555555555556, \"#d8576b\"], [0.6666666666666666, \"#ed7953\"], [0.7777777777777778, \"#fb9f3a\"], [0.8888888888888888, \"#fdca26\"], [1.0, \"#f0f921\"]], \"type\": \"heatmapgl\"}], \"histogram\": [{\"marker\": {\"colorbar\": {\"outlinewidth\": 0, \"ticks\": \"\"}}, \"type\": \"histogram\"}], \"histogram2d\": [{\"colorbar\": {\"outlinewidth\": 0, \"ticks\": \"\"}, \"colorscale\": [[0.0, \"#0d0887\"], [0.1111111111111111, \"#46039f\"], [0.2222222222222222, \"#7201a8\"], [0.3333333333333333, \"#9c179e\"], [0.4444444444444444, \"#bd3786\"], [0.5555555555555556, \"#d8576b\"], [0.6666666666666666, \"#ed7953\"], [0.7777777777777778, \"#fb9f3a\"], [0.8888888888888888, \"#fdca26\"], [1.0, \"#f0f921\"]], \"type\": \"histogram2d\"}], \"histogram2dcontour\": [{\"colorbar\": {\"outlinewidth\": 0, \"ticks\": \"\"}, \"colorscale\": [[0.0, \"#0d0887\"], [0.1111111111111111, \"#46039f\"], [0.2222222222222222, \"#7201a8\"], [0.3333333333333333, \"#9c179e\"], [0.4444444444444444, \"#bd3786\"], [0.5555555555555556, \"#d8576b\"], [0.6666666666666666, \"#ed7953\"], [0.7777777777777778, \"#fb9f3a\"], [0.8888888888888888, \"#fdca26\"], [1.0, \"#f0f921\"]], \"type\": \"histogram2dcontour\"}], \"mesh3d\": [{\"colorbar\": {\"outlinewidth\": 0, \"ticks\": \"\"}, \"type\": \"mesh3d\"}], \"parcoords\": [{\"line\": {\"colorbar\": {\"outlinewidth\": 0, \"ticks\": \"\"}}, \"type\": \"parcoords\"}], \"pie\": [{\"automargin\": true, \"type\": \"pie\"}], \"scatter\": [{\"marker\": {\"line\": {\"color\": \"#283442\"}}, \"type\": \"scatter\"}], \"scatter3d\": [{\"line\": {\"colorbar\": {\"outlinewidth\": 0, \"ticks\": \"\"}}, \"marker\": {\"colorbar\": {\"outlinewidth\": 0, \"ticks\": \"\"}}, \"type\": \"scatter3d\"}], \"scattercarpet\": [{\"marker\": {\"colorbar\": {\"outlinewidth\": 0, \"ticks\": \"\"}}, \"type\": \"scattercarpet\"}], \"scattergeo\": [{\"marker\": {\"colorbar\": {\"outlinewidth\": 0, \"ticks\": \"\"}}, \"type\": \"scattergeo\"}], \"scattergl\": [{\"marker\": {\"line\": {\"color\": \"#283442\"}}, \"type\": \"scattergl\"}], \"scattermapbox\": [{\"marker\": {\"colorbar\": {\"outlinewidth\": 0, \"ticks\": \"\"}}, \"type\": \"scattermapbox\"}], \"scatterpolar\": [{\"marker\": {\"colorbar\": {\"outlinewidth\": 0, \"ticks\": \"\"}}, \"type\": \"scatterpolar\"}], \"scatterpolargl\": [{\"marker\": {\"colorbar\": {\"outlinewidth\": 0, \"ticks\": \"\"}}, \"type\": \"scatterpolargl\"}], \"scatterternary\": [{\"marker\": {\"colorbar\": {\"outlinewidth\": 0, \"ticks\": \"\"}}, \"type\": \"scatterternary\"}], \"surface\": [{\"colorbar\": {\"outlinewidth\": 0, \"ticks\": \"\"}, \"colorscale\": [[0.0, \"#0d0887\"], [0.1111111111111111, \"#46039f\"], [0.2222222222222222, \"#7201a8\"], [0.3333333333333333, \"#9c179e\"], [0.4444444444444444, \"#bd3786\"], [0.5555555555555556, \"#d8576b\"], [0.6666666666666666, \"#ed7953\"], [0.7777777777777778, \"#fb9f3a\"], [0.8888888888888888, \"#fdca26\"], [1.0, \"#f0f921\"]], \"type\": \"surface\"}], \"table\": [{\"cells\": {\"fill\": {\"color\": \"#506784\"}, \"line\": {\"color\": \"rgb(17,17,17)\"}}, \"header\": {\"fill\": {\"color\": \"#2a3f5f\"}, \"line\": {\"color\": \"rgb(17,17,17)\"}}, \"type\": \"table\"}]}, \"layout\": {\"annotationdefaults\": {\"arrowcolor\": \"#f2f5fa\", \"arrowhead\": 0, \"arrowwidth\": 1}, \"autotypenumbers\": \"strict\", \"coloraxis\": {\"colorbar\": {\"outlinewidth\": 0, \"ticks\": \"\"}}, \"colorscale\": {\"diverging\": [[0, \"#8e0152\"], [0.1, \"#c51b7d\"], [0.2, \"#de77ae\"], [0.3, \"#f1b6da\"], [0.4, \"#fde0ef\"], [0.5, \"#f7f7f7\"], [0.6, \"#e6f5d0\"], [0.7, \"#b8e186\"], [0.8, \"#7fbc41\"], [0.9, \"#4d9221\"], [1, \"#276419\"]], \"sequential\": [[0.0, \"#0d0887\"], [0.1111111111111111, \"#46039f\"], [0.2222222222222222, \"#7201a8\"], [0.3333333333333333, \"#9c179e\"], [0.4444444444444444, \"#bd3786\"], [0.5555555555555556, \"#d8576b\"], [0.6666666666666666, \"#ed7953\"], [0.7777777777777778, \"#fb9f3a\"], [0.8888888888888888, \"#fdca26\"], [1.0, \"#f0f921\"]], \"sequentialminus\": [[0.0, \"#0d0887\"], [0.1111111111111111, \"#46039f\"], [0.2222222222222222, \"#7201a8\"], [0.3333333333333333, \"#9c179e\"], [0.4444444444444444, \"#bd3786\"], [0.5555555555555556, \"#d8576b\"], [0.6666666666666666, \"#ed7953\"], [0.7777777777777778, \"#fb9f3a\"], [0.8888888888888888, \"#fdca26\"], [1.0, \"#f0f921\"]]}, \"colorway\": [\"#636efa\", \"#EF553B\", \"#00cc96\", \"#ab63fa\", \"#FFA15A\", \"#19d3f3\", \"#FF6692\", \"#B6E880\", \"#FF97FF\", \"#FECB52\"], \"font\": {\"color\": \"#f2f5fa\"}, \"geo\": {\"bgcolor\": \"rgb(17,17,17)\", \"lakecolor\": \"rgb(17,17,17)\", \"landcolor\": \"rgb(17,17,17)\", \"showlakes\": true, \"showland\": true, \"subunitcolor\": \"#506784\"}, \"hoverlabel\": {\"align\": \"left\"}, \"hovermode\": \"closest\", \"mapbox\": {\"style\": \"dark\"}, \"paper_bgcolor\": \"rgb(17,17,17)\", \"plot_bgcolor\": \"rgb(17,17,17)\", \"polar\": {\"angularaxis\": {\"gridcolor\": \"#506784\", \"linecolor\": \"#506784\", \"ticks\": \"\"}, \"bgcolor\": \"rgb(17,17,17)\", \"radialaxis\": {\"gridcolor\": \"#506784\", \"linecolor\": \"#506784\", \"ticks\": \"\"}}, \"scene\": {\"xaxis\": {\"backgroundcolor\": \"rgb(17,17,17)\", \"gridcolor\": \"#506784\", \"gridwidth\": 2, \"linecolor\": \"#506784\", \"showbackground\": true, \"ticks\": \"\", \"zerolinecolor\": \"#C8D4E3\"}, \"yaxis\": {\"backgroundcolor\": \"rgb(17,17,17)\", \"gridcolor\": \"#506784\", \"gridwidth\": 2, \"linecolor\": \"#506784\", \"showbackground\": true, \"ticks\": \"\", \"zerolinecolor\": \"#C8D4E3\"}, \"zaxis\": {\"backgroundcolor\": \"rgb(17,17,17)\", \"gridcolor\": \"#506784\", \"gridwidth\": 2, \"linecolor\": \"#506784\", \"showbackground\": true, \"ticks\": \"\", \"zerolinecolor\": \"#C8D4E3\"}}, \"shapedefaults\": {\"line\": {\"color\": \"#f2f5fa\"}}, \"sliderdefaults\": {\"bgcolor\": \"#C8D4E3\", \"bordercolor\": \"rgb(17,17,17)\", \"borderwidth\": 1, \"tickwidth\": 0}, \"ternary\": {\"aaxis\": {\"gridcolor\": \"#506784\", \"linecolor\": \"#506784\", \"ticks\": \"\"}, \"baxis\": {\"gridcolor\": \"#506784\", \"linecolor\": \"#506784\", \"ticks\": \"\"}, \"bgcolor\": \"rgb(17,17,17)\", \"caxis\": {\"gridcolor\": \"#506784\", \"linecolor\": \"#506784\", \"ticks\": \"\"}}, \"title\": {\"x\": 0.05}, \"updatemenudefaults\": {\"bgcolor\": \"#506784\", \"borderwidth\": 0}, \"xaxis\": {\"automargin\": true, \"gridcolor\": \"#283442\", \"linecolor\": \"#506784\", \"ticks\": \"\", \"title\": {\"standoff\": 15}, \"zerolinecolor\": \"#283442\", \"zerolinewidth\": 2}, \"yaxis\": {\"automargin\": true, \"gridcolor\": \"#283442\", \"linecolor\": \"#506784\", \"ticks\": \"\", \"title\": {\"standoff\": 15}, \"zerolinecolor\": \"#283442\", \"zerolinewidth\": 2}}}, \"title\": {\"text\": \"Dividend Over Past 5-Years\"}, \"xaxis\": {\"anchor\": \"y\", \"domain\": [0.0, 1.0], \"title\": {\"text\": \"Year\"}}, \"yaxis\": {\"anchor\": \"x\", \"domain\": [0.0, 1.0], \"title\": {\"text\": \"Avg Yearly Dividend\"}}},                        {\"responsive\": true}                    ).then(function(){\n",
              "                            \n",
              "var gd = document.getElementById('7622681c-0ad0-4d8f-b9e8-e7b99a2dade7');\n",
              "var x = new MutationObserver(function (mutations, observer) {{\n",
              "        var display = window.getComputedStyle(gd).display;\n",
              "        if (!display || display === 'none') {{\n",
              "            console.log([gd, 'removed!']);\n",
              "            Plotly.purge(gd);\n",
              "            observer.disconnect();\n",
              "        }}\n",
              "}});\n",
              "\n",
              "// Listen for the removal of the full notebook cells\n",
              "var notebookContainer = gd.closest('#notebook-container');\n",
              "if (notebookContainer) {{\n",
              "    x.observe(notebookContainer, {childList: true});\n",
              "}}\n",
              "\n",
              "// Listen for the clearing of the current output cell\n",
              "var outputEl = gd.closest('.output');\n",
              "if (outputEl) {{\n",
              "    x.observe(outputEl, {childList: true});\n",
              "}}\n",
              "\n",
              "                        })                };                            </script>        </div>\n",
              "</body>\n",
              "</html>"
            ]
          },
          "metadata": {
            "tags": []
          }
        }
      ]
    },
    {
      "cell_type": "markdown",
      "metadata": {
        "id": "CAKElHY9FnG9"
      },
      "source": [
        "# **Step 7: Graph Data by Both Year and Fund**"
      ]
    },
    {
      "cell_type": "markdown",
      "metadata": {
        "id": "-CoUnmK2vB_x"
      },
      "source": [
        "While seeing the general performance of the dataset over the past five years is interesting to see, dividing the visuals up by fund type will likely provide more insight for the purposes of portfolio creation. Graphs with five year returns and dividends split by fund type are found below."
      ]
    },
    {
      "cell_type": "markdown",
      "metadata": {
        "id": "pgziunFjS_-y"
      },
      "source": [
        "### **Returns By Fund**"
      ]
    },
    {
      "cell_type": "code",
      "metadata": {
        "id": "W77M8kP5FjUc"
      },
      "source": [
        "df_graph = df2.groupby(by=['Year','Type'],as_index=False).agg({'Monthly Returns':'mean','Dividend':'mean'})\n",
        "df_graph.rename(columns={'Monthly Returns':'Avg Monthly Returns','Dividend':'Avg Monthly Dividend'},inplace=True)\n",
        "df_graph.sort_values(by='Year',ascending=False,inplace=True)\n",
        "df_graph['Avg Yearly Returns'] = df_graph['Avg Monthly Returns']*12\n",
        "df_graph['Avg Yearly Dividend'] = df_graph['Avg Monthly Dividend']*12\n",
        "df_graph2 = df_graph.drop(columns=['Avg Monthly Returns','Avg Monthly Dividend'])"
      ],
      "execution_count": 22,
      "outputs": []
    },
    {
      "cell_type": "code",
      "metadata": {
        "colab": {
          "base_uri": "https://localhost:8080/",
          "height": 0
        },
        "id": "LgQolEpaGHx3",
        "outputId": "ad5113cf-0d01-49e7-eb3f-06246defd32e"
      },
      "source": [
        "by_both_fig = px.line(data_frame=df_graph2,x='Year',y='Avg Yearly Returns',color='Type',title='Returns Over Past 5-Years by Fund Type',template='plotly_dark')\n",
        "by_both_fig.show()"
      ],
      "execution_count": 23,
      "outputs": [
        {
          "output_type": "display_data",
          "data": {
            "text/html": [
              "<html>\n",
              "<head><meta charset=\"utf-8\" /></head>\n",
              "<body>\n",
              "    <div>            <script src=\"https://cdnjs.cloudflare.com/ajax/libs/mathjax/2.7.5/MathJax.js?config=TeX-AMS-MML_SVG\"></script><script type=\"text/javascript\">if (window.MathJax) {MathJax.Hub.Config({SVG: {font: \"STIX-Web\"}});}</script>                <script type=\"text/javascript\">window.PlotlyConfig = {MathJaxConfig: 'local'};</script>\n",
              "        <script src=\"https://cdn.plot.ly/plotly-latest.min.js\"></script>                <div id=\"86165cdb-c20d-4158-8efc-b40d05defc99\" class=\"plotly-graph-div\" style=\"height:525px; width:100%;\"></div>            <script type=\"text/javascript\">                                    window.PLOTLYENV=window.PLOTLYENV || {};                                    if (document.getElementById(\"86165cdb-c20d-4158-8efc-b40d05defc99\")) {                    Plotly.newPlot(                        \"86165cdb-c20d-4158-8efc-b40d05defc99\",                        [{\"hovertemplate\": \"Type=Small Cap<br>Year=%{x}<br>Avg Yearly Returns=%{y}<extra></extra>\", \"legendgroup\": \"Small Cap\", \"line\": {\"color\": \"#636efa\", \"dash\": \"solid\"}, \"mode\": \"lines\", \"name\": \"Small Cap\", \"orientation\": \"v\", \"showlegend\": true, \"type\": \"scatter\", \"x\": [2021, 2020, 2019, 2018, 2017, 2016], \"xaxis\": \"x\", \"y\": [0.31514524746233097, 0.16933773328892318, 0.2029537191545694, -0.15159863533481002, 0.12355622053549138, 0.17414872138221338], \"yaxis\": \"y\"}, {\"hovertemplate\": \"Type=Mid Cap<br>Year=%{x}<br>Avg Yearly Returns=%{y}<extra></extra>\", \"legendgroup\": \"Mid Cap\", \"line\": {\"color\": \"#EF553B\", \"dash\": \"solid\"}, \"mode\": \"lines\", \"name\": \"Mid Cap\", \"orientation\": \"v\", \"showlegend\": true, \"type\": \"scatter\", \"x\": [2021, 2020, 2019, 2018, 2017, 2016], \"xaxis\": \"x\", \"y\": [0.20320679596257785, 0.21305388681548054, 0.2600141658722643, -0.10798177631090125, 0.12731014498241022, 0.13054281434620169], \"yaxis\": \"y\"}, {\"hovertemplate\": \"Type=Market<br>Year=%{x}<br>Avg Yearly Returns=%{y}<extra></extra>\", \"legendgroup\": \"Market\", \"line\": {\"color\": \"#00cc96\", \"dash\": \"solid\"}, \"mode\": \"lines\", \"name\": \"Market\", \"orientation\": \"v\", \"showlegend\": true, \"type\": \"scatter\", \"x\": [2021, 2020, 2019, 2018, 2017, 2016], \"xaxis\": \"x\", \"y\": [0.23726233456147178, 0.1944941354487555, 0.25398297200261066, -0.06640081305557448, 0.15028394718931384, 0.11687508938609337], \"yaxis\": \"y\"}, {\"hovertemplate\": \"Type=Large Cap<br>Year=%{x}<br>Avg Yearly Returns=%{y}<extra></extra>\", \"legendgroup\": \"Large Cap\", \"line\": {\"color\": \"#ab63fa\", \"dash\": \"solid\"}, \"mode\": \"lines\", \"name\": \"Large Cap\", \"orientation\": \"v\", \"showlegend\": true, \"type\": \"scatter\", \"x\": [2021, 2020, 2019, 2018, 2017, 2016], \"xaxis\": \"x\", \"y\": [0.13702463633762554, 0.1608553185529242, 0.2547510199288767, -0.07182928090901446, 0.17306829109610974, 0.09554094059082627], \"yaxis\": \"y\"}, {\"hovertemplate\": \"Type=Income<br>Year=%{x}<br>Avg Yearly Returns=%{y}<extra></extra>\", \"legendgroup\": \"Income\", \"line\": {\"color\": \"#FFA15A\", \"dash\": \"solid\"}, \"mode\": \"lines\", \"name\": \"Income\", \"orientation\": \"v\", \"showlegend\": true, \"type\": \"scatter\", \"x\": [2021, 2020, 2019, 2018, 2017, 2016], \"xaxis\": \"x\", \"y\": [0.23344410307050983, 0.12658379549009305, 0.2322393366839395, -0.05435593676808928, 0.16711909289845198, 0.10666050155644116], \"yaxis\": \"y\"}, {\"hovertemplate\": \"Type=Growth<br>Year=%{x}<br>Avg Yearly Returns=%{y}<extra></extra>\", \"legendgroup\": \"Growth\", \"line\": {\"color\": \"#19d3f3\", \"dash\": \"solid\"}, \"mode\": \"lines\", \"name\": \"Growth\", \"orientation\": \"v\", \"showlegend\": true, \"type\": \"scatter\", \"x\": [2021, 2020, 2019, 2018, 2017, 2016], \"xaxis\": \"x\", \"y\": [-0.023079424440437986, 0.524077519086466, 0.2992789121355395, -0.052023978090124504, 0.2832695116643176, 0.11456663909266881], \"yaxis\": \"y\"}, {\"hovertemplate\": \"Type=Bonds<br>Year=%{x}<br>Avg Yearly Returns=%{y}<extra></extra>\", \"legendgroup\": \"Bonds\", \"line\": {\"color\": \"#FF6692\", \"dash\": \"solid\"}, \"mode\": \"lines\", \"name\": \"Bonds\", \"orientation\": \"v\", \"showlegend\": true, \"type\": \"scatter\", \"x\": [2021, 2020, 2019, 2018, 2017, 2016], \"xaxis\": \"x\", \"y\": [-0.014481645232515406, 0.06630402199350201, 0.0866654852722883, 0.016678191162583185, 0.04962004095338518, -0.008531768963180046], \"yaxis\": \"y\"}],                        {\"legend\": {\"title\": {\"text\": \"Type\"}, \"tracegroupgap\": 0}, \"template\": {\"data\": {\"bar\": [{\"error_x\": {\"color\": \"#f2f5fa\"}, \"error_y\": {\"color\": \"#f2f5fa\"}, \"marker\": {\"line\": {\"color\": \"rgb(17,17,17)\", \"width\": 0.5}}, \"type\": \"bar\"}], \"barpolar\": [{\"marker\": {\"line\": {\"color\": \"rgb(17,17,17)\", \"width\": 0.5}}, \"type\": \"barpolar\"}], \"carpet\": [{\"aaxis\": {\"endlinecolor\": \"#A2B1C6\", \"gridcolor\": \"#506784\", \"linecolor\": \"#506784\", \"minorgridcolor\": \"#506784\", \"startlinecolor\": \"#A2B1C6\"}, \"baxis\": {\"endlinecolor\": \"#A2B1C6\", \"gridcolor\": \"#506784\", \"linecolor\": \"#506784\", \"minorgridcolor\": \"#506784\", \"startlinecolor\": \"#A2B1C6\"}, \"type\": \"carpet\"}], \"choropleth\": [{\"colorbar\": {\"outlinewidth\": 0, \"ticks\": \"\"}, \"type\": \"choropleth\"}], \"contour\": [{\"colorbar\": {\"outlinewidth\": 0, \"ticks\": \"\"}, \"colorscale\": [[0.0, \"#0d0887\"], [0.1111111111111111, \"#46039f\"], [0.2222222222222222, \"#7201a8\"], [0.3333333333333333, \"#9c179e\"], [0.4444444444444444, \"#bd3786\"], [0.5555555555555556, \"#d8576b\"], [0.6666666666666666, \"#ed7953\"], [0.7777777777777778, \"#fb9f3a\"], [0.8888888888888888, \"#fdca26\"], [1.0, \"#f0f921\"]], \"type\": \"contour\"}], \"contourcarpet\": [{\"colorbar\": {\"outlinewidth\": 0, \"ticks\": \"\"}, \"type\": \"contourcarpet\"}], \"heatmap\": [{\"colorbar\": {\"outlinewidth\": 0, \"ticks\": \"\"}, \"colorscale\": [[0.0, \"#0d0887\"], [0.1111111111111111, \"#46039f\"], [0.2222222222222222, \"#7201a8\"], [0.3333333333333333, \"#9c179e\"], [0.4444444444444444, \"#bd3786\"], [0.5555555555555556, \"#d8576b\"], [0.6666666666666666, \"#ed7953\"], [0.7777777777777778, \"#fb9f3a\"], [0.8888888888888888, \"#fdca26\"], [1.0, \"#f0f921\"]], \"type\": \"heatmap\"}], \"heatmapgl\": [{\"colorbar\": {\"outlinewidth\": 0, \"ticks\": \"\"}, \"colorscale\": [[0.0, \"#0d0887\"], [0.1111111111111111, \"#46039f\"], [0.2222222222222222, \"#7201a8\"], [0.3333333333333333, \"#9c179e\"], [0.4444444444444444, \"#bd3786\"], [0.5555555555555556, \"#d8576b\"], [0.6666666666666666, \"#ed7953\"], [0.7777777777777778, \"#fb9f3a\"], [0.8888888888888888, \"#fdca26\"], [1.0, \"#f0f921\"]], \"type\": \"heatmapgl\"}], \"histogram\": [{\"marker\": {\"colorbar\": {\"outlinewidth\": 0, \"ticks\": \"\"}}, \"type\": \"histogram\"}], \"histogram2d\": [{\"colorbar\": {\"outlinewidth\": 0, \"ticks\": \"\"}, \"colorscale\": [[0.0, \"#0d0887\"], [0.1111111111111111, \"#46039f\"], [0.2222222222222222, \"#7201a8\"], [0.3333333333333333, \"#9c179e\"], [0.4444444444444444, \"#bd3786\"], [0.5555555555555556, \"#d8576b\"], [0.6666666666666666, \"#ed7953\"], [0.7777777777777778, \"#fb9f3a\"], [0.8888888888888888, \"#fdca26\"], [1.0, \"#f0f921\"]], \"type\": \"histogram2d\"}], \"histogram2dcontour\": [{\"colorbar\": {\"outlinewidth\": 0, \"ticks\": \"\"}, \"colorscale\": [[0.0, \"#0d0887\"], [0.1111111111111111, \"#46039f\"], [0.2222222222222222, \"#7201a8\"], [0.3333333333333333, \"#9c179e\"], [0.4444444444444444, \"#bd3786\"], [0.5555555555555556, \"#d8576b\"], [0.6666666666666666, \"#ed7953\"], [0.7777777777777778, \"#fb9f3a\"], [0.8888888888888888, \"#fdca26\"], [1.0, \"#f0f921\"]], \"type\": \"histogram2dcontour\"}], \"mesh3d\": [{\"colorbar\": {\"outlinewidth\": 0, \"ticks\": \"\"}, \"type\": \"mesh3d\"}], \"parcoords\": [{\"line\": {\"colorbar\": {\"outlinewidth\": 0, \"ticks\": \"\"}}, \"type\": \"parcoords\"}], \"pie\": [{\"automargin\": true, \"type\": \"pie\"}], \"scatter\": [{\"marker\": {\"line\": {\"color\": \"#283442\"}}, \"type\": \"scatter\"}], \"scatter3d\": [{\"line\": {\"colorbar\": {\"outlinewidth\": 0, \"ticks\": \"\"}}, \"marker\": {\"colorbar\": {\"outlinewidth\": 0, \"ticks\": \"\"}}, \"type\": \"scatter3d\"}], \"scattercarpet\": [{\"marker\": {\"colorbar\": {\"outlinewidth\": 0, \"ticks\": \"\"}}, \"type\": \"scattercarpet\"}], \"scattergeo\": [{\"marker\": {\"colorbar\": {\"outlinewidth\": 0, \"ticks\": \"\"}}, \"type\": \"scattergeo\"}], \"scattergl\": [{\"marker\": {\"line\": {\"color\": \"#283442\"}}, \"type\": \"scattergl\"}], \"scattermapbox\": [{\"marker\": {\"colorbar\": {\"outlinewidth\": 0, \"ticks\": \"\"}}, \"type\": \"scattermapbox\"}], \"scatterpolar\": [{\"marker\": {\"colorbar\": {\"outlinewidth\": 0, \"ticks\": \"\"}}, \"type\": \"scatterpolar\"}], \"scatterpolargl\": [{\"marker\": {\"colorbar\": {\"outlinewidth\": 0, \"ticks\": \"\"}}, \"type\": \"scatterpolargl\"}], \"scatterternary\": [{\"marker\": {\"colorbar\": {\"outlinewidth\": 0, \"ticks\": \"\"}}, \"type\": \"scatterternary\"}], \"surface\": [{\"colorbar\": {\"outlinewidth\": 0, \"ticks\": \"\"}, \"colorscale\": [[0.0, \"#0d0887\"], [0.1111111111111111, \"#46039f\"], [0.2222222222222222, \"#7201a8\"], [0.3333333333333333, \"#9c179e\"], [0.4444444444444444, \"#bd3786\"], [0.5555555555555556, \"#d8576b\"], [0.6666666666666666, \"#ed7953\"], [0.7777777777777778, \"#fb9f3a\"], [0.8888888888888888, \"#fdca26\"], [1.0, \"#f0f921\"]], \"type\": \"surface\"}], \"table\": [{\"cells\": {\"fill\": {\"color\": \"#506784\"}, \"line\": {\"color\": \"rgb(17,17,17)\"}}, \"header\": {\"fill\": {\"color\": \"#2a3f5f\"}, \"line\": {\"color\": \"rgb(17,17,17)\"}}, \"type\": \"table\"}]}, \"layout\": {\"annotationdefaults\": {\"arrowcolor\": \"#f2f5fa\", \"arrowhead\": 0, \"arrowwidth\": 1}, \"autotypenumbers\": \"strict\", \"coloraxis\": {\"colorbar\": {\"outlinewidth\": 0, \"ticks\": \"\"}}, \"colorscale\": {\"diverging\": [[0, \"#8e0152\"], [0.1, \"#c51b7d\"], [0.2, \"#de77ae\"], [0.3, \"#f1b6da\"], [0.4, \"#fde0ef\"], [0.5, \"#f7f7f7\"], [0.6, \"#e6f5d0\"], [0.7, \"#b8e186\"], [0.8, \"#7fbc41\"], [0.9, \"#4d9221\"], [1, \"#276419\"]], \"sequential\": [[0.0, \"#0d0887\"], [0.1111111111111111, \"#46039f\"], [0.2222222222222222, \"#7201a8\"], [0.3333333333333333, \"#9c179e\"], [0.4444444444444444, \"#bd3786\"], [0.5555555555555556, \"#d8576b\"], [0.6666666666666666, \"#ed7953\"], [0.7777777777777778, \"#fb9f3a\"], [0.8888888888888888, \"#fdca26\"], [1.0, \"#f0f921\"]], \"sequentialminus\": [[0.0, \"#0d0887\"], [0.1111111111111111, \"#46039f\"], [0.2222222222222222, \"#7201a8\"], [0.3333333333333333, \"#9c179e\"], [0.4444444444444444, \"#bd3786\"], [0.5555555555555556, \"#d8576b\"], [0.6666666666666666, \"#ed7953\"], [0.7777777777777778, \"#fb9f3a\"], [0.8888888888888888, \"#fdca26\"], [1.0, \"#f0f921\"]]}, \"colorway\": [\"#636efa\", \"#EF553B\", \"#00cc96\", \"#ab63fa\", \"#FFA15A\", \"#19d3f3\", \"#FF6692\", \"#B6E880\", \"#FF97FF\", \"#FECB52\"], \"font\": {\"color\": \"#f2f5fa\"}, \"geo\": {\"bgcolor\": \"rgb(17,17,17)\", \"lakecolor\": \"rgb(17,17,17)\", \"landcolor\": \"rgb(17,17,17)\", \"showlakes\": true, \"showland\": true, \"subunitcolor\": \"#506784\"}, \"hoverlabel\": {\"align\": \"left\"}, \"hovermode\": \"closest\", \"mapbox\": {\"style\": \"dark\"}, \"paper_bgcolor\": \"rgb(17,17,17)\", \"plot_bgcolor\": \"rgb(17,17,17)\", \"polar\": {\"angularaxis\": {\"gridcolor\": \"#506784\", \"linecolor\": \"#506784\", \"ticks\": \"\"}, \"bgcolor\": \"rgb(17,17,17)\", \"radialaxis\": {\"gridcolor\": \"#506784\", \"linecolor\": \"#506784\", \"ticks\": \"\"}}, \"scene\": {\"xaxis\": {\"backgroundcolor\": \"rgb(17,17,17)\", \"gridcolor\": \"#506784\", \"gridwidth\": 2, \"linecolor\": \"#506784\", \"showbackground\": true, \"ticks\": \"\", \"zerolinecolor\": \"#C8D4E3\"}, \"yaxis\": {\"backgroundcolor\": \"rgb(17,17,17)\", \"gridcolor\": \"#506784\", \"gridwidth\": 2, \"linecolor\": \"#506784\", \"showbackground\": true, \"ticks\": \"\", \"zerolinecolor\": \"#C8D4E3\"}, \"zaxis\": {\"backgroundcolor\": \"rgb(17,17,17)\", \"gridcolor\": \"#506784\", \"gridwidth\": 2, \"linecolor\": \"#506784\", \"showbackground\": true, \"ticks\": \"\", \"zerolinecolor\": \"#C8D4E3\"}}, \"shapedefaults\": {\"line\": {\"color\": \"#f2f5fa\"}}, \"sliderdefaults\": {\"bgcolor\": \"#C8D4E3\", \"bordercolor\": \"rgb(17,17,17)\", \"borderwidth\": 1, \"tickwidth\": 0}, \"ternary\": {\"aaxis\": {\"gridcolor\": \"#506784\", \"linecolor\": \"#506784\", \"ticks\": \"\"}, \"baxis\": {\"gridcolor\": \"#506784\", \"linecolor\": \"#506784\", \"ticks\": \"\"}, \"bgcolor\": \"rgb(17,17,17)\", \"caxis\": {\"gridcolor\": \"#506784\", \"linecolor\": \"#506784\", \"ticks\": \"\"}}, \"title\": {\"x\": 0.05}, \"updatemenudefaults\": {\"bgcolor\": \"#506784\", \"borderwidth\": 0}, \"xaxis\": {\"automargin\": true, \"gridcolor\": \"#283442\", \"linecolor\": \"#506784\", \"ticks\": \"\", \"title\": {\"standoff\": 15}, \"zerolinecolor\": \"#283442\", \"zerolinewidth\": 2}, \"yaxis\": {\"automargin\": true, \"gridcolor\": \"#283442\", \"linecolor\": \"#506784\", \"ticks\": \"\", \"title\": {\"standoff\": 15}, \"zerolinecolor\": \"#283442\", \"zerolinewidth\": 2}}}, \"title\": {\"text\": \"Returns Over Past 5-Years by Fund Type\"}, \"xaxis\": {\"anchor\": \"y\", \"domain\": [0.0, 1.0], \"title\": {\"text\": \"Year\"}}, \"yaxis\": {\"anchor\": \"x\", \"domain\": [0.0, 1.0], \"title\": {\"text\": \"Avg Yearly Returns\"}}},                        {\"responsive\": true}                    ).then(function(){\n",
              "                            \n",
              "var gd = document.getElementById('86165cdb-c20d-4158-8efc-b40d05defc99');\n",
              "var x = new MutationObserver(function (mutations, observer) {{\n",
              "        var display = window.getComputedStyle(gd).display;\n",
              "        if (!display || display === 'none') {{\n",
              "            console.log([gd, 'removed!']);\n",
              "            Plotly.purge(gd);\n",
              "            observer.disconnect();\n",
              "        }}\n",
              "}});\n",
              "\n",
              "// Listen for the removal of the full notebook cells\n",
              "var notebookContainer = gd.closest('#notebook-container');\n",
              "if (notebookContainer) {{\n",
              "    x.observe(notebookContainer, {childList: true});\n",
              "}}\n",
              "\n",
              "// Listen for the clearing of the current output cell\n",
              "var outputEl = gd.closest('.output');\n",
              "if (outputEl) {{\n",
              "    x.observe(outputEl, {childList: true});\n",
              "}}\n",
              "\n",
              "                        })                };                            </script>        </div>\n",
              "</body>\n",
              "</html>"
            ]
          },
          "metadata": {
            "tags": []
          }
        }
      ]
    },
    {
      "cell_type": "markdown",
      "metadata": {
        "id": "40w8e3vBTHph"
      },
      "source": [
        "### **Dividends By Fund**"
      ]
    },
    {
      "cell_type": "code",
      "metadata": {
        "colab": {
          "base_uri": "https://localhost:8080/",
          "height": 0
        },
        "id": "RN-5o910GdZC",
        "outputId": "42f09a35-aac6-4dfa-8930-55b8fc7141ae"
      },
      "source": [
        "by_both_fig2 = px.line(data_frame=df_graph,x='Year',y='Avg Yearly Dividend',color='Type',title='Dividend Over Past 5-Years by Fund Type',template='plotly_dark')\n",
        "by_both_fig2.show()"
      ],
      "execution_count": 24,
      "outputs": [
        {
          "output_type": "display_data",
          "data": {
            "text/html": [
              "<html>\n",
              "<head><meta charset=\"utf-8\" /></head>\n",
              "<body>\n",
              "    <div>            <script src=\"https://cdnjs.cloudflare.com/ajax/libs/mathjax/2.7.5/MathJax.js?config=TeX-AMS-MML_SVG\"></script><script type=\"text/javascript\">if (window.MathJax) {MathJax.Hub.Config({SVG: {font: \"STIX-Web\"}});}</script>                <script type=\"text/javascript\">window.PlotlyConfig = {MathJaxConfig: 'local'};</script>\n",
              "        <script src=\"https://cdn.plot.ly/plotly-latest.min.js\"></script>                <div id=\"ee887e92-e7fc-4315-9c45-0aaad822a3bc\" class=\"plotly-graph-div\" style=\"height:525px; width:100%;\"></div>            <script type=\"text/javascript\">                                    window.PLOTLYENV=window.PLOTLYENV || {};                                    if (document.getElementById(\"ee887e92-e7fc-4315-9c45-0aaad822a3bc\")) {                    Plotly.newPlot(                        \"ee887e92-e7fc-4315-9c45-0aaad822a3bc\",                        [{\"hovertemplate\": \"Type=Small Cap<br>Year=%{x}<br>Avg Yearly Dividend=%{y}<extra></extra>\", \"legendgroup\": \"Small Cap\", \"line\": {\"color\": \"#636efa\", \"dash\": \"solid\"}, \"mode\": \"lines\", \"name\": \"Small Cap\", \"orientation\": \"v\", \"showlegend\": true, \"type\": \"scatter\", \"x\": [2021, 2020, 2019, 2018, 2017, 2016], \"xaxis\": \"x\", \"y\": [2.8528, 1.8436666666666666, 2.063333333333333, 2.188, 1.8563333333333332, 1.4045714285714284], \"yaxis\": \"y\"}, {\"hovertemplate\": \"Type=Mid Cap<br>Year=%{x}<br>Avg Yearly Dividend=%{y}<extra></extra>\", \"legendgroup\": \"Mid Cap\", \"line\": {\"color\": \"#EF553B\", \"dash\": \"solid\"}, \"mode\": \"lines\", \"name\": \"Mid Cap\", \"orientation\": \"v\", \"showlegend\": true, \"type\": \"scatter\", \"x\": [2021, 2020, 2019, 2018, 2017, 2016], \"xaxis\": \"x\", \"y\": [1.7880000000000003, 1.4736666666666667, 1.1946666666666665, 1.2433333333333334, 1.072, 0.8251428571428572], \"yaxis\": \"y\"}, {\"hovertemplate\": \"Type=Market<br>Year=%{x}<br>Avg Yearly Dividend=%{y}<extra></extra>\", \"legendgroup\": \"Market\", \"line\": {\"color\": \"#00cc96\", \"dash\": \"solid\"}, \"mode\": \"lines\", \"name\": \"Market\", \"orientation\": \"v\", \"showlegend\": true, \"type\": \"scatter\", \"x\": [2021, 2020, 2019, 2018, 2017, 2016], \"xaxis\": \"x\", \"y\": [0.0, 0.0, 0.0, 0.0, 0.0, 0.0], \"yaxis\": \"y\"}, {\"hovertemplate\": \"Type=Large Cap<br>Year=%{x}<br>Avg Yearly Dividend=%{y}<extra></extra>\", \"legendgroup\": \"Large Cap\", \"line\": {\"color\": \"#ab63fa\", \"dash\": \"solid\"}, \"mode\": \"lines\", \"name\": \"Large Cap\", \"orientation\": \"v\", \"showlegend\": true, \"type\": \"scatter\", \"x\": [2021, 2020, 2019, 2018, 2017, 2016], \"xaxis\": \"x\", \"y\": [2.1168, 2.1496666666666666, 2.2840000000000003, 2.1843333333333335, 1.7893333333333334, 1.0525714285714285], \"yaxis\": \"y\"}, {\"hovertemplate\": \"Type=Income<br>Year=%{x}<br>Avg Yearly Dividend=%{y}<extra></extra>\", \"legendgroup\": \"Income\", \"line\": {\"color\": \"#FFA15A\", \"dash\": \"solid\"}, \"mode\": \"lines\", \"name\": \"Income\", \"orientation\": \"v\", \"showlegend\": true, \"type\": \"scatter\", \"x\": [2021, 2020, 2019, 2018, 2017, 2016], \"xaxis\": \"x\", \"y\": [1.7127999999999999, 2.0853333333333333, 1.6913333333333336, 1.6693333333333333, 1.5559999999999998, 1.3039999999999998], \"yaxis\": \"y\"}, {\"hovertemplate\": \"Type=Growth<br>Year=%{x}<br>Avg Yearly Dividend=%{y}<extra></extra>\", \"legendgroup\": \"Growth\", \"line\": {\"color\": \"#19d3f3\", \"dash\": \"solid\"}, \"mode\": \"lines\", \"name\": \"Growth\", \"orientation\": \"v\", \"showlegend\": true, \"type\": \"scatter\", \"x\": [2021, 2020, 2019, 2018, 2017, 2016], \"xaxis\": \"x\", \"y\": [3.3704, 1.705, 1.9419999999999997, 1.6969999999999996, 1.4083333333333332, 1.1508571428571428], \"yaxis\": \"y\"}, {\"hovertemplate\": \"Type=Bonds<br>Year=%{x}<br>Avg Yearly Dividend=%{y}<extra></extra>\", \"legendgroup\": \"Bonds\", \"line\": {\"color\": \"#FF6692\", \"dash\": \"solid\"}, \"mode\": \"lines\", \"name\": \"Bonds\", \"orientation\": \"v\", \"showlegend\": true, \"type\": \"scatter\", \"x\": [2021, 2020, 2019, 2018, 2017, 2016], \"xaxis\": \"x\", \"y\": [0.7168000000000001, 0.9653333333333332, 1.1309999999999998, 1.0459999999999998, 0.9510000000000001, 0.8611428571428572], \"yaxis\": \"y\"}],                        {\"legend\": {\"title\": {\"text\": \"Type\"}, \"tracegroupgap\": 0}, \"template\": {\"data\": {\"bar\": [{\"error_x\": {\"color\": \"#f2f5fa\"}, \"error_y\": {\"color\": \"#f2f5fa\"}, \"marker\": {\"line\": {\"color\": \"rgb(17,17,17)\", \"width\": 0.5}}, \"type\": \"bar\"}], \"barpolar\": [{\"marker\": {\"line\": {\"color\": \"rgb(17,17,17)\", \"width\": 0.5}}, \"type\": \"barpolar\"}], \"carpet\": [{\"aaxis\": {\"endlinecolor\": \"#A2B1C6\", \"gridcolor\": \"#506784\", \"linecolor\": \"#506784\", \"minorgridcolor\": \"#506784\", \"startlinecolor\": \"#A2B1C6\"}, \"baxis\": {\"endlinecolor\": \"#A2B1C6\", \"gridcolor\": \"#506784\", \"linecolor\": \"#506784\", \"minorgridcolor\": \"#506784\", \"startlinecolor\": \"#A2B1C6\"}, \"type\": \"carpet\"}], \"choropleth\": [{\"colorbar\": {\"outlinewidth\": 0, \"ticks\": \"\"}, \"type\": \"choropleth\"}], \"contour\": [{\"colorbar\": {\"outlinewidth\": 0, \"ticks\": \"\"}, \"colorscale\": [[0.0, \"#0d0887\"], [0.1111111111111111, \"#46039f\"], [0.2222222222222222, \"#7201a8\"], [0.3333333333333333, \"#9c179e\"], [0.4444444444444444, \"#bd3786\"], [0.5555555555555556, \"#d8576b\"], [0.6666666666666666, \"#ed7953\"], [0.7777777777777778, \"#fb9f3a\"], [0.8888888888888888, \"#fdca26\"], [1.0, \"#f0f921\"]], \"type\": \"contour\"}], \"contourcarpet\": [{\"colorbar\": {\"outlinewidth\": 0, \"ticks\": \"\"}, \"type\": \"contourcarpet\"}], \"heatmap\": [{\"colorbar\": {\"outlinewidth\": 0, \"ticks\": \"\"}, \"colorscale\": [[0.0, \"#0d0887\"], [0.1111111111111111, \"#46039f\"], [0.2222222222222222, \"#7201a8\"], [0.3333333333333333, \"#9c179e\"], [0.4444444444444444, \"#bd3786\"], [0.5555555555555556, \"#d8576b\"], [0.6666666666666666, \"#ed7953\"], [0.7777777777777778, \"#fb9f3a\"], [0.8888888888888888, \"#fdca26\"], [1.0, \"#f0f921\"]], \"type\": \"heatmap\"}], \"heatmapgl\": [{\"colorbar\": {\"outlinewidth\": 0, \"ticks\": \"\"}, \"colorscale\": [[0.0, \"#0d0887\"], [0.1111111111111111, \"#46039f\"], [0.2222222222222222, \"#7201a8\"], [0.3333333333333333, \"#9c179e\"], [0.4444444444444444, \"#bd3786\"], [0.5555555555555556, \"#d8576b\"], [0.6666666666666666, \"#ed7953\"], [0.7777777777777778, \"#fb9f3a\"], [0.8888888888888888, \"#fdca26\"], [1.0, \"#f0f921\"]], \"type\": \"heatmapgl\"}], \"histogram\": [{\"marker\": {\"colorbar\": {\"outlinewidth\": 0, \"ticks\": \"\"}}, \"type\": \"histogram\"}], \"histogram2d\": [{\"colorbar\": {\"outlinewidth\": 0, \"ticks\": \"\"}, \"colorscale\": [[0.0, \"#0d0887\"], [0.1111111111111111, \"#46039f\"], [0.2222222222222222, \"#7201a8\"], [0.3333333333333333, \"#9c179e\"], [0.4444444444444444, \"#bd3786\"], [0.5555555555555556, \"#d8576b\"], [0.6666666666666666, \"#ed7953\"], [0.7777777777777778, \"#fb9f3a\"], [0.8888888888888888, \"#fdca26\"], [1.0, \"#f0f921\"]], \"type\": \"histogram2d\"}], \"histogram2dcontour\": [{\"colorbar\": {\"outlinewidth\": 0, \"ticks\": \"\"}, \"colorscale\": [[0.0, \"#0d0887\"], [0.1111111111111111, \"#46039f\"], [0.2222222222222222, \"#7201a8\"], [0.3333333333333333, \"#9c179e\"], [0.4444444444444444, \"#bd3786\"], [0.5555555555555556, \"#d8576b\"], [0.6666666666666666, \"#ed7953\"], [0.7777777777777778, \"#fb9f3a\"], [0.8888888888888888, \"#fdca26\"], [1.0, \"#f0f921\"]], \"type\": \"histogram2dcontour\"}], \"mesh3d\": [{\"colorbar\": {\"outlinewidth\": 0, \"ticks\": \"\"}, \"type\": \"mesh3d\"}], \"parcoords\": [{\"line\": {\"colorbar\": {\"outlinewidth\": 0, \"ticks\": \"\"}}, \"type\": \"parcoords\"}], \"pie\": [{\"automargin\": true, \"type\": \"pie\"}], \"scatter\": [{\"marker\": {\"line\": {\"color\": \"#283442\"}}, \"type\": \"scatter\"}], \"scatter3d\": [{\"line\": {\"colorbar\": {\"outlinewidth\": 0, \"ticks\": \"\"}}, \"marker\": {\"colorbar\": {\"outlinewidth\": 0, \"ticks\": \"\"}}, \"type\": \"scatter3d\"}], \"scattercarpet\": [{\"marker\": {\"colorbar\": {\"outlinewidth\": 0, \"ticks\": \"\"}}, \"type\": \"scattercarpet\"}], \"scattergeo\": [{\"marker\": {\"colorbar\": {\"outlinewidth\": 0, \"ticks\": \"\"}}, \"type\": \"scattergeo\"}], \"scattergl\": [{\"marker\": {\"line\": {\"color\": \"#283442\"}}, \"type\": \"scattergl\"}], \"scattermapbox\": [{\"marker\": {\"colorbar\": {\"outlinewidth\": 0, \"ticks\": \"\"}}, \"type\": \"scattermapbox\"}], \"scatterpolar\": [{\"marker\": {\"colorbar\": {\"outlinewidth\": 0, \"ticks\": \"\"}}, \"type\": \"scatterpolar\"}], \"scatterpolargl\": [{\"marker\": {\"colorbar\": {\"outlinewidth\": 0, \"ticks\": \"\"}}, \"type\": \"scatterpolargl\"}], \"scatterternary\": [{\"marker\": {\"colorbar\": {\"outlinewidth\": 0, \"ticks\": \"\"}}, \"type\": \"scatterternary\"}], \"surface\": [{\"colorbar\": {\"outlinewidth\": 0, \"ticks\": \"\"}, \"colorscale\": [[0.0, \"#0d0887\"], [0.1111111111111111, \"#46039f\"], [0.2222222222222222, \"#7201a8\"], [0.3333333333333333, \"#9c179e\"], [0.4444444444444444, \"#bd3786\"], [0.5555555555555556, \"#d8576b\"], [0.6666666666666666, \"#ed7953\"], [0.7777777777777778, \"#fb9f3a\"], [0.8888888888888888, \"#fdca26\"], [1.0, \"#f0f921\"]], \"type\": \"surface\"}], \"table\": [{\"cells\": {\"fill\": {\"color\": \"#506784\"}, \"line\": {\"color\": \"rgb(17,17,17)\"}}, \"header\": {\"fill\": {\"color\": \"#2a3f5f\"}, \"line\": {\"color\": \"rgb(17,17,17)\"}}, \"type\": \"table\"}]}, \"layout\": {\"annotationdefaults\": {\"arrowcolor\": \"#f2f5fa\", \"arrowhead\": 0, \"arrowwidth\": 1}, \"autotypenumbers\": \"strict\", \"coloraxis\": {\"colorbar\": {\"outlinewidth\": 0, \"ticks\": \"\"}}, \"colorscale\": {\"diverging\": [[0, \"#8e0152\"], [0.1, \"#c51b7d\"], [0.2, \"#de77ae\"], [0.3, \"#f1b6da\"], [0.4, \"#fde0ef\"], [0.5, \"#f7f7f7\"], [0.6, \"#e6f5d0\"], [0.7, \"#b8e186\"], [0.8, \"#7fbc41\"], [0.9, \"#4d9221\"], [1, \"#276419\"]], \"sequential\": [[0.0, \"#0d0887\"], [0.1111111111111111, \"#46039f\"], [0.2222222222222222, \"#7201a8\"], [0.3333333333333333, \"#9c179e\"], [0.4444444444444444, \"#bd3786\"], [0.5555555555555556, \"#d8576b\"], [0.6666666666666666, \"#ed7953\"], [0.7777777777777778, \"#fb9f3a\"], [0.8888888888888888, \"#fdca26\"], [1.0, \"#f0f921\"]], \"sequentialminus\": [[0.0, \"#0d0887\"], [0.1111111111111111, \"#46039f\"], [0.2222222222222222, \"#7201a8\"], [0.3333333333333333, \"#9c179e\"], [0.4444444444444444, \"#bd3786\"], [0.5555555555555556, \"#d8576b\"], [0.6666666666666666, \"#ed7953\"], [0.7777777777777778, \"#fb9f3a\"], [0.8888888888888888, \"#fdca26\"], [1.0, \"#f0f921\"]]}, \"colorway\": [\"#636efa\", \"#EF553B\", \"#00cc96\", \"#ab63fa\", \"#FFA15A\", \"#19d3f3\", \"#FF6692\", \"#B6E880\", \"#FF97FF\", \"#FECB52\"], \"font\": {\"color\": \"#f2f5fa\"}, \"geo\": {\"bgcolor\": \"rgb(17,17,17)\", \"lakecolor\": \"rgb(17,17,17)\", \"landcolor\": \"rgb(17,17,17)\", \"showlakes\": true, \"showland\": true, \"subunitcolor\": \"#506784\"}, \"hoverlabel\": {\"align\": \"left\"}, \"hovermode\": \"closest\", \"mapbox\": {\"style\": \"dark\"}, \"paper_bgcolor\": \"rgb(17,17,17)\", \"plot_bgcolor\": \"rgb(17,17,17)\", \"polar\": {\"angularaxis\": {\"gridcolor\": \"#506784\", \"linecolor\": \"#506784\", \"ticks\": \"\"}, \"bgcolor\": \"rgb(17,17,17)\", \"radialaxis\": {\"gridcolor\": \"#506784\", \"linecolor\": \"#506784\", \"ticks\": \"\"}}, \"scene\": {\"xaxis\": {\"backgroundcolor\": \"rgb(17,17,17)\", \"gridcolor\": \"#506784\", \"gridwidth\": 2, \"linecolor\": \"#506784\", \"showbackground\": true, \"ticks\": \"\", \"zerolinecolor\": \"#C8D4E3\"}, \"yaxis\": {\"backgroundcolor\": \"rgb(17,17,17)\", \"gridcolor\": \"#506784\", \"gridwidth\": 2, \"linecolor\": \"#506784\", \"showbackground\": true, \"ticks\": \"\", \"zerolinecolor\": \"#C8D4E3\"}, \"zaxis\": {\"backgroundcolor\": \"rgb(17,17,17)\", \"gridcolor\": \"#506784\", \"gridwidth\": 2, \"linecolor\": \"#506784\", \"showbackground\": true, \"ticks\": \"\", \"zerolinecolor\": \"#C8D4E3\"}}, \"shapedefaults\": {\"line\": {\"color\": \"#f2f5fa\"}}, \"sliderdefaults\": {\"bgcolor\": \"#C8D4E3\", \"bordercolor\": \"rgb(17,17,17)\", \"borderwidth\": 1, \"tickwidth\": 0}, \"ternary\": {\"aaxis\": {\"gridcolor\": \"#506784\", \"linecolor\": \"#506784\", \"ticks\": \"\"}, \"baxis\": {\"gridcolor\": \"#506784\", \"linecolor\": \"#506784\", \"ticks\": \"\"}, \"bgcolor\": \"rgb(17,17,17)\", \"caxis\": {\"gridcolor\": \"#506784\", \"linecolor\": \"#506784\", \"ticks\": \"\"}}, \"title\": {\"x\": 0.05}, \"updatemenudefaults\": {\"bgcolor\": \"#506784\", \"borderwidth\": 0}, \"xaxis\": {\"automargin\": true, \"gridcolor\": \"#283442\", \"linecolor\": \"#506784\", \"ticks\": \"\", \"title\": {\"standoff\": 15}, \"zerolinecolor\": \"#283442\", \"zerolinewidth\": 2}, \"yaxis\": {\"automargin\": true, \"gridcolor\": \"#283442\", \"linecolor\": \"#506784\", \"ticks\": \"\", \"title\": {\"standoff\": 15}, \"zerolinecolor\": \"#283442\", \"zerolinewidth\": 2}}}, \"title\": {\"text\": \"Dividend Over Past 5-Years by Fund Type\"}, \"xaxis\": {\"anchor\": \"y\", \"domain\": [0.0, 1.0], \"title\": {\"text\": \"Year\"}}, \"yaxis\": {\"anchor\": \"x\", \"domain\": [0.0, 1.0], \"title\": {\"text\": \"Avg Yearly Dividend\"}}},                        {\"responsive\": true}                    ).then(function(){\n",
              "                            \n",
              "var gd = document.getElementById('ee887e92-e7fc-4315-9c45-0aaad822a3bc');\n",
              "var x = new MutationObserver(function (mutations, observer) {{\n",
              "        var display = window.getComputedStyle(gd).display;\n",
              "        if (!display || display === 'none') {{\n",
              "            console.log([gd, 'removed!']);\n",
              "            Plotly.purge(gd);\n",
              "            observer.disconnect();\n",
              "        }}\n",
              "}});\n",
              "\n",
              "// Listen for the removal of the full notebook cells\n",
              "var notebookContainer = gd.closest('#notebook-container');\n",
              "if (notebookContainer) {{\n",
              "    x.observe(notebookContainer, {childList: true});\n",
              "}}\n",
              "\n",
              "// Listen for the clearing of the current output cell\n",
              "var outputEl = gd.closest('.output');\n",
              "if (outputEl) {{\n",
              "    x.observe(outputEl, {childList: true});\n",
              "}}\n",
              "\n",
              "                        })                };                            </script>        </div>\n",
              "</body>\n",
              "</html>"
            ]
          },
          "metadata": {
            "tags": []
          }
        }
      ]
    },
    {
      "cell_type": "markdown",
      "metadata": {
        "id": "qPEZTKSOI5f5"
      },
      "source": [
        "#**Step 8: Analyze Funds Individually by Type**"
      ]
    },
    {
      "cell_type": "markdown",
      "metadata": {
        "id": "oUxL_-WZwMlL"
      },
      "source": [
        "Now that we have analyzed the entire dataset by grouping by Fund Type and Year, we will now take a deeper, more in depth look at the indivudal funds contained within these Fund Type groups. This is where the bulk of our analysis will take place, and the aggregate information gained from this analysis will help us develop our portfolio."
      ]
    },
    {
      "cell_type": "markdown",
      "metadata": {
        "id": "7xyrzUUDm6vP"
      },
      "source": [
        "###**Create Dataframes for Each Fund Type**"
      ]
    },
    {
      "cell_type": "markdown",
      "metadata": {
        "id": "BskH-5yE2BjR"
      },
      "source": [
        "The following code creates seven dataframes, one for each Fund Type and one for the general market (based on the S&P 500)."
      ]
    },
    {
      "cell_type": "code",
      "metadata": {
        "colab": {
          "base_uri": "https://localhost:8080/"
        },
        "id": "3uthrzamzKeB",
        "outputId": "5f42fac4-5e9d-4fb4-e329-73a1812fd452"
      },
      "source": [
        "df2.Type.unique()"
      ],
      "execution_count": 25,
      "outputs": [
        {
          "output_type": "execute_result",
          "data": {
            "text/plain": [
              "array(['Income', 'Bonds', 'Growth', 'Large Cap', 'Mid Cap', 'Small Cap',\n",
              "       'Market'], dtype=object)"
            ]
          },
          "metadata": {
            "tags": []
          },
          "execution_count": 25
        }
      ]
    },
    {
      "cell_type": "code",
      "metadata": {
        "id": "Vs9lB_KRKTcC"
      },
      "source": [
        "df_income = df2[df2['Type'] == 'Income']\n",
        "df_bonds = df2[df2['Type'] == 'Bonds']\n",
        "df_growth = df2[df2['Type'] == 'Growth']\n",
        "df_large_cap = df2[df2['Type'] == 'Large Cap']\n",
        "df_mid_cap = df2[df2['Type'] == 'Mid Cap']\n",
        "df_small_cap = df2[df2['Type'] == 'Small Cap']\n",
        "df_market = df2[df2['Type'] == 'Market']"
      ],
      "execution_count": 26,
      "outputs": []
    },
    {
      "cell_type": "markdown",
      "metadata": {
        "id": "AiqluvJXvYLu"
      },
      "source": [
        "###**Income Funds**"
      ]
    },
    {
      "cell_type": "markdown",
      "metadata": {
        "id": "FMrjGBxS2ni1"
      },
      "source": [
        "The following code adds another aggregate column representing the standard deviation of the monthly returns and groups by each individual fund. This will allow us to observe the spread of the monthly returns, and thus, get a quick picture of the riskiness of the asset."
      ]
    },
    {
      "cell_type": "code",
      "metadata": {
        "colab": {
          "base_uri": "https://localhost:8080/"
        },
        "id": "bB11BmnPmaIY",
        "outputId": "e92e357d-399f-4713-9f46-1f53a2ecf5d7"
      },
      "source": [
        "df_income['St.Dev of Returns'] = df_income['Monthly Returns']"
      ],
      "execution_count": 27,
      "outputs": [
        {
          "output_type": "stream",
          "text": [
            "/usr/local/lib/python3.7/dist-packages/ipykernel_launcher.py:1: SettingWithCopyWarning:\n",
            "\n",
            "\n",
            "A value is trying to be set on a copy of a slice from a DataFrame.\n",
            "Try using .loc[row_indexer,col_indexer] = value instead\n",
            "\n",
            "See the caveats in the documentation: https://pandas.pydata.org/pandas-docs/stable/user_guide/indexing.html#returning-a-view-versus-a-copy\n",
            "\n"
          ],
          "name": "stderr"
        }
      ]
    },
    {
      "cell_type": "code",
      "metadata": {
        "id": "MWLN4uFaJPM_"
      },
      "source": [
        "df_income2 = df_income.groupby(by='Fund',as_index=False).agg({'Monthly Returns':'mean','Dividend':'mean','St.Dev of Returns':'std'})\n",
        "df_income2.rename(columns={'Monthly Returns':'Avg Monthly Returns','Dividend':'Avg Monthly Dividend'},inplace=True)"
      ],
      "execution_count": 28,
      "outputs": []
    },
    {
      "cell_type": "markdown",
      "metadata": {
        "id": "h8UWWbrS37Lr"
      },
      "source": [
        "We then multiply the \"Avg Monthly Returns\" column by 12 and change the column name to \"APR\" or the annual percentage rate (return) of the asset. We drop the dividend column to focus more on the return vs. risk of the assets."
      ]
    },
    {
      "cell_type": "code",
      "metadata": {
        "id": "7wdjSuN6ksiC"
      },
      "source": [
        "df_income2['APR'] = df_income2['Avg Monthly Returns']*12\n",
        "df_income2['Avg Yearly Dividend'] = df_income2['Avg Monthly Dividend']*12\n",
        "df_income3 = df_income2.drop(columns=['Avg Monthly Returns','Avg Monthly Dividend'])\n",
        "df_income4 = df_income3.drop(columns='Avg Yearly Dividend')"
      ],
      "execution_count": 29,
      "outputs": []
    },
    {
      "cell_type": "markdown",
      "metadata": {
        "id": "Sdko3s2E7NBV"
      },
      "source": [
        "***Monthly Income Fund Returns for Beta Calculations***"
      ]
    },
    {
      "cell_type": "markdown",
      "metadata": {
        "id": "tFOnpg2M4Wgr"
      },
      "source": [
        "The following code isolates the monthly returns for each asset into a new dataframe represented by the fund's ticker symbol. Using an imported regression tool, this new dataframe will be regressed with monthly market returns (based on the S&P 500), the slope of which will tell us the beta, or the asset's risk, relative to the market."
      ]
    },
    {
      "cell_type": "code",
      "metadata": {
        "id": "sgyBYFgNxjzR"
      },
      "source": [
        "SCHD = df_income[df_income['Fund'] == 'Schuab U.S. Divided Equity (SCHD)']['Monthly Returns']\n",
        "VIG = df_income[df_income['Fund'] == 'Vanguard Dividend Appreciation Index Fund (VIG)']['Monthly Returns']\n",
        "IDV = df_income[df_income['Fund'] == 'iShares International Select Dividend (IDV)']['Monthly Returns']\n",
        "Market = df_market['Monthly Returns']"
      ],
      "execution_count": 30,
      "outputs": []
    },
    {
      "cell_type": "markdown",
      "metadata": {
        "id": "iLgnpbPsvHYC"
      },
      "source": [
        "***Final Income Fund Table***"
      ]
    },
    {
      "cell_type": "markdown",
      "metadata": {
        "id": "7tpAfMsb5SwP"
      },
      "source": [
        "Using the dataframes and tools mentioned above, we will create a new dataset and convert it to a dataframe, inserting all of our desired information into one single table. The information shown will provide insight into the return vs. risk for each fund and will be useful when determining our final portfolio investment mix.\n"
      ]
    },
    {
      "cell_type": "code",
      "metadata": {
        "colab": {
          "base_uri": "https://localhost:8080/",
          "height": 0
        },
        "id": "OktKWQpEtdWW",
        "outputId": "82b53245-78d2-4f65-fbd6-76a39866faa0"
      },
      "source": [
        "income_core_data = {'Fund':['Schuab U.S. Divided Equity (SCHD)','Vanguard Dividend Appreciation Index Fund (VIG)','iShares International Select Dividend (IDV)'],'APR':[0.154745,0.142106,0.081792],'St.Dev of Returns':[0.047604,0.042099,0.054880],'Beta':[linregress(SCHD,Market)[0],linregress(VIG,Market)[0],linregress(IDV,Market)[0]]}\n",
        "df_income_core = pd.DataFrame(income_core_data,columns=['Fund','APR','St.Dev of Returns','Beta'])\n",
        "df_income_core"
      ],
      "execution_count": 31,
      "outputs": [
        {
          "output_type": "execute_result",
          "data": {
            "text/html": [
              "<div>\n",
              "<style scoped>\n",
              "    .dataframe tbody tr th:only-of-type {\n",
              "        vertical-align: middle;\n",
              "    }\n",
              "\n",
              "    .dataframe tbody tr th {\n",
              "        vertical-align: top;\n",
              "    }\n",
              "\n",
              "    .dataframe thead th {\n",
              "        text-align: right;\n",
              "    }\n",
              "</style>\n",
              "<table border=\"1\" class=\"dataframe\">\n",
              "  <thead>\n",
              "    <tr style=\"text-align: right;\">\n",
              "      <th></th>\n",
              "      <th>Fund</th>\n",
              "      <th>APR</th>\n",
              "      <th>St.Dev of Returns</th>\n",
              "      <th>Beta</th>\n",
              "    </tr>\n",
              "  </thead>\n",
              "  <tbody>\n",
              "    <tr>\n",
              "      <th>0</th>\n",
              "      <td>Schuab U.S. Divided Equity (SCHD)</td>\n",
              "      <td>0.154745</td>\n",
              "      <td>0.047604</td>\n",
              "      <td>0.930883</td>\n",
              "    </tr>\n",
              "    <tr>\n",
              "      <th>1</th>\n",
              "      <td>Vanguard Dividend Appreciation Index Fund (VIG)</td>\n",
              "      <td>0.142106</td>\n",
              "      <td>0.042099</td>\n",
              "      <td>1.061147</td>\n",
              "    </tr>\n",
              "    <tr>\n",
              "      <th>2</th>\n",
              "      <td>iShares International Select Dividend (IDV)</td>\n",
              "      <td>0.081792</td>\n",
              "      <td>0.054880</td>\n",
              "      <td>0.730715</td>\n",
              "    </tr>\n",
              "  </tbody>\n",
              "</table>\n",
              "</div>"
            ],
            "text/plain": [
              "                                              Fund  ...      Beta\n",
              "0                Schuab U.S. Divided Equity (SCHD)  ...  0.930883\n",
              "1  Vanguard Dividend Appreciation Index Fund (VIG)  ...  1.061147\n",
              "2      iShares International Select Dividend (IDV)  ...  0.730715\n",
              "\n",
              "[3 rows x 4 columns]"
            ]
          },
          "metadata": {
            "tags": []
          },
          "execution_count": 31
        }
      ]
    },
    {
      "cell_type": "markdown",
      "metadata": {
        "id": "8_cEcjoKwp9h"
      },
      "source": [
        "###**Bond Funds**"
      ]
    },
    {
      "cell_type": "markdown",
      "metadata": {
        "id": "q-c-s2IE7EwO"
      },
      "source": [
        "The following code adds another aggregate column representing the standard deviation of the monthly returns and groups by each individual fund. This will allow us to observe the spread of the monthly returns, and thus, get a quick picture of the riskiness of the asset."
      ]
    },
    {
      "cell_type": "code",
      "metadata": {
        "colab": {
          "base_uri": "https://localhost:8080/"
        },
        "id": "ctDjDfDxwub1",
        "outputId": "3e162220-3c25-4af8-b2d5-5bb9a21027f4"
      },
      "source": [
        "df_bonds['St.Dev of Returns'] = df_bonds['Monthly Returns']"
      ],
      "execution_count": 32,
      "outputs": [
        {
          "output_type": "stream",
          "text": [
            "/usr/local/lib/python3.7/dist-packages/ipykernel_launcher.py:1: SettingWithCopyWarning:\n",
            "\n",
            "\n",
            "A value is trying to be set on a copy of a slice from a DataFrame.\n",
            "Try using .loc[row_indexer,col_indexer] = value instead\n",
            "\n",
            "See the caveats in the documentation: https://pandas.pydata.org/pandas-docs/stable/user_guide/indexing.html#returning-a-view-versus-a-copy\n",
            "\n"
          ],
          "name": "stderr"
        }
      ]
    },
    {
      "cell_type": "code",
      "metadata": {
        "id": "5QL7fsJLwx2u"
      },
      "source": [
        "df_bonds2 = df_bonds.groupby(by='Fund',as_index=False).agg({'Monthly Returns':'mean','Dividend':'mean','St.Dev of Returns':'std'})\n",
        "df_bonds2.rename(columns={'Monthly Returns':'Avg Monthly Returns','Dividend':'Avg Monthly Dividend'},inplace=True)"
      ],
      "execution_count": 33,
      "outputs": []
    },
    {
      "cell_type": "markdown",
      "metadata": {
        "id": "4HZ3Y8T87PTq"
      },
      "source": [
        "We then multiply the \"Avg Monthly Returns\" column by 12 and change the column name to \"APR\" or the annual percentage rate (return) of the asset. We drop the dividend column to focus more on the return vs. risk of the assets."
      ]
    },
    {
      "cell_type": "code",
      "metadata": {
        "id": "QXdGDsMWw1zN"
      },
      "source": [
        "df_bonds2['APR'] = df_bonds2['Avg Monthly Returns']*12\n",
        "df_bonds2['Avg Yearly Dividend'] = df_bonds2['Avg Monthly Dividend']*12\n",
        "df_bonds3 = df_bonds2.drop(columns=['Avg Monthly Returns','Avg Monthly Dividend'])\n",
        "df_bonds4 = df_bonds3.drop(columns='Avg Yearly Dividend')"
      ],
      "execution_count": 34,
      "outputs": []
    },
    {
      "cell_type": "markdown",
      "metadata": {
        "id": "4x5N_EEJ1kLm"
      },
      "source": [
        "***Monthly Bond Fund Returns for Beta Calculations***"
      ]
    },
    {
      "cell_type": "markdown",
      "metadata": {
        "id": "ix17IAW67VHD"
      },
      "source": [
        "The following code isolates the monthly returns for each asset into a new dataframe represented by the fund's ticker symbol. Using an imported regression tool, this new dataframe will be regressed with monthly market returns (based on the S&P 500), the slope of which will tell us the beta, or the asset's risk, relative to the market."
      ]
    },
    {
      "cell_type": "code",
      "metadata": {
        "id": "M9MOm2-uw6Gc"
      },
      "source": [
        "FXNAX = df_bonds[df_bonds['Fund'] == 'Fidelity U.S. Bond Index Fund (FXNAX)']['Monthly Returns']\n",
        "PZA = df_bonds[df_bonds['Fund'] == 'Invesco National AMT-Free Municipal Bond (PZA)']['Monthly Returns']\n",
        "VCSH = df_bonds[df_bonds['Fund'] == 'Vanguard Short-Term Corporate Bond Index Fund (VCSH)']['Monthly Returns']"
      ],
      "execution_count": 35,
      "outputs": []
    },
    {
      "cell_type": "markdown",
      "metadata": {
        "id": "OTjjj2Ob1rBB"
      },
      "source": [
        "***Final Bond Fund Table***"
      ]
    },
    {
      "cell_type": "markdown",
      "metadata": {
        "id": "1amJwqaV7bBb"
      },
      "source": [
        "Using the dataframes and tools mentioned above, we will create a new dataset and convert it to a dataframe, inserting all of our desired information into one single table. The information shown will provide insight into the return vs. risk for each fund and will be useful when determining our final portfolio investment mix."
      ]
    },
    {
      "cell_type": "code",
      "metadata": {
        "colab": {
          "base_uri": "https://localhost:8080/",
          "height": 0
        },
        "id": "7Rdrl2a2w8KW",
        "outputId": "5a0ecf33-88aa-47c0-b1b5-d214b220fc13"
      },
      "source": [
        "bonds_core_data = {'Fund':['Fidelity U.S. Bond Index Fund (FXNAX)','Invesco National AMT-Free Municipal Bond (PZA)','Vanguard Short-Term Corporate Bond Index Fund (VCSH)'],'APR':[0.030616,0.040588,0.053750],'St.Dev of Returns':[0.009195,0.014498,0.007919],'Beta':[linregress(FXNAX,Market)[0],linregress(PZA,Market)[0],linregress(VCSH,Market)[0]]}\n",
        "df_bonds_core = pd.DataFrame(bonds_core_data,columns=['Fund','APR','St.Dev of Returns','Beta'])\n",
        "df_bonds_core"
      ],
      "execution_count": 36,
      "outputs": [
        {
          "output_type": "execute_result",
          "data": {
            "text/html": [
              "<div>\n",
              "<style scoped>\n",
              "    .dataframe tbody tr th:only-of-type {\n",
              "        vertical-align: middle;\n",
              "    }\n",
              "\n",
              "    .dataframe tbody tr th {\n",
              "        vertical-align: top;\n",
              "    }\n",
              "\n",
              "    .dataframe thead th {\n",
              "        text-align: right;\n",
              "    }\n",
              "</style>\n",
              "<table border=\"1\" class=\"dataframe\">\n",
              "  <thead>\n",
              "    <tr style=\"text-align: right;\">\n",
              "      <th></th>\n",
              "      <th>Fund</th>\n",
              "      <th>APR</th>\n",
              "      <th>St.Dev of Returns</th>\n",
              "      <th>Beta</th>\n",
              "    </tr>\n",
              "  </thead>\n",
              "  <tbody>\n",
              "    <tr>\n",
              "      <th>0</th>\n",
              "      <td>Fidelity U.S. Bond Index Fund (FXNAX)</td>\n",
              "      <td>0.030616</td>\n",
              "      <td>0.009195</td>\n",
              "      <td>0.002457</td>\n",
              "    </tr>\n",
              "    <tr>\n",
              "      <th>1</th>\n",
              "      <td>Invesco National AMT-Free Municipal Bond (PZA)</td>\n",
              "      <td>0.040588</td>\n",
              "      <td>0.014498</td>\n",
              "      <td>0.542755</td>\n",
              "    </tr>\n",
              "    <tr>\n",
              "      <th>2</th>\n",
              "      <td>Vanguard Short-Term Corporate Bond Index Fund ...</td>\n",
              "      <td>0.053750</td>\n",
              "      <td>0.007919</td>\n",
              "      <td>3.095575</td>\n",
              "    </tr>\n",
              "  </tbody>\n",
              "</table>\n",
              "</div>"
            ],
            "text/plain": [
              "                                                Fund  ...      Beta\n",
              "0              Fidelity U.S. Bond Index Fund (FXNAX)  ...  0.002457\n",
              "1     Invesco National AMT-Free Municipal Bond (PZA)  ...  0.542755\n",
              "2  Vanguard Short-Term Corporate Bond Index Fund ...  ...  3.095575\n",
              "\n",
              "[3 rows x 4 columns]"
            ]
          },
          "metadata": {
            "tags": []
          },
          "execution_count": 36
        }
      ]
    },
    {
      "cell_type": "markdown",
      "metadata": {
        "id": "mERwkUiJ7WJY"
      },
      "source": [
        "###**Growth Funds**"
      ]
    },
    {
      "cell_type": "markdown",
      "metadata": {
        "id": "nvVmRlX_7yxD"
      },
      "source": [
        "The following code adds another aggregate column representing the standard deviation of the monthly returns and groups by each individual fund. This will allow us to observe the spread of the monthly returns, and thus, get a quick picture of the riskiness of the asset."
      ]
    },
    {
      "cell_type": "code",
      "metadata": {
        "colab": {
          "base_uri": "https://localhost:8080/"
        },
        "id": "upk9R2Xb7U5G",
        "outputId": "eb54952f-4baf-4011-d531-6a85cd74c475"
      },
      "source": [
        "df_growth['St.Dev of Returns'] = df_growth['Monthly Returns']"
      ],
      "execution_count": 37,
      "outputs": [
        {
          "output_type": "stream",
          "text": [
            "/usr/local/lib/python3.7/dist-packages/ipykernel_launcher.py:1: SettingWithCopyWarning:\n",
            "\n",
            "\n",
            "A value is trying to be set on a copy of a slice from a DataFrame.\n",
            "Try using .loc[row_indexer,col_indexer] = value instead\n",
            "\n",
            "See the caveats in the documentation: https://pandas.pydata.org/pandas-docs/stable/user_guide/indexing.html#returning-a-view-versus-a-copy\n",
            "\n"
          ],
          "name": "stderr"
        }
      ]
    },
    {
      "cell_type": "code",
      "metadata": {
        "id": "XVhiYTIq7eJK"
      },
      "source": [
        "df_growth2 = df_growth.groupby(by='Fund',as_index=False).agg({'Monthly Returns':'mean','Dividend':'mean','St.Dev of Returns':'std'})\n",
        "df_growth2.rename(columns={'Monthly Returns':'Avg Monthly Returns','Dividend':'Avg Monthly Dividend'},inplace=True)"
      ],
      "execution_count": 38,
      "outputs": []
    },
    {
      "cell_type": "markdown",
      "metadata": {
        "id": "0pfS9abi70SE"
      },
      "source": [
        "We then multiply the \"Avg Monthly Returns\" column by 12 and change the column name to \"APR\" or the annual percentage rate (return) of the asset. We drop the dividend column to focus more on the return vs. risk of the assets."
      ]
    },
    {
      "cell_type": "code",
      "metadata": {
        "id": "g0QAaVhL7gE9"
      },
      "source": [
        "df_growth2['APR'] = df_growth2['Avg Monthly Returns']*12\n",
        "df_growth2['Avg Yearly Dividend'] = df_growth2['Avg Monthly Dividend']*12\n",
        "df_growth3 = df_growth2.drop(columns=['Avg Monthly Returns','Avg Monthly Dividend'])\n",
        "df_growth4 = df_growth3.drop(columns='Avg Yearly Dividend')"
      ],
      "execution_count": 39,
      "outputs": []
    },
    {
      "cell_type": "markdown",
      "metadata": {
        "id": "0PywYsp50LFo"
      },
      "source": [
        "***Monthly Growth Fund Returns for Beta Calculations***"
      ]
    },
    {
      "cell_type": "markdown",
      "metadata": {
        "id": "_X6k1-uX72s4"
      },
      "source": [
        "The following code isolates the monthly returns for each asset into a new dataframe represented by the fund's ticker symbol. Using an imported regression tool, this new dataframe will be regressed with monthly market returns (based on the S&P 500), the slope of which will tell us the beta, or the asset's risk, relative to the market."
      ]
    },
    {
      "cell_type": "code",
      "metadata": {
        "id": "V_DPyPq77jvX"
      },
      "source": [
        "ARKK = df_growth[df_growth['Fund'] == 'ARK Innovation (ARKK)']['Monthly Returns']\n",
        "VUG = df_growth[df_growth['Fund'] == 'Vanguard Growth Index Fund (VUG)']['Monthly Returns']\n",
        "IJH = df_growth[df_growth['Fund'] == 'iShares Core S&P Mid-Cap (IJH)']['Monthly Returns']"
      ],
      "execution_count": 40,
      "outputs": []
    },
    {
      "cell_type": "markdown",
      "metadata": {
        "id": "MwCQduGk0Tas"
      },
      "source": [
        "***Final Growth Fund Table***"
      ]
    },
    {
      "cell_type": "markdown",
      "metadata": {
        "id": "FCT5DO7g74qK"
      },
      "source": [
        "Using the dataframes and tools mentioned above, we will create a new dataset and convert it to a dataframe, inserting all of our desired information into one single table. The information shown will provide insight into the return vs. risk for each fund and will be useful when determining our final portfolio investment mix."
      ]
    },
    {
      "cell_type": "code",
      "metadata": {
        "colab": {
          "base_uri": "https://localhost:8080/",
          "height": 0
        },
        "id": "nirWgpnm7mvo",
        "outputId": "32b85107-b240-4004-f631-9133a28e5347"
      },
      "source": [
        "growth_core_data = {'Fund':['ARK Innovation (ARKK)','Vanguard Growth Index Fund (VUG)','iShares Core S&P Mid-Cap (IJH)'],'APR':[0.356687,0.180537,0.129866],'St.Dev of Returns':[0.096830,0.051729,0.059406],'Beta':[linregress(ARKK,Market)[0],linregress(VUG,Market)[0],linregress(IJH,Market)[0]]}\n",
        "df_growth_core = pd.DataFrame(growth_core_data,columns=['Fund','APR','St.Dev of Returns','Beta'])\n",
        "df_growth_core"
      ],
      "execution_count": 41,
      "outputs": [
        {
          "output_type": "execute_result",
          "data": {
            "text/html": [
              "<div>\n",
              "<style scoped>\n",
              "    .dataframe tbody tr th:only-of-type {\n",
              "        vertical-align: middle;\n",
              "    }\n",
              "\n",
              "    .dataframe tbody tr th {\n",
              "        vertical-align: top;\n",
              "    }\n",
              "\n",
              "    .dataframe thead th {\n",
              "        text-align: right;\n",
              "    }\n",
              "</style>\n",
              "<table border=\"1\" class=\"dataframe\">\n",
              "  <thead>\n",
              "    <tr style=\"text-align: right;\">\n",
              "      <th></th>\n",
              "      <th>Fund</th>\n",
              "      <th>APR</th>\n",
              "      <th>St.Dev of Returns</th>\n",
              "      <th>Beta</th>\n",
              "    </tr>\n",
              "  </thead>\n",
              "  <tbody>\n",
              "    <tr>\n",
              "      <th>0</th>\n",
              "      <td>ARK Innovation (ARKK)</td>\n",
              "      <td>0.356687</td>\n",
              "      <td>0.096830</td>\n",
              "      <td>0.365176</td>\n",
              "    </tr>\n",
              "    <tr>\n",
              "      <th>1</th>\n",
              "      <td>Vanguard Growth Index Fund (VUG)</td>\n",
              "      <td>0.180537</td>\n",
              "      <td>0.051729</td>\n",
              "      <td>0.854302</td>\n",
              "    </tr>\n",
              "    <tr>\n",
              "      <th>2</th>\n",
              "      <td>iShares Core S&amp;P Mid-Cap (IJH)</td>\n",
              "      <td>0.129866</td>\n",
              "      <td>0.059406</td>\n",
              "      <td>0.733567</td>\n",
              "    </tr>\n",
              "  </tbody>\n",
              "</table>\n",
              "</div>"
            ],
            "text/plain": [
              "                               Fund       APR  St.Dev of Returns      Beta\n",
              "0             ARK Innovation (ARKK)  0.356687           0.096830  0.365176\n",
              "1  Vanguard Growth Index Fund (VUG)  0.180537           0.051729  0.854302\n",
              "2    iShares Core S&P Mid-Cap (IJH)  0.129866           0.059406  0.733567"
            ]
          },
          "metadata": {
            "tags": []
          },
          "execution_count": 41
        }
      ]
    },
    {
      "cell_type": "markdown",
      "metadata": {
        "id": "WbOJynus2BFp"
      },
      "source": [
        "###**Large Cap Funds**"
      ]
    },
    {
      "cell_type": "markdown",
      "metadata": {
        "id": "kScxyq4x8du4"
      },
      "source": [
        "The following code adds another aggregate column representing the standard deviation of the monthly returns and groups by each individual fund. This will allow us to observe the spread of the monthly returns, and thus, get a quick picture of the riskiness of the asset."
      ]
    },
    {
      "cell_type": "code",
      "metadata": {
        "colab": {
          "base_uri": "https://localhost:8080/"
        },
        "id": "GBKAEL-r2IOD",
        "outputId": "8b0bfa3c-f1d5-4af2-a35d-f458471461f6"
      },
      "source": [
        "df_large_cap['St.Dev of Returns'] = df_large_cap['Monthly Returns']"
      ],
      "execution_count": 42,
      "outputs": [
        {
          "output_type": "stream",
          "text": [
            "/usr/local/lib/python3.7/dist-packages/ipykernel_launcher.py:1: SettingWithCopyWarning:\n",
            "\n",
            "\n",
            "A value is trying to be set on a copy of a slice from a DataFrame.\n",
            "Try using .loc[row_indexer,col_indexer] = value instead\n",
            "\n",
            "See the caveats in the documentation: https://pandas.pydata.org/pandas-docs/stable/user_guide/indexing.html#returning-a-view-versus-a-copy\n",
            "\n"
          ],
          "name": "stderr"
        }
      ]
    },
    {
      "cell_type": "code",
      "metadata": {
        "id": "oj3CS6Ev2IZz"
      },
      "source": [
        "df_large_cap2 = df_large_cap.groupby(by='Fund',as_index=False).agg({'Monthly Returns':'mean','Dividend':'mean','St.Dev of Returns':'std'})\n",
        "df_large_cap2.rename(columns={'Monthly Returns':'Avg Monthly Returns','Dividend':'Avg Monthly Dividend'},inplace=True)"
      ],
      "execution_count": 43,
      "outputs": []
    },
    {
      "cell_type": "markdown",
      "metadata": {
        "id": "kGDINFVp8efy"
      },
      "source": [
        "We then multiply the \"Avg Monthly Returns\" column by 12 and change the column name to \"APR\" or the annual percentage rate (return) of the asset. We drop the dividend column to focus more on the return vs. risk of the assets."
      ]
    },
    {
      "cell_type": "code",
      "metadata": {
        "id": "U0sFFZOy2IhR"
      },
      "source": [
        "df_large_cap2['APR'] = df_large_cap2['Avg Monthly Returns']*12\n",
        "df_large_cap2['Avg Yearly Dividend'] = df_large_cap2['Avg Monthly Dividend']*12\n",
        "df_large_cap3 = df_large_cap2.drop(columns=['Avg Monthly Returns','Avg Monthly Dividend'])\n",
        "df_large_cap4 = df_large_cap3.drop(columns='Avg Yearly Dividend')"
      ],
      "execution_count": 44,
      "outputs": []
    },
    {
      "cell_type": "markdown",
      "metadata": {
        "id": "CSPDMX4E2PP5"
      },
      "source": [
        "***Monthly Large Cap Fund Returns for Beta Calculations***"
      ]
    },
    {
      "cell_type": "markdown",
      "metadata": {
        "id": "myd4EYgz8f_b"
      },
      "source": [
        "The following code isolates the monthly returns for each asset into a new dataframe represented by the fund's ticker symbol. Using an imported regression tool, this new dataframe will be regressed with monthly market returns (based on the S&P 500), the slope of which will tell us the beta, or the asset's risk, relative to the market."
      ]
    },
    {
      "cell_type": "code",
      "metadata": {
        "id": "O1GzEi3c2ImR"
      },
      "source": [
        "FLCPX = df_large_cap[df_large_cap['Fund'] == 'Fidelity SAI U.S. Large Cap Index Fund (FLCPX)']['Monthly Returns']\n",
        "SCHF = df_large_cap[df_large_cap['Fund'] == 'Schwab International Equity (SCHF)']['Monthly Returns']\n",
        "VOO = df_large_cap[df_large_cap['Fund'] == 'Vanguard S&P 500 (VOO)']['Monthly Returns']"
      ],
      "execution_count": 45,
      "outputs": []
    },
    {
      "cell_type": "markdown",
      "metadata": {
        "id": "wkjAmw462XYv"
      },
      "source": [
        "***Final Large Cap Fund Table***"
      ]
    },
    {
      "cell_type": "markdown",
      "metadata": {
        "id": "LDl009dj8hfw"
      },
      "source": [
        "Using the dataframes and tools mentioned above, we will create a new dataset and convert it to a dataframe, inserting all of our desired information into one single table. The information shown will provide insight into the return vs. risk for each fund and will be useful when determining our final portfolio investment mix."
      ]
    },
    {
      "cell_type": "code",
      "metadata": {
        "colab": {
          "base_uri": "https://localhost:8080/",
          "height": 0
        },
        "id": "XJEE4Sd-2I2Y",
        "outputId": "4ceebb31-1048-42b7-f249-fad21316adcd"
      },
      "source": [
        "large_cap_core_data = {'Fund':['Fidelity SAI U.S. Large Cap Index Fund (FLCPX)','Schwab International Equity (SCHF)','Vanguard S&P 500 (VOO)'],'APR':[0.144036,0.085568,0.148199],'St.Dev of Returns':[0.048791,0.044257,0.047275],'Beta':[linregress(FLCPX,Market)[0],linregress(SCHF,Market)[0],linregress(VOO,Market)[0]]}\n",
        "df_large_cap_core = pd.DataFrame(large_cap_core_data,columns=['Fund','APR','St.Dev of Returns','Beta'])\n",
        "df_large_cap_core"
      ],
      "execution_count": 46,
      "outputs": [
        {
          "output_type": "execute_result",
          "data": {
            "text/html": [
              "<div>\n",
              "<style scoped>\n",
              "    .dataframe tbody tr th:only-of-type {\n",
              "        vertical-align: middle;\n",
              "    }\n",
              "\n",
              "    .dataframe tbody tr th {\n",
              "        vertical-align: top;\n",
              "    }\n",
              "\n",
              "    .dataframe thead th {\n",
              "        text-align: right;\n",
              "    }\n",
              "</style>\n",
              "<table border=\"1\" class=\"dataframe\">\n",
              "  <thead>\n",
              "    <tr style=\"text-align: right;\">\n",
              "      <th></th>\n",
              "      <th>Fund</th>\n",
              "      <th>APR</th>\n",
              "      <th>St.Dev of Returns</th>\n",
              "      <th>Beta</th>\n",
              "    </tr>\n",
              "  </thead>\n",
              "  <tbody>\n",
              "    <tr>\n",
              "      <th>0</th>\n",
              "      <td>Fidelity SAI U.S. Large Cap Index Fund (FLCPX)</td>\n",
              "      <td>0.144036</td>\n",
              "      <td>0.048791</td>\n",
              "      <td>0.929434</td>\n",
              "    </tr>\n",
              "    <tr>\n",
              "      <th>1</th>\n",
              "      <td>Schwab International Equity (SCHF)</td>\n",
              "      <td>0.085568</td>\n",
              "      <td>0.044257</td>\n",
              "      <td>0.925562</td>\n",
              "    </tr>\n",
              "    <tr>\n",
              "      <th>2</th>\n",
              "      <td>Vanguard S&amp;P 500 (VOO)</td>\n",
              "      <td>0.148199</td>\n",
              "      <td>0.047275</td>\n",
              "      <td>0.972170</td>\n",
              "    </tr>\n",
              "  </tbody>\n",
              "</table>\n",
              "</div>"
            ],
            "text/plain": [
              "                                             Fund  ...      Beta\n",
              "0  Fidelity SAI U.S. Large Cap Index Fund (FLCPX)  ...  0.929434\n",
              "1              Schwab International Equity (SCHF)  ...  0.925562\n",
              "2                          Vanguard S&P 500 (VOO)  ...  0.972170\n",
              "\n",
              "[3 rows x 4 columns]"
            ]
          },
          "metadata": {
            "tags": []
          },
          "execution_count": 46
        }
      ]
    },
    {
      "cell_type": "markdown",
      "metadata": {
        "id": "84d_rvQR4OX5"
      },
      "source": [
        "###**Mid Cap Funds**"
      ]
    },
    {
      "cell_type": "markdown",
      "metadata": {
        "id": "_X7RcsNf8jPS"
      },
      "source": [
        "The following code adds another aggregate column representing the standard deviation of the monthly returns and groups by each individual fund. This will allow us to observe the spread of the monthly returns, and thus, get a quick picture of the riskiness of the asset."
      ]
    },
    {
      "cell_type": "code",
      "metadata": {
        "colab": {
          "base_uri": "https://localhost:8080/"
        },
        "id": "61RwI3ma4TwD",
        "outputId": "88910e61-b4ee-4c5c-f291-62f3fdae54bd"
      },
      "source": [
        "df_mid_cap['St.Dev of Returns'] = df_mid_cap['Monthly Returns']"
      ],
      "execution_count": 47,
      "outputs": [
        {
          "output_type": "stream",
          "text": [
            "/usr/local/lib/python3.7/dist-packages/ipykernel_launcher.py:1: SettingWithCopyWarning:\n",
            "\n",
            "\n",
            "A value is trying to be set on a copy of a slice from a DataFrame.\n",
            "Try using .loc[row_indexer,col_indexer] = value instead\n",
            "\n",
            "See the caveats in the documentation: https://pandas.pydata.org/pandas-docs/stable/user_guide/indexing.html#returning-a-view-versus-a-copy\n",
            "\n"
          ],
          "name": "stderr"
        }
      ]
    },
    {
      "cell_type": "code",
      "metadata": {
        "id": "v_ho8mFA4UIT"
      },
      "source": [
        "df_mid_cap2 = df_mid_cap.groupby(by='Fund',as_index=False).agg({'Monthly Returns':'mean','Dividend':'mean','St.Dev of Returns':'std'})\n",
        "df_mid_cap2.rename(columns={'Monthly Returns':'Avg Monthly Returns','Dividend':'Avg Monthly Dividend'},inplace=True)"
      ],
      "execution_count": 48,
      "outputs": []
    },
    {
      "cell_type": "markdown",
      "metadata": {
        "id": "nL6HC-wg8j0A"
      },
      "source": [
        "The following code adds another aggregate column representing the standard deviation of the monthly returns and groups by each individual fund. This will allow us to observe the spread of the monthly returns, and thus, get a quick picture of the riskiness of the asset."
      ]
    },
    {
      "cell_type": "code",
      "metadata": {
        "id": "X-i248Be4UVm"
      },
      "source": [
        "df_mid_cap2['APR'] = df_mid_cap2['Avg Monthly Returns']*12\n",
        "df_mid_cap2['Avg Yearly Dividend'] = df_mid_cap2['Avg Monthly Dividend']*12\n",
        "df_mid_cap3 = df_mid_cap2.drop(columns=['Avg Monthly Returns','Avg Monthly Dividend'])\n",
        "df_mid_cap4 = df_mid_cap3.drop(columns='Avg Yearly Dividend')"
      ],
      "execution_count": 49,
      "outputs": []
    },
    {
      "cell_type": "markdown",
      "metadata": {
        "id": "xUpIa_AF4c6r"
      },
      "source": [
        "***Monthly Mid Cap Fund Returns for Beta Calculation***"
      ]
    },
    {
      "cell_type": "markdown",
      "metadata": {
        "id": "wT6-o2f_8k8A"
      },
      "source": [
        "The following code isolates the monthly returns for each asset into a new dataframe represented by the fund's ticker symbol. Using an imported regression tool, this new dataframe will be regressed with monthly market returns (based on the S&P 500), the slope of which will tell us the beta, or the asset's risk, relative to the market."
      ]
    },
    {
      "cell_type": "code",
      "metadata": {
        "id": "Sjup4NQ64Uew"
      },
      "source": [
        "JHMM = df_mid_cap[df_mid_cap['Fund'] == 'John Hancock Multifactor Mid Cap (JHMM)']['Monthly Returns']\n",
        "VO = df_mid_cap[df_mid_cap['Fund'] == 'Vanguard Mid-Cap Index Fund (VO)']['Monthly Returns']\n",
        "IWR = df_mid_cap[df_mid_cap['Fund'] == 'iShares Russell Mid-Cap ETF (IWR)']['Monthly Returns']"
      ],
      "execution_count": 50,
      "outputs": []
    },
    {
      "cell_type": "markdown",
      "metadata": {
        "id": "1tn3aEt04fbE"
      },
      "source": [
        "***Final Mid Cap Fund Table***"
      ]
    },
    {
      "cell_type": "markdown",
      "metadata": {
        "id": "C846Fvfu8mGb"
      },
      "source": [
        "Using the dataframes and tools mentioned above, we will create a new dataset and convert it to a dataframe, inserting all of our desired information into one single table. The information shown will provide insight into the return vs. risk for each fund and will be useful when determining our final portfolio investment mix."
      ]
    },
    {
      "cell_type": "code",
      "metadata": {
        "colab": {
          "base_uri": "https://localhost:8080/",
          "height": 0
        },
        "id": "XjzQtmP84UoM",
        "outputId": "36fb92ad-547c-4f30-bb7a-6576ff3fa69b"
      },
      "source": [
        "mid_cap_core_data = {'Fund':['John Hancock Multifactor Mid Cap (JHMM)','Vanguard Mid-Cap Index Fund (VO)','iShares Russell Mid-Cap ETF (IWR)'],'APR':[0.125665,0.133274,0.132991],'St.Dev of Returns':[0.055293,0.053174,0.054860],'Beta':[linregress(JHMM,Market)[0],linregress(VO,Market)[0],linregress(IWR,Market)[0]]}\n",
        "df_mid_cap_core = pd.DataFrame(mid_cap_core_data,columns=['Fund','APR','St.Dev of Returns','Beta'])\n",
        "df_mid_cap_core"
      ],
      "execution_count": 51,
      "outputs": [
        {
          "output_type": "execute_result",
          "data": {
            "text/html": [
              "<div>\n",
              "<style scoped>\n",
              "    .dataframe tbody tr th:only-of-type {\n",
              "        vertical-align: middle;\n",
              "    }\n",
              "\n",
              "    .dataframe tbody tr th {\n",
              "        vertical-align: top;\n",
              "    }\n",
              "\n",
              "    .dataframe thead th {\n",
              "        text-align: right;\n",
              "    }\n",
              "</style>\n",
              "<table border=\"1\" class=\"dataframe\">\n",
              "  <thead>\n",
              "    <tr style=\"text-align: right;\">\n",
              "      <th></th>\n",
              "      <th>Fund</th>\n",
              "      <th>APR</th>\n",
              "      <th>St.Dev of Returns</th>\n",
              "      <th>Beta</th>\n",
              "    </tr>\n",
              "  </thead>\n",
              "  <tbody>\n",
              "    <tr>\n",
              "      <th>0</th>\n",
              "      <td>John Hancock Multifactor Mid Cap (JHMM)</td>\n",
              "      <td>0.125665</td>\n",
              "      <td>0.055293</td>\n",
              "      <td>0.800530</td>\n",
              "    </tr>\n",
              "    <tr>\n",
              "      <th>1</th>\n",
              "      <td>Vanguard Mid-Cap Index Fund (VO)</td>\n",
              "      <td>0.133274</td>\n",
              "      <td>0.053174</td>\n",
              "      <td>0.835987</td>\n",
              "    </tr>\n",
              "    <tr>\n",
              "      <th>2</th>\n",
              "      <td>iShares Russell Mid-Cap ETF (IWR)</td>\n",
              "      <td>0.132991</td>\n",
              "      <td>0.054860</td>\n",
              "      <td>0.806122</td>\n",
              "    </tr>\n",
              "  </tbody>\n",
              "</table>\n",
              "</div>"
            ],
            "text/plain": [
              "                                      Fund  ...      Beta\n",
              "0  John Hancock Multifactor Mid Cap (JHMM)  ...  0.800530\n",
              "1         Vanguard Mid-Cap Index Fund (VO)  ...  0.835987\n",
              "2        iShares Russell Mid-Cap ETF (IWR)  ...  0.806122\n",
              "\n",
              "[3 rows x 4 columns]"
            ]
          },
          "metadata": {
            "tags": []
          },
          "execution_count": 51
        }
      ]
    },
    {
      "cell_type": "markdown",
      "metadata": {
        "id": "PrcQAbYv547s"
      },
      "source": [
        "###**Small Cap Funds**"
      ]
    },
    {
      "cell_type": "markdown",
      "metadata": {
        "id": "L0XhVPBf8nTZ"
      },
      "source": [
        "The following code adds another aggregate column representing the standard deviation of the monthly returns and groups by each individual fund. This will allow us to observe the spread of the monthly returns, and thus, get a quick picture of the riskiness of the asset."
      ]
    },
    {
      "cell_type": "code",
      "metadata": {
        "colab": {
          "base_uri": "https://localhost:8080/"
        },
        "id": "ydt1FEBc561v",
        "outputId": "1584c39f-7f68-4e82-f3d8-62d805e29c5c"
      },
      "source": [
        "df_small_cap['St.Dev of Returns'] = df_small_cap['Monthly Returns']"
      ],
      "execution_count": 52,
      "outputs": [
        {
          "output_type": "stream",
          "text": [
            "/usr/local/lib/python3.7/dist-packages/ipykernel_launcher.py:1: SettingWithCopyWarning:\n",
            "\n",
            "\n",
            "A value is trying to be set on a copy of a slice from a DataFrame.\n",
            "Try using .loc[row_indexer,col_indexer] = value instead\n",
            "\n",
            "See the caveats in the documentation: https://pandas.pydata.org/pandas-docs/stable/user_guide/indexing.html#returning-a-view-versus-a-copy\n",
            "\n"
          ],
          "name": "stderr"
        }
      ]
    },
    {
      "cell_type": "code",
      "metadata": {
        "id": "PIdWNHTp567J"
      },
      "source": [
        "df_small_cap2 = df_small_cap.groupby(by='Fund',as_index=False).agg({'Monthly Returns':'mean','Dividend':'mean','St.Dev of Returns':'std'})\n",
        "df_small_cap2.rename(columns={'Monthly Returns':'Avg Monthly Returns','Dividend':'Avg Monthly Dividend'},inplace=True)"
      ],
      "execution_count": 53,
      "outputs": []
    },
    {
      "cell_type": "markdown",
      "metadata": {
        "id": "xEtwnUm08nzx"
      },
      "source": [
        "The following code adds another aggregate column representing the standard deviation of the monthly returns and groups by each individual fund. This will allow us to observe the spread of the monthly returns, and thus, get a quick picture of the riskiness of the asset."
      ]
    },
    {
      "cell_type": "code",
      "metadata": {
        "id": "-YA9BLvF56-V"
      },
      "source": [
        "df_small_cap2['APR'] = df_small_cap2['Avg Monthly Returns']*12\n",
        "df_small_cap2['Avg Yearly Dividend'] = df_small_cap2['Avg Monthly Dividend']*12\n",
        "df_small_cap3 = df_small_cap2.drop(columns=['Avg Monthly Returns','Avg Monthly Dividend'])\n",
        "df_small_cap4 = df_small_cap3.drop(columns='Avg Yearly Dividend')"
      ],
      "execution_count": 54,
      "outputs": []
    },
    {
      "cell_type": "markdown",
      "metadata": {
        "id": "qx3pOtLw6Css"
      },
      "source": [
        "***Monthly Small Cap Fund Returns for Beta Calculation***"
      ]
    },
    {
      "cell_type": "markdown",
      "metadata": {
        "id": "ZhJ_imj28pAM"
      },
      "source": [
        "The following code isolates the monthly returns for each asset into a new dataframe represented by the fund's ticker symbol. Using an imported regression tool, this new dataframe will be regressed with monthly market returns (based on the S&P 500), the slope of which will tell us the beta, or the asset's risk, relative to the market."
      ]
    },
    {
      "cell_type": "code",
      "metadata": {
        "id": "awKIFMEN57BK"
      },
      "source": [
        "FNDA = df_small_cap[df_small_cap['Fund'] == 'Schwab Fundamental U.S. Small Company Index (FNDA)']['Monthly Returns']\n",
        "VSS = df_small_cap[df_small_cap['Fund'] == 'Vanguard FTSE All-World ex-US Small-Cap Index Fund (VSS)']['Monthly Returns']\n",
        "VBR = df_small_cap[df_small_cap['Fund'] == 'Vanguard Small-Cap Value Index Fund (VBR)']['Monthly Returns']"
      ],
      "execution_count": 55,
      "outputs": []
    },
    {
      "cell_type": "markdown",
      "metadata": {
        "id": "T3QpXWik6Fl2"
      },
      "source": [
        "***Final Small Cap Table***"
      ]
    },
    {
      "cell_type": "markdown",
      "metadata": {
        "id": "RW1inpmX8qYy"
      },
      "source": [
        "Using the dataframes and tools mentioned above, we will create a new dataset and convert it to a dataframe, inserting all of our desired information into one single table. The information shown will provide insight into the return vs. risk for each fund and will be useful when determining our final portfolio investment mix."
      ]
    },
    {
      "cell_type": "code",
      "metadata": {
        "colab": {
          "base_uri": "https://localhost:8080/",
          "height": 0
        },
        "id": "WfWHMjH_57D7",
        "outputId": "5a08dbd9-9e8b-4bd2-a21e-e90c78ae357e"
      },
      "source": [
        "small_cap_core_data = {'Fund':['Schwab Fundamental U.S. Small Company Index (FNDA)','Vanguard FTSE All-World ex-US Small-Cap Index Fund (VSS)','Vanguard Small-Cap Value Index Fund (VBR)'],'APR':[0.135363,0.090358,0.120566],'St.Dev of Returns':[0.066433,0.052176,0.063564],'Beta':[linregress(FNDA,Market)[0],linregress(VSS,Market)[0],linregress(VBR,Market)[0]]}\n",
        "df_small_cap_core = pd.DataFrame(small_cap_core_data,columns=['Fund','APR','St.Dev of Returns','Beta'])\n",
        "df_small_cap_core"
      ],
      "execution_count": 56,
      "outputs": [
        {
          "output_type": "execute_result",
          "data": {
            "text/html": [
              "<div>\n",
              "<style scoped>\n",
              "    .dataframe tbody tr th:only-of-type {\n",
              "        vertical-align: middle;\n",
              "    }\n",
              "\n",
              "    .dataframe tbody tr th {\n",
              "        vertical-align: top;\n",
              "    }\n",
              "\n",
              "    .dataframe thead th {\n",
              "        text-align: right;\n",
              "    }\n",
              "</style>\n",
              "<table border=\"1\" class=\"dataframe\">\n",
              "  <thead>\n",
              "    <tr style=\"text-align: right;\">\n",
              "      <th></th>\n",
              "      <th>Fund</th>\n",
              "      <th>APR</th>\n",
              "      <th>St.Dev of Returns</th>\n",
              "      <th>Beta</th>\n",
              "    </tr>\n",
              "  </thead>\n",
              "  <tbody>\n",
              "    <tr>\n",
              "      <th>0</th>\n",
              "      <td>Schwab Fundamental U.S. Small Company Index (F...</td>\n",
              "      <td>0.135363</td>\n",
              "      <td>0.066433</td>\n",
              "      <td>0.632112</td>\n",
              "    </tr>\n",
              "    <tr>\n",
              "      <th>1</th>\n",
              "      <td>Vanguard FTSE All-World ex-US Small-Cap Index ...</td>\n",
              "      <td>0.090358</td>\n",
              "      <td>0.052176</td>\n",
              "      <td>0.802155</td>\n",
              "    </tr>\n",
              "    <tr>\n",
              "      <th>2</th>\n",
              "      <td>Vanguard Small-Cap Value Index Fund (VBR)</td>\n",
              "      <td>0.120566</td>\n",
              "      <td>0.063564</td>\n",
              "      <td>0.661262</td>\n",
              "    </tr>\n",
              "  </tbody>\n",
              "</table>\n",
              "</div>"
            ],
            "text/plain": [
              "                                                Fund  ...      Beta\n",
              "0  Schwab Fundamental U.S. Small Company Index (F...  ...  0.632112\n",
              "1  Vanguard FTSE All-World ex-US Small-Cap Index ...  ...  0.802155\n",
              "2          Vanguard Small-Cap Value Index Fund (VBR)  ...  0.661262\n",
              "\n",
              "[3 rows x 4 columns]"
            ]
          },
          "metadata": {
            "tags": []
          },
          "execution_count": 56
        }
      ]
    },
    {
      "cell_type": "markdown",
      "metadata": {
        "id": "PV_7ckDM8DH4"
      },
      "source": [
        "###**Final Table with Core Metrics**"
      ]
    },
    {
      "cell_type": "markdown",
      "metadata": {
        "id": "sZOz40e0WDNN"
      },
      "source": [
        "To easily see the return vs. risk of all assets being analyzed, we are going to concate all of the separate fund type tables and create one single table for easy observation. We will also include the general market (based on the S&P 500) and the risk-free rate (based on a 10 Year Treasury Bill)."
      ]
    },
    {
      "cell_type": "code",
      "metadata": {
        "colab": {
          "base_uri": "https://localhost:8080/"
        },
        "id": "UeDLS6ys_Gnr",
        "outputId": "61a0bc5d-4df7-4080-8b85-37bd964bdca0"
      },
      "source": [
        " df_market_returns = df_market['Monthly Returns'].agg({'Monthly Returns':'mean'})\n",
        " df_market_stdev = df_market['Monthly Returns'].agg({'Monthly Returns':'std'})\n",
        " df_market_yearly = df_market_returns*12\n",
        " df_market_stdev[0]"
      ],
      "execution_count": 57,
      "outputs": [
        {
          "output_type": "execute_result",
          "data": {
            "text/plain": [
              "0.04620781034459073"
            ]
          },
          "metadata": {
            "tags": []
          },
          "execution_count": 57
        }
      ]
    },
    {
      "cell_type": "code",
      "metadata": {
        "colab": {
          "base_uri": "https://localhost:8080/",
          "height": 0
        },
        "id": "qfiFEUOc8NaX",
        "outputId": "49088620-15fa-4d5d-bbac-c7689e93cea5"
      },
      "source": [
        "final_core_data = [df_income_core,df_bonds_core,df_growth_core,df_large_cap_core,df_mid_cap_core,df_small_cap_core]\n",
        "df_core_table = pd.concat(final_core_data)\n",
        "df_core_table['Type'] = ['Income','Income','Income','Bond','Bond','Bond','Growth','Growth','Growth','Large Cap','Large Cap','Large Cap','Mid Cap','Mid Cap','Mid Cap','Small Cap','Small Cap','Small Cap']\n",
        "df_core_table2 = df_core_table[['Fund','Type','St.Dev of Returns','APR','Beta']]\n",
        "market_row = {'Fund':'S&P 500 (^GSPC)','Type':'Market','St.Dev of Returns':df_market_stdev[0],'APR':df_market_yearly[0],'Beta':1}\n",
        "risk_free = {'Fund':'10 Year Treasury Bill','Type':'Risk-Free','St.Dev of Returns':'NaN','APR':.016,'Beta':'NaN'}\n",
        "almost_final_table = df_core_table2.append(market_row,ignore_index=True)\n",
        "final_table = almost_final_table.append(risk_free,ignore_index=True)\n",
        "final_table"
      ],
      "execution_count": 58,
      "outputs": [
        {
          "output_type": "execute_result",
          "data": {
            "text/html": [
              "<div>\n",
              "<style scoped>\n",
              "    .dataframe tbody tr th:only-of-type {\n",
              "        vertical-align: middle;\n",
              "    }\n",
              "\n",
              "    .dataframe tbody tr th {\n",
              "        vertical-align: top;\n",
              "    }\n",
              "\n",
              "    .dataframe thead th {\n",
              "        text-align: right;\n",
              "    }\n",
              "</style>\n",
              "<table border=\"1\" class=\"dataframe\">\n",
              "  <thead>\n",
              "    <tr style=\"text-align: right;\">\n",
              "      <th></th>\n",
              "      <th>Fund</th>\n",
              "      <th>Type</th>\n",
              "      <th>St.Dev of Returns</th>\n",
              "      <th>APR</th>\n",
              "      <th>Beta</th>\n",
              "    </tr>\n",
              "  </thead>\n",
              "  <tbody>\n",
              "    <tr>\n",
              "      <th>0</th>\n",
              "      <td>Schuab U.S. Divided Equity (SCHD)</td>\n",
              "      <td>Income</td>\n",
              "      <td>0.047604</td>\n",
              "      <td>0.154745</td>\n",
              "      <td>0.930883</td>\n",
              "    </tr>\n",
              "    <tr>\n",
              "      <th>1</th>\n",
              "      <td>Vanguard Dividend Appreciation Index Fund (VIG)</td>\n",
              "      <td>Income</td>\n",
              "      <td>0.042099</td>\n",
              "      <td>0.142106</td>\n",
              "      <td>1.06115</td>\n",
              "    </tr>\n",
              "    <tr>\n",
              "      <th>2</th>\n",
              "      <td>iShares International Select Dividend (IDV)</td>\n",
              "      <td>Income</td>\n",
              "      <td>0.05488</td>\n",
              "      <td>0.081792</td>\n",
              "      <td>0.730715</td>\n",
              "    </tr>\n",
              "    <tr>\n",
              "      <th>3</th>\n",
              "      <td>Fidelity U.S. Bond Index Fund (FXNAX)</td>\n",
              "      <td>Bond</td>\n",
              "      <td>0.009195</td>\n",
              "      <td>0.030616</td>\n",
              "      <td>0.00245704</td>\n",
              "    </tr>\n",
              "    <tr>\n",
              "      <th>4</th>\n",
              "      <td>Invesco National AMT-Free Municipal Bond (PZA)</td>\n",
              "      <td>Bond</td>\n",
              "      <td>0.014498</td>\n",
              "      <td>0.040588</td>\n",
              "      <td>0.542755</td>\n",
              "    </tr>\n",
              "    <tr>\n",
              "      <th>5</th>\n",
              "      <td>Vanguard Short-Term Corporate Bond Index Fund ...</td>\n",
              "      <td>Bond</td>\n",
              "      <td>0.007919</td>\n",
              "      <td>0.053750</td>\n",
              "      <td>3.09558</td>\n",
              "    </tr>\n",
              "    <tr>\n",
              "      <th>6</th>\n",
              "      <td>ARK Innovation (ARKK)</td>\n",
              "      <td>Growth</td>\n",
              "      <td>0.09683</td>\n",
              "      <td>0.356687</td>\n",
              "      <td>0.365176</td>\n",
              "    </tr>\n",
              "    <tr>\n",
              "      <th>7</th>\n",
              "      <td>Vanguard Growth Index Fund (VUG)</td>\n",
              "      <td>Growth</td>\n",
              "      <td>0.051729</td>\n",
              "      <td>0.180537</td>\n",
              "      <td>0.854302</td>\n",
              "    </tr>\n",
              "    <tr>\n",
              "      <th>8</th>\n",
              "      <td>iShares Core S&amp;P Mid-Cap (IJH)</td>\n",
              "      <td>Growth</td>\n",
              "      <td>0.059406</td>\n",
              "      <td>0.129866</td>\n",
              "      <td>0.733567</td>\n",
              "    </tr>\n",
              "    <tr>\n",
              "      <th>9</th>\n",
              "      <td>Fidelity SAI U.S. Large Cap Index Fund (FLCPX)</td>\n",
              "      <td>Large Cap</td>\n",
              "      <td>0.048791</td>\n",
              "      <td>0.144036</td>\n",
              "      <td>0.929434</td>\n",
              "    </tr>\n",
              "    <tr>\n",
              "      <th>10</th>\n",
              "      <td>Schwab International Equity (SCHF)</td>\n",
              "      <td>Large Cap</td>\n",
              "      <td>0.044257</td>\n",
              "      <td>0.085568</td>\n",
              "      <td>0.925562</td>\n",
              "    </tr>\n",
              "    <tr>\n",
              "      <th>11</th>\n",
              "      <td>Vanguard S&amp;P 500 (VOO)</td>\n",
              "      <td>Large Cap</td>\n",
              "      <td>0.047275</td>\n",
              "      <td>0.148199</td>\n",
              "      <td>0.97217</td>\n",
              "    </tr>\n",
              "    <tr>\n",
              "      <th>12</th>\n",
              "      <td>John Hancock Multifactor Mid Cap (JHMM)</td>\n",
              "      <td>Mid Cap</td>\n",
              "      <td>0.055293</td>\n",
              "      <td>0.125665</td>\n",
              "      <td>0.80053</td>\n",
              "    </tr>\n",
              "    <tr>\n",
              "      <th>13</th>\n",
              "      <td>Vanguard Mid-Cap Index Fund (VO)</td>\n",
              "      <td>Mid Cap</td>\n",
              "      <td>0.053174</td>\n",
              "      <td>0.133274</td>\n",
              "      <td>0.835987</td>\n",
              "    </tr>\n",
              "    <tr>\n",
              "      <th>14</th>\n",
              "      <td>iShares Russell Mid-Cap ETF (IWR)</td>\n",
              "      <td>Mid Cap</td>\n",
              "      <td>0.05486</td>\n",
              "      <td>0.132991</td>\n",
              "      <td>0.806122</td>\n",
              "    </tr>\n",
              "    <tr>\n",
              "      <th>15</th>\n",
              "      <td>Schwab Fundamental U.S. Small Company Index (F...</td>\n",
              "      <td>Small Cap</td>\n",
              "      <td>0.066433</td>\n",
              "      <td>0.135363</td>\n",
              "      <td>0.632112</td>\n",
              "    </tr>\n",
              "    <tr>\n",
              "      <th>16</th>\n",
              "      <td>Vanguard FTSE All-World ex-US Small-Cap Index ...</td>\n",
              "      <td>Small Cap</td>\n",
              "      <td>0.052176</td>\n",
              "      <td>0.090358</td>\n",
              "      <td>0.802155</td>\n",
              "    </tr>\n",
              "    <tr>\n",
              "      <th>17</th>\n",
              "      <td>Vanguard Small-Cap Value Index Fund (VBR)</td>\n",
              "      <td>Small Cap</td>\n",
              "      <td>0.063564</td>\n",
              "      <td>0.120566</td>\n",
              "      <td>0.661262</td>\n",
              "    </tr>\n",
              "    <tr>\n",
              "      <th>18</th>\n",
              "      <td>S&amp;P 500 (^GSPC)</td>\n",
              "      <td>Market</td>\n",
              "      <td>0.0462078</td>\n",
              "      <td>0.139879</td>\n",
              "      <td>1</td>\n",
              "    </tr>\n",
              "    <tr>\n",
              "      <th>19</th>\n",
              "      <td>10 Year Treasury Bill</td>\n",
              "      <td>Risk-Free</td>\n",
              "      <td>NaN</td>\n",
              "      <td>0.016000</td>\n",
              "      <td>NaN</td>\n",
              "    </tr>\n",
              "  </tbody>\n",
              "</table>\n",
              "</div>"
            ],
            "text/plain": [
              "                                                 Fund  ...        Beta\n",
              "0                   Schuab U.S. Divided Equity (SCHD)  ...    0.930883\n",
              "1     Vanguard Dividend Appreciation Index Fund (VIG)  ...     1.06115\n",
              "2         iShares International Select Dividend (IDV)  ...    0.730715\n",
              "3               Fidelity U.S. Bond Index Fund (FXNAX)  ...  0.00245704\n",
              "4      Invesco National AMT-Free Municipal Bond (PZA)  ...    0.542755\n",
              "5   Vanguard Short-Term Corporate Bond Index Fund ...  ...     3.09558\n",
              "6                               ARK Innovation (ARKK)  ...    0.365176\n",
              "7                    Vanguard Growth Index Fund (VUG)  ...    0.854302\n",
              "8                      iShares Core S&P Mid-Cap (IJH)  ...    0.733567\n",
              "9      Fidelity SAI U.S. Large Cap Index Fund (FLCPX)  ...    0.929434\n",
              "10                 Schwab International Equity (SCHF)  ...    0.925562\n",
              "11                             Vanguard S&P 500 (VOO)  ...     0.97217\n",
              "12            John Hancock Multifactor Mid Cap (JHMM)  ...     0.80053\n",
              "13                   Vanguard Mid-Cap Index Fund (VO)  ...    0.835987\n",
              "14                  iShares Russell Mid-Cap ETF (IWR)  ...    0.806122\n",
              "15  Schwab Fundamental U.S. Small Company Index (F...  ...    0.632112\n",
              "16  Vanguard FTSE All-World ex-US Small-Cap Index ...  ...    0.802155\n",
              "17          Vanguard Small-Cap Value Index Fund (VBR)  ...    0.661262\n",
              "18                                    S&P 500 (^GSPC)  ...           1\n",
              "19                              10 Year Treasury Bill  ...         NaN\n",
              "\n",
              "[20 rows x 5 columns]"
            ]
          },
          "metadata": {
            "tags": []
          },
          "execution_count": 58
        }
      ]
    },
    {
      "cell_type": "markdown",
      "metadata": {
        "id": "cPIK6dzyUyf6"
      },
      "source": [
        "#**Step 9: Aggregate Key Financial Metrics: Expected Return using CAPM, Sharpe Ratio, and Jensen's Alpha**"
      ]
    },
    {
      "cell_type": "markdown",
      "metadata": {
        "id": "zSY38_PGiKnY"
      },
      "source": [
        "In this next section we are going to begin to apply key finance concepts to the aggregated dataset above. Applying these concepts will allow us to gain insight into the appeal of investing in these individual assets."
      ]
    },
    {
      "cell_type": "markdown",
      "metadata": {
        "id": "mLq0qHrWiKtW"
      },
      "source": [
        "### **Expected Return Using CAPM**"
      ]
    },
    {
      "cell_type": "markdown",
      "metadata": {
        "id": "CuoH1eDvWxCV"
      },
      "source": [
        "We hope to use the calculated betas found in Step 8 to determine the \"Expected Return\" based on the traditional CAPM formula. We will be using the 10 Year Treasury Bill as our risk-free rate, and will be using the S&P 500 as our market return."
      ]
    },
    {
      "cell_type": "markdown",
      "metadata": {
        "id": "Xz0PGcTDVYR_"
      },
      "source": [
        "***CAPM Formula: E(R) = Rf + B(Rm - Rf)***"
      ]
    },
    {
      "cell_type": "markdown",
      "metadata": {
        "id": "lj6Tah6IXUFd"
      },
      "source": [
        "In order to make aggregating the \"Expected Return\" column work, we have to clean up the data in the final table we created and make sure all the number values are of the same datatype (float64). "
      ]
    },
    {
      "cell_type": "code",
      "metadata": {
        "id": "ETtdGBR8Tg6U"
      },
      "source": [
        "final_table2 = final_table.astype(float,errors='ignore',copy=True)"
      ],
      "execution_count": 59,
      "outputs": []
    },
    {
      "cell_type": "markdown",
      "metadata": {
        "id": "XlAwU-Juk2Ru"
      },
      "source": [
        "The table below contains the expected returns of each asset, calculated using CAPM and each asset's beta."
      ]
    },
    {
      "cell_type": "code",
      "metadata": {
        "colab": {
          "base_uri": "https://localhost:8080/",
          "height": 669
        },
        "id": "r68iiXbEaJI9",
        "outputId": "f2487c76-c603-49b1-e1dd-e9eee8d30a27"
      },
      "source": [
        "final_table2['Expected Return'] = (final_table2['APR'][19] + final_table2['Beta']*(final_table2['APR'][18] - final_table2['APR'][19]))\n",
        "final_table2"
      ],
      "execution_count": 60,
      "outputs": [
        {
          "output_type": "execute_result",
          "data": {
            "text/html": [
              "<div>\n",
              "<style scoped>\n",
              "    .dataframe tbody tr th:only-of-type {\n",
              "        vertical-align: middle;\n",
              "    }\n",
              "\n",
              "    .dataframe tbody tr th {\n",
              "        vertical-align: top;\n",
              "    }\n",
              "\n",
              "    .dataframe thead th {\n",
              "        text-align: right;\n",
              "    }\n",
              "</style>\n",
              "<table border=\"1\" class=\"dataframe\">\n",
              "  <thead>\n",
              "    <tr style=\"text-align: right;\">\n",
              "      <th></th>\n",
              "      <th>Fund</th>\n",
              "      <th>Type</th>\n",
              "      <th>St.Dev of Returns</th>\n",
              "      <th>APR</th>\n",
              "      <th>Beta</th>\n",
              "      <th>Expected Return</th>\n",
              "    </tr>\n",
              "  </thead>\n",
              "  <tbody>\n",
              "    <tr>\n",
              "      <th>0</th>\n",
              "      <td>Schuab U.S. Divided Equity (SCHD)</td>\n",
              "      <td>Income</td>\n",
              "      <td>0.047604</td>\n",
              "      <td>0.154745</td>\n",
              "      <td>0.930883</td>\n",
              "      <td>0.131317</td>\n",
              "    </tr>\n",
              "    <tr>\n",
              "      <th>1</th>\n",
              "      <td>Vanguard Dividend Appreciation Index Fund (VIG)</td>\n",
              "      <td>Income</td>\n",
              "      <td>0.042099</td>\n",
              "      <td>0.142106</td>\n",
              "      <td>1.061147</td>\n",
              "      <td>0.147454</td>\n",
              "    </tr>\n",
              "    <tr>\n",
              "      <th>2</th>\n",
              "      <td>iShares International Select Dividend (IDV)</td>\n",
              "      <td>Income</td>\n",
              "      <td>0.054880</td>\n",
              "      <td>0.081792</td>\n",
              "      <td>0.730715</td>\n",
              "      <td>0.106521</td>\n",
              "    </tr>\n",
              "    <tr>\n",
              "      <th>3</th>\n",
              "      <td>Fidelity U.S. Bond Index Fund (FXNAX)</td>\n",
              "      <td>Bond</td>\n",
              "      <td>0.009195</td>\n",
              "      <td>0.030616</td>\n",
              "      <td>0.002457</td>\n",
              "      <td>0.016304</td>\n",
              "    </tr>\n",
              "    <tr>\n",
              "      <th>4</th>\n",
              "      <td>Invesco National AMT-Free Municipal Bond (PZA)</td>\n",
              "      <td>Bond</td>\n",
              "      <td>0.014498</td>\n",
              "      <td>0.040588</td>\n",
              "      <td>0.542755</td>\n",
              "      <td>0.083236</td>\n",
              "    </tr>\n",
              "    <tr>\n",
              "      <th>5</th>\n",
              "      <td>Vanguard Short-Term Corporate Bond Index Fund ...</td>\n",
              "      <td>Bond</td>\n",
              "      <td>0.007919</td>\n",
              "      <td>0.053750</td>\n",
              "      <td>3.095575</td>\n",
              "      <td>0.399478</td>\n",
              "    </tr>\n",
              "    <tr>\n",
              "      <th>6</th>\n",
              "      <td>ARK Innovation (ARKK)</td>\n",
              "      <td>Growth</td>\n",
              "      <td>0.096830</td>\n",
              "      <td>0.356687</td>\n",
              "      <td>0.365176</td>\n",
              "      <td>0.061238</td>\n",
              "    </tr>\n",
              "    <tr>\n",
              "      <th>7</th>\n",
              "      <td>Vanguard Growth Index Fund (VUG)</td>\n",
              "      <td>Growth</td>\n",
              "      <td>0.051729</td>\n",
              "      <td>0.180537</td>\n",
              "      <td>0.854302</td>\n",
              "      <td>0.121830</td>\n",
              "    </tr>\n",
              "    <tr>\n",
              "      <th>8</th>\n",
              "      <td>iShares Core S&amp;P Mid-Cap (IJH)</td>\n",
              "      <td>Growth</td>\n",
              "      <td>0.059406</td>\n",
              "      <td>0.129866</td>\n",
              "      <td>0.733567</td>\n",
              "      <td>0.106874</td>\n",
              "    </tr>\n",
              "    <tr>\n",
              "      <th>9</th>\n",
              "      <td>Fidelity SAI U.S. Large Cap Index Fund (FLCPX)</td>\n",
              "      <td>Large Cap</td>\n",
              "      <td>0.048791</td>\n",
              "      <td>0.144036</td>\n",
              "      <td>0.929434</td>\n",
              "      <td>0.131138</td>\n",
              "    </tr>\n",
              "    <tr>\n",
              "      <th>10</th>\n",
              "      <td>Schwab International Equity (SCHF)</td>\n",
              "      <td>Large Cap</td>\n",
              "      <td>0.044257</td>\n",
              "      <td>0.085568</td>\n",
              "      <td>0.925562</td>\n",
              "      <td>0.130658</td>\n",
              "    </tr>\n",
              "    <tr>\n",
              "      <th>11</th>\n",
              "      <td>Vanguard S&amp;P 500 (VOO)</td>\n",
              "      <td>Large Cap</td>\n",
              "      <td>0.047275</td>\n",
              "      <td>0.148199</td>\n",
              "      <td>0.972170</td>\n",
              "      <td>0.136432</td>\n",
              "    </tr>\n",
              "    <tr>\n",
              "      <th>12</th>\n",
              "      <td>John Hancock Multifactor Mid Cap (JHMM)</td>\n",
              "      <td>Mid Cap</td>\n",
              "      <td>0.055293</td>\n",
              "      <td>0.125665</td>\n",
              "      <td>0.800530</td>\n",
              "      <td>0.115169</td>\n",
              "    </tr>\n",
              "    <tr>\n",
              "      <th>13</th>\n",
              "      <td>Vanguard Mid-Cap Index Fund (VO)</td>\n",
              "      <td>Mid Cap</td>\n",
              "      <td>0.053174</td>\n",
              "      <td>0.133274</td>\n",
              "      <td>0.835987</td>\n",
              "      <td>0.119561</td>\n",
              "    </tr>\n",
              "    <tr>\n",
              "      <th>14</th>\n",
              "      <td>iShares Russell Mid-Cap ETF (IWR)</td>\n",
              "      <td>Mid Cap</td>\n",
              "      <td>0.054860</td>\n",
              "      <td>0.132991</td>\n",
              "      <td>0.806122</td>\n",
              "      <td>0.115862</td>\n",
              "    </tr>\n",
              "    <tr>\n",
              "      <th>15</th>\n",
              "      <td>Schwab Fundamental U.S. Small Company Index (F...</td>\n",
              "      <td>Small Cap</td>\n",
              "      <td>0.066433</td>\n",
              "      <td>0.135363</td>\n",
              "      <td>0.632112</td>\n",
              "      <td>0.094306</td>\n",
              "    </tr>\n",
              "    <tr>\n",
              "      <th>16</th>\n",
              "      <td>Vanguard FTSE All-World ex-US Small-Cap Index ...</td>\n",
              "      <td>Small Cap</td>\n",
              "      <td>0.052176</td>\n",
              "      <td>0.090358</td>\n",
              "      <td>0.802155</td>\n",
              "      <td>0.115370</td>\n",
              "    </tr>\n",
              "    <tr>\n",
              "      <th>17</th>\n",
              "      <td>Vanguard Small-Cap Value Index Fund (VBR)</td>\n",
              "      <td>Small Cap</td>\n",
              "      <td>0.063564</td>\n",
              "      <td>0.120566</td>\n",
              "      <td>0.661262</td>\n",
              "      <td>0.097917</td>\n",
              "    </tr>\n",
              "    <tr>\n",
              "      <th>18</th>\n",
              "      <td>S&amp;P 500 (^GSPC)</td>\n",
              "      <td>Market</td>\n",
              "      <td>0.046208</td>\n",
              "      <td>0.139879</td>\n",
              "      <td>1.000000</td>\n",
              "      <td>0.139879</td>\n",
              "    </tr>\n",
              "    <tr>\n",
              "      <th>19</th>\n",
              "      <td>10 Year Treasury Bill</td>\n",
              "      <td>Risk-Free</td>\n",
              "      <td>NaN</td>\n",
              "      <td>0.016000</td>\n",
              "      <td>NaN</td>\n",
              "      <td>NaN</td>\n",
              "    </tr>\n",
              "  </tbody>\n",
              "</table>\n",
              "</div>"
            ],
            "text/plain": [
              "                                                 Fund  ... Expected Return\n",
              "0                   Schuab U.S. Divided Equity (SCHD)  ...        0.131317\n",
              "1     Vanguard Dividend Appreciation Index Fund (VIG)  ...        0.147454\n",
              "2         iShares International Select Dividend (IDV)  ...        0.106521\n",
              "3               Fidelity U.S. Bond Index Fund (FXNAX)  ...        0.016304\n",
              "4      Invesco National AMT-Free Municipal Bond (PZA)  ...        0.083236\n",
              "5   Vanguard Short-Term Corporate Bond Index Fund ...  ...        0.399478\n",
              "6                               ARK Innovation (ARKK)  ...        0.061238\n",
              "7                    Vanguard Growth Index Fund (VUG)  ...        0.121830\n",
              "8                      iShares Core S&P Mid-Cap (IJH)  ...        0.106874\n",
              "9      Fidelity SAI U.S. Large Cap Index Fund (FLCPX)  ...        0.131138\n",
              "10                 Schwab International Equity (SCHF)  ...        0.130658\n",
              "11                             Vanguard S&P 500 (VOO)  ...        0.136432\n",
              "12            John Hancock Multifactor Mid Cap (JHMM)  ...        0.115169\n",
              "13                   Vanguard Mid-Cap Index Fund (VO)  ...        0.119561\n",
              "14                  iShares Russell Mid-Cap ETF (IWR)  ...        0.115862\n",
              "15  Schwab Fundamental U.S. Small Company Index (F...  ...        0.094306\n",
              "16  Vanguard FTSE All-World ex-US Small-Cap Index ...  ...        0.115370\n",
              "17          Vanguard Small-Cap Value Index Fund (VBR)  ...        0.097917\n",
              "18                                    S&P 500 (^GSPC)  ...        0.139879\n",
              "19                              10 Year Treasury Bill  ...             NaN\n",
              "\n",
              "[20 rows x 6 columns]"
            ]
          },
          "metadata": {
            "tags": []
          },
          "execution_count": 60
        }
      ]
    },
    {
      "cell_type": "markdown",
      "metadata": {
        "id": "ROMfHnpegkkb"
      },
      "source": [
        "### **Sharpe Ratio**"
      ]
    },
    {
      "cell_type": "markdown",
      "metadata": {
        "id": "b6UuH9DUmIiB"
      },
      "source": [
        "Using the expected returns calculated above, the risk-free rate, as well as the standard deviation of each asset, we will aggregate a new column containing the Sharpe Ratio for each of the funds."
      ]
    },
    {
      "cell_type": "markdown",
      "metadata": {
        "id": "u9ANyP3Mw4Oz"
      },
      "source": [
        "***Sharpe Ratio Formula: (E(R) - Rf) / St.Dev***"
      ]
    },
    {
      "cell_type": "markdown",
      "metadata": {
        "id": "J08uRqleyMiV"
      },
      "source": [
        "The table below contains the Sharpe Ratio of each asset, calculated using the formula above. The Sharpe Ratio is used by investors to understand the return of an investment relative to its risk. By subtracting the risk-free rate from the returns of the asset, we are able to focus on the returns gained solely from the asset itself. Typically, the greater the value of the Sharpe Ratio, the more attractive the risk-adjusted return. "
      ]
    },
    {
      "cell_type": "code",
      "metadata": {
        "colab": {
          "base_uri": "https://localhost:8080/",
          "height": 669
        },
        "id": "_qDXscK5xb07",
        "outputId": "b32c04d4-563b-4967-bb49-bfc5e291d8e8"
      },
      "source": [
        "final_table2['Sharpe Ratio'] = ((final_table2['Expected Return'] - final_table2['APR'][19])/final_table2['St.Dev of Returns'])\n",
        "final_table2"
      ],
      "execution_count": 61,
      "outputs": [
        {
          "output_type": "execute_result",
          "data": {
            "text/html": [
              "<div>\n",
              "<style scoped>\n",
              "    .dataframe tbody tr th:only-of-type {\n",
              "        vertical-align: middle;\n",
              "    }\n",
              "\n",
              "    .dataframe tbody tr th {\n",
              "        vertical-align: top;\n",
              "    }\n",
              "\n",
              "    .dataframe thead th {\n",
              "        text-align: right;\n",
              "    }\n",
              "</style>\n",
              "<table border=\"1\" class=\"dataframe\">\n",
              "  <thead>\n",
              "    <tr style=\"text-align: right;\">\n",
              "      <th></th>\n",
              "      <th>Fund</th>\n",
              "      <th>Type</th>\n",
              "      <th>St.Dev of Returns</th>\n",
              "      <th>APR</th>\n",
              "      <th>Beta</th>\n",
              "      <th>Expected Return</th>\n",
              "      <th>Sharpe Ratio</th>\n",
              "    </tr>\n",
              "  </thead>\n",
              "  <tbody>\n",
              "    <tr>\n",
              "      <th>0</th>\n",
              "      <td>Schuab U.S. Divided Equity (SCHD)</td>\n",
              "      <td>Income</td>\n",
              "      <td>0.047604</td>\n",
              "      <td>0.154745</td>\n",
              "      <td>0.930883</td>\n",
              "      <td>0.131317</td>\n",
              "      <td>2.422426</td>\n",
              "    </tr>\n",
              "    <tr>\n",
              "      <th>1</th>\n",
              "      <td>Vanguard Dividend Appreciation Index Fund (VIG)</td>\n",
              "      <td>Income</td>\n",
              "      <td>0.042099</td>\n",
              "      <td>0.142106</td>\n",
              "      <td>1.061147</td>\n",
              "      <td>0.147454</td>\n",
              "      <td>3.122502</td>\n",
              "    </tr>\n",
              "    <tr>\n",
              "      <th>2</th>\n",
              "      <td>iShares International Select Dividend (IDV)</td>\n",
              "      <td>Income</td>\n",
              "      <td>0.054880</td>\n",
              "      <td>0.081792</td>\n",
              "      <td>0.730715</td>\n",
              "      <td>0.106521</td>\n",
              "      <td>1.649427</td>\n",
              "    </tr>\n",
              "    <tr>\n",
              "      <th>3</th>\n",
              "      <td>Fidelity U.S. Bond Index Fund (FXNAX)</td>\n",
              "      <td>Bond</td>\n",
              "      <td>0.009195</td>\n",
              "      <td>0.030616</td>\n",
              "      <td>0.002457</td>\n",
              "      <td>0.016304</td>\n",
              "      <td>0.033102</td>\n",
              "    </tr>\n",
              "    <tr>\n",
              "      <th>4</th>\n",
              "      <td>Invesco National AMT-Free Municipal Bond (PZA)</td>\n",
              "      <td>Bond</td>\n",
              "      <td>0.014498</td>\n",
              "      <td>0.040588</td>\n",
              "      <td>0.542755</td>\n",
              "      <td>0.083236</td>\n",
              "      <td>4.637615</td>\n",
              "    </tr>\n",
              "    <tr>\n",
              "      <th>5</th>\n",
              "      <td>Vanguard Short-Term Corporate Bond Index Fund ...</td>\n",
              "      <td>Bond</td>\n",
              "      <td>0.007919</td>\n",
              "      <td>0.053750</td>\n",
              "      <td>3.095575</td>\n",
              "      <td>0.399478</td>\n",
              "      <td>48.425031</td>\n",
              "    </tr>\n",
              "    <tr>\n",
              "      <th>6</th>\n",
              "      <td>ARK Innovation (ARKK)</td>\n",
              "      <td>Growth</td>\n",
              "      <td>0.096830</td>\n",
              "      <td>0.356687</td>\n",
              "      <td>0.365176</td>\n",
              "      <td>0.061238</td>\n",
              "      <td>0.467188</td>\n",
              "    </tr>\n",
              "    <tr>\n",
              "      <th>7</th>\n",
              "      <td>Vanguard Growth Index Fund (VUG)</td>\n",
              "      <td>Growth</td>\n",
              "      <td>0.051729</td>\n",
              "      <td>0.180537</td>\n",
              "      <td>0.854302</td>\n",
              "      <td>0.121830</td>\n",
              "      <td>2.045860</td>\n",
              "    </tr>\n",
              "    <tr>\n",
              "      <th>8</th>\n",
              "      <td>iShares Core S&amp;P Mid-Cap (IJH)</td>\n",
              "      <td>Growth</td>\n",
              "      <td>0.059406</td>\n",
              "      <td>0.129866</td>\n",
              "      <td>0.733567</td>\n",
              "      <td>0.106874</td>\n",
              "      <td>1.529707</td>\n",
              "    </tr>\n",
              "    <tr>\n",
              "      <th>9</th>\n",
              "      <td>Fidelity SAI U.S. Large Cap Index Fund (FLCPX)</td>\n",
              "      <td>Large Cap</td>\n",
              "      <td>0.048791</td>\n",
              "      <td>0.144036</td>\n",
              "      <td>0.929434</td>\n",
              "      <td>0.131138</td>\n",
              "      <td>2.359813</td>\n",
              "    </tr>\n",
              "    <tr>\n",
              "      <th>10</th>\n",
              "      <td>Schwab International Equity (SCHF)</td>\n",
              "      <td>Large Cap</td>\n",
              "      <td>0.044257</td>\n",
              "      <td>0.085568</td>\n",
              "      <td>0.925562</td>\n",
              "      <td>0.130658</td>\n",
              "      <td>2.590732</td>\n",
              "    </tr>\n",
              "    <tr>\n",
              "      <th>11</th>\n",
              "      <td>Vanguard S&amp;P 500 (VOO)</td>\n",
              "      <td>Large Cap</td>\n",
              "      <td>0.047275</td>\n",
              "      <td>0.148199</td>\n",
              "      <td>0.972170</td>\n",
              "      <td>0.136432</td>\n",
              "      <td>2.547473</td>\n",
              "    </tr>\n",
              "    <tr>\n",
              "      <th>12</th>\n",
              "      <td>John Hancock Multifactor Mid Cap (JHMM)</td>\n",
              "      <td>Mid Cap</td>\n",
              "      <td>0.055293</td>\n",
              "      <td>0.125665</td>\n",
              "      <td>0.800530</td>\n",
              "      <td>0.115169</td>\n",
              "      <td>1.793522</td>\n",
              "    </tr>\n",
              "    <tr>\n",
              "      <th>13</th>\n",
              "      <td>Vanguard Mid-Cap Index Fund (VO)</td>\n",
              "      <td>Mid Cap</td>\n",
              "      <td>0.053174</td>\n",
              "      <td>0.133274</td>\n",
              "      <td>0.835987</td>\n",
              "      <td>0.119561</td>\n",
              "      <td>1.947596</td>\n",
              "    </tr>\n",
              "    <tr>\n",
              "      <th>14</th>\n",
              "      <td>iShares Russell Mid-Cap ETF (IWR)</td>\n",
              "      <td>Mid Cap</td>\n",
              "      <td>0.054860</td>\n",
              "      <td>0.132991</td>\n",
              "      <td>0.806122</td>\n",
              "      <td>0.115862</td>\n",
              "      <td>1.820304</td>\n",
              "    </tr>\n",
              "    <tr>\n",
              "      <th>15</th>\n",
              "      <td>Schwab Fundamental U.S. Small Company Index (F...</td>\n",
              "      <td>Small Cap</td>\n",
              "      <td>0.066433</td>\n",
              "      <td>0.135363</td>\n",
              "      <td>0.632112</td>\n",
              "      <td>0.094306</td>\n",
              "      <td>1.178715</td>\n",
              "    </tr>\n",
              "    <tr>\n",
              "      <th>16</th>\n",
              "      <td>Vanguard FTSE All-World ex-US Small-Cap Index ...</td>\n",
              "      <td>Small Cap</td>\n",
              "      <td>0.052176</td>\n",
              "      <td>0.090358</td>\n",
              "      <td>0.802155</td>\n",
              "      <td>0.115370</td>\n",
              "      <td>1.904523</td>\n",
              "    </tr>\n",
              "    <tr>\n",
              "      <th>17</th>\n",
              "      <td>Vanguard Small-Cap Value Index Fund (VBR)</td>\n",
              "      <td>Small Cap</td>\n",
              "      <td>0.063564</td>\n",
              "      <td>0.120566</td>\n",
              "      <td>0.661262</td>\n",
              "      <td>0.097917</td>\n",
              "      <td>1.288728</td>\n",
              "    </tr>\n",
              "    <tr>\n",
              "      <th>18</th>\n",
              "      <td>S&amp;P 500 (^GSPC)</td>\n",
              "      <td>Market</td>\n",
              "      <td>0.046208</td>\n",
              "      <td>0.139879</td>\n",
              "      <td>1.000000</td>\n",
              "      <td>0.139879</td>\n",
              "      <td>2.680918</td>\n",
              "    </tr>\n",
              "    <tr>\n",
              "      <th>19</th>\n",
              "      <td>10 Year Treasury Bill</td>\n",
              "      <td>Risk-Free</td>\n",
              "      <td>NaN</td>\n",
              "      <td>0.016000</td>\n",
              "      <td>NaN</td>\n",
              "      <td>NaN</td>\n",
              "      <td>NaN</td>\n",
              "    </tr>\n",
              "  </tbody>\n",
              "</table>\n",
              "</div>"
            ],
            "text/plain": [
              "                                                 Fund  ... Sharpe Ratio\n",
              "0                   Schuab U.S. Divided Equity (SCHD)  ...     2.422426\n",
              "1     Vanguard Dividend Appreciation Index Fund (VIG)  ...     3.122502\n",
              "2         iShares International Select Dividend (IDV)  ...     1.649427\n",
              "3               Fidelity U.S. Bond Index Fund (FXNAX)  ...     0.033102\n",
              "4      Invesco National AMT-Free Municipal Bond (PZA)  ...     4.637615\n",
              "5   Vanguard Short-Term Corporate Bond Index Fund ...  ...    48.425031\n",
              "6                               ARK Innovation (ARKK)  ...     0.467188\n",
              "7                    Vanguard Growth Index Fund (VUG)  ...     2.045860\n",
              "8                      iShares Core S&P Mid-Cap (IJH)  ...     1.529707\n",
              "9      Fidelity SAI U.S. Large Cap Index Fund (FLCPX)  ...     2.359813\n",
              "10                 Schwab International Equity (SCHF)  ...     2.590732\n",
              "11                             Vanguard S&P 500 (VOO)  ...     2.547473\n",
              "12            John Hancock Multifactor Mid Cap (JHMM)  ...     1.793522\n",
              "13                   Vanguard Mid-Cap Index Fund (VO)  ...     1.947596\n",
              "14                  iShares Russell Mid-Cap ETF (IWR)  ...     1.820304\n",
              "15  Schwab Fundamental U.S. Small Company Index (F...  ...     1.178715\n",
              "16  Vanguard FTSE All-World ex-US Small-Cap Index ...  ...     1.904523\n",
              "17          Vanguard Small-Cap Value Index Fund (VBR)  ...     1.288728\n",
              "18                                    S&P 500 (^GSPC)  ...     2.680918\n",
              "19                              10 Year Treasury Bill  ...          NaN\n",
              "\n",
              "[20 rows x 7 columns]"
            ]
          },
          "metadata": {
            "tags": []
          },
          "execution_count": 61
        }
      ]
    },
    {
      "cell_type": "markdown",
      "metadata": {
        "id": "6PYQXODlzHbq"
      },
      "source": [
        "### **Jensen's Alpha**"
      ]
    },
    {
      "cell_type": "markdown",
      "metadata": {
        "id": "37dJ3xbxzjLq"
      },
      "source": [
        "Using the expected return calculated above as well as the actual returns (APR) calculated in Step 8, we will aggregate a new column containing Jensen's Alpha for each of the funds."
      ]
    },
    {
      "cell_type": "markdown",
      "metadata": {
        "id": "Grj9VL7rzjyq"
      },
      "source": [
        "**Jensen's Alpha Formula: Actual Return (APR) - Expected Return (E(R))**"
      ]
    },
    {
      "cell_type": "markdown",
      "metadata": {
        "id": "rHEcU8ae0PGm"
      },
      "source": [
        "The table below contains the Alpha of each asset, calculated using the formula above. Jensen's Alpha is a risk-adjusted performance measure that represents the average return on a portfolio or investment, above or below that predicted by the capital asset pricing model (CAPM), given the portfolio's or investment's beta and the average market return. If an asset is fairly priced, it will have the same return as the CAPM model suggests, giving it an Alpha of 0. Typically, a higher Alpha is most attractive to investors."
      ]
    },
    {
      "cell_type": "code",
      "metadata": {
        "colab": {
          "base_uri": "https://localhost:8080/",
          "height": 669
        },
        "id": "0MR78BMy0OR1",
        "outputId": "080fcec2-8e0a-47ee-bb74-31f1eed9a595"
      },
      "source": [
        "final_table2['Alpha'] = (final_table2['APR'] - final_table2['Expected Return'])\n",
        "final_table2"
      ],
      "execution_count": 62,
      "outputs": [
        {
          "output_type": "execute_result",
          "data": {
            "text/html": [
              "<div>\n",
              "<style scoped>\n",
              "    .dataframe tbody tr th:only-of-type {\n",
              "        vertical-align: middle;\n",
              "    }\n",
              "\n",
              "    .dataframe tbody tr th {\n",
              "        vertical-align: top;\n",
              "    }\n",
              "\n",
              "    .dataframe thead th {\n",
              "        text-align: right;\n",
              "    }\n",
              "</style>\n",
              "<table border=\"1\" class=\"dataframe\">\n",
              "  <thead>\n",
              "    <tr style=\"text-align: right;\">\n",
              "      <th></th>\n",
              "      <th>Fund</th>\n",
              "      <th>Type</th>\n",
              "      <th>St.Dev of Returns</th>\n",
              "      <th>APR</th>\n",
              "      <th>Beta</th>\n",
              "      <th>Expected Return</th>\n",
              "      <th>Sharpe Ratio</th>\n",
              "      <th>Alpha</th>\n",
              "    </tr>\n",
              "  </thead>\n",
              "  <tbody>\n",
              "    <tr>\n",
              "      <th>0</th>\n",
              "      <td>Schuab U.S. Divided Equity (SCHD)</td>\n",
              "      <td>Income</td>\n",
              "      <td>0.047604</td>\n",
              "      <td>0.154745</td>\n",
              "      <td>0.930883</td>\n",
              "      <td>0.131317</td>\n",
              "      <td>2.422426</td>\n",
              "      <td>0.023428</td>\n",
              "    </tr>\n",
              "    <tr>\n",
              "      <th>1</th>\n",
              "      <td>Vanguard Dividend Appreciation Index Fund (VIG)</td>\n",
              "      <td>Income</td>\n",
              "      <td>0.042099</td>\n",
              "      <td>0.142106</td>\n",
              "      <td>1.061147</td>\n",
              "      <td>0.147454</td>\n",
              "      <td>3.122502</td>\n",
              "      <td>-0.005348</td>\n",
              "    </tr>\n",
              "    <tr>\n",
              "      <th>2</th>\n",
              "      <td>iShares International Select Dividend (IDV)</td>\n",
              "      <td>Income</td>\n",
              "      <td>0.054880</td>\n",
              "      <td>0.081792</td>\n",
              "      <td>0.730715</td>\n",
              "      <td>0.106521</td>\n",
              "      <td>1.649427</td>\n",
              "      <td>-0.024729</td>\n",
              "    </tr>\n",
              "    <tr>\n",
              "      <th>3</th>\n",
              "      <td>Fidelity U.S. Bond Index Fund (FXNAX)</td>\n",
              "      <td>Bond</td>\n",
              "      <td>0.009195</td>\n",
              "      <td>0.030616</td>\n",
              "      <td>0.002457</td>\n",
              "      <td>0.016304</td>\n",
              "      <td>0.033102</td>\n",
              "      <td>0.014312</td>\n",
              "    </tr>\n",
              "    <tr>\n",
              "      <th>4</th>\n",
              "      <td>Invesco National AMT-Free Municipal Bond (PZA)</td>\n",
              "      <td>Bond</td>\n",
              "      <td>0.014498</td>\n",
              "      <td>0.040588</td>\n",
              "      <td>0.542755</td>\n",
              "      <td>0.083236</td>\n",
              "      <td>4.637615</td>\n",
              "      <td>-0.042648</td>\n",
              "    </tr>\n",
              "    <tr>\n",
              "      <th>5</th>\n",
              "      <td>Vanguard Short-Term Corporate Bond Index Fund ...</td>\n",
              "      <td>Bond</td>\n",
              "      <td>0.007919</td>\n",
              "      <td>0.053750</td>\n",
              "      <td>3.095575</td>\n",
              "      <td>0.399478</td>\n",
              "      <td>48.425031</td>\n",
              "      <td>-0.345728</td>\n",
              "    </tr>\n",
              "    <tr>\n",
              "      <th>6</th>\n",
              "      <td>ARK Innovation (ARKK)</td>\n",
              "      <td>Growth</td>\n",
              "      <td>0.096830</td>\n",
              "      <td>0.356687</td>\n",
              "      <td>0.365176</td>\n",
              "      <td>0.061238</td>\n",
              "      <td>0.467188</td>\n",
              "      <td>0.295449</td>\n",
              "    </tr>\n",
              "    <tr>\n",
              "      <th>7</th>\n",
              "      <td>Vanguard Growth Index Fund (VUG)</td>\n",
              "      <td>Growth</td>\n",
              "      <td>0.051729</td>\n",
              "      <td>0.180537</td>\n",
              "      <td>0.854302</td>\n",
              "      <td>0.121830</td>\n",
              "      <td>2.045860</td>\n",
              "      <td>0.058707</td>\n",
              "    </tr>\n",
              "    <tr>\n",
              "      <th>8</th>\n",
              "      <td>iShares Core S&amp;P Mid-Cap (IJH)</td>\n",
              "      <td>Growth</td>\n",
              "      <td>0.059406</td>\n",
              "      <td>0.129866</td>\n",
              "      <td>0.733567</td>\n",
              "      <td>0.106874</td>\n",
              "      <td>1.529707</td>\n",
              "      <td>0.022992</td>\n",
              "    </tr>\n",
              "    <tr>\n",
              "      <th>9</th>\n",
              "      <td>Fidelity SAI U.S. Large Cap Index Fund (FLCPX)</td>\n",
              "      <td>Large Cap</td>\n",
              "      <td>0.048791</td>\n",
              "      <td>0.144036</td>\n",
              "      <td>0.929434</td>\n",
              "      <td>0.131138</td>\n",
              "      <td>2.359813</td>\n",
              "      <td>0.012898</td>\n",
              "    </tr>\n",
              "    <tr>\n",
              "      <th>10</th>\n",
              "      <td>Schwab International Equity (SCHF)</td>\n",
              "      <td>Large Cap</td>\n",
              "      <td>0.044257</td>\n",
              "      <td>0.085568</td>\n",
              "      <td>0.925562</td>\n",
              "      <td>0.130658</td>\n",
              "      <td>2.590732</td>\n",
              "      <td>-0.045090</td>\n",
              "    </tr>\n",
              "    <tr>\n",
              "      <th>11</th>\n",
              "      <td>Vanguard S&amp;P 500 (VOO)</td>\n",
              "      <td>Large Cap</td>\n",
              "      <td>0.047275</td>\n",
              "      <td>0.148199</td>\n",
              "      <td>0.972170</td>\n",
              "      <td>0.136432</td>\n",
              "      <td>2.547473</td>\n",
              "      <td>0.011767</td>\n",
              "    </tr>\n",
              "    <tr>\n",
              "      <th>12</th>\n",
              "      <td>John Hancock Multifactor Mid Cap (JHMM)</td>\n",
              "      <td>Mid Cap</td>\n",
              "      <td>0.055293</td>\n",
              "      <td>0.125665</td>\n",
              "      <td>0.800530</td>\n",
              "      <td>0.115169</td>\n",
              "      <td>1.793522</td>\n",
              "      <td>0.010496</td>\n",
              "    </tr>\n",
              "    <tr>\n",
              "      <th>13</th>\n",
              "      <td>Vanguard Mid-Cap Index Fund (VO)</td>\n",
              "      <td>Mid Cap</td>\n",
              "      <td>0.053174</td>\n",
              "      <td>0.133274</td>\n",
              "      <td>0.835987</td>\n",
              "      <td>0.119561</td>\n",
              "      <td>1.947596</td>\n",
              "      <td>0.013713</td>\n",
              "    </tr>\n",
              "    <tr>\n",
              "      <th>14</th>\n",
              "      <td>iShares Russell Mid-Cap ETF (IWR)</td>\n",
              "      <td>Mid Cap</td>\n",
              "      <td>0.054860</td>\n",
              "      <td>0.132991</td>\n",
              "      <td>0.806122</td>\n",
              "      <td>0.115862</td>\n",
              "      <td>1.820304</td>\n",
              "      <td>0.017129</td>\n",
              "    </tr>\n",
              "    <tr>\n",
              "      <th>15</th>\n",
              "      <td>Schwab Fundamental U.S. Small Company Index (F...</td>\n",
              "      <td>Small Cap</td>\n",
              "      <td>0.066433</td>\n",
              "      <td>0.135363</td>\n",
              "      <td>0.632112</td>\n",
              "      <td>0.094306</td>\n",
              "      <td>1.178715</td>\n",
              "      <td>0.041057</td>\n",
              "    </tr>\n",
              "    <tr>\n",
              "      <th>16</th>\n",
              "      <td>Vanguard FTSE All-World ex-US Small-Cap Index ...</td>\n",
              "      <td>Small Cap</td>\n",
              "      <td>0.052176</td>\n",
              "      <td>0.090358</td>\n",
              "      <td>0.802155</td>\n",
              "      <td>0.115370</td>\n",
              "      <td>1.904523</td>\n",
              "      <td>-0.025012</td>\n",
              "    </tr>\n",
              "    <tr>\n",
              "      <th>17</th>\n",
              "      <td>Vanguard Small-Cap Value Index Fund (VBR)</td>\n",
              "      <td>Small Cap</td>\n",
              "      <td>0.063564</td>\n",
              "      <td>0.120566</td>\n",
              "      <td>0.661262</td>\n",
              "      <td>0.097917</td>\n",
              "      <td>1.288728</td>\n",
              "      <td>0.022649</td>\n",
              "    </tr>\n",
              "    <tr>\n",
              "      <th>18</th>\n",
              "      <td>S&amp;P 500 (^GSPC)</td>\n",
              "      <td>Market</td>\n",
              "      <td>0.046208</td>\n",
              "      <td>0.139879</td>\n",
              "      <td>1.000000</td>\n",
              "      <td>0.139879</td>\n",
              "      <td>2.680918</td>\n",
              "      <td>0.000000</td>\n",
              "    </tr>\n",
              "    <tr>\n",
              "      <th>19</th>\n",
              "      <td>10 Year Treasury Bill</td>\n",
              "      <td>Risk-Free</td>\n",
              "      <td>NaN</td>\n",
              "      <td>0.016000</td>\n",
              "      <td>NaN</td>\n",
              "      <td>NaN</td>\n",
              "      <td>NaN</td>\n",
              "      <td>NaN</td>\n",
              "    </tr>\n",
              "  </tbody>\n",
              "</table>\n",
              "</div>"
            ],
            "text/plain": [
              "                                                 Fund  ...     Alpha\n",
              "0                   Schuab U.S. Divided Equity (SCHD)  ...  0.023428\n",
              "1     Vanguard Dividend Appreciation Index Fund (VIG)  ... -0.005348\n",
              "2         iShares International Select Dividend (IDV)  ... -0.024729\n",
              "3               Fidelity U.S. Bond Index Fund (FXNAX)  ...  0.014312\n",
              "4      Invesco National AMT-Free Municipal Bond (PZA)  ... -0.042648\n",
              "5   Vanguard Short-Term Corporate Bond Index Fund ...  ... -0.345728\n",
              "6                               ARK Innovation (ARKK)  ...  0.295449\n",
              "7                    Vanguard Growth Index Fund (VUG)  ...  0.058707\n",
              "8                      iShares Core S&P Mid-Cap (IJH)  ...  0.022992\n",
              "9      Fidelity SAI U.S. Large Cap Index Fund (FLCPX)  ...  0.012898\n",
              "10                 Schwab International Equity (SCHF)  ... -0.045090\n",
              "11                             Vanguard S&P 500 (VOO)  ...  0.011767\n",
              "12            John Hancock Multifactor Mid Cap (JHMM)  ...  0.010496\n",
              "13                   Vanguard Mid-Cap Index Fund (VO)  ...  0.013713\n",
              "14                  iShares Russell Mid-Cap ETF (IWR)  ...  0.017129\n",
              "15  Schwab Fundamental U.S. Small Company Index (F...  ...  0.041057\n",
              "16  Vanguard FTSE All-World ex-US Small-Cap Index ...  ... -0.025012\n",
              "17          Vanguard Small-Cap Value Index Fund (VBR)  ...  0.022649\n",
              "18                                    S&P 500 (^GSPC)  ...  0.000000\n",
              "19                              10 Year Treasury Bill  ...       NaN\n",
              "\n",
              "[20 rows x 8 columns]"
            ]
          },
          "metadata": {
            "tags": []
          },
          "execution_count": 62
        }
      ]
    },
    {
      "cell_type": "markdown",
      "metadata": {
        "id": "D0Govs591oBA"
      },
      "source": [
        "# **Step 10: Select Funds for Portfolio**"
      ]
    },
    {
      "cell_type": "markdown",
      "metadata": {
        "id": "AKfhqaKr2HcK"
      },
      "source": [
        "Using the metrics aggregated in Step 9, we will now begin to select which funds will be worthy invstments for our final portfolio. The main proxy for our decision making will be the expected returns of the assets relative to the Security Market Line (CAPM)."
      ]
    },
    {
      "cell_type": "markdown",
      "metadata": {
        "id": "3IIJTpCe218u"
      },
      "source": [
        "### **Security Market Line**"
      ]
    },
    {
      "cell_type": "markdown",
      "metadata": {
        "id": "XIPCb6cl261h"
      },
      "source": [
        "The first determiner of whether we will invest in a fund or not is if the actual returns (APR) of an individual asset excede the returns found on the Security Market Line (SML) at that corresponding Beta. This would indicate that the actual realized returns are greater than the required return and that the fund is undervalued. While this methodology typically should not be the only decison making tool used for choosing investments, for reasons of simplicity, any points below this line will be dropped from our consideration. "
      ]
    },
    {
      "cell_type": "markdown",
      "metadata": {
        "id": "E8dlrOlbW38y"
      },
      "source": [
        "We must first create the points that will make up our Security Market Line. To do that we will append new rows to our previous dataframe. These four new rows will contain four different points of varying Betas [0,2,3,4] and the corresponding return, based on the risk-free rate and market return used in Step 8. I then drop all other rows to isolate the data for the SML. (Creating a new dataframe would likely have been easier, but this still works for our purposes.)"
      ]
    },
    {
      "cell_type": "code",
      "metadata": {
        "id": "JEjY6Ld0274P"
      },
      "source": [
        "high_beta = {'Fund':'Security Market Line: High Beta','Type':'SML','St.Dev of Returns':'NaN','APR':'NaN','Beta':2,'Expected Return':(final_table['APR'][19] + 2*(final_table['APR'][18] - final_table['APR'][19])),'Sharpe Ratio':'NaN','Alpha':'NaN'}\n",
        "low_beta = {'Fund':'Security Market Line: Low Beta','Type':'SML','St.Dev of Returns':'NaN','APR':'NaN','Beta':0,'Expected Return':(final_table['APR'][19] + 0*(final_table['APR'][18] - final_table['APR'][19])),'Sharpe Ratio':'NaN','Alpha':'NaN'}\n",
        "higher_beta = {'Fund':'Security Market Line: Higher Beta','Type':'SML','St.Dev of Returns':'NaN','APR':'NaN','Beta':3,'Expected Return':(final_table['APR'][19] + 3*(final_table['APR'][18] - final_table['APR'][19])),'Sharpe Ratio':'NaN','Alpha':'NaN'}\n",
        "highest_beta = {'Fund':'Security Market Line: Highest Beta','Type':'SML','St.Dev of Returns':'NaN','APR':'NaN','Beta':4,'Expected Return':(final_table['APR'][19] + 4*(final_table['APR'][18] - final_table['APR'][19])),'Sharpe Ratio':'NaN','Alpha':'NaN'} \n",
        "sml_table = final_table2.append(high_beta,ignore_index=True)\n",
        "sml_table2 = sml_table.append(low_beta,ignore_index=True)\n",
        "sml_table3 = sml_table2.append(higher_beta,ignore_index=True)\n",
        "sml_table4 = sml_table3.append(highest_beta,ignore_index=True)\n",
        "sml_table4.drop([0,1,2,3,4,5,6,7,8,9,10,11,12,13,14,15,16,17,18,19],inplace=True)"
      ],
      "execution_count": 63,
      "outputs": []
    },
    {
      "cell_type": "markdown",
      "metadata": {
        "id": "tPIov2V2YBnu"
      },
      "source": [
        "Next, we will drop the risk-free rate and market returns from the final table created in Step 8. This will isolate the returns and betas of all the funds being examined in its own dataframe. "
      ]
    },
    {
      "cell_type": "code",
      "metadata": {
        "id": "vzMhEPNd7ygb"
      },
      "source": [
        "final_table3 = final_table2.drop([18,19])"
      ],
      "execution_count": 64,
      "outputs": []
    },
    {
      "cell_type": "markdown",
      "metadata": {
        "id": "dsLoxIz4YUx6"
      },
      "source": [
        "Using these two dataframes, we will create two overlapping graphs. One line graph which represents the SML, and one scatter plot to represent the various funds. "
      ]
    },
    {
      "cell_type": "code",
      "metadata": {
        "colab": {
          "base_uri": "https://localhost:8080/",
          "height": 542
        },
        "id": "XJVvc7Fr501d",
        "outputId": "9dba9d82-271f-4e11-80ca-16892e8d37c8"
      },
      "source": [
        "sml_fig = go.Figure()\n",
        "sml_fig.add_trace(\n",
        "    go.Scatter(x=sml_table4['Beta'],y=sml_table4['Expected Return'],mode='lines',name='Security Market Line')\n",
        ")\n",
        "\n",
        "sml_fig.add_trace(\n",
        "    go.Scatter(x=final_table3['Beta'],y=final_table3['APR'],mode='markers',name='Actual Returns',hovertext=final_table3['Fund'])\n",
        ")\n",
        "\n",
        "sml_fig.update_layout(\n",
        "    title='Security Market Line Vs. Actual Fund Returns', \n",
        "    xaxis_title='Beta',\n",
        "    yaxis_title='APR',\n",
        "    legend_title='Legend',\n",
        "    template='plotly_dark'\n",
        ")"
      ],
      "execution_count": 65,
      "outputs": [
        {
          "output_type": "display_data",
          "data": {
            "text/html": [
              "<html>\n",
              "<head><meta charset=\"utf-8\" /></head>\n",
              "<body>\n",
              "    <div>            <script src=\"https://cdnjs.cloudflare.com/ajax/libs/mathjax/2.7.5/MathJax.js?config=TeX-AMS-MML_SVG\"></script><script type=\"text/javascript\">if (window.MathJax) {MathJax.Hub.Config({SVG: {font: \"STIX-Web\"}});}</script>                <script type=\"text/javascript\">window.PlotlyConfig = {MathJaxConfig: 'local'};</script>\n",
              "        <script src=\"https://cdn.plot.ly/plotly-latest.min.js\"></script>                <div id=\"2c324f04-bf27-4e31-ae2b-d2171c2ceb2d\" class=\"plotly-graph-div\" style=\"height:525px; width:100%;\"></div>            <script type=\"text/javascript\">                                    window.PLOTLYENV=window.PLOTLYENV || {};                                    if (document.getElementById(\"2c324f04-bf27-4e31-ae2b-d2171c2ceb2d\")) {                    Plotly.newPlot(                        \"2c324f04-bf27-4e31-ae2b-d2171c2ceb2d\",                        [{\"mode\": \"lines\", \"name\": \"Security Market Line\", \"type\": \"scatter\", \"x\": [2.0, 0.0, 3.0, 4.0], \"y\": [0.26375867325104263, 0.016, 0.387638009876564, 0.5115173465020852]}, {\"hovertext\": [\"Schuab U.S. Divided Equity (SCHD)\", \"Vanguard Dividend Appreciation Index Fund (VIG)\", \"iShares International Select Dividend (IDV)\", \"Fidelity U.S. Bond Index Fund (FXNAX)\", \"Invesco National AMT-Free Municipal Bond (PZA)\", \"Vanguard Short-Term Corporate Bond Index Fund (VCSH)\", \"ARK Innovation (ARKK)\", \"Vanguard Growth Index Fund (VUG)\", \"iShares Core S&P Mid-Cap (IJH)\", \"Fidelity SAI U.S. Large Cap Index Fund (FLCPX)\", \"Schwab International Equity (SCHF)\", \"Vanguard S&P 500 (VOO)\", \"John Hancock Multifactor Mid Cap (JHMM)\", \"Vanguard Mid-Cap Index Fund (VO)\", \"iShares Russell Mid-Cap ETF (IWR)\", \"Schwab Fundamental U.S. Small Company Index (FNDA)\", \"Vanguard FTSE All-World ex-US Small-Cap Index Fund (VSS)\", \"Vanguard Small-Cap Value Index Fund (VBR)\"], \"mode\": \"markers\", \"name\": \"Actual Returns\", \"type\": \"scatter\", \"x\": [0.9308829358907689, 1.061147119040196, 0.7307154799339521, 0.002457041266528978, 0.5427551037200076, 3.095575339180747, 0.365176436945121, 0.8543015703042294, 0.7335667515248224, 0.9294335956010603, 0.9255620301517897, 0.9721700385393458, 0.8005304852277253, 0.835986732433555, 0.8061221928643378, 0.6321115725918808, 0.8021546608580323, 0.6612619825031256], \"y\": [0.154745, 0.142106, 0.081792, 0.030616, 0.040588, 0.05375, 0.356687, 0.180537, 0.129866, 0.144036, 0.085568, 0.148199, 0.125665, 0.133274, 0.132991, 0.135363, 0.090358, 0.120566]}],                        {\"legend\": {\"title\": {\"text\": \"Legend\"}}, \"template\": {\"data\": {\"bar\": [{\"error_x\": {\"color\": \"#f2f5fa\"}, \"error_y\": {\"color\": \"#f2f5fa\"}, \"marker\": {\"line\": {\"color\": \"rgb(17,17,17)\", \"width\": 0.5}}, \"type\": \"bar\"}], \"barpolar\": [{\"marker\": {\"line\": {\"color\": \"rgb(17,17,17)\", \"width\": 0.5}}, \"type\": \"barpolar\"}], \"carpet\": [{\"aaxis\": {\"endlinecolor\": \"#A2B1C6\", \"gridcolor\": \"#506784\", \"linecolor\": \"#506784\", \"minorgridcolor\": \"#506784\", \"startlinecolor\": \"#A2B1C6\"}, \"baxis\": {\"endlinecolor\": \"#A2B1C6\", \"gridcolor\": \"#506784\", \"linecolor\": \"#506784\", \"minorgridcolor\": \"#506784\", \"startlinecolor\": \"#A2B1C6\"}, \"type\": \"carpet\"}], \"choropleth\": [{\"colorbar\": {\"outlinewidth\": 0, \"ticks\": \"\"}, \"type\": \"choropleth\"}], \"contour\": [{\"colorbar\": {\"outlinewidth\": 0, \"ticks\": \"\"}, \"colorscale\": [[0.0, \"#0d0887\"], [0.1111111111111111, \"#46039f\"], [0.2222222222222222, \"#7201a8\"], [0.3333333333333333, \"#9c179e\"], [0.4444444444444444, \"#bd3786\"], [0.5555555555555556, \"#d8576b\"], [0.6666666666666666, \"#ed7953\"], [0.7777777777777778, \"#fb9f3a\"], [0.8888888888888888, \"#fdca26\"], [1.0, \"#f0f921\"]], \"type\": \"contour\"}], \"contourcarpet\": [{\"colorbar\": {\"outlinewidth\": 0, \"ticks\": \"\"}, \"type\": \"contourcarpet\"}], \"heatmap\": [{\"colorbar\": {\"outlinewidth\": 0, \"ticks\": \"\"}, \"colorscale\": [[0.0, \"#0d0887\"], [0.1111111111111111, \"#46039f\"], [0.2222222222222222, \"#7201a8\"], [0.3333333333333333, \"#9c179e\"], [0.4444444444444444, \"#bd3786\"], [0.5555555555555556, \"#d8576b\"], [0.6666666666666666, \"#ed7953\"], [0.7777777777777778, \"#fb9f3a\"], [0.8888888888888888, \"#fdca26\"], [1.0, \"#f0f921\"]], \"type\": \"heatmap\"}], \"heatmapgl\": [{\"colorbar\": {\"outlinewidth\": 0, \"ticks\": \"\"}, \"colorscale\": [[0.0, \"#0d0887\"], [0.1111111111111111, \"#46039f\"], [0.2222222222222222, \"#7201a8\"], [0.3333333333333333, \"#9c179e\"], [0.4444444444444444, \"#bd3786\"], [0.5555555555555556, \"#d8576b\"], [0.6666666666666666, \"#ed7953\"], [0.7777777777777778, \"#fb9f3a\"], [0.8888888888888888, \"#fdca26\"], [1.0, \"#f0f921\"]], \"type\": \"heatmapgl\"}], \"histogram\": [{\"marker\": {\"colorbar\": {\"outlinewidth\": 0, \"ticks\": \"\"}}, \"type\": \"histogram\"}], \"histogram2d\": [{\"colorbar\": {\"outlinewidth\": 0, \"ticks\": \"\"}, \"colorscale\": [[0.0, \"#0d0887\"], [0.1111111111111111, \"#46039f\"], [0.2222222222222222, \"#7201a8\"], [0.3333333333333333, \"#9c179e\"], [0.4444444444444444, \"#bd3786\"], [0.5555555555555556, \"#d8576b\"], [0.6666666666666666, \"#ed7953\"], [0.7777777777777778, \"#fb9f3a\"], [0.8888888888888888, \"#fdca26\"], [1.0, \"#f0f921\"]], \"type\": \"histogram2d\"}], \"histogram2dcontour\": [{\"colorbar\": {\"outlinewidth\": 0, \"ticks\": \"\"}, \"colorscale\": [[0.0, \"#0d0887\"], [0.1111111111111111, \"#46039f\"], [0.2222222222222222, \"#7201a8\"], [0.3333333333333333, \"#9c179e\"], [0.4444444444444444, \"#bd3786\"], [0.5555555555555556, \"#d8576b\"], [0.6666666666666666, \"#ed7953\"], [0.7777777777777778, \"#fb9f3a\"], [0.8888888888888888, \"#fdca26\"], [1.0, \"#f0f921\"]], \"type\": \"histogram2dcontour\"}], \"mesh3d\": [{\"colorbar\": {\"outlinewidth\": 0, \"ticks\": \"\"}, \"type\": \"mesh3d\"}], \"parcoords\": [{\"line\": {\"colorbar\": {\"outlinewidth\": 0, \"ticks\": \"\"}}, \"type\": \"parcoords\"}], \"pie\": [{\"automargin\": true, \"type\": \"pie\"}], \"scatter\": [{\"marker\": {\"line\": {\"color\": \"#283442\"}}, \"type\": \"scatter\"}], \"scatter3d\": [{\"line\": {\"colorbar\": {\"outlinewidth\": 0, \"ticks\": \"\"}}, \"marker\": {\"colorbar\": {\"outlinewidth\": 0, \"ticks\": \"\"}}, \"type\": \"scatter3d\"}], \"scattercarpet\": [{\"marker\": {\"colorbar\": {\"outlinewidth\": 0, \"ticks\": \"\"}}, \"type\": \"scattercarpet\"}], \"scattergeo\": [{\"marker\": {\"colorbar\": {\"outlinewidth\": 0, \"ticks\": \"\"}}, \"type\": \"scattergeo\"}], \"scattergl\": [{\"marker\": {\"line\": {\"color\": \"#283442\"}}, \"type\": \"scattergl\"}], \"scattermapbox\": [{\"marker\": {\"colorbar\": {\"outlinewidth\": 0, \"ticks\": \"\"}}, \"type\": \"scattermapbox\"}], \"scatterpolar\": [{\"marker\": {\"colorbar\": {\"outlinewidth\": 0, \"ticks\": \"\"}}, \"type\": \"scatterpolar\"}], \"scatterpolargl\": [{\"marker\": {\"colorbar\": {\"outlinewidth\": 0, \"ticks\": \"\"}}, \"type\": \"scatterpolargl\"}], \"scatterternary\": [{\"marker\": {\"colorbar\": {\"outlinewidth\": 0, \"ticks\": \"\"}}, \"type\": \"scatterternary\"}], \"surface\": [{\"colorbar\": {\"outlinewidth\": 0, \"ticks\": \"\"}, \"colorscale\": [[0.0, \"#0d0887\"], [0.1111111111111111, \"#46039f\"], [0.2222222222222222, \"#7201a8\"], [0.3333333333333333, \"#9c179e\"], [0.4444444444444444, \"#bd3786\"], [0.5555555555555556, \"#d8576b\"], [0.6666666666666666, \"#ed7953\"], [0.7777777777777778, \"#fb9f3a\"], [0.8888888888888888, \"#fdca26\"], [1.0, \"#f0f921\"]], \"type\": \"surface\"}], \"table\": [{\"cells\": {\"fill\": {\"color\": \"#506784\"}, \"line\": {\"color\": \"rgb(17,17,17)\"}}, \"header\": {\"fill\": {\"color\": \"#2a3f5f\"}, \"line\": {\"color\": \"rgb(17,17,17)\"}}, \"type\": \"table\"}]}, \"layout\": {\"annotationdefaults\": {\"arrowcolor\": \"#f2f5fa\", \"arrowhead\": 0, \"arrowwidth\": 1}, \"autotypenumbers\": \"strict\", \"coloraxis\": {\"colorbar\": {\"outlinewidth\": 0, \"ticks\": \"\"}}, \"colorscale\": {\"diverging\": [[0, \"#8e0152\"], [0.1, \"#c51b7d\"], [0.2, \"#de77ae\"], [0.3, \"#f1b6da\"], [0.4, \"#fde0ef\"], [0.5, \"#f7f7f7\"], [0.6, \"#e6f5d0\"], [0.7, \"#b8e186\"], [0.8, \"#7fbc41\"], [0.9, \"#4d9221\"], [1, \"#276419\"]], \"sequential\": [[0.0, \"#0d0887\"], [0.1111111111111111, \"#46039f\"], [0.2222222222222222, \"#7201a8\"], [0.3333333333333333, \"#9c179e\"], [0.4444444444444444, \"#bd3786\"], [0.5555555555555556, \"#d8576b\"], [0.6666666666666666, \"#ed7953\"], [0.7777777777777778, \"#fb9f3a\"], [0.8888888888888888, \"#fdca26\"], [1.0, \"#f0f921\"]], \"sequentialminus\": [[0.0, \"#0d0887\"], [0.1111111111111111, \"#46039f\"], [0.2222222222222222, \"#7201a8\"], [0.3333333333333333, \"#9c179e\"], [0.4444444444444444, \"#bd3786\"], [0.5555555555555556, \"#d8576b\"], [0.6666666666666666, \"#ed7953\"], [0.7777777777777778, \"#fb9f3a\"], [0.8888888888888888, \"#fdca26\"], [1.0, \"#f0f921\"]]}, \"colorway\": [\"#636efa\", \"#EF553B\", \"#00cc96\", \"#ab63fa\", \"#FFA15A\", \"#19d3f3\", \"#FF6692\", \"#B6E880\", \"#FF97FF\", \"#FECB52\"], \"font\": {\"color\": \"#f2f5fa\"}, \"geo\": {\"bgcolor\": \"rgb(17,17,17)\", \"lakecolor\": \"rgb(17,17,17)\", \"landcolor\": \"rgb(17,17,17)\", \"showlakes\": true, \"showland\": true, \"subunitcolor\": \"#506784\"}, \"hoverlabel\": {\"align\": \"left\"}, \"hovermode\": \"closest\", \"mapbox\": {\"style\": \"dark\"}, \"paper_bgcolor\": \"rgb(17,17,17)\", \"plot_bgcolor\": \"rgb(17,17,17)\", \"polar\": {\"angularaxis\": {\"gridcolor\": \"#506784\", \"linecolor\": \"#506784\", \"ticks\": \"\"}, \"bgcolor\": \"rgb(17,17,17)\", \"radialaxis\": {\"gridcolor\": \"#506784\", \"linecolor\": \"#506784\", \"ticks\": \"\"}}, \"scene\": {\"xaxis\": {\"backgroundcolor\": \"rgb(17,17,17)\", \"gridcolor\": \"#506784\", \"gridwidth\": 2, \"linecolor\": \"#506784\", \"showbackground\": true, \"ticks\": \"\", \"zerolinecolor\": \"#C8D4E3\"}, \"yaxis\": {\"backgroundcolor\": \"rgb(17,17,17)\", \"gridcolor\": \"#506784\", \"gridwidth\": 2, \"linecolor\": \"#506784\", \"showbackground\": true, \"ticks\": \"\", \"zerolinecolor\": \"#C8D4E3\"}, \"zaxis\": {\"backgroundcolor\": \"rgb(17,17,17)\", \"gridcolor\": \"#506784\", \"gridwidth\": 2, \"linecolor\": \"#506784\", \"showbackground\": true, \"ticks\": \"\", \"zerolinecolor\": \"#C8D4E3\"}}, \"shapedefaults\": {\"line\": {\"color\": \"#f2f5fa\"}}, \"sliderdefaults\": {\"bgcolor\": \"#C8D4E3\", \"bordercolor\": \"rgb(17,17,17)\", \"borderwidth\": 1, \"tickwidth\": 0}, \"ternary\": {\"aaxis\": {\"gridcolor\": \"#506784\", \"linecolor\": \"#506784\", \"ticks\": \"\"}, \"baxis\": {\"gridcolor\": \"#506784\", \"linecolor\": \"#506784\", \"ticks\": \"\"}, \"bgcolor\": \"rgb(17,17,17)\", \"caxis\": {\"gridcolor\": \"#506784\", \"linecolor\": \"#506784\", \"ticks\": \"\"}}, \"title\": {\"x\": 0.05}, \"updatemenudefaults\": {\"bgcolor\": \"#506784\", \"borderwidth\": 0}, \"xaxis\": {\"automargin\": true, \"gridcolor\": \"#283442\", \"linecolor\": \"#506784\", \"ticks\": \"\", \"title\": {\"standoff\": 15}, \"zerolinecolor\": \"#283442\", \"zerolinewidth\": 2}, \"yaxis\": {\"automargin\": true, \"gridcolor\": \"#283442\", \"linecolor\": \"#506784\", \"ticks\": \"\", \"title\": {\"standoff\": 15}, \"zerolinecolor\": \"#283442\", \"zerolinewidth\": 2}}}, \"title\": {\"text\": \"Security Market Line Vs. Actual Fund Returns\"}, \"xaxis\": {\"title\": {\"text\": \"Beta\"}}, \"yaxis\": {\"title\": {\"text\": \"APR\"}}},                        {\"responsive\": true}                    ).then(function(){\n",
              "                            \n",
              "var gd = document.getElementById('2c324f04-bf27-4e31-ae2b-d2171c2ceb2d');\n",
              "var x = new MutationObserver(function (mutations, observer) {{\n",
              "        var display = window.getComputedStyle(gd).display;\n",
              "        if (!display || display === 'none') {{\n",
              "            console.log([gd, 'removed!']);\n",
              "            Plotly.purge(gd);\n",
              "            observer.disconnect();\n",
              "        }}\n",
              "}});\n",
              "\n",
              "// Listen for the removal of the full notebook cells\n",
              "var notebookContainer = gd.closest('#notebook-container');\n",
              "if (notebookContainer) {{\n",
              "    x.observe(notebookContainer, {childList: true});\n",
              "}}\n",
              "\n",
              "// Listen for the clearing of the current output cell\n",
              "var outputEl = gd.closest('.output');\n",
              "if (outputEl) {{\n",
              "    x.observe(outputEl, {childList: true});\n",
              "}}\n",
              "\n",
              "                        })                };                            </script>        </div>\n",
              "</body>\n",
              "</html>"
            ]
          },
          "metadata": {
            "tags": []
          }
        }
      ]
    },
    {
      "cell_type": "markdown",
      "metadata": {
        "id": "vp3GCxc_Ytiz"
      },
      "source": [
        "Seeing that there is a clear outlier (VCSH) AND it is below the SML anyways, we will create a new, more condensed graph (the SML stopping at a Beta of 2)"
      ]
    },
    {
      "cell_type": "code",
      "metadata": {
        "id": "4vTcufIAY9Mw"
      },
      "source": [
        "sml_table4.drop([22,23],inplace=True)\n",
        "final_table3.drop([5],inplace=True)"
      ],
      "execution_count": 66,
      "outputs": []
    },
    {
      "cell_type": "code",
      "metadata": {
        "colab": {
          "base_uri": "https://localhost:8080/",
          "height": 542
        },
        "id": "Th3rx-jjY9c6",
        "outputId": "02c3cfff-ef30-4675-dea8-ef299f96fd2b"
      },
      "source": [
        "sml_fig = go.Figure()\n",
        "sml_fig.add_trace(\n",
        "    go.Scatter(x=sml_table4['Beta'],y=sml_table4['Expected Return'],mode='lines',name='Security Market Line')\n",
        ")\n",
        "\n",
        "sml_fig.add_trace(\n",
        "    go.Scatter(x=final_table3['Beta'],y=final_table3['APR'],mode='markers',name='Actual Returns',hovertext=final_table3['Fund'])\n",
        ")\n",
        "\n",
        "sml_fig.update_layout(\n",
        "    title='Security Market Line Vs. Actual Fund Returns', \n",
        "    xaxis_title='Beta',\n",
        "    yaxis_title='APR',\n",
        "    legend_title='Legend',\n",
        "    template='plotly_dark'\n",
        ")"
      ],
      "execution_count": 67,
      "outputs": [
        {
          "output_type": "display_data",
          "data": {
            "text/html": [
              "<html>\n",
              "<head><meta charset=\"utf-8\" /></head>\n",
              "<body>\n",
              "    <div>            <script src=\"https://cdnjs.cloudflare.com/ajax/libs/mathjax/2.7.5/MathJax.js?config=TeX-AMS-MML_SVG\"></script><script type=\"text/javascript\">if (window.MathJax) {MathJax.Hub.Config({SVG: {font: \"STIX-Web\"}});}</script>                <script type=\"text/javascript\">window.PlotlyConfig = {MathJaxConfig: 'local'};</script>\n",
              "        <script src=\"https://cdn.plot.ly/plotly-latest.min.js\"></script>                <div id=\"e2676237-7752-48d2-8b69-ef3a801dfaa4\" class=\"plotly-graph-div\" style=\"height:525px; width:100%;\"></div>            <script type=\"text/javascript\">                                    window.PLOTLYENV=window.PLOTLYENV || {};                                    if (document.getElementById(\"e2676237-7752-48d2-8b69-ef3a801dfaa4\")) {                    Plotly.newPlot(                        \"e2676237-7752-48d2-8b69-ef3a801dfaa4\",                        [{\"mode\": \"lines\", \"name\": \"Security Market Line\", \"type\": \"scatter\", \"x\": [2.0, 0.0], \"y\": [0.26375867325104263, 0.016]}, {\"hovertext\": [\"Schuab U.S. Divided Equity (SCHD)\", \"Vanguard Dividend Appreciation Index Fund (VIG)\", \"iShares International Select Dividend (IDV)\", \"Fidelity U.S. Bond Index Fund (FXNAX)\", \"Invesco National AMT-Free Municipal Bond (PZA)\", \"ARK Innovation (ARKK)\", \"Vanguard Growth Index Fund (VUG)\", \"iShares Core S&P Mid-Cap (IJH)\", \"Fidelity SAI U.S. Large Cap Index Fund (FLCPX)\", \"Schwab International Equity (SCHF)\", \"Vanguard S&P 500 (VOO)\", \"John Hancock Multifactor Mid Cap (JHMM)\", \"Vanguard Mid-Cap Index Fund (VO)\", \"iShares Russell Mid-Cap ETF (IWR)\", \"Schwab Fundamental U.S. Small Company Index (FNDA)\", \"Vanguard FTSE All-World ex-US Small-Cap Index Fund (VSS)\", \"Vanguard Small-Cap Value Index Fund (VBR)\"], \"mode\": \"markers\", \"name\": \"Actual Returns\", \"type\": \"scatter\", \"x\": [0.9308829358907689, 1.061147119040196, 0.7307154799339521, 0.002457041266528978, 0.5427551037200076, 0.365176436945121, 0.8543015703042294, 0.7335667515248224, 0.9294335956010603, 0.9255620301517897, 0.9721700385393458, 0.8005304852277253, 0.835986732433555, 0.8061221928643378, 0.6321115725918808, 0.8021546608580323, 0.6612619825031256], \"y\": [0.154745, 0.142106, 0.081792, 0.030616, 0.040588, 0.356687, 0.180537, 0.129866, 0.144036, 0.085568, 0.148199, 0.125665, 0.133274, 0.132991, 0.135363, 0.090358, 0.120566]}],                        {\"legend\": {\"title\": {\"text\": \"Legend\"}}, \"template\": {\"data\": {\"bar\": [{\"error_x\": {\"color\": \"#f2f5fa\"}, \"error_y\": {\"color\": \"#f2f5fa\"}, \"marker\": {\"line\": {\"color\": \"rgb(17,17,17)\", \"width\": 0.5}}, \"type\": \"bar\"}], \"barpolar\": [{\"marker\": {\"line\": {\"color\": \"rgb(17,17,17)\", \"width\": 0.5}}, \"type\": \"barpolar\"}], \"carpet\": [{\"aaxis\": {\"endlinecolor\": \"#A2B1C6\", \"gridcolor\": \"#506784\", \"linecolor\": \"#506784\", \"minorgridcolor\": \"#506784\", \"startlinecolor\": \"#A2B1C6\"}, \"baxis\": {\"endlinecolor\": \"#A2B1C6\", \"gridcolor\": \"#506784\", \"linecolor\": \"#506784\", \"minorgridcolor\": \"#506784\", \"startlinecolor\": \"#A2B1C6\"}, \"type\": \"carpet\"}], \"choropleth\": [{\"colorbar\": {\"outlinewidth\": 0, \"ticks\": \"\"}, \"type\": \"choropleth\"}], \"contour\": [{\"colorbar\": {\"outlinewidth\": 0, \"ticks\": \"\"}, \"colorscale\": [[0.0, \"#0d0887\"], [0.1111111111111111, \"#46039f\"], [0.2222222222222222, \"#7201a8\"], [0.3333333333333333, \"#9c179e\"], [0.4444444444444444, \"#bd3786\"], [0.5555555555555556, \"#d8576b\"], [0.6666666666666666, \"#ed7953\"], [0.7777777777777778, \"#fb9f3a\"], [0.8888888888888888, \"#fdca26\"], [1.0, \"#f0f921\"]], \"type\": \"contour\"}], \"contourcarpet\": [{\"colorbar\": {\"outlinewidth\": 0, \"ticks\": \"\"}, \"type\": \"contourcarpet\"}], \"heatmap\": [{\"colorbar\": {\"outlinewidth\": 0, \"ticks\": \"\"}, \"colorscale\": [[0.0, \"#0d0887\"], [0.1111111111111111, \"#46039f\"], [0.2222222222222222, \"#7201a8\"], [0.3333333333333333, \"#9c179e\"], [0.4444444444444444, \"#bd3786\"], [0.5555555555555556, \"#d8576b\"], [0.6666666666666666, \"#ed7953\"], [0.7777777777777778, \"#fb9f3a\"], [0.8888888888888888, \"#fdca26\"], [1.0, \"#f0f921\"]], \"type\": \"heatmap\"}], \"heatmapgl\": [{\"colorbar\": {\"outlinewidth\": 0, \"ticks\": \"\"}, \"colorscale\": [[0.0, \"#0d0887\"], [0.1111111111111111, \"#46039f\"], [0.2222222222222222, \"#7201a8\"], [0.3333333333333333, \"#9c179e\"], [0.4444444444444444, \"#bd3786\"], [0.5555555555555556, \"#d8576b\"], [0.6666666666666666, \"#ed7953\"], [0.7777777777777778, \"#fb9f3a\"], [0.8888888888888888, \"#fdca26\"], [1.0, \"#f0f921\"]], \"type\": \"heatmapgl\"}], \"histogram\": [{\"marker\": {\"colorbar\": {\"outlinewidth\": 0, \"ticks\": \"\"}}, \"type\": \"histogram\"}], \"histogram2d\": [{\"colorbar\": {\"outlinewidth\": 0, \"ticks\": \"\"}, \"colorscale\": [[0.0, \"#0d0887\"], [0.1111111111111111, \"#46039f\"], [0.2222222222222222, \"#7201a8\"], [0.3333333333333333, \"#9c179e\"], [0.4444444444444444, \"#bd3786\"], [0.5555555555555556, \"#d8576b\"], [0.6666666666666666, \"#ed7953\"], [0.7777777777777778, \"#fb9f3a\"], [0.8888888888888888, \"#fdca26\"], [1.0, \"#f0f921\"]], \"type\": \"histogram2d\"}], \"histogram2dcontour\": [{\"colorbar\": {\"outlinewidth\": 0, \"ticks\": \"\"}, \"colorscale\": [[0.0, \"#0d0887\"], [0.1111111111111111, \"#46039f\"], [0.2222222222222222, \"#7201a8\"], [0.3333333333333333, \"#9c179e\"], [0.4444444444444444, \"#bd3786\"], [0.5555555555555556, \"#d8576b\"], [0.6666666666666666, \"#ed7953\"], [0.7777777777777778, \"#fb9f3a\"], [0.8888888888888888, \"#fdca26\"], [1.0, \"#f0f921\"]], \"type\": \"histogram2dcontour\"}], \"mesh3d\": [{\"colorbar\": {\"outlinewidth\": 0, \"ticks\": \"\"}, \"type\": \"mesh3d\"}], \"parcoords\": [{\"line\": {\"colorbar\": {\"outlinewidth\": 0, \"ticks\": \"\"}}, \"type\": \"parcoords\"}], \"pie\": [{\"automargin\": true, \"type\": \"pie\"}], \"scatter\": [{\"marker\": {\"line\": {\"color\": \"#283442\"}}, \"type\": \"scatter\"}], \"scatter3d\": [{\"line\": {\"colorbar\": {\"outlinewidth\": 0, \"ticks\": \"\"}}, \"marker\": {\"colorbar\": {\"outlinewidth\": 0, \"ticks\": \"\"}}, \"type\": \"scatter3d\"}], \"scattercarpet\": [{\"marker\": {\"colorbar\": {\"outlinewidth\": 0, \"ticks\": \"\"}}, \"type\": \"scattercarpet\"}], \"scattergeo\": [{\"marker\": {\"colorbar\": {\"outlinewidth\": 0, \"ticks\": \"\"}}, \"type\": \"scattergeo\"}], \"scattergl\": [{\"marker\": {\"line\": {\"color\": \"#283442\"}}, \"type\": \"scattergl\"}], \"scattermapbox\": [{\"marker\": {\"colorbar\": {\"outlinewidth\": 0, \"ticks\": \"\"}}, \"type\": \"scattermapbox\"}], \"scatterpolar\": [{\"marker\": {\"colorbar\": {\"outlinewidth\": 0, \"ticks\": \"\"}}, \"type\": \"scatterpolar\"}], \"scatterpolargl\": [{\"marker\": {\"colorbar\": {\"outlinewidth\": 0, \"ticks\": \"\"}}, \"type\": \"scatterpolargl\"}], \"scatterternary\": [{\"marker\": {\"colorbar\": {\"outlinewidth\": 0, \"ticks\": \"\"}}, \"type\": \"scatterternary\"}], \"surface\": [{\"colorbar\": {\"outlinewidth\": 0, \"ticks\": \"\"}, \"colorscale\": [[0.0, \"#0d0887\"], [0.1111111111111111, \"#46039f\"], [0.2222222222222222, \"#7201a8\"], [0.3333333333333333, \"#9c179e\"], [0.4444444444444444, \"#bd3786\"], [0.5555555555555556, \"#d8576b\"], [0.6666666666666666, \"#ed7953\"], [0.7777777777777778, \"#fb9f3a\"], [0.8888888888888888, \"#fdca26\"], [1.0, \"#f0f921\"]], \"type\": \"surface\"}], \"table\": [{\"cells\": {\"fill\": {\"color\": \"#506784\"}, \"line\": {\"color\": \"rgb(17,17,17)\"}}, \"header\": {\"fill\": {\"color\": \"#2a3f5f\"}, \"line\": {\"color\": \"rgb(17,17,17)\"}}, \"type\": \"table\"}]}, \"layout\": {\"annotationdefaults\": {\"arrowcolor\": \"#f2f5fa\", \"arrowhead\": 0, \"arrowwidth\": 1}, \"autotypenumbers\": \"strict\", \"coloraxis\": {\"colorbar\": {\"outlinewidth\": 0, \"ticks\": \"\"}}, \"colorscale\": {\"diverging\": [[0, \"#8e0152\"], [0.1, \"#c51b7d\"], [0.2, \"#de77ae\"], [0.3, \"#f1b6da\"], [0.4, \"#fde0ef\"], [0.5, \"#f7f7f7\"], [0.6, \"#e6f5d0\"], [0.7, \"#b8e186\"], [0.8, \"#7fbc41\"], [0.9, \"#4d9221\"], [1, \"#276419\"]], \"sequential\": [[0.0, \"#0d0887\"], [0.1111111111111111, \"#46039f\"], [0.2222222222222222, \"#7201a8\"], [0.3333333333333333, \"#9c179e\"], [0.4444444444444444, \"#bd3786\"], [0.5555555555555556, \"#d8576b\"], [0.6666666666666666, \"#ed7953\"], [0.7777777777777778, \"#fb9f3a\"], [0.8888888888888888, \"#fdca26\"], [1.0, \"#f0f921\"]], \"sequentialminus\": [[0.0, \"#0d0887\"], [0.1111111111111111, \"#46039f\"], [0.2222222222222222, \"#7201a8\"], [0.3333333333333333, \"#9c179e\"], [0.4444444444444444, \"#bd3786\"], [0.5555555555555556, \"#d8576b\"], [0.6666666666666666, \"#ed7953\"], [0.7777777777777778, \"#fb9f3a\"], [0.8888888888888888, \"#fdca26\"], [1.0, \"#f0f921\"]]}, \"colorway\": [\"#636efa\", \"#EF553B\", \"#00cc96\", \"#ab63fa\", \"#FFA15A\", \"#19d3f3\", \"#FF6692\", \"#B6E880\", \"#FF97FF\", \"#FECB52\"], \"font\": {\"color\": \"#f2f5fa\"}, \"geo\": {\"bgcolor\": \"rgb(17,17,17)\", \"lakecolor\": \"rgb(17,17,17)\", \"landcolor\": \"rgb(17,17,17)\", \"showlakes\": true, \"showland\": true, \"subunitcolor\": \"#506784\"}, \"hoverlabel\": {\"align\": \"left\"}, \"hovermode\": \"closest\", \"mapbox\": {\"style\": \"dark\"}, \"paper_bgcolor\": \"rgb(17,17,17)\", \"plot_bgcolor\": \"rgb(17,17,17)\", \"polar\": {\"angularaxis\": {\"gridcolor\": \"#506784\", \"linecolor\": \"#506784\", \"ticks\": \"\"}, \"bgcolor\": \"rgb(17,17,17)\", \"radialaxis\": {\"gridcolor\": \"#506784\", \"linecolor\": \"#506784\", \"ticks\": \"\"}}, \"scene\": {\"xaxis\": {\"backgroundcolor\": \"rgb(17,17,17)\", \"gridcolor\": \"#506784\", \"gridwidth\": 2, \"linecolor\": \"#506784\", \"showbackground\": true, \"ticks\": \"\", \"zerolinecolor\": \"#C8D4E3\"}, \"yaxis\": {\"backgroundcolor\": \"rgb(17,17,17)\", \"gridcolor\": \"#506784\", \"gridwidth\": 2, \"linecolor\": \"#506784\", \"showbackground\": true, \"ticks\": \"\", \"zerolinecolor\": \"#C8D4E3\"}, \"zaxis\": {\"backgroundcolor\": \"rgb(17,17,17)\", \"gridcolor\": \"#506784\", \"gridwidth\": 2, \"linecolor\": \"#506784\", \"showbackground\": true, \"ticks\": \"\", \"zerolinecolor\": \"#C8D4E3\"}}, \"shapedefaults\": {\"line\": {\"color\": \"#f2f5fa\"}}, \"sliderdefaults\": {\"bgcolor\": \"#C8D4E3\", \"bordercolor\": \"rgb(17,17,17)\", \"borderwidth\": 1, \"tickwidth\": 0}, \"ternary\": {\"aaxis\": {\"gridcolor\": \"#506784\", \"linecolor\": \"#506784\", \"ticks\": \"\"}, \"baxis\": {\"gridcolor\": \"#506784\", \"linecolor\": \"#506784\", \"ticks\": \"\"}, \"bgcolor\": \"rgb(17,17,17)\", \"caxis\": {\"gridcolor\": \"#506784\", \"linecolor\": \"#506784\", \"ticks\": \"\"}}, \"title\": {\"x\": 0.05}, \"updatemenudefaults\": {\"bgcolor\": \"#506784\", \"borderwidth\": 0}, \"xaxis\": {\"automargin\": true, \"gridcolor\": \"#283442\", \"linecolor\": \"#506784\", \"ticks\": \"\", \"title\": {\"standoff\": 15}, \"zerolinecolor\": \"#283442\", \"zerolinewidth\": 2}, \"yaxis\": {\"automargin\": true, \"gridcolor\": \"#283442\", \"linecolor\": \"#506784\", \"ticks\": \"\", \"title\": {\"standoff\": 15}, \"zerolinecolor\": \"#283442\", \"zerolinewidth\": 2}}}, \"title\": {\"text\": \"Security Market Line Vs. Actual Fund Returns\"}, \"xaxis\": {\"title\": {\"text\": \"Beta\"}}, \"yaxis\": {\"title\": {\"text\": \"APR\"}}},                        {\"responsive\": true}                    ).then(function(){\n",
              "                            \n",
              "var gd = document.getElementById('e2676237-7752-48d2-8b69-ef3a801dfaa4');\n",
              "var x = new MutationObserver(function (mutations, observer) {{\n",
              "        var display = window.getComputedStyle(gd).display;\n",
              "        if (!display || display === 'none') {{\n",
              "            console.log([gd, 'removed!']);\n",
              "            Plotly.purge(gd);\n",
              "            observer.disconnect();\n",
              "        }}\n",
              "}});\n",
              "\n",
              "// Listen for the removal of the full notebook cells\n",
              "var notebookContainer = gd.closest('#notebook-container');\n",
              "if (notebookContainer) {{\n",
              "    x.observe(notebookContainer, {childList: true});\n",
              "}}\n",
              "\n",
              "// Listen for the clearing of the current output cell\n",
              "var outputEl = gd.closest('.output');\n",
              "if (outputEl) {{\n",
              "    x.observe(outputEl, {childList: true});\n",
              "}}\n",
              "\n",
              "                        })                };                            </script>        </div>\n",
              "</body>\n",
              "</html>"
            ]
          },
          "metadata": {
            "tags": []
          }
        }
      ]
    },
    {
      "cell_type": "markdown",
      "metadata": {
        "id": "bgJgJjI9Z0Uo"
      },
      "source": [
        "We will drop all funds found below the SML. This includes:\n",
        "\n",
        "\n",
        "1. Invesco National AMT-Free Municipal Bond (PZA)\n",
        "2. iShares International Select Dividend (IDV)\n",
        "3. Vanguard FTSE All-World ex-US Small-Cap Index Fund (VSS)\n",
        "4. Schwab International Equity (SCHF)\n",
        "5. Vanguard Dividend Appreciation Index Fund (VIG)\n",
        "\n"
      ]
    },
    {
      "cell_type": "markdown",
      "metadata": {
        "id": "swWlCmukaUKr"
      },
      "source": [
        "We will now create a new dataframe, removing all funds taken out of consideration. You will notice that all of the funds we remove have a negative Alpha. All Alpha's remaining are greater than 0."
      ]
    },
    {
      "cell_type": "code",
      "metadata": {
        "id": "24UupS0BagEv"
      },
      "source": [
        "final_table4 = final_table3.drop([1,2,4,10,16])\n",
        "final_table4.drop(columns=['APR'],inplace=True)"
      ],
      "execution_count": 68,
      "outputs": []
    },
    {
      "cell_type": "code",
      "metadata": {
        "colab": {
          "base_uri": "https://localhost:8080/",
          "height": 421
        },
        "id": "CF2xUg8-amoP",
        "outputId": "33c37113-243f-4aac-a69c-b0ac755757fc"
      },
      "source": [
        "final_table4"
      ],
      "execution_count": 69,
      "outputs": [
        {
          "output_type": "execute_result",
          "data": {
            "text/html": [
              "<div>\n",
              "<style scoped>\n",
              "    .dataframe tbody tr th:only-of-type {\n",
              "        vertical-align: middle;\n",
              "    }\n",
              "\n",
              "    .dataframe tbody tr th {\n",
              "        vertical-align: top;\n",
              "    }\n",
              "\n",
              "    .dataframe thead th {\n",
              "        text-align: right;\n",
              "    }\n",
              "</style>\n",
              "<table border=\"1\" class=\"dataframe\">\n",
              "  <thead>\n",
              "    <tr style=\"text-align: right;\">\n",
              "      <th></th>\n",
              "      <th>Fund</th>\n",
              "      <th>Type</th>\n",
              "      <th>St.Dev of Returns</th>\n",
              "      <th>Beta</th>\n",
              "      <th>Expected Return</th>\n",
              "      <th>Sharpe Ratio</th>\n",
              "      <th>Alpha</th>\n",
              "    </tr>\n",
              "  </thead>\n",
              "  <tbody>\n",
              "    <tr>\n",
              "      <th>0</th>\n",
              "      <td>Schuab U.S. Divided Equity (SCHD)</td>\n",
              "      <td>Income</td>\n",
              "      <td>0.047604</td>\n",
              "      <td>0.930883</td>\n",
              "      <td>0.131317</td>\n",
              "      <td>2.422426</td>\n",
              "      <td>0.023428</td>\n",
              "    </tr>\n",
              "    <tr>\n",
              "      <th>3</th>\n",
              "      <td>Fidelity U.S. Bond Index Fund (FXNAX)</td>\n",
              "      <td>Bond</td>\n",
              "      <td>0.009195</td>\n",
              "      <td>0.002457</td>\n",
              "      <td>0.016304</td>\n",
              "      <td>0.033102</td>\n",
              "      <td>0.014312</td>\n",
              "    </tr>\n",
              "    <tr>\n",
              "      <th>6</th>\n",
              "      <td>ARK Innovation (ARKK)</td>\n",
              "      <td>Growth</td>\n",
              "      <td>0.096830</td>\n",
              "      <td>0.365176</td>\n",
              "      <td>0.061238</td>\n",
              "      <td>0.467188</td>\n",
              "      <td>0.295449</td>\n",
              "    </tr>\n",
              "    <tr>\n",
              "      <th>7</th>\n",
              "      <td>Vanguard Growth Index Fund (VUG)</td>\n",
              "      <td>Growth</td>\n",
              "      <td>0.051729</td>\n",
              "      <td>0.854302</td>\n",
              "      <td>0.121830</td>\n",
              "      <td>2.045860</td>\n",
              "      <td>0.058707</td>\n",
              "    </tr>\n",
              "    <tr>\n",
              "      <th>8</th>\n",
              "      <td>iShares Core S&amp;P Mid-Cap (IJH)</td>\n",
              "      <td>Growth</td>\n",
              "      <td>0.059406</td>\n",
              "      <td>0.733567</td>\n",
              "      <td>0.106874</td>\n",
              "      <td>1.529707</td>\n",
              "      <td>0.022992</td>\n",
              "    </tr>\n",
              "    <tr>\n",
              "      <th>9</th>\n",
              "      <td>Fidelity SAI U.S. Large Cap Index Fund (FLCPX)</td>\n",
              "      <td>Large Cap</td>\n",
              "      <td>0.048791</td>\n",
              "      <td>0.929434</td>\n",
              "      <td>0.131138</td>\n",
              "      <td>2.359813</td>\n",
              "      <td>0.012898</td>\n",
              "    </tr>\n",
              "    <tr>\n",
              "      <th>11</th>\n",
              "      <td>Vanguard S&amp;P 500 (VOO)</td>\n",
              "      <td>Large Cap</td>\n",
              "      <td>0.047275</td>\n",
              "      <td>0.972170</td>\n",
              "      <td>0.136432</td>\n",
              "      <td>2.547473</td>\n",
              "      <td>0.011767</td>\n",
              "    </tr>\n",
              "    <tr>\n",
              "      <th>12</th>\n",
              "      <td>John Hancock Multifactor Mid Cap (JHMM)</td>\n",
              "      <td>Mid Cap</td>\n",
              "      <td>0.055293</td>\n",
              "      <td>0.800530</td>\n",
              "      <td>0.115169</td>\n",
              "      <td>1.793522</td>\n",
              "      <td>0.010496</td>\n",
              "    </tr>\n",
              "    <tr>\n",
              "      <th>13</th>\n",
              "      <td>Vanguard Mid-Cap Index Fund (VO)</td>\n",
              "      <td>Mid Cap</td>\n",
              "      <td>0.053174</td>\n",
              "      <td>0.835987</td>\n",
              "      <td>0.119561</td>\n",
              "      <td>1.947596</td>\n",
              "      <td>0.013713</td>\n",
              "    </tr>\n",
              "    <tr>\n",
              "      <th>14</th>\n",
              "      <td>iShares Russell Mid-Cap ETF (IWR)</td>\n",
              "      <td>Mid Cap</td>\n",
              "      <td>0.054860</td>\n",
              "      <td>0.806122</td>\n",
              "      <td>0.115862</td>\n",
              "      <td>1.820304</td>\n",
              "      <td>0.017129</td>\n",
              "    </tr>\n",
              "    <tr>\n",
              "      <th>15</th>\n",
              "      <td>Schwab Fundamental U.S. Small Company Index (F...</td>\n",
              "      <td>Small Cap</td>\n",
              "      <td>0.066433</td>\n",
              "      <td>0.632112</td>\n",
              "      <td>0.094306</td>\n",
              "      <td>1.178715</td>\n",
              "      <td>0.041057</td>\n",
              "    </tr>\n",
              "    <tr>\n",
              "      <th>17</th>\n",
              "      <td>Vanguard Small-Cap Value Index Fund (VBR)</td>\n",
              "      <td>Small Cap</td>\n",
              "      <td>0.063564</td>\n",
              "      <td>0.661262</td>\n",
              "      <td>0.097917</td>\n",
              "      <td>1.288728</td>\n",
              "      <td>0.022649</td>\n",
              "    </tr>\n",
              "  </tbody>\n",
              "</table>\n",
              "</div>"
            ],
            "text/plain": [
              "                                                 Fund  ...     Alpha\n",
              "0                   Schuab U.S. Divided Equity (SCHD)  ...  0.023428\n",
              "3               Fidelity U.S. Bond Index Fund (FXNAX)  ...  0.014312\n",
              "6                               ARK Innovation (ARKK)  ...  0.295449\n",
              "7                    Vanguard Growth Index Fund (VUG)  ...  0.058707\n",
              "8                      iShares Core S&P Mid-Cap (IJH)  ...  0.022992\n",
              "9      Fidelity SAI U.S. Large Cap Index Fund (FLCPX)  ...  0.012898\n",
              "11                             Vanguard S&P 500 (VOO)  ...  0.011767\n",
              "12            John Hancock Multifactor Mid Cap (JHMM)  ...  0.010496\n",
              "13                   Vanguard Mid-Cap Index Fund (VO)  ...  0.013713\n",
              "14                  iShares Russell Mid-Cap ETF (IWR)  ...  0.017129\n",
              "15  Schwab Fundamental U.S. Small Company Index (F...  ...  0.041057\n",
              "17          Vanguard Small-Cap Value Index Fund (VBR)  ...  0.022649\n",
              "\n",
              "[12 rows x 7 columns]"
            ]
          },
          "metadata": {
            "tags": []
          },
          "execution_count": 69
        }
      ]
    },
    {
      "cell_type": "markdown",
      "metadata": {
        "id": "QqxBTRdG3BT0"
      },
      "source": [
        "# **Step 11: Final Portfolio Mix**"
      ]
    },
    {
      "cell_type": "markdown",
      "metadata": {
        "id": "WS6oK4Ty3FB7"
      },
      "source": [
        "To recap, our investor is looking for a portfolio that will provide them with returns about in line with the market, being satisfied with a return fo 10.5%. The investor of this portfolio is willing to invest with a beta of 0.85. Given the volitility of the market in the past year, they want to be careful in taking on too much risk. However, they are willing to take on more than a traditional late stage retirement fund in order to open up the opportunty for greater return. They also hope to maintain a portfolio mix of about 65% equity funds, and 35% stable funds (i.e. Income or Bonds). They currently have about $25,000 to invest. They do not want any sort of fractional investment (the quantity of investment in each fund must remain an integer). "
      ]
    },
    {
      "cell_type": "markdown",
      "metadata": {
        "id": "CpKAhDpto8zG"
      },
      "source": [
        "### **Current Prices**"
      ]
    },
    {
      "cell_type": "markdown",
      "metadata": {
        "id": "vQkEs29ZsF1G"
      },
      "source": [
        "First we will need to add back the most recent closing price (May, 2021) for each one of the funds. This will be found in our general dataframe from earlier in the project."
      ]
    },
    {
      "cell_type": "code",
      "metadata": {
        "id": "llHafM-x3FMv"
      },
      "source": [
        "SCHD_close = df2[(df2['Fund'] == 'Schuab U.S. Divided Equity (SCHD)') & (df2['Month'] == 5) & (df2['Year'] == 2021)]['Close']\n",
        "FXNAX_close = df2[(df2['Fund'] == 'Fidelity U.S. Bond Index Fund (FXNAX)') & (df2['Month'] == 5) & (df2['Year'] == 2021)]['Close']\n",
        "ARKK_close = df2[(df2['Fund'] == 'ARK Innovation (ARKK)') & (df2['Month'] == 5) & (df2['Year'] == 2021)]['Close']\n",
        "VUG_close = df2[(df2['Fund'] == 'Vanguard Growth Index Fund (VUG)') & (df2['Month'] == 5) & (df2['Year'] == 2021)]['Close']\n",
        "IJH_close = df2[(df2['Fund'] == 'iShares Core S&P Mid-Cap (IJH)') & (df2['Month'] == 5) & (df2['Year'] == 2021)]['Close']\n",
        "FLCPX_close = df2[(df2['Fund'] == 'Fidelity SAI U.S. Large Cap Index Fund (FLCPX)') & (df2['Month'] == 5) & (df2['Year'] == 2021)]['Close']\n",
        "VOO_close = df2[(df2['Fund'] == 'Vanguard S&P 500 (VOO)') & (df2['Month'] == 5) & (df2['Year'] == 2021)]['Close']\n",
        "JHMM_close = df2[(df2['Fund'] == 'John Hancock Multifactor Mid Cap (JHMM)') & (df2['Month'] == 5) & (df2['Year'] == 2021)]['Close']\n",
        "VO_close = df2[(df2['Fund'] == 'Vanguard Mid-Cap Index Fund (VO)') & (df2['Month'] == 5) & (df2['Year'] == 2021)]['Close']\n",
        "IWR_close = df2[(df2['Fund'] == 'iShares Russell Mid-Cap ETF (IWR)') & (df2['Month'] == 5) & (df2['Year'] == 2021)]['Close']\n",
        "FNDA_close = df2[(df2['Fund'] == 'Schuab U.S. Divided Equity (SCHD)') & (df2['Month'] == 5) & (df2['Year'] == 2021)]['Close']\n",
        "VBR_close = df2[(df2['Fund'] == 'Schwab Fundamental U.S. Small Company Index (FNDA)') & (df2['Month'] == 5) & (df2['Year'] == 2021)]['Close']"
      ],
      "execution_count": 70,
      "outputs": []
    },
    {
      "cell_type": "code",
      "metadata": {
        "id": "n73f1IB6tmGR"
      },
      "source": [
        "final_table4['Price'] = [SCHD_close.iloc[0],FXNAX_close.iloc[0],ARKK_close.iloc[0],VUG_close.iloc[0],IJH_close.iloc[0],FLCPX_close.iloc[0],VOO_close.iloc[0],JHMM_close.iloc[0],VO_close.iloc[0],IWR_close.iloc[0],FNDA_close.iloc[0],VBR_close.iloc[0]]"
      ],
      "execution_count": 71,
      "outputs": []
    },
    {
      "cell_type": "code",
      "metadata": {
        "colab": {
          "base_uri": "https://localhost:8080/",
          "height": 0
        },
        "id": "LYIscvkCvDGF",
        "outputId": "f9898eed-1211-4546-dabc-75074a575954"
      },
      "source": [
        "final_table4"
      ],
      "execution_count": 72,
      "outputs": [
        {
          "output_type": "execute_result",
          "data": {
            "text/html": [
              "<div>\n",
              "<style scoped>\n",
              "    .dataframe tbody tr th:only-of-type {\n",
              "        vertical-align: middle;\n",
              "    }\n",
              "\n",
              "    .dataframe tbody tr th {\n",
              "        vertical-align: top;\n",
              "    }\n",
              "\n",
              "    .dataframe thead th {\n",
              "        text-align: right;\n",
              "    }\n",
              "</style>\n",
              "<table border=\"1\" class=\"dataframe\">\n",
              "  <thead>\n",
              "    <tr style=\"text-align: right;\">\n",
              "      <th></th>\n",
              "      <th>Fund</th>\n",
              "      <th>Type</th>\n",
              "      <th>St.Dev of Returns</th>\n",
              "      <th>Beta</th>\n",
              "      <th>Expected Return</th>\n",
              "      <th>Sharpe Ratio</th>\n",
              "      <th>Alpha</th>\n",
              "      <th>Price</th>\n",
              "    </tr>\n",
              "  </thead>\n",
              "  <tbody>\n",
              "    <tr>\n",
              "      <th>0</th>\n",
              "      <td>Schuab U.S. Divided Equity (SCHD)</td>\n",
              "      <td>Income</td>\n",
              "      <td>0.047604</td>\n",
              "      <td>0.930883</td>\n",
              "      <td>0.131317</td>\n",
              "      <td>2.422426</td>\n",
              "      <td>0.023428</td>\n",
              "      <td>76.120003</td>\n",
              "    </tr>\n",
              "    <tr>\n",
              "      <th>3</th>\n",
              "      <td>Fidelity U.S. Bond Index Fund (FXNAX)</td>\n",
              "      <td>Bond</td>\n",
              "      <td>0.009195</td>\n",
              "      <td>0.002457</td>\n",
              "      <td>0.016304</td>\n",
              "      <td>0.033102</td>\n",
              "      <td>0.014312</td>\n",
              "      <td>12.060000</td>\n",
              "    </tr>\n",
              "    <tr>\n",
              "      <th>6</th>\n",
              "      <td>ARK Innovation (ARKK)</td>\n",
              "      <td>Growth</td>\n",
              "      <td>0.096830</td>\n",
              "      <td>0.365176</td>\n",
              "      <td>0.061238</td>\n",
              "      <td>0.467188</td>\n",
              "      <td>0.295449</td>\n",
              "      <td>111.550003</td>\n",
              "    </tr>\n",
              "    <tr>\n",
              "      <th>7</th>\n",
              "      <td>Vanguard Growth Index Fund (VUG)</td>\n",
              "      <td>Growth</td>\n",
              "      <td>0.051729</td>\n",
              "      <td>0.854302</td>\n",
              "      <td>0.121830</td>\n",
              "      <td>2.045860</td>\n",
              "      <td>0.058707</td>\n",
              "      <td>267.709991</td>\n",
              "    </tr>\n",
              "    <tr>\n",
              "      <th>8</th>\n",
              "      <td>iShares Core S&amp;P Mid-Cap (IJH)</td>\n",
              "      <td>Growth</td>\n",
              "      <td>0.059406</td>\n",
              "      <td>0.733567</td>\n",
              "      <td>0.106874</td>\n",
              "      <td>1.529707</td>\n",
              "      <td>0.022992</td>\n",
              "      <td>271.980011</td>\n",
              "    </tr>\n",
              "    <tr>\n",
              "      <th>9</th>\n",
              "      <td>Fidelity SAI U.S. Large Cap Index Fund (FLCPX)</td>\n",
              "      <td>Large Cap</td>\n",
              "      <td>0.048791</td>\n",
              "      <td>0.929434</td>\n",
              "      <td>0.131138</td>\n",
              "      <td>2.359813</td>\n",
              "      <td>0.012898</td>\n",
              "      <td>21.879999</td>\n",
              "    </tr>\n",
              "    <tr>\n",
              "      <th>11</th>\n",
              "      <td>Vanguard S&amp;P 500 (VOO)</td>\n",
              "      <td>Large Cap</td>\n",
              "      <td>0.047275</td>\n",
              "      <td>0.972170</td>\n",
              "      <td>0.136432</td>\n",
              "      <td>2.547473</td>\n",
              "      <td>0.011767</td>\n",
              "      <td>382.170013</td>\n",
              "    </tr>\n",
              "    <tr>\n",
              "      <th>12</th>\n",
              "      <td>John Hancock Multifactor Mid Cap (JHMM)</td>\n",
              "      <td>Mid Cap</td>\n",
              "      <td>0.055293</td>\n",
              "      <td>0.800530</td>\n",
              "      <td>0.115169</td>\n",
              "      <td>1.793522</td>\n",
              "      <td>0.010496</td>\n",
              "      <td>51.570000</td>\n",
              "    </tr>\n",
              "    <tr>\n",
              "      <th>13</th>\n",
              "      <td>Vanguard Mid-Cap Index Fund (VO)</td>\n",
              "      <td>Mid Cap</td>\n",
              "      <td>0.053174</td>\n",
              "      <td>0.835987</td>\n",
              "      <td>0.119561</td>\n",
              "      <td>1.947596</td>\n",
              "      <td>0.013713</td>\n",
              "      <td>230.119995</td>\n",
              "    </tr>\n",
              "    <tr>\n",
              "      <th>14</th>\n",
              "      <td>iShares Russell Mid-Cap ETF (IWR)</td>\n",
              "      <td>Mid Cap</td>\n",
              "      <td>0.054860</td>\n",
              "      <td>0.806122</td>\n",
              "      <td>0.115862</td>\n",
              "      <td>1.820304</td>\n",
              "      <td>0.017129</td>\n",
              "      <td>77.260002</td>\n",
              "    </tr>\n",
              "    <tr>\n",
              "      <th>15</th>\n",
              "      <td>Schwab Fundamental U.S. Small Company Index (F...</td>\n",
              "      <td>Small Cap</td>\n",
              "      <td>0.066433</td>\n",
              "      <td>0.632112</td>\n",
              "      <td>0.094306</td>\n",
              "      <td>1.178715</td>\n",
              "      <td>0.041057</td>\n",
              "      <td>76.120003</td>\n",
              "    </tr>\n",
              "    <tr>\n",
              "      <th>17</th>\n",
              "      <td>Vanguard Small-Cap Value Index Fund (VBR)</td>\n",
              "      <td>Small Cap</td>\n",
              "      <td>0.063564</td>\n",
              "      <td>0.661262</td>\n",
              "      <td>0.097917</td>\n",
              "      <td>1.288728</td>\n",
              "      <td>0.022649</td>\n",
              "      <td>52.830002</td>\n",
              "    </tr>\n",
              "  </tbody>\n",
              "</table>\n",
              "</div>"
            ],
            "text/plain": [
              "                                                 Fund  ...       Price\n",
              "0                   Schuab U.S. Divided Equity (SCHD)  ...   76.120003\n",
              "3               Fidelity U.S. Bond Index Fund (FXNAX)  ...   12.060000\n",
              "6                               ARK Innovation (ARKK)  ...  111.550003\n",
              "7                    Vanguard Growth Index Fund (VUG)  ...  267.709991\n",
              "8                      iShares Core S&P Mid-Cap (IJH)  ...  271.980011\n",
              "9      Fidelity SAI U.S. Large Cap Index Fund (FLCPX)  ...   21.879999\n",
              "11                             Vanguard S&P 500 (VOO)  ...  382.170013\n",
              "12            John Hancock Multifactor Mid Cap (JHMM)  ...   51.570000\n",
              "13                   Vanguard Mid-Cap Index Fund (VO)  ...  230.119995\n",
              "14                  iShares Russell Mid-Cap ETF (IWR)  ...   77.260002\n",
              "15  Schwab Fundamental U.S. Small Company Index (F...  ...   76.120003\n",
              "17          Vanguard Small-Cap Value Index Fund (VBR)  ...   52.830002\n",
              "\n",
              "[12 rows x 8 columns]"
            ]
          },
          "metadata": {
            "tags": []
          },
          "execution_count": 72
        }
      ]
    },
    {
      "cell_type": "markdown",
      "metadata": {
        "id": "8DrEcSZNZt89"
      },
      "source": [
        "### **Portfolio Optimization**"
      ]
    },
    {
      "cell_type": "markdown",
      "metadata": {
        "id": "CGaZC3S_dG56"
      },
      "source": [
        "Due to the limitations of my knowledge in how to do an optimization within Pandas, the following portfolio weights were calculated using the Excel Solver tool with the following set-up:\n",
        "1. Objective: Maximizing Portolio Expected Return\n",
        "2. Variables: Changing the Quanitity of Investments in each fund\n",
        "\n",
        "And following constraints:\n",
        "1. Weighted Beta less than or equal to 0.85\n",
        "2. Total amount invested between 24,000 and 25,000 USD\n",
        "3. Stable funds (Income and Bonds) greater than or equal to 35% weight\n",
        "4. Moderate funds (Large Cap, Medium Cap, Small Cap) less than or equal to 55%\n",
        "5. Unstable funds (Growth) less than or equal to 10%\n",
        "6. Quantity of Investments must be an integer\n",
        "\n",
        "\n",
        "\n"
      ]
    },
    {
      "cell_type": "markdown",
      "metadata": {
        "id": "K0KVTUT3h5FO"
      },
      "source": [
        "![Optimization.PNG](data:image/png;base64,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)"
      ]
    },
    {
      "cell_type": "code",
      "metadata": {
        "colab": {
          "base_uri": "https://localhost:8080/"
        },
        "id": "4FcS4i9aZKWt",
        "outputId": "5fa49bb2-16ae-4af5-e84e-26256327413c"
      },
      "source": [
        "portfolio_mix = final_table4[(final_table4['Fund']=='Schuab U.S. Divided Equity (SCHD)') | (final_table4['Fund']=='iShares Core S&P Mid-Cap (IJH)') | (final_table4['Fund']=='Fidelity SAI U.S. Large Cap Index Fund (FLCPX)') | (final_table4['Fund']=='Schwab Fundamental U.S. Small Company Index (FNDA)') | (final_table4['Fund'] == 'Vanguard Small-Cap Value Index Fund (VBR)')]\n",
        "portfolio_mix['Quantity'] = [121,6,352,58,21]\n",
        "portfolio_mix['Investment'] = portfolio_mix['Quantity']*portfolio_mix['Price']\n",
        "portfolio_mix['Weight'] = portfolio_mix['Investment'] / portfolio_mix['Investment'].sum()\n",
        "portfolio_mix['Weighted Return'] = portfolio_mix['Expected Return']*portfolio_mix['Weight']\n",
        "portfolio_mix['Weighted Beta'] = portfolio_mix['Beta']*portfolio_mix['Weight']"
      ],
      "execution_count": 73,
      "outputs": [
        {
          "output_type": "stream",
          "text": [
            "/usr/local/lib/python3.7/dist-packages/ipykernel_launcher.py:2: SettingWithCopyWarning:\n",
            "\n",
            "\n",
            "A value is trying to be set on a copy of a slice from a DataFrame.\n",
            "Try using .loc[row_indexer,col_indexer] = value instead\n",
            "\n",
            "See the caveats in the documentation: https://pandas.pydata.org/pandas-docs/stable/user_guide/indexing.html#returning-a-view-versus-a-copy\n",
            "\n",
            "/usr/local/lib/python3.7/dist-packages/ipykernel_launcher.py:3: SettingWithCopyWarning:\n",
            "\n",
            "\n",
            "A value is trying to be set on a copy of a slice from a DataFrame.\n",
            "Try using .loc[row_indexer,col_indexer] = value instead\n",
            "\n",
            "See the caveats in the documentation: https://pandas.pydata.org/pandas-docs/stable/user_guide/indexing.html#returning-a-view-versus-a-copy\n",
            "\n",
            "/usr/local/lib/python3.7/dist-packages/ipykernel_launcher.py:4: SettingWithCopyWarning:\n",
            "\n",
            "\n",
            "A value is trying to be set on a copy of a slice from a DataFrame.\n",
            "Try using .loc[row_indexer,col_indexer] = value instead\n",
            "\n",
            "See the caveats in the documentation: https://pandas.pydata.org/pandas-docs/stable/user_guide/indexing.html#returning-a-view-versus-a-copy\n",
            "\n",
            "/usr/local/lib/python3.7/dist-packages/ipykernel_launcher.py:5: SettingWithCopyWarning:\n",
            "\n",
            "\n",
            "A value is trying to be set on a copy of a slice from a DataFrame.\n",
            "Try using .loc[row_indexer,col_indexer] = value instead\n",
            "\n",
            "See the caveats in the documentation: https://pandas.pydata.org/pandas-docs/stable/user_guide/indexing.html#returning-a-view-versus-a-copy\n",
            "\n",
            "/usr/local/lib/python3.7/dist-packages/ipykernel_launcher.py:6: SettingWithCopyWarning:\n",
            "\n",
            "\n",
            "A value is trying to be set on a copy of a slice from a DataFrame.\n",
            "Try using .loc[row_indexer,col_indexer] = value instead\n",
            "\n",
            "See the caveats in the documentation: https://pandas.pydata.org/pandas-docs/stable/user_guide/indexing.html#returning-a-view-versus-a-copy\n",
            "\n"
          ],
          "name": "stderr"
        }
      ]
    },
    {
      "cell_type": "markdown",
      "metadata": {
        "id": "8gSen2p4iA8E"
      },
      "source": [
        "***Aggregated Weight Information***"
      ]
    },
    {
      "cell_type": "code",
      "metadata": {
        "colab": {
          "base_uri": "https://localhost:8080/",
          "height": 204
        },
        "id": "sLK8Lcm3g1wG",
        "outputId": "d3388d6e-482f-4e44-b0e9-b71a1d850cf1"
      },
      "source": [
        "portfolio_mix"
      ],
      "execution_count": 74,
      "outputs": [
        {
          "output_type": "execute_result",
          "data": {
            "text/html": [
              "<div>\n",
              "<style scoped>\n",
              "    .dataframe tbody tr th:only-of-type {\n",
              "        vertical-align: middle;\n",
              "    }\n",
              "\n",
              "    .dataframe tbody tr th {\n",
              "        vertical-align: top;\n",
              "    }\n",
              "\n",
              "    .dataframe thead th {\n",
              "        text-align: right;\n",
              "    }\n",
              "</style>\n",
              "<table border=\"1\" class=\"dataframe\">\n",
              "  <thead>\n",
              "    <tr style=\"text-align: right;\">\n",
              "      <th></th>\n",
              "      <th>Fund</th>\n",
              "      <th>Type</th>\n",
              "      <th>St.Dev of Returns</th>\n",
              "      <th>Beta</th>\n",
              "      <th>Expected Return</th>\n",
              "      <th>Sharpe Ratio</th>\n",
              "      <th>Alpha</th>\n",
              "      <th>Price</th>\n",
              "      <th>Quantity</th>\n",
              "      <th>Investment</th>\n",
              "      <th>Weight</th>\n",
              "      <th>Weighted Return</th>\n",
              "      <th>Weighted Beta</th>\n",
              "    </tr>\n",
              "  </thead>\n",
              "  <tbody>\n",
              "    <tr>\n",
              "      <th>0</th>\n",
              "      <td>Schuab U.S. Divided Equity (SCHD)</td>\n",
              "      <td>Income</td>\n",
              "      <td>0.047604</td>\n",
              "      <td>0.930883</td>\n",
              "      <td>0.131317</td>\n",
              "      <td>2.422426</td>\n",
              "      <td>0.023428</td>\n",
              "      <td>76.120003</td>\n",
              "      <td>121</td>\n",
              "      <td>9210.520363</td>\n",
              "      <td>0.382679</td>\n",
              "      <td>0.050252</td>\n",
              "      <td>0.356229</td>\n",
              "    </tr>\n",
              "    <tr>\n",
              "      <th>8</th>\n",
              "      <td>iShares Core S&amp;P Mid-Cap (IJH)</td>\n",
              "      <td>Growth</td>\n",
              "      <td>0.059406</td>\n",
              "      <td>0.733567</td>\n",
              "      <td>0.106874</td>\n",
              "      <td>1.529707</td>\n",
              "      <td>0.022992</td>\n",
              "      <td>271.980011</td>\n",
              "      <td>6</td>\n",
              "      <td>1631.880066</td>\n",
              "      <td>0.067801</td>\n",
              "      <td>0.007246</td>\n",
              "      <td>0.049737</td>\n",
              "    </tr>\n",
              "    <tr>\n",
              "      <th>9</th>\n",
              "      <td>Fidelity SAI U.S. Large Cap Index Fund (FLCPX)</td>\n",
              "      <td>Large Cap</td>\n",
              "      <td>0.048791</td>\n",
              "      <td>0.929434</td>\n",
              "      <td>0.131138</td>\n",
              "      <td>2.359813</td>\n",
              "      <td>0.012898</td>\n",
              "      <td>21.879999</td>\n",
              "      <td>352</td>\n",
              "      <td>7701.759648</td>\n",
              "      <td>0.319993</td>\n",
              "      <td>0.041963</td>\n",
              "      <td>0.297412</td>\n",
              "    </tr>\n",
              "    <tr>\n",
              "      <th>15</th>\n",
              "      <td>Schwab Fundamental U.S. Small Company Index (F...</td>\n",
              "      <td>Small Cap</td>\n",
              "      <td>0.066433</td>\n",
              "      <td>0.632112</td>\n",
              "      <td>0.094306</td>\n",
              "      <td>1.178715</td>\n",
              "      <td>0.041057</td>\n",
              "      <td>76.120003</td>\n",
              "      <td>58</td>\n",
              "      <td>4414.960174</td>\n",
              "      <td>0.183433</td>\n",
              "      <td>0.017299</td>\n",
              "      <td>0.115950</td>\n",
              "    </tr>\n",
              "    <tr>\n",
              "      <th>17</th>\n",
              "      <td>Vanguard Small-Cap Value Index Fund (VBR)</td>\n",
              "      <td>Small Cap</td>\n",
              "      <td>0.063564</td>\n",
              "      <td>0.661262</td>\n",
              "      <td>0.097917</td>\n",
              "      <td>1.288728</td>\n",
              "      <td>0.022649</td>\n",
              "      <td>52.830002</td>\n",
              "      <td>21</td>\n",
              "      <td>1109.430042</td>\n",
              "      <td>0.046095</td>\n",
              "      <td>0.004513</td>\n",
              "      <td>0.030481</td>\n",
              "    </tr>\n",
              "  </tbody>\n",
              "</table>\n",
              "</div>"
            ],
            "text/plain": [
              "                                                 Fund  ... Weighted Beta\n",
              "0                   Schuab U.S. Divided Equity (SCHD)  ...      0.356229\n",
              "8                      iShares Core S&P Mid-Cap (IJH)  ...      0.049737\n",
              "9      Fidelity SAI U.S. Large Cap Index Fund (FLCPX)  ...      0.297412\n",
              "15  Schwab Fundamental U.S. Small Company Index (F...  ...      0.115950\n",
              "17          Vanguard Small-Cap Value Index Fund (VBR)  ...      0.030481\n",
              "\n",
              "[5 rows x 13 columns]"
            ]
          },
          "metadata": {
            "tags": []
          },
          "execution_count": 74
        }
      ]
    },
    {
      "cell_type": "markdown",
      "metadata": {
        "id": "6a8IJPhDiOZM"
      },
      "source": [
        "### **Final Portfolio**"
      ]
    },
    {
      "cell_type": "markdown",
      "metadata": {
        "id": "eK9Gwnn3pXjO"
      },
      "source": [
        "Our final portfolio invests a total of $24,068.55 and has a bit of investment in most fund types with the following weights:\n",
        "1. Schuab U.S. Divided Equity (SCHD) - ***38.27%***\n",
        "2. iShares Core S&P Mid-Cap (IJH) - ***6.78%***\n",
        "3. Fidelity SAI U.S. Large Cap Index Fund (FLCPX) - ***31.99%***\n",
        "4. Schwab Fundamental U.S. Small Company Index (FDNA) - ***18.34%***\n",
        "5. Vanguard Small-Cap Value Index Fund (VBR) - ***4.61%***"
      ]
    },
    {
      "cell_type": "code",
      "metadata": {
        "colab": {
          "base_uri": "https://localhost:8080/",
          "height": 204
        },
        "id": "rhcfBMl2hlG6",
        "outputId": "6908293b-780f-4cb8-9b01-f6b913e09ad9"
      },
      "source": [
        "portfolio_mix2 = portfolio_mix[['Fund','Type','Price','Quantity','Investment','Weight','Weighted Return','Weighted Beta']]\n",
        "portfolio_mix2"
      ],
      "execution_count": 75,
      "outputs": [
        {
          "output_type": "execute_result",
          "data": {
            "text/html": [
              "<div>\n",
              "<style scoped>\n",
              "    .dataframe tbody tr th:only-of-type {\n",
              "        vertical-align: middle;\n",
              "    }\n",
              "\n",
              "    .dataframe tbody tr th {\n",
              "        vertical-align: top;\n",
              "    }\n",
              "\n",
              "    .dataframe thead th {\n",
              "        text-align: right;\n",
              "    }\n",
              "</style>\n",
              "<table border=\"1\" class=\"dataframe\">\n",
              "  <thead>\n",
              "    <tr style=\"text-align: right;\">\n",
              "      <th></th>\n",
              "      <th>Fund</th>\n",
              "      <th>Type</th>\n",
              "      <th>Price</th>\n",
              "      <th>Quantity</th>\n",
              "      <th>Investment</th>\n",
              "      <th>Weight</th>\n",
              "      <th>Weighted Return</th>\n",
              "      <th>Weighted Beta</th>\n",
              "    </tr>\n",
              "  </thead>\n",
              "  <tbody>\n",
              "    <tr>\n",
              "      <th>0</th>\n",
              "      <td>Schuab U.S. Divided Equity (SCHD)</td>\n",
              "      <td>Income</td>\n",
              "      <td>76.120003</td>\n",
              "      <td>121</td>\n",
              "      <td>9210.520363</td>\n",
              "      <td>0.382679</td>\n",
              "      <td>0.050252</td>\n",
              "      <td>0.356229</td>\n",
              "    </tr>\n",
              "    <tr>\n",
              "      <th>8</th>\n",
              "      <td>iShares Core S&amp;P Mid-Cap (IJH)</td>\n",
              "      <td>Growth</td>\n",
              "      <td>271.980011</td>\n",
              "      <td>6</td>\n",
              "      <td>1631.880066</td>\n",
              "      <td>0.067801</td>\n",
              "      <td>0.007246</td>\n",
              "      <td>0.049737</td>\n",
              "    </tr>\n",
              "    <tr>\n",
              "      <th>9</th>\n",
              "      <td>Fidelity SAI U.S. Large Cap Index Fund (FLCPX)</td>\n",
              "      <td>Large Cap</td>\n",
              "      <td>21.879999</td>\n",
              "      <td>352</td>\n",
              "      <td>7701.759648</td>\n",
              "      <td>0.319993</td>\n",
              "      <td>0.041963</td>\n",
              "      <td>0.297412</td>\n",
              "    </tr>\n",
              "    <tr>\n",
              "      <th>15</th>\n",
              "      <td>Schwab Fundamental U.S. Small Company Index (F...</td>\n",
              "      <td>Small Cap</td>\n",
              "      <td>76.120003</td>\n",
              "      <td>58</td>\n",
              "      <td>4414.960174</td>\n",
              "      <td>0.183433</td>\n",
              "      <td>0.017299</td>\n",
              "      <td>0.115950</td>\n",
              "    </tr>\n",
              "    <tr>\n",
              "      <th>17</th>\n",
              "      <td>Vanguard Small-Cap Value Index Fund (VBR)</td>\n",
              "      <td>Small Cap</td>\n",
              "      <td>52.830002</td>\n",
              "      <td>21</td>\n",
              "      <td>1109.430042</td>\n",
              "      <td>0.046095</td>\n",
              "      <td>0.004513</td>\n",
              "      <td>0.030481</td>\n",
              "    </tr>\n",
              "  </tbody>\n",
              "</table>\n",
              "</div>"
            ],
            "text/plain": [
              "                                                 Fund  ... Weighted Beta\n",
              "0                   Schuab U.S. Divided Equity (SCHD)  ...      0.356229\n",
              "8                      iShares Core S&P Mid-Cap (IJH)  ...      0.049737\n",
              "9      Fidelity SAI U.S. Large Cap Index Fund (FLCPX)  ...      0.297412\n",
              "15  Schwab Fundamental U.S. Small Company Index (F...  ...      0.115950\n",
              "17          Vanguard Small-Cap Value Index Fund (VBR)  ...      0.030481\n",
              "\n",
              "[5 rows x 8 columns]"
            ]
          },
          "metadata": {
            "tags": []
          },
          "execution_count": 75
        }
      ]
    },
    {
      "cell_type": "markdown",
      "metadata": {
        "id": "RM75_GY_qtPw"
      },
      "source": [
        "The final portfolio return is ***12.13%*** and the final portfolio beta is ***0.8498.***"
      ]
    },
    {
      "cell_type": "code",
      "metadata": {
        "colab": {
          "base_uri": "https://localhost:8080/",
          "height": 542
        },
        "id": "IRBW_l4JibKm",
        "outputId": "7697b625-d9f6-4d48-e125-6fbe0967b150"
      },
      "source": [
        "portfolio_fig = px.pie(data_frame=portfolio_mix2,values='Weight',names='Fund',title='Portfolio Mix',template='plotly_dark',hover_name='Fund',hover_data=['Weighted Return'])\n",
        "portfolio_fig"
      ],
      "execution_count": 76,
      "outputs": [
        {
          "output_type": "display_data",
          "data": {
            "text/html": [
              "<html>\n",
              "<head><meta charset=\"utf-8\" /></head>\n",
              "<body>\n",
              "    <div>            <script src=\"https://cdnjs.cloudflare.com/ajax/libs/mathjax/2.7.5/MathJax.js?config=TeX-AMS-MML_SVG\"></script><script type=\"text/javascript\">if (window.MathJax) {MathJax.Hub.Config({SVG: {font: \"STIX-Web\"}});}</script>                <script type=\"text/javascript\">window.PlotlyConfig = {MathJaxConfig: 'local'};</script>\n",
              "        <script src=\"https://cdn.plot.ly/plotly-latest.min.js\"></script>                <div id=\"bd6ab2a6-b80c-4a76-a4c5-50978ba46b56\" class=\"plotly-graph-div\" style=\"height:525px; width:100%;\"></div>            <script type=\"text/javascript\">                                    window.PLOTLYENV=window.PLOTLYENV || {};                                    if (document.getElementById(\"bd6ab2a6-b80c-4a76-a4c5-50978ba46b56\")) {                    Plotly.newPlot(                        \"bd6ab2a6-b80c-4a76-a4c5-50978ba46b56\",                        [{\"customdata\": [[0.05025227389085682], [0.007246184774724939], [0.04196307615776004], [0.017298727867313443], [0.0045134302868998525]], \"domain\": {\"x\": [0.0, 1.0], \"y\": [0.0, 1.0]}, \"hovertemplate\": \"<b>%{hovertext}</b><br><br>Fund=%{label}<br>Weight=%{value}<br>Weighted Return=%{customdata[0]}<extra></extra>\", \"hovertext\": [\"Schuab U.S. Divided Equity (SCHD)\", \"iShares Core S&P Mid-Cap (IJH)\", \"Fidelity SAI U.S. Large Cap Index Fund (FLCPX)\", \"Schwab Fundamental U.S. Small Company Index (FNDA)\", \"Vanguard Small-Cap Value Index Fund (VBR)\"], \"labels\": [\"Schuab U.S. Divided Equity (SCHD)\", \"iShares Core S&P Mid-Cap (IJH)\", \"Fidelity SAI U.S. Large Cap Index Fund (FLCPX)\", \"Schwab Fundamental U.S. Small Company Index (FNDA)\", \"Vanguard Small-Cap Value Index Fund (VBR)\"], \"legendgroup\": \"\", \"name\": \"\", \"showlegend\": true, \"type\": \"pie\", \"values\": [0.3826786512222446, 0.06780134433250885, 0.31999266903249873, 0.18343274190818334, 0.04609459350456442]}],                        {\"legend\": {\"tracegroupgap\": 0}, \"template\": {\"data\": {\"bar\": [{\"error_x\": {\"color\": \"#f2f5fa\"}, \"error_y\": {\"color\": \"#f2f5fa\"}, \"marker\": {\"line\": {\"color\": \"rgb(17,17,17)\", \"width\": 0.5}}, \"type\": \"bar\"}], \"barpolar\": [{\"marker\": {\"line\": {\"color\": \"rgb(17,17,17)\", \"width\": 0.5}}, \"type\": \"barpolar\"}], \"carpet\": [{\"aaxis\": {\"endlinecolor\": \"#A2B1C6\", \"gridcolor\": \"#506784\", \"linecolor\": \"#506784\", \"minorgridcolor\": \"#506784\", \"startlinecolor\": \"#A2B1C6\"}, \"baxis\": {\"endlinecolor\": \"#A2B1C6\", \"gridcolor\": \"#506784\", \"linecolor\": \"#506784\", \"minorgridcolor\": \"#506784\", \"startlinecolor\": \"#A2B1C6\"}, \"type\": \"carpet\"}], \"choropleth\": [{\"colorbar\": {\"outlinewidth\": 0, \"ticks\": \"\"}, \"type\": \"choropleth\"}], \"contour\": [{\"colorbar\": {\"outlinewidth\": 0, \"ticks\": \"\"}, \"colorscale\": [[0.0, \"#0d0887\"], [0.1111111111111111, \"#46039f\"], [0.2222222222222222, \"#7201a8\"], [0.3333333333333333, \"#9c179e\"], [0.4444444444444444, \"#bd3786\"], [0.5555555555555556, \"#d8576b\"], [0.6666666666666666, \"#ed7953\"], [0.7777777777777778, \"#fb9f3a\"], [0.8888888888888888, \"#fdca26\"], [1.0, \"#f0f921\"]], \"type\": \"contour\"}], \"contourcarpet\": [{\"colorbar\": {\"outlinewidth\": 0, \"ticks\": \"\"}, \"type\": \"contourcarpet\"}], \"heatmap\": [{\"colorbar\": {\"outlinewidth\": 0, \"ticks\": \"\"}, \"colorscale\": [[0.0, \"#0d0887\"], [0.1111111111111111, \"#46039f\"], [0.2222222222222222, \"#7201a8\"], [0.3333333333333333, \"#9c179e\"], [0.4444444444444444, \"#bd3786\"], [0.5555555555555556, \"#d8576b\"], [0.6666666666666666, \"#ed7953\"], [0.7777777777777778, \"#fb9f3a\"], [0.8888888888888888, \"#fdca26\"], [1.0, \"#f0f921\"]], \"type\": \"heatmap\"}], \"heatmapgl\": [{\"colorbar\": {\"outlinewidth\": 0, \"ticks\": \"\"}, \"colorscale\": [[0.0, \"#0d0887\"], [0.1111111111111111, \"#46039f\"], [0.2222222222222222, \"#7201a8\"], [0.3333333333333333, \"#9c179e\"], [0.4444444444444444, \"#bd3786\"], [0.5555555555555556, \"#d8576b\"], [0.6666666666666666, \"#ed7953\"], [0.7777777777777778, \"#fb9f3a\"], [0.8888888888888888, \"#fdca26\"], [1.0, \"#f0f921\"]], \"type\": \"heatmapgl\"}], \"histogram\": [{\"marker\": {\"colorbar\": {\"outlinewidth\": 0, \"ticks\": \"\"}}, \"type\": \"histogram\"}], \"histogram2d\": [{\"colorbar\": {\"outlinewidth\": 0, \"ticks\": \"\"}, \"colorscale\": [[0.0, \"#0d0887\"], [0.1111111111111111, \"#46039f\"], [0.2222222222222222, \"#7201a8\"], [0.3333333333333333, \"#9c179e\"], [0.4444444444444444, \"#bd3786\"], [0.5555555555555556, \"#d8576b\"], [0.6666666666666666, \"#ed7953\"], [0.7777777777777778, \"#fb9f3a\"], [0.8888888888888888, \"#fdca26\"], [1.0, \"#f0f921\"]], \"type\": \"histogram2d\"}], \"histogram2dcontour\": [{\"colorbar\": {\"outlinewidth\": 0, \"ticks\": \"\"}, \"colorscale\": [[0.0, \"#0d0887\"], [0.1111111111111111, \"#46039f\"], [0.2222222222222222, \"#7201a8\"], [0.3333333333333333, \"#9c179e\"], [0.4444444444444444, \"#bd3786\"], [0.5555555555555556, \"#d8576b\"], [0.6666666666666666, \"#ed7953\"], [0.7777777777777778, \"#fb9f3a\"], [0.8888888888888888, \"#fdca26\"], [1.0, \"#f0f921\"]], \"type\": \"histogram2dcontour\"}], \"mesh3d\": [{\"colorbar\": {\"outlinewidth\": 0, \"ticks\": \"\"}, \"type\": \"mesh3d\"}], \"parcoords\": [{\"line\": {\"colorbar\": {\"outlinewidth\": 0, \"ticks\": \"\"}}, \"type\": \"parcoords\"}], \"pie\": [{\"automargin\": true, \"type\": \"pie\"}], \"scatter\": [{\"marker\": {\"line\": {\"color\": \"#283442\"}}, \"type\": \"scatter\"}], \"scatter3d\": [{\"line\": {\"colorbar\": {\"outlinewidth\": 0, \"ticks\": \"\"}}, \"marker\": {\"colorbar\": {\"outlinewidth\": 0, \"ticks\": \"\"}}, \"type\": \"scatter3d\"}], \"scattercarpet\": [{\"marker\": {\"colorbar\": {\"outlinewidth\": 0, \"ticks\": \"\"}}, \"type\": \"scattercarpet\"}], \"scattergeo\": [{\"marker\": {\"colorbar\": {\"outlinewidth\": 0, \"ticks\": \"\"}}, \"type\": \"scattergeo\"}], \"scattergl\": [{\"marker\": {\"line\": {\"color\": \"#283442\"}}, \"type\": \"scattergl\"}], \"scattermapbox\": [{\"marker\": {\"colorbar\": {\"outlinewidth\": 0, \"ticks\": \"\"}}, \"type\": \"scattermapbox\"}], \"scatterpolar\": [{\"marker\": {\"colorbar\": {\"outlinewidth\": 0, \"ticks\": \"\"}}, \"type\": \"scatterpolar\"}], \"scatterpolargl\": [{\"marker\": {\"colorbar\": {\"outlinewidth\": 0, \"ticks\": \"\"}}, \"type\": \"scatterpolargl\"}], \"scatterternary\": [{\"marker\": {\"colorbar\": {\"outlinewidth\": 0, \"ticks\": \"\"}}, \"type\": \"scatterternary\"}], \"surface\": [{\"colorbar\": {\"outlinewidth\": 0, \"ticks\": \"\"}, \"colorscale\": [[0.0, \"#0d0887\"], [0.1111111111111111, \"#46039f\"], [0.2222222222222222, \"#7201a8\"], [0.3333333333333333, \"#9c179e\"], [0.4444444444444444, \"#bd3786\"], [0.5555555555555556, \"#d8576b\"], [0.6666666666666666, \"#ed7953\"], [0.7777777777777778, \"#fb9f3a\"], [0.8888888888888888, \"#fdca26\"], [1.0, \"#f0f921\"]], \"type\": \"surface\"}], \"table\": [{\"cells\": {\"fill\": {\"color\": \"#506784\"}, \"line\": {\"color\": \"rgb(17,17,17)\"}}, \"header\": {\"fill\": {\"color\": \"#2a3f5f\"}, \"line\": {\"color\": \"rgb(17,17,17)\"}}, \"type\": \"table\"}]}, \"layout\": {\"annotationdefaults\": {\"arrowcolor\": \"#f2f5fa\", \"arrowhead\": 0, \"arrowwidth\": 1}, \"autotypenumbers\": \"strict\", \"coloraxis\": {\"colorbar\": {\"outlinewidth\": 0, \"ticks\": \"\"}}, \"colorscale\": {\"diverging\": [[0, \"#8e0152\"], [0.1, \"#c51b7d\"], [0.2, \"#de77ae\"], [0.3, \"#f1b6da\"], [0.4, \"#fde0ef\"], [0.5, \"#f7f7f7\"], [0.6, \"#e6f5d0\"], [0.7, \"#b8e186\"], [0.8, \"#7fbc41\"], [0.9, \"#4d9221\"], [1, \"#276419\"]], \"sequential\": [[0.0, \"#0d0887\"], [0.1111111111111111, \"#46039f\"], [0.2222222222222222, \"#7201a8\"], [0.3333333333333333, \"#9c179e\"], [0.4444444444444444, \"#bd3786\"], [0.5555555555555556, \"#d8576b\"], [0.6666666666666666, \"#ed7953\"], [0.7777777777777778, \"#fb9f3a\"], [0.8888888888888888, \"#fdca26\"], [1.0, \"#f0f921\"]], \"sequentialminus\": [[0.0, \"#0d0887\"], [0.1111111111111111, \"#46039f\"], [0.2222222222222222, \"#7201a8\"], [0.3333333333333333, \"#9c179e\"], [0.4444444444444444, \"#bd3786\"], [0.5555555555555556, \"#d8576b\"], [0.6666666666666666, \"#ed7953\"], [0.7777777777777778, \"#fb9f3a\"], [0.8888888888888888, \"#fdca26\"], [1.0, \"#f0f921\"]]}, \"colorway\": [\"#636efa\", \"#EF553B\", \"#00cc96\", \"#ab63fa\", \"#FFA15A\", \"#19d3f3\", \"#FF6692\", \"#B6E880\", \"#FF97FF\", \"#FECB52\"], \"font\": {\"color\": \"#f2f5fa\"}, \"geo\": {\"bgcolor\": \"rgb(17,17,17)\", \"lakecolor\": \"rgb(17,17,17)\", \"landcolor\": \"rgb(17,17,17)\", \"showlakes\": true, \"showland\": true, \"subunitcolor\": \"#506784\"}, \"hoverlabel\": {\"align\": \"left\"}, \"hovermode\": \"closest\", \"mapbox\": {\"style\": \"dark\"}, \"paper_bgcolor\": \"rgb(17,17,17)\", \"plot_bgcolor\": \"rgb(17,17,17)\", \"polar\": {\"angularaxis\": {\"gridcolor\": \"#506784\", \"linecolor\": \"#506784\", \"ticks\": \"\"}, \"bgcolor\": \"rgb(17,17,17)\", \"radialaxis\": {\"gridcolor\": \"#506784\", \"linecolor\": \"#506784\", \"ticks\": \"\"}}, \"scene\": {\"xaxis\": {\"backgroundcolor\": \"rgb(17,17,17)\", \"gridcolor\": \"#506784\", \"gridwidth\": 2, \"linecolor\": \"#506784\", \"showbackground\": true, \"ticks\": \"\", \"zerolinecolor\": \"#C8D4E3\"}, \"yaxis\": {\"backgroundcolor\": \"rgb(17,17,17)\", \"gridcolor\": \"#506784\", \"gridwidth\": 2, \"linecolor\": \"#506784\", \"showbackground\": true, \"ticks\": \"\", \"zerolinecolor\": \"#C8D4E3\"}, \"zaxis\": {\"backgroundcolor\": \"rgb(17,17,17)\", \"gridcolor\": \"#506784\", \"gridwidth\": 2, \"linecolor\": \"#506784\", \"showbackground\": true, \"ticks\": \"\", \"zerolinecolor\": \"#C8D4E3\"}}, \"shapedefaults\": {\"line\": {\"color\": \"#f2f5fa\"}}, \"sliderdefaults\": {\"bgcolor\": \"#C8D4E3\", \"bordercolor\": \"rgb(17,17,17)\", \"borderwidth\": 1, \"tickwidth\": 0}, \"ternary\": {\"aaxis\": {\"gridcolor\": \"#506784\", \"linecolor\": \"#506784\", \"ticks\": \"\"}, \"baxis\": {\"gridcolor\": \"#506784\", \"linecolor\": \"#506784\", \"ticks\": \"\"}, \"bgcolor\": \"rgb(17,17,17)\", \"caxis\": {\"gridcolor\": \"#506784\", \"linecolor\": \"#506784\", \"ticks\": \"\"}}, \"title\": {\"x\": 0.05}, \"updatemenudefaults\": {\"bgcolor\": \"#506784\", \"borderwidth\": 0}, \"xaxis\": {\"automargin\": true, \"gridcolor\": \"#283442\", \"linecolor\": \"#506784\", \"ticks\": \"\", \"title\": {\"standoff\": 15}, \"zerolinecolor\": \"#283442\", \"zerolinewidth\": 2}, \"yaxis\": {\"automargin\": true, \"gridcolor\": \"#283442\", \"linecolor\": \"#506784\", \"ticks\": \"\", \"title\": {\"standoff\": 15}, \"zerolinecolor\": \"#283442\", \"zerolinewidth\": 2}}}, \"title\": {\"text\": \"Portfolio Mix\"}},                        {\"responsive\": true}                    ).then(function(){\n",
              "                            \n",
              "var gd = document.getElementById('bd6ab2a6-b80c-4a76-a4c5-50978ba46b56');\n",
              "var x = new MutationObserver(function (mutations, observer) {{\n",
              "        var display = window.getComputedStyle(gd).display;\n",
              "        if (!display || display === 'none') {{\n",
              "            console.log([gd, 'removed!']);\n",
              "            Plotly.purge(gd);\n",
              "            observer.disconnect();\n",
              "        }}\n",
              "}});\n",
              "\n",
              "// Listen for the removal of the full notebook cells\n",
              "var notebookContainer = gd.closest('#notebook-container');\n",
              "if (notebookContainer) {{\n",
              "    x.observe(notebookContainer, {childList: true});\n",
              "}}\n",
              "\n",
              "// Listen for the clearing of the current output cell\n",
              "var outputEl = gd.closest('.output');\n",
              "if (outputEl) {{\n",
              "    x.observe(outputEl, {childList: true});\n",
              "}}\n",
              "\n",
              "                        })                };                            </script>        </div>\n",
              "</body>\n",
              "</html>"
            ]
          },
          "metadata": {
            "tags": []
          }
        }
      ]
    }
  ]
}